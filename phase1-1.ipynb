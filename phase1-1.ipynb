{
 "cells": [
  {
   "cell_type": "code",
   "execution_count": 2,
   "metadata": {},
   "outputs": [],
   "source": [
    "import matplotlib.pyplot as plt\n",
    "import seaborn as sns\n",
    "import pandas as pd\n",
    "import numpy as np\n",
    "import scipy.stats as stats"
   ]
  },
  {
   "cell_type": "markdown",
   "metadata": {},
   "source": [
    "## 1.1A\n",
    "Datasets are 4 text files stored in csv format. Each record is on single line and attributes are separated with TAB character. All 4 datasets contain common attribute imei which makes relation within tables.\n",
    "\n",
    "### Connections csv"
   ]
  },
  {
   "cell_type": "code",
   "execution_count": 5,
   "metadata": {},
   "outputs": [
    {
     "data": {
      "text/html": [
       "<div>\n",
       "<style scoped>\n",
       "    .dataframe tbody tr th:only-of-type {\n",
       "        vertical-align: middle;\n",
       "    }\n",
       "\n",
       "    .dataframe tbody tr th {\n",
       "        vertical-align: top;\n",
       "    }\n",
       "\n",
       "    .dataframe thead th {\n",
       "        text-align: right;\n",
       "    }\n",
       "</style>\n",
       "<table border=\"1\" class=\"dataframe\">\n",
       "  <thead>\n",
       "    <tr style=\"text-align: right;\">\n",
       "      <th></th>\n",
       "      <th>ts</th>\n",
       "      <th>imei</th>\n",
       "      <th>mwra</th>\n",
       "      <th>c.android.youtube</th>\n",
       "      <th>c.dogalize</th>\n",
       "      <th>c.android.gm</th>\n",
       "      <th>c.katana</th>\n",
       "      <th>c.android.chrome</th>\n",
       "      <th>c.raider</th>\n",
       "      <th>c.android.vending</th>\n",
       "      <th>c.UCMobile.intl</th>\n",
       "      <th>c.UCMobile.x86</th>\n",
       "      <th>c.updateassist</th>\n",
       "    </tr>\n",
       "  </thead>\n",
       "  <tbody>\n",
       "    <tr>\n",
       "      <th>0</th>\n",
       "      <td>2018-05-05 10:00:00</td>\n",
       "      <td>3590433799317661107</td>\n",
       "      <td>0.0</td>\n",
       "      <td>11.65403</td>\n",
       "      <td>10.65335</td>\n",
       "      <td>10.48791</td>\n",
       "      <td>16.91620</td>\n",
       "      <td>5.04564</td>\n",
       "      <td>36.21508</td>\n",
       "      <td>14.24956</td>\n",
       "      <td>4.09319</td>\n",
       "      <td>15.20934</td>\n",
       "      <td>5.11764</td>\n",
       "    </tr>\n",
       "    <tr>\n",
       "      <th>1</th>\n",
       "      <td>2018-05-05 10:01:00</td>\n",
       "      <td>3590433799317662063</td>\n",
       "      <td>1.0</td>\n",
       "      <td>10.29551</td>\n",
       "      <td>10.46363</td>\n",
       "      <td>10.98438</td>\n",
       "      <td>15.65637</td>\n",
       "      <td>14.82931</td>\n",
       "      <td>24.83765</td>\n",
       "      <td>57.49911</td>\n",
       "      <td>23.94919</td>\n",
       "      <td>8.82448</td>\n",
       "      <td>44.13570</td>\n",
       "    </tr>\n",
       "    <tr>\n",
       "      <th>2</th>\n",
       "      <td>2018-05-05 10:02:00</td>\n",
       "      <td>863033069630348313</td>\n",
       "      <td>0.0</td>\n",
       "      <td>12.12831</td>\n",
       "      <td>9.53752</td>\n",
       "      <td>6.78080</td>\n",
       "      <td>6.98948</td>\n",
       "      <td>10.92433</td>\n",
       "      <td>3.29441</td>\n",
       "      <td>20.37891</td>\n",
       "      <td>52.55353</td>\n",
       "      <td>49.51037</td>\n",
       "      <td>99.75215</td>\n",
       "    </tr>\n",
       "    <tr>\n",
       "      <th>3</th>\n",
       "      <td>2018-05-05 10:03:00</td>\n",
       "      <td>359043379931766114</td>\n",
       "      <td>1.0</td>\n",
       "      <td>11.06419</td>\n",
       "      <td>11.55759</td>\n",
       "      <td>8.87744</td>\n",
       "      <td>11.84499</td>\n",
       "      <td>15.45902</td>\n",
       "      <td>24.78878</td>\n",
       "      <td>36.40299</td>\n",
       "      <td>25.77644</td>\n",
       "      <td>21.84167</td>\n",
       "      <td>65.17774</td>\n",
       "    </tr>\n",
       "    <tr>\n",
       "      <th>4</th>\n",
       "      <td>2018-05-05 10:04:00</td>\n",
       "      <td>3590433799317661842</td>\n",
       "      <td>1.0</td>\n",
       "      <td>12.08457</td>\n",
       "      <td>10.42860</td>\n",
       "      <td>9.82241</td>\n",
       "      <td>12.48869</td>\n",
       "      <td>12.85363</td>\n",
       "      <td>40.98237</td>\n",
       "      <td>74.13316</td>\n",
       "      <td>96.77450</td>\n",
       "      <td>18.48116</td>\n",
       "      <td>90.77304</td>\n",
       "    </tr>\n",
       "  </tbody>\n",
       "</table>\n",
       "</div>"
      ],
      "text/plain": [
       "                    ts                 imei  mwra  c.android.youtube  \\\n",
       "0  2018-05-05 10:00:00  3590433799317661107   0.0           11.65403   \n",
       "1  2018-05-05 10:01:00  3590433799317662063   1.0           10.29551   \n",
       "2  2018-05-05 10:02:00   863033069630348313   0.0           12.12831   \n",
       "3  2018-05-05 10:03:00   359043379931766114   1.0           11.06419   \n",
       "4  2018-05-05 10:04:00  3590433799317661842   1.0           12.08457   \n",
       "\n",
       "   c.dogalize  c.android.gm  c.katana  c.android.chrome  c.raider  \\\n",
       "0    10.65335      10.48791  16.91620           5.04564  36.21508   \n",
       "1    10.46363      10.98438  15.65637          14.82931  24.83765   \n",
       "2     9.53752       6.78080   6.98948          10.92433   3.29441   \n",
       "3    11.55759       8.87744  11.84499          15.45902  24.78878   \n",
       "4    10.42860       9.82241  12.48869          12.85363  40.98237   \n",
       "\n",
       "   c.android.vending  c.UCMobile.intl  c.UCMobile.x86  c.updateassist  \n",
       "0           14.24956          4.09319        15.20934         5.11764  \n",
       "1           57.49911         23.94919         8.82448        44.13570  \n",
       "2           20.37891         52.55353        49.51037        99.75215  \n",
       "3           36.40299         25.77644        21.84167        65.17774  \n",
       "4           74.13316         96.77450        18.48116        90.77304  "
      ]
     },
     "execution_count": 5,
     "metadata": {},
     "output_type": "execute_result"
    }
   ],
   "source": [
    "connections = pd.read_csv('data/connections.csv', sep='\\t')\n",
    "#connections = sns.load_dataset(\"data/connections.csv\")\n",
    "\n",
    "connections.head()\n"
   ]
  },
  {
   "cell_type": "code",
   "execution_count": 6,
   "metadata": {},
   "outputs": [
    {
     "data": {
      "text/plain": [
       "(15074, 13)"
      ]
     },
     "execution_count": 6,
     "metadata": {},
     "output_type": "execute_result"
    }
   ],
   "source": [
    "connections.shape"
   ]
  },
  {
   "cell_type": "markdown",
   "metadata": {},
   "source": [
    "Connections csv has 15074 records (rows) and 13 attributes (columns). "
   ]
  },
  {
   "cell_type": "code",
   "execution_count": 7,
   "metadata": {},
   "outputs": [
    {
     "name": "stdout",
     "output_type": "stream",
     "text": [
      "<class 'pandas.core.frame.DataFrame'>\n",
      "RangeIndex: 15074 entries, 0 to 15073\n",
      "Data columns (total 13 columns):\n",
      " #   Column             Non-Null Count  Dtype  \n",
      "---  ------             --------------  -----  \n",
      " 0   ts                 15074 non-null  object \n",
      " 1   imei               15074 non-null  int64  \n",
      " 2   mwra               15074 non-null  float64\n",
      " 3   c.android.youtube  15074 non-null  float64\n",
      " 4   c.dogalize         15074 non-null  float64\n",
      " 5   c.android.gm       15074 non-null  float64\n",
      " 6   c.katana           15074 non-null  float64\n",
      " 7   c.android.chrome   15074 non-null  float64\n",
      " 8   c.raider           15074 non-null  float64\n",
      " 9   c.android.vending  15074 non-null  float64\n",
      " 10  c.UCMobile.intl    15074 non-null  float64\n",
      " 11  c.UCMobile.x86     15074 non-null  float64\n",
      " 12  c.updateassist     15074 non-null  float64\n",
      "dtypes: float64(11), int64(1), object(1)\n",
      "memory usage: 1.5+ MB\n"
     ]
    }
   ],
   "source": [
    "connections.info()"
   ]
  },
  {
   "cell_type": "markdown",
   "metadata": {},
   "source": [
    "This data has no null values (the number of Non-Null values for each column is the same as the total number of rows). First column contains values of type object (which represents timestamp) and  will be possibly converted to type timestamp during further processing. The second attribute contains values of type int64 and stores International Mobile Equipment Identity number. The third one contains values of type float64, however obtains only one of two values: 1. or 0. representing malware-related-activity, so it will be probably converted to type boolean. Other 10 columns contain float64 values, which represent input value for evaluation of mwra. First three attributes (ts, imei, mwra) are discrete (categorical) attributes and the rest are continuous (numeric) values. \n",
    "\n",
    "The pair of first and second column (ts, imei) are keys for snapshot of the rest of values. The third column is the result of evaluation. "
   ]
  },
  {
   "cell_type": "code",
   "execution_count": null,
   "metadata": {},
   "outputs": [],
   "source": [
    "# oprava dat 1.2:\n",
    "#connections['ts'] = pd.to_datetime(connections['ts'])\n",
    "# maybe also mwra to boolean"
   ]
  },
  {
   "cell_type": "markdown",
   "metadata": {},
   "source": [
    "### Devices csv"
   ]
  },
  {
   "cell_type": "code",
   "execution_count": 8,
   "metadata": {},
   "outputs": [
    {
     "data": {
      "text/html": [
       "<div>\n",
       "<style scoped>\n",
       "    .dataframe tbody tr th:only-of-type {\n",
       "        vertical-align: middle;\n",
       "    }\n",
       "\n",
       "    .dataframe tbody tr th {\n",
       "        vertical-align: top;\n",
       "    }\n",
       "\n",
       "    .dataframe thead th {\n",
       "        text-align: right;\n",
       "    }\n",
       "</style>\n",
       "<table border=\"1\" class=\"dataframe\">\n",
       "  <thead>\n",
       "    <tr style=\"text-align: right;\">\n",
       "      <th></th>\n",
       "      <th>latitude</th>\n",
       "      <th>longitude</th>\n",
       "      <th>store_name</th>\n",
       "      <th>code</th>\n",
       "      <th>location</th>\n",
       "      <th>imei</th>\n",
       "    </tr>\n",
       "  </thead>\n",
       "  <tbody>\n",
       "    <tr>\n",
       "      <th>0</th>\n",
       "      <td>18.57677</td>\n",
       "      <td>-72.22625</td>\n",
       "      <td>Croix-des-Bouquets</td>\n",
       "      <td>HT</td>\n",
       "      <td>America/Port-au-Prince</td>\n",
       "      <td>3590433799317662113</td>\n",
       "    </tr>\n",
       "    <tr>\n",
       "      <th>1</th>\n",
       "      <td>-25.54073</td>\n",
       "      <td>152.70493</td>\n",
       "      <td>Maryborough</td>\n",
       "      <td>AU</td>\n",
       "      <td>Australia/Brisbane</td>\n",
       "      <td>8630330696303481107</td>\n",
       "    </tr>\n",
       "    <tr>\n",
       "      <th>2</th>\n",
       "      <td>50.88506</td>\n",
       "      <td>4.07601</td>\n",
       "      <td>Denderleeuw</td>\n",
       "      <td>BE</td>\n",
       "      <td>Europe/Brussels</td>\n",
       "      <td>8630330696303481461</td>\n",
       "    </tr>\n",
       "    <tr>\n",
       "      <th>3</th>\n",
       "      <td>48.15659</td>\n",
       "      <td>28.28489</td>\n",
       "      <td>Soroca</td>\n",
       "      <td>MD</td>\n",
       "      <td>Europe/Chisinau</td>\n",
       "      <td>3590433799317661016</td>\n",
       "    </tr>\n",
       "    <tr>\n",
       "      <th>4</th>\n",
       "      <td>-34.64966</td>\n",
       "      <td>-58.38341</td>\n",
       "      <td>Barracas</td>\n",
       "      <td>AR</td>\n",
       "      <td>America/Argentina/Buenos_Aires</td>\n",
       "      <td>3590433799317662253</td>\n",
       "    </tr>\n",
       "  </tbody>\n",
       "</table>\n",
       "</div>"
      ],
      "text/plain": [
       "   latitude  longitude          store_name code  \\\n",
       "0  18.57677  -72.22625  Croix-des-Bouquets   HT   \n",
       "1 -25.54073  152.70493         Maryborough   AU   \n",
       "2  50.88506    4.07601         Denderleeuw   BE   \n",
       "3  48.15659   28.28489              Soroca   MD   \n",
       "4 -34.64966  -58.38341            Barracas   AR   \n",
       "\n",
       "                         location                 imei  \n",
       "0          America/Port-au-Prince  3590433799317662113  \n",
       "1              Australia/Brisbane  8630330696303481107  \n",
       "2                 Europe/Brussels  8630330696303481461  \n",
       "3                 Europe/Chisinau  3590433799317661016  \n",
       "4  America/Argentina/Buenos_Aires  3590433799317662253  "
      ]
     },
     "execution_count": 8,
     "metadata": {},
     "output_type": "execute_result"
    }
   ],
   "source": [
    "devices = pd.read_csv('data/devices.csv', sep='\\t')\n",
    "devices.head()"
   ]
  },
  {
   "cell_type": "code",
   "execution_count": 9,
   "metadata": {},
   "outputs": [
    {
     "data": {
      "text/plain": [
       "(2895, 6)"
      ]
     },
     "execution_count": 9,
     "metadata": {},
     "output_type": "execute_result"
    }
   ],
   "source": [
    "devices.shape"
   ]
  },
  {
   "cell_type": "markdown",
   "metadata": {},
   "source": [
    "Devices csv has 2895 records (rows) and 6 attributes (columns). "
   ]
  },
  {
   "cell_type": "code",
   "execution_count": 10,
   "metadata": {},
   "outputs": [
    {
     "name": "stdout",
     "output_type": "stream",
     "text": [
      "<class 'pandas.core.frame.DataFrame'>\n",
      "RangeIndex: 2895 entries, 0 to 2894\n",
      "Data columns (total 6 columns):\n",
      " #   Column      Non-Null Count  Dtype  \n",
      "---  ------      --------------  -----  \n",
      " 0   latitude    2895 non-null   float64\n",
      " 1   longitude   2895 non-null   float64\n",
      " 2   store_name  2895 non-null   object \n",
      " 3   code        2892 non-null   object \n",
      " 4   location    2895 non-null   object \n",
      " 5   imei        2895 non-null   int64  \n",
      "dtypes: float64(2), int64(1), object(3)\n",
      "memory usage: 135.8+ KB\n"
     ]
    }
   ],
   "source": [
    "devices.info()"
   ]
  },
  {
   "cell_type": "markdown",
   "metadata": {},
   "source": [
    "This data has 3 null values in attribute code. First and second attribute contains geolocation latitude and longitude position. Their values are float64. Next three attributes contain values of type object. They are strings which represent identification of store which sold the device. Attribute store_name contains name of the store, code is the code of the country, in which the store is located and the location is the name of the continent and the city in which the device was sold. In further processing, the location attribute might be split to two columns. The last attribute contains values of type int64 and stores International Mobile Equipment Identity number. All attributes are discrete (categorical). \n",
    "\n",
    "The attribute imei is the key for this table."
   ]
  },
  {
   "cell_type": "markdown",
   "metadata": {},
   "source": [
    "### Processes csv"
   ]
  },
  {
   "cell_type": "code",
   "execution_count": null,
   "metadata": {},
   "outputs": [],
   "source": [
    "processes = pd.read_csv('data/processes.csv', sep='\\t')\n",
    "processes.shape"
   ]
  },
  {
   "cell_type": "code",
   "execution_count": null,
   "metadata": {},
   "outputs": [],
   "source": [
    "processes.head()"
   ]
  },
  {
   "cell_type": "markdown",
   "metadata": {},
   "source": [
    "### Profiles csv"
   ]
  },
  {
   "cell_type": "code",
   "execution_count": null,
   "metadata": {},
   "outputs": [],
   "source": [
    "profiles = pd.read_csv('data/profiles.csv', sep='\\t')\n",
    "profiles.shape"
   ]
  },
  {
   "cell_type": "code",
   "execution_count": null,
   "metadata": {},
   "outputs": [],
   "source": [
    "profiles.head()"
   ]
  }
 ],
 "metadata": {
  "kernelspec": {
   "display_name": "iau",
   "language": "python",
   "name": "python3"
  },
  "language_info": {
   "codemirror_mode": {
    "name": "ipython",
    "version": 3
   },
   "file_extension": ".py",
   "mimetype": "text/x-python",
   "name": "python",
   "nbconvert_exporter": "python",
   "pygments_lexer": "ipython3",
   "version": "3.12.5"
  }
 },
 "nbformat": 4,
 "nbformat_minor": 2
}
