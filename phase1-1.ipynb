{
 "cells": [
  {
   "cell_type": "code",
   "execution_count": 2,
   "metadata": {},
   "outputs": [],
   "source": [
    "import matplotlib.pyplot as plt\n",
    "import seaborn as sns\n",
    "import pandas as pd\n",
    "import numpy as np\n",
    "import scipy.stats as stats"
   ]
  },
  {
   "cell_type": "markdown",
   "metadata": {},
   "source": [
    "## 1.1A\n",
    "Datasets are 4 text files stored in csv format. Each record is on single line and attributes are separated with TAB character. All 4 datasets contain common attribute imei which makes relation within tables.\n",
    "\n",
    "### Connections csv"
   ]
  },
  {
   "cell_type": "code",
   "execution_count": null,
   "metadata": {},
   "outputs": [],
   "source": [
    "connections = pd.read_csv('data/connections.csv', sep='\\t')\n",
    "#connections = sns.load_dataset(\"data/connections.csv\")\n",
    "\n",
    "connections.head()\n"
   ]
  },
  {
   "cell_type": "code",
   "execution_count": null,
   "metadata": {},
   "outputs": [],
   "source": [
    "connections.shape"
   ]
  },
  {
   "cell_type": "markdown",
   "metadata": {},
   "source": [
    "Connections csv has 15074 records (rows) and 13 attributes (columns). "
   ]
  },
  {
   "cell_type": "code",
   "execution_count": null,
   "metadata": {},
   "outputs": [],
   "source": [
    "connections.info()"
   ]
  },
  {
   "cell_type": "markdown",
   "metadata": {},
   "source": [
    "This data has no null values (the number of Non-Null values for each column is the same as the total number of rows). First column contains values of type object (which represents timestamp) and  will be possibly converted to type timestamp during further processing. The second attribute contains values of type int64 and stores International Mobile Equipment Identity number. The third one contains values of type float64, however obtains only one of two values: 1. or 0. representing malware-related-activity, so it will be probably converted to type boolean. Other 10 columns contain float64 values, which represent input value for evaluation of mwra. First three attributes (ts, imei, mwra) are discrete (categorical) attributes and the rest are continuous (numeric) values. \n",
    "\n",
    "The pair of first and second column (ts, imei) are keys for snapshot of the rest of values. The third column is the result of evaluation. "
   ]
  },
  {
   "cell_type": "code",
   "execution_count": null,
   "metadata": {},
   "outputs": [],
   "source": [
    "# oprava dat 1.2:\n",
    "#connections['ts'] = pd.to_datetime(connections['ts'])\n",
    "# maybe also mwra to boolean"
   ]
  },
  {
   "cell_type": "markdown",
   "metadata": {},
   "source": [
    "### Devices csv"
   ]
  },
  {
   "cell_type": "code",
   "execution_count": null,
   "metadata": {},
   "outputs": [],
   "source": [
    "devices = pd.read_csv('data/devices.csv', sep='\\t')\n",
    "devices.head()"
   ]
  },
  {
   "cell_type": "code",
   "execution_count": null,
   "metadata": {},
   "outputs": [],
   "source": [
    "devices.shape"
   ]
  },
  {
   "cell_type": "markdown",
   "metadata": {},
   "source": [
    "Devices csv has 2895 records (rows) and 6 attributes (columns). "
   ]
  },
  {
   "cell_type": "code",
   "execution_count": null,
   "metadata": {},
   "outputs": [],
   "source": [
    "devices.info()"
   ]
  },
  {
   "cell_type": "code",
   "execution_count": null,
   "metadata": {},
   "outputs": [],
   "source": [
    "devices.shape[0] - devices.dropna().shape[0]"
   ]
  },
  {
   "cell_type": "markdown",
   "metadata": {},
   "source": [
    "This data has 3 null values in attribute code. First and second attribute contains geolocation latitude and longitude position. Their values are float64. Next three attributes contain values of type object. They are strings which represent identification of store which sold the device. Attribute store_name contains name of the store, code is the code of the country, in which the store is located and the location is the name of the continent and the city in which the device was sold. In further processing, the location attribute might be split to two columns. The last attribute contains values of type int64 and stores International Mobile Equipment Identity number. All attributes are discrete (categorical). \n",
    "\n",
    "The attribute imei is the key for this table."
   ]
  },
  {
   "cell_type": "markdown",
   "metadata": {},
   "source": [
    "### Processes csv"
   ]
  },
  {
   "cell_type": "code",
   "execution_count": null,
   "metadata": {},
   "outputs": [],
   "source": [
    "processes = pd.read_csv('data/processes.csv', sep='\\t')\n",
    "processes.shape"
   ]
  },
  {
   "cell_type": "code",
   "execution_count": null,
   "metadata": {},
   "outputs": [],
   "source": [
    "processes.head()"
   ]
  },
  {
   "cell_type": "markdown",
   "metadata": {},
   "source": [
    "### Profiles csv"
   ]
  },
  {
   "cell_type": "code",
   "execution_count": null,
   "metadata": {},
   "outputs": [],
   "source": [
    "profiles = pd.read_csv('data/profiles.csv', sep='\\t')\n",
    "profiles.shape"
   ]
  },
  {
   "cell_type": "code",
   "execution_count": null,
   "metadata": {},
   "outputs": [],
   "source": [
    "profiles.head()"
   ]
  },
  {
   "cell_type": "markdown",
   "metadata": {},
   "source": [
    "## 1.1B Analysis of attributes\n",
    "For analysis were chosen these significant attributes:\n",
    "* Connections\n",
    "   - ts\n",
    "   - imei\n",
    "   - mwra\n",
    "   - c.android.youtube\n",
    "   - c.dogalize\n",
    "* Devices\n",
    "   - store_name\n",
    "   - imei\n",
    "* Processes\n",
    "   - ...\n",
    "* Profiles\n",
    "   - ..."
   ]
  },
  {
   "cell_type": "markdown",
   "metadata": {},
   "source": [
    "### Table Connections - attribute ts"
   ]
  },
  {
   "cell_type": "code",
   "execution_count": null,
   "metadata": {},
   "outputs": [],
   "source": [
    "connections.info()"
   ]
  },
  {
   "cell_type": "markdown",
   "metadata": {},
   "source": [
    "Attribute timestamps contains values of type object, therefore, descriptive statistics cannot be generated, so there is a need to convert them to type datetime."
   ]
  },
  {
   "cell_type": "code",
   "execution_count": null,
   "metadata": {},
   "outputs": [],
   "source": [
    "connections['ts'] = pd.to_datetime(connections['ts'])\n",
    "connections.describe()"
   ]
  },
  {
   "cell_type": "markdown",
   "metadata": {},
   "source": [
    "The ts column has been successfully converted to a timestamp data type, allowing for date-time operations. The column contains 15,074 entries, which indicates that every record in the dataset has a corresponding timestamp in correct format. The minimum timestamp is 2018-05-05 10:00:00, indicating the earliest recorded time in the dataset. The maximum timestamp is 2018-05-15 18:14:00, which indicates the latest recorded time. The timestamps cover a span of about 10 days.\n",
    "\n",
    "The mean timestamp is approximately 2018-05-10 14:03:19, suggesting that the average record date falls around the middle of the range. The 50th percentile (median) is 2018-05-10 14:04:30, is very close to the mean, suggesting a roughly symmetric distribution around this central point. The standard deviation value is NaN, indicating that it is not applicable to timestamps as they are not numerical values."
   ]
  },
  {
   "cell_type": "code",
   "execution_count": null,
   "metadata": {},
   "outputs": [],
   "source": [
    "connections['ts'].unique().size"
   ]
  },
  {
   "cell_type": "markdown",
   "metadata": {},
   "source": [
    "The amout of unique timestamps is 14895, which means that there are __duplicates. There is a need to check whether those duplicates are related to the device imei."
   ]
  },
  {
   "cell_type": "code",
   "execution_count": null,
   "metadata": {},
   "outputs": [],
   "source": [
    "connections[['ts', 'imei']].drop_duplicates().shape[0]"
   ]
  },
  {
   "cell_type": "markdown",
   "metadata": {},
   "source": [
    "The number of unique records for the keys ts and imei is 14895."
   ]
  },
  {
   "cell_type": "code",
   "execution_count": null,
   "metadata": {},
   "outputs": [],
   "source": [
    "connections['date'] = connections['ts'].dt.date\n",
    "date_counts = connections['date'].value_counts().sort_index()\n",
    "\n",
    "connections_ts_graph = sns.barplot(x=date_counts.index, y=date_counts.values)\n",
    "\n",
    "connections_ts_graph.set(xlabel='Date', ylabel='Number of Records')\n",
    "connections_ts_graph.set_xticklabels(connections.date, rotation=45)"
   ]
  },
  {
   "cell_type": "markdown",
   "metadata": {},
   "source": [
    "The dataset was filled with data roughly evenly in time."
   ]
  },
  {
   "cell_type": "markdown",
   "metadata": {},
   "source": [
    "### Table Connections - attribute imei"
   ]
  },
  {
   "cell_type": "code",
   "execution_count": null,
   "metadata": {},
   "outputs": [],
   "source": [
    "connections.describe()"
   ]
  },
  {
   "cell_type": "markdown",
   "metadata": {},
   "source": [
    "Attribute imei contains numbers between 3.590434e+17 and 8.630331e+18. Since they are generated as unique numbers, there is no sense in calculating statistical distributions, only reasonable metric is the amount of unique numbers."
   ]
  },
  {
   "cell_type": "code",
   "execution_count": null,
   "metadata": {},
   "outputs": [],
   "source": [
    "connections['imei'].unique().size"
   ]
  },
  {
   "cell_type": "markdown",
   "metadata": {},
   "source": [
    "Table connection in attribute imei contians records for 500 unique devices."
   ]
  },
  {
   "cell_type": "code",
   "execution_count": null,
   "metadata": {},
   "outputs": [],
   "source": [
    "connections.imei.value_counts().sort_values()"
   ]
  },
  {
   "cell_type": "markdown",
   "metadata": {},
   "source": [
    "Each device in this dataset has at least 12 and maximum of 47 records. Below is visualized the representation of the number of records per device imei. "
   ]
  },
  {
   "cell_type": "code",
   "execution_count": null,
   "metadata": {},
   "outputs": [],
   "source": [
    "imei_counts = connections['imei'].value_counts()\n",
    "connections_imei_graph = sns.barplot(x=imei_counts.index, y=imei_counts.values, errorbar=None)\n",
    "\n",
    "connections_imei_graph.set(xlabel=\"imei index\", ylabel=\"number of records\")\n",
    "\n",
    "ticks = connections_imei_graph.get_xticks()\n",
    "connections_imei_graph.set_xticks(ticks[::100])\n",
    "connections_imei_graph.set_xticklabels(imei_counts.index[::100], rotation=45)\n"
   ]
  },
  {
   "cell_type": "markdown",
   "metadata": {},
   "source": [
    "There is no correlation between device and the number of records in dataset."
   ]
  },
  {
   "cell_type": "markdown",
   "metadata": {},
   "source": [
    "### mwra todo"
   ]
  },
  {
   "cell_type": "code",
   "execution_count": null,
   "metadata": {},
   "outputs": [],
   "source": [
    "connections.describe()"
   ]
  },
  {
   "cell_type": "markdown",
   "metadata": {},
   "source": [
    "The mean value is 0.628367, which means that more records were reported by devices with malware than those without it.  TODO count a opisat osttane"
   ]
  },
  {
   "cell_type": "code",
   "execution_count": null,
   "metadata": {},
   "outputs": [],
   "source": [
    "connections['mwra'].unique()"
   ]
  },
  {
   "cell_type": "markdown",
   "metadata": {},
   "source": [
    "There are only two values present in attribute mwra: 0 and 1. These values indicate malware-related-activity at a time on a device.  "
   ]
  },
  {
   "cell_type": "code",
   "execution_count": null,
   "metadata": {},
   "outputs": [],
   "source": [
    "connections['mwra'].value_counts()"
   ]
  },
  {
   "cell_type": "markdown",
   "metadata": {},
   "source": [
    "There are 9472 records with malware-related-activity and 5602 records without it."
   ]
  },
  {
   "cell_type": "code",
   "execution_count": null,
   "metadata": {},
   "outputs": [],
   "source": [
    "connections.mwra.value_counts().plot(kind='pie')"
   ]
  },
  {
   "cell_type": "markdown",
   "metadata": {},
   "source": [
    "### c.android.youtube"
   ]
  },
  {
   "cell_type": "code",
   "execution_count": null,
   "metadata": {},
   "outputs": [],
   "source": [
    "connections.describe()"
   ]
  },
  {
   "cell_type": "markdown",
   "metadata": {},
   "source": [
    "The column has 15,074 entries, which indicates that every record in the dataset has a corresponding value for c.android.youtube. The mean value is approximately 10.65. This suggests that, on average, users have some level of interaction with the YouTube app.\n",
    "The values range from 1.02 to 20.73. The median is approximately 10.53, which is close to the mean, suggesting a somewhat symmetric distribution. The standard deviation is approximately 2.54. "
   ]
  },
  {
   "cell_type": "code",
   "execution_count": null,
   "metadata": {},
   "outputs": [],
   "source": [
    "stats.mode(connections['c.android.youtube'])"
   ]
  },
  {
   "cell_type": "markdown",
   "metadata": {},
   "source": []
  },
  {
   "cell_type": "code",
   "execution_count": null,
   "metadata": {},
   "outputs": [],
   "source": [
    "np.var(connections['c.android.youtube'])"
   ]
  },
  {
   "cell_type": "markdown",
   "metadata": {},
   "source": []
  },
  {
   "cell_type": "code",
   "execution_count": null,
   "metadata": {},
   "outputs": [],
   "source": [
    "iqr = np.percentile(connections['c.android.youtube'], 75) - np.percentile(connections['c.android.youtube'], 25)\n",
    "iqr"
   ]
  },
  {
   "cell_type": "markdown",
   "metadata": {},
   "source": [
    "TODO vybrat si dva a ktory bude mat najkrajsie rozlozenie ten pouzit\n",
    "pre devices imei: jeden record per device"
   ]
  },
  {
   "cell_type": "code",
   "execution_count": null,
   "metadata": {},
   "outputs": [],
   "source": [
    "sns.histplot(connections['c.UCMobile.intl'], bins=30, kde=True)"
   ]
  },
  {
   "cell_type": "code",
   "execution_count": null,
   "metadata": {},
   "outputs": [],
   "source": []
  }
 ],
 "metadata": {
  "kernelspec": {
   "display_name": "iau",
   "language": "python",
   "name": "python3"
  },
  "language_info": {
   "codemirror_mode": {
    "name": "ipython",
    "version": 3
   },
   "file_extension": ".py",
   "mimetype": "text/x-python",
   "name": "python",
   "nbconvert_exporter": "python",
   "pygments_lexer": "ipython3",
   "version": "3.12.5"
  }
 },
 "nbformat": 4,
 "nbformat_minor": 2
}
