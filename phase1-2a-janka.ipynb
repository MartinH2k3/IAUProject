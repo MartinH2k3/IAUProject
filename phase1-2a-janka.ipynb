{
 "cells": [
  {
   "cell_type": "code",
   "execution_count": 111,
   "metadata": {},
   "outputs": [],
   "source": [
    "import matplotlib.pyplot as plt\n",
    "import seaborn as sns\n",
    "import pandas as pd\n",
    "import numpy as np\n",
    "import scipy.stats as stats\n",
    "from datetime import datetime"
   ]
  },
  {
   "cell_type": "code",
   "execution_count": 112,
   "metadata": {},
   "outputs": [],
   "source": [
    "def convert_to_datetime(value):\n",
    "    date_formats = [\"%Y-%m-%d\", \"%Y/%m/%d\", \"%m/%d/%Y, %H:%M:%S\", \"%d %b %Y\"]\n",
    "    for fmt in date_formats:\n",
    "        try:\n",
    "            return datetime.strptime(value, fmt)\n",
    "        except ValueError:\n",
    "            continue\n",
    "    return None"
   ]
  },
  {
   "cell_type": "code",
   "execution_count": 113,
   "metadata": {},
   "outputs": [],
   "source": [
    "connections, devices, processes, profiles = pd.read_csv('data/connections.csv', sep='\\t', keep_default_na=False), pd.read_csv('data/devices.csv', sep='\\t', keep_default_na=False), pd.read_csv('data/processes.csv', sep='\\t', keep_default_na=False), pd.read_csv('data/profiles.csv', sep='\\t', keep_default_na=False)"
   ]
  },
  {
   "cell_type": "markdown",
   "metadata": {},
   "source": [
    "## Non-uniform formats"
   ]
  },
  {
   "cell_type": "markdown",
   "metadata": {},
   "source": [
    "Timestamp type correction"
   ]
  },
  {
   "cell_type": "code",
   "execution_count": 114,
   "metadata": {},
   "outputs": [],
   "source": [
    "connections['ts'] = pd.to_datetime(connections['ts'])\n",
    "processes['ts'] = pd.to_datetime(processes['ts'])"
   ]
  },
  {
   "cell_type": "code",
   "execution_count": 115,
   "metadata": {},
   "outputs": [],
   "source": [
    "profiles['registration'] = profiles['registration'].apply(convert_to_datetime)"
   ]
  },
  {
   "cell_type": "markdown",
   "metadata": {},
   "source": [
    "Conversion of the column current_location to two columns: latitude and longitude"
   ]
  },
  {
   "cell_type": "code",
   "execution_count": 116,
   "metadata": {},
   "outputs": [],
   "source": [
    "latitudes = []\n",
    "longitudes = []\n",
    "\n",
    "for location in profiles['current_location']:\n",
    "    if len(location) < 1:\n",
    "        latitudes.append(None)\n",
    "        longitudes.append(None)\n",
    "        continue\n",
    "    loc = location.replace(\"Decimal(\", \"\").replace(\")\", \"\").replace(\" \", \"\").replace(\"'\", \"\").replace(\"(\", \"\")\n",
    "    lat, lon = loc.split(\",\")\n",
    "    lat = float(lat.strip())\n",
    "    lon = float(lon.strip())\n",
    "\n",
    "    latitudes.append(lat)\n",
    "    longitudes.append(lon)\n",
    "\n",
    "profiles['latitude'] = latitudes\n",
    "profiles['longitude'] = longitudes\n",
    "\n",
    "profiles.drop(columns=['current_location'], inplace=True)"
   ]
  },
  {
   "cell_type": "markdown",
   "metadata": {},
   "source": [
    "Split column location in table devices to two columns: continent and city"
   ]
  },
  {
   "cell_type": "code",
   "execution_count": 117,
   "metadata": {},
   "outputs": [],
   "source": [
    "continents, cities = [], []\n",
    "\n",
    "for location in devices['location']:\n",
    "    if len(location) > 0:\n",
    "        continent, city = location.split(\"/\", 1)\n",
    "        continents.append(continent)\n",
    "        cities.append(city)\n",
    "    else:\n",
    "        continents.append(None)\n",
    "        cities.append(None)\n",
    "\n",
    "devices['continent'] = continents\n",
    "devices['city'] = cities\n",
    "\n",
    "devices.drop(columns=['location'], inplace=True)"
   ]
  },
  {
   "cell_type": "markdown",
   "metadata": {},
   "source": [
    "## Missing values"
   ]
  },
  {
   "cell_type": "markdown",
   "metadata": {},
   "source": [
    "## Inappropriate data structure"
   ]
  },
  {
   "cell_type": "markdown",
   "metadata": {},
   "source": [
    "## Duplicate values"
   ]
  },
  {
   "cell_type": "markdown",
   "metadata": {},
   "source": [
    "## Deviated values"
   ]
  }
 ],
 "metadata": {
  "kernelspec": {
   "display_name": "Python 3",
   "language": "python",
   "name": "python3"
  },
  "language_info": {
   "codemirror_mode": {
    "name": "ipython",
    "version": 3
   },
   "file_extension": ".py",
   "mimetype": "text/x-python",
   "name": "python",
   "nbconvert_exporter": "python",
   "pygments_lexer": "ipython3",
   "version": "3.12.5"
  }
 },
 "nbformat": 4,
 "nbformat_minor": 2
}
