{
 "cells": [
  {
   "metadata": {
    "ExecuteTime": {
     "end_time": "2024-10-07T07:38:05.833852Z",
     "start_time": "2024-10-07T07:38:05.828551Z"
    }
   },
   "cell_type": "code",
   "source": [
    "import matplotlib.pyplot as plt\n",
    "import seaborn as sns\n",
    "import pandas as pd\n",
    "import numpy as np\n",
    "import scipy.stats as stats\n",
    "from skimage.metrics import contingency_table\n",
    "from streamlit import connection"
   ],
   "id": "62485bd395b40d34",
   "outputs": [],
   "execution_count": 4
  },
  {
   "metadata": {},
   "cell_type": "markdown",
   "source": [
    "# Phase 1-1\n",
    "## 1-1A"
   ],
   "id": "8c902f45b1b5b0ad"
  },
  {
   "metadata": {},
   "cell_type": "markdown",
   "source": "Data is saved in 4 csv files: connections, devices, processes, profiles. One row = one entry. Separator is tab. Key connecting all tables is imei, which means a unique device identifier. Some values (like iso for Namibia) are by default interpreted as NaN, therefore we have to specify the na_values parameter.",
   "id": "4c92d245ee10e353"
  },
  {
   "metadata": {
    "ExecuteTime": {
     "end_time": "2024-10-07T07:38:06.024264Z",
     "start_time": "2024-10-07T07:38:05.928795Z"
    }
   },
   "cell_type": "code",
   "source": "connections, devices, processes, profiles = pd.read_csv('data/connections.csv', sep='\\t', keep_default_na=False), pd.read_csv('data/devices.csv', sep='\\t', keep_default_na=False), pd.read_csv('data/processes.csv', sep='\\t', keep_default_na=False), pd.read_csv('data/profiles.csv', sep='\\t', keep_default_na=False)",
   "id": "4929b6ef0ce57750",
   "outputs": [],
   "execution_count": 5
  },
  {
   "metadata": {},
   "cell_type": "markdown",
   "source": "We define functions that will prove useful in data inspection later.",
   "id": "5d52d457c0729058"
  },
  {
   "metadata": {
    "ExecuteTime": {
     "end_time": "2024-10-07T07:38:06.102415Z",
     "start_time": "2024-10-07T07:38:06.097483Z"
    }
   },
   "cell_type": "code",
   "source": [
    "# we also define a function to count outliers, since there isn't a built-in method for that\n",
    "def count_outliers(column):\n",
    "    q1 = column.quantile(0.25)\n",
    "    q3 = column.quantile(0.75)\n",
    "    iqr = q3 - q1\n",
    "    return column[(column < q1 - 1.5*iqr) | (column > q3 + 1.5*iqr)].shape[0]"
   ],
   "id": "a9ab4e1bdb8ac1f4",
   "outputs": [],
   "execution_count": 6
  },
  {
   "metadata": {},
   "cell_type": "markdown",
   "source": [
    "### Connections\n",
    "Initially we print the first few rows of the connections table to get a sense of the data."
   ],
   "id": "9aa35db7baff0735"
  },
  {
   "metadata": {
    "ExecuteTime": {
     "end_time": "2024-10-07T07:38:06.199051Z",
     "start_time": "2024-10-07T07:38:06.182083Z"
    }
   },
   "cell_type": "code",
   "source": "connections.head()",
   "id": "d92abb56fc3aafc4",
   "outputs": [
    {
     "data": {
      "text/plain": [
       "                    ts                 imei  mwra  c.android.youtube  \\\n",
       "0  2018-05-05 10:00:00  3590433799317661107   0.0           11.65403   \n",
       "1  2018-05-05 10:01:00  3590433799317662063   1.0           10.29551   \n",
       "2  2018-05-05 10:02:00   863033069630348313   0.0           12.12831   \n",
       "3  2018-05-05 10:03:00   359043379931766114   1.0           11.06419   \n",
       "4  2018-05-05 10:04:00  3590433799317661842   1.0           12.08457   \n",
       "\n",
       "   c.dogalize  c.android.gm  c.katana  c.android.chrome  c.raider  \\\n",
       "0    10.65335      10.48791  16.91620           5.04564  36.21508   \n",
       "1    10.46363      10.98438  15.65637          14.82931  24.83765   \n",
       "2     9.53752       6.78080   6.98948          10.92433   3.29441   \n",
       "3    11.55759       8.87744  11.84499          15.45902  24.78878   \n",
       "4    10.42860       9.82241  12.48869          12.85363  40.98237   \n",
       "\n",
       "   c.android.vending  c.UCMobile.intl  c.UCMobile.x86  c.updateassist  \n",
       "0           14.24956          4.09319        15.20934         5.11764  \n",
       "1           57.49911         23.94919         8.82448        44.13570  \n",
       "2           20.37891         52.55353        49.51037        99.75215  \n",
       "3           36.40299         25.77644        21.84167        65.17774  \n",
       "4           74.13316         96.77450        18.48116        90.77304  "
      ],
      "text/html": [
       "<div>\n",
       "<style scoped>\n",
       "    .dataframe tbody tr th:only-of-type {\n",
       "        vertical-align: middle;\n",
       "    }\n",
       "\n",
       "    .dataframe tbody tr th {\n",
       "        vertical-align: top;\n",
       "    }\n",
       "\n",
       "    .dataframe thead th {\n",
       "        text-align: right;\n",
       "    }\n",
       "</style>\n",
       "<table border=\"1\" class=\"dataframe\">\n",
       "  <thead>\n",
       "    <tr style=\"text-align: right;\">\n",
       "      <th></th>\n",
       "      <th>ts</th>\n",
       "      <th>imei</th>\n",
       "      <th>mwra</th>\n",
       "      <th>c.android.youtube</th>\n",
       "      <th>c.dogalize</th>\n",
       "      <th>c.android.gm</th>\n",
       "      <th>c.katana</th>\n",
       "      <th>c.android.chrome</th>\n",
       "      <th>c.raider</th>\n",
       "      <th>c.android.vending</th>\n",
       "      <th>c.UCMobile.intl</th>\n",
       "      <th>c.UCMobile.x86</th>\n",
       "      <th>c.updateassist</th>\n",
       "    </tr>\n",
       "  </thead>\n",
       "  <tbody>\n",
       "    <tr>\n",
       "      <th>0</th>\n",
       "      <td>2018-05-05 10:00:00</td>\n",
       "      <td>3590433799317661107</td>\n",
       "      <td>0.0</td>\n",
       "      <td>11.65403</td>\n",
       "      <td>10.65335</td>\n",
       "      <td>10.48791</td>\n",
       "      <td>16.91620</td>\n",
       "      <td>5.04564</td>\n",
       "      <td>36.21508</td>\n",
       "      <td>14.24956</td>\n",
       "      <td>4.09319</td>\n",
       "      <td>15.20934</td>\n",
       "      <td>5.11764</td>\n",
       "    </tr>\n",
       "    <tr>\n",
       "      <th>1</th>\n",
       "      <td>2018-05-05 10:01:00</td>\n",
       "      <td>3590433799317662063</td>\n",
       "      <td>1.0</td>\n",
       "      <td>10.29551</td>\n",
       "      <td>10.46363</td>\n",
       "      <td>10.98438</td>\n",
       "      <td>15.65637</td>\n",
       "      <td>14.82931</td>\n",
       "      <td>24.83765</td>\n",
       "      <td>57.49911</td>\n",
       "      <td>23.94919</td>\n",
       "      <td>8.82448</td>\n",
       "      <td>44.13570</td>\n",
       "    </tr>\n",
       "    <tr>\n",
       "      <th>2</th>\n",
       "      <td>2018-05-05 10:02:00</td>\n",
       "      <td>863033069630348313</td>\n",
       "      <td>0.0</td>\n",
       "      <td>12.12831</td>\n",
       "      <td>9.53752</td>\n",
       "      <td>6.78080</td>\n",
       "      <td>6.98948</td>\n",
       "      <td>10.92433</td>\n",
       "      <td>3.29441</td>\n",
       "      <td>20.37891</td>\n",
       "      <td>52.55353</td>\n",
       "      <td>49.51037</td>\n",
       "      <td>99.75215</td>\n",
       "    </tr>\n",
       "    <tr>\n",
       "      <th>3</th>\n",
       "      <td>2018-05-05 10:03:00</td>\n",
       "      <td>359043379931766114</td>\n",
       "      <td>1.0</td>\n",
       "      <td>11.06419</td>\n",
       "      <td>11.55759</td>\n",
       "      <td>8.87744</td>\n",
       "      <td>11.84499</td>\n",
       "      <td>15.45902</td>\n",
       "      <td>24.78878</td>\n",
       "      <td>36.40299</td>\n",
       "      <td>25.77644</td>\n",
       "      <td>21.84167</td>\n",
       "      <td>65.17774</td>\n",
       "    </tr>\n",
       "    <tr>\n",
       "      <th>4</th>\n",
       "      <td>2018-05-05 10:04:00</td>\n",
       "      <td>3590433799317661842</td>\n",
       "      <td>1.0</td>\n",
       "      <td>12.08457</td>\n",
       "      <td>10.42860</td>\n",
       "      <td>9.82241</td>\n",
       "      <td>12.48869</td>\n",
       "      <td>12.85363</td>\n",
       "      <td>40.98237</td>\n",
       "      <td>74.13316</td>\n",
       "      <td>96.77450</td>\n",
       "      <td>18.48116</td>\n",
       "      <td>90.77304</td>\n",
       "    </tr>\n",
       "  </tbody>\n",
       "</table>\n",
       "</div>"
      ]
     },
     "execution_count": 7,
     "metadata": {},
     "output_type": "execute_result"
    }
   ],
   "execution_count": 7
  },
  {
   "metadata": {},
   "cell_type": "markdown",
   "source": "We analyze the structure of the table.",
   "id": "73105bc8d7c55d6f"
  },
  {
   "metadata": {
    "ExecuteTime": {
     "end_time": "2024-10-07T07:38:06.462400Z",
     "start_time": "2024-10-07T07:38:06.457487Z"
    }
   },
   "cell_type": "code",
   "source": "print(f\"There are {connections.shape[0]} entries with {connections.shape[1]} columns:\\n {connections.columns.values}\")",
   "id": "2da4256dd43b183",
   "outputs": [
    {
     "name": "stdout",
     "output_type": "stream",
     "text": [
      "There are 15074 entries with 13 columns:\n",
      " ['ts' 'imei' 'mwra' 'c.android.youtube' 'c.dogalize' 'c.android.gm'\n",
      " 'c.katana' 'c.android.chrome' 'c.raider' 'c.android.vending'\n",
      " 'c.UCMobile.intl' 'c.UCMobile.x86' 'c.updateassist']\n"
     ]
    }
   ],
   "execution_count": 8
  },
  {
   "metadata": {
    "ExecuteTime": {
     "end_time": "2024-10-07T07:38:06.745259Z",
     "start_time": "2024-10-07T07:38:06.734852Z"
    }
   },
   "cell_type": "code",
   "source": "connections.info()",
   "id": "1914bba4a62b7ba9",
   "outputs": [
    {
     "name": "stdout",
     "output_type": "stream",
     "text": [
      "<class 'pandas.core.frame.DataFrame'>\n",
      "RangeIndex: 15074 entries, 0 to 15073\n",
      "Data columns (total 13 columns):\n",
      " #   Column             Non-Null Count  Dtype  \n",
      "---  ------             --------------  -----  \n",
      " 0   ts                 15074 non-null  object \n",
      " 1   imei               15074 non-null  int64  \n",
      " 2   mwra               15074 non-null  float64\n",
      " 3   c.android.youtube  15074 non-null  float64\n",
      " 4   c.dogalize         15074 non-null  float64\n",
      " 5   c.android.gm       15074 non-null  float64\n",
      " 6   c.katana           15074 non-null  float64\n",
      " 7   c.android.chrome   15074 non-null  float64\n",
      " 8   c.raider           15074 non-null  float64\n",
      " 9   c.android.vending  15074 non-null  float64\n",
      " 10  c.UCMobile.intl    15074 non-null  float64\n",
      " 11  c.UCMobile.x86     15074 non-null  float64\n",
      " 12  c.updateassist     15074 non-null  float64\n",
      "dtypes: float64(11), int64(1), object(1)\n",
      "memory usage: 1.5+ MB\n"
     ]
    }
   ],
   "execution_count": 9
  },
  {
   "metadata": {},
   "cell_type": "markdown",
   "source": "This dataset contains no missing values, as the number of non-null entries in each column matches the total row count. The first column holds object type values, representing timestamps, and will likely be converted to timestamp type during further processing. The second column stores int64 values, which represent the International Mobile Equipment Identity (IMEI) number. The third column is of type float64 despite containing only boolean values, which indicate malware-related activity. The other columns are of type float64  serving as input for evaluating mwra. ",
   "id": "73b89a2efbf2c545"
  },
  {
   "metadata": {},
   "cell_type": "markdown",
   "source": "The pair of first and second column (ts, imei) are keys for snapshot of the rest of values. The third column is the result of evaluation. ",
   "id": "72c0c6947e6f898e"
  },
  {
   "metadata": {
    "ExecuteTime": {
     "end_time": "2024-10-07T07:38:07.207396Z",
     "start_time": "2024-10-07T07:38:07.172768Z"
    }
   },
   "cell_type": "code",
   "source": "connections.describe()",
   "id": "73458ae9a232b1a8",
   "outputs": [
    {
     "data": {
      "text/plain": [
       "               imei          mwra  c.android.youtube    c.dogalize  \\\n",
       "count  1.507400e+04  15074.000000       15074.000000  15074.000000   \n",
       "mean   3.944186e+18      0.628367          10.649835     11.159652   \n",
       "std    3.331167e+18      0.483257           2.541594      2.787612   \n",
       "min    3.590434e+17      0.000000           1.023410      0.113470   \n",
       "25%    8.630331e+17      0.000000           8.759405      9.342795   \n",
       "50%    3.590434e+18      1.000000          10.527030     11.410130   \n",
       "75%    8.630331e+18      1.000000          12.507920     13.140740   \n",
       "max    8.630331e+18      1.000000          20.726030     19.477060   \n",
       "\n",
       "       c.android.gm      c.katana  c.android.chrome      c.raider  \\\n",
       "count  15074.000000  15074.000000      15074.000000  15074.000000   \n",
       "mean       9.960639     11.779597          9.983044     49.518952   \n",
       "std        2.564320      2.332968          2.609872     28.933385   \n",
       "min        0.022370      2.299720          0.000000      0.000000   \n",
       "25%        8.119385     10.424308          8.128787     24.551032   \n",
       "50%        9.868480     12.011270          9.935055     49.285175   \n",
       "75%       11.798052     13.362262         11.872960     74.746440   \n",
       "max       18.284120     19.684410         19.927250    100.000000   \n",
       "\n",
       "       c.android.vending  c.UCMobile.intl  c.UCMobile.x86  c.updateassist  \n",
       "count       15074.000000     15074.000000    15074.000000    15074.000000  \n",
       "mean           50.033587        50.042579       49.858606       49.845721  \n",
       "std            28.855641        28.955827       29.024959       28.848587  \n",
       "min             0.000000         0.000000        0.000000        0.000000  \n",
       "25%            24.985702        24.950173       24.570863       24.762352  \n",
       "50%            50.404290        50.368725       49.839325       49.573495  \n",
       "75%            75.024978        74.937760       75.378667       74.872277  \n",
       "max           100.000000       100.000000      100.000000      100.000000  "
      ],
      "text/html": [
       "<div>\n",
       "<style scoped>\n",
       "    .dataframe tbody tr th:only-of-type {\n",
       "        vertical-align: middle;\n",
       "    }\n",
       "\n",
       "    .dataframe tbody tr th {\n",
       "        vertical-align: top;\n",
       "    }\n",
       "\n",
       "    .dataframe thead th {\n",
       "        text-align: right;\n",
       "    }\n",
       "</style>\n",
       "<table border=\"1\" class=\"dataframe\">\n",
       "  <thead>\n",
       "    <tr style=\"text-align: right;\">\n",
       "      <th></th>\n",
       "      <th>imei</th>\n",
       "      <th>mwra</th>\n",
       "      <th>c.android.youtube</th>\n",
       "      <th>c.dogalize</th>\n",
       "      <th>c.android.gm</th>\n",
       "      <th>c.katana</th>\n",
       "      <th>c.android.chrome</th>\n",
       "      <th>c.raider</th>\n",
       "      <th>c.android.vending</th>\n",
       "      <th>c.UCMobile.intl</th>\n",
       "      <th>c.UCMobile.x86</th>\n",
       "      <th>c.updateassist</th>\n",
       "    </tr>\n",
       "  </thead>\n",
       "  <tbody>\n",
       "    <tr>\n",
       "      <th>count</th>\n",
       "      <td>1.507400e+04</td>\n",
       "      <td>15074.000000</td>\n",
       "      <td>15074.000000</td>\n",
       "      <td>15074.000000</td>\n",
       "      <td>15074.000000</td>\n",
       "      <td>15074.000000</td>\n",
       "      <td>15074.000000</td>\n",
       "      <td>15074.000000</td>\n",
       "      <td>15074.000000</td>\n",
       "      <td>15074.000000</td>\n",
       "      <td>15074.000000</td>\n",
       "      <td>15074.000000</td>\n",
       "    </tr>\n",
       "    <tr>\n",
       "      <th>mean</th>\n",
       "      <td>3.944186e+18</td>\n",
       "      <td>0.628367</td>\n",
       "      <td>10.649835</td>\n",
       "      <td>11.159652</td>\n",
       "      <td>9.960639</td>\n",
       "      <td>11.779597</td>\n",
       "      <td>9.983044</td>\n",
       "      <td>49.518952</td>\n",
       "      <td>50.033587</td>\n",
       "      <td>50.042579</td>\n",
       "      <td>49.858606</td>\n",
       "      <td>49.845721</td>\n",
       "    </tr>\n",
       "    <tr>\n",
       "      <th>std</th>\n",
       "      <td>3.331167e+18</td>\n",
       "      <td>0.483257</td>\n",
       "      <td>2.541594</td>\n",
       "      <td>2.787612</td>\n",
       "      <td>2.564320</td>\n",
       "      <td>2.332968</td>\n",
       "      <td>2.609872</td>\n",
       "      <td>28.933385</td>\n",
       "      <td>28.855641</td>\n",
       "      <td>28.955827</td>\n",
       "      <td>29.024959</td>\n",
       "      <td>28.848587</td>\n",
       "    </tr>\n",
       "    <tr>\n",
       "      <th>min</th>\n",
       "      <td>3.590434e+17</td>\n",
       "      <td>0.000000</td>\n",
       "      <td>1.023410</td>\n",
       "      <td>0.113470</td>\n",
       "      <td>0.022370</td>\n",
       "      <td>2.299720</td>\n",
       "      <td>0.000000</td>\n",
       "      <td>0.000000</td>\n",
       "      <td>0.000000</td>\n",
       "      <td>0.000000</td>\n",
       "      <td>0.000000</td>\n",
       "      <td>0.000000</td>\n",
       "    </tr>\n",
       "    <tr>\n",
       "      <th>25%</th>\n",
       "      <td>8.630331e+17</td>\n",
       "      <td>0.000000</td>\n",
       "      <td>8.759405</td>\n",
       "      <td>9.342795</td>\n",
       "      <td>8.119385</td>\n",
       "      <td>10.424308</td>\n",
       "      <td>8.128787</td>\n",
       "      <td>24.551032</td>\n",
       "      <td>24.985702</td>\n",
       "      <td>24.950173</td>\n",
       "      <td>24.570863</td>\n",
       "      <td>24.762352</td>\n",
       "    </tr>\n",
       "    <tr>\n",
       "      <th>50%</th>\n",
       "      <td>3.590434e+18</td>\n",
       "      <td>1.000000</td>\n",
       "      <td>10.527030</td>\n",
       "      <td>11.410130</td>\n",
       "      <td>9.868480</td>\n",
       "      <td>12.011270</td>\n",
       "      <td>9.935055</td>\n",
       "      <td>49.285175</td>\n",
       "      <td>50.404290</td>\n",
       "      <td>50.368725</td>\n",
       "      <td>49.839325</td>\n",
       "      <td>49.573495</td>\n",
       "    </tr>\n",
       "    <tr>\n",
       "      <th>75%</th>\n",
       "      <td>8.630331e+18</td>\n",
       "      <td>1.000000</td>\n",
       "      <td>12.507920</td>\n",
       "      <td>13.140740</td>\n",
       "      <td>11.798052</td>\n",
       "      <td>13.362262</td>\n",
       "      <td>11.872960</td>\n",
       "      <td>74.746440</td>\n",
       "      <td>75.024978</td>\n",
       "      <td>74.937760</td>\n",
       "      <td>75.378667</td>\n",
       "      <td>74.872277</td>\n",
       "    </tr>\n",
       "    <tr>\n",
       "      <th>max</th>\n",
       "      <td>8.630331e+18</td>\n",
       "      <td>1.000000</td>\n",
       "      <td>20.726030</td>\n",
       "      <td>19.477060</td>\n",
       "      <td>18.284120</td>\n",
       "      <td>19.684410</td>\n",
       "      <td>19.927250</td>\n",
       "      <td>100.000000</td>\n",
       "      <td>100.000000</td>\n",
       "      <td>100.000000</td>\n",
       "      <td>100.000000</td>\n",
       "      <td>100.000000</td>\n",
       "    </tr>\n",
       "  </tbody>\n",
       "</table>\n",
       "</div>"
      ]
     },
     "execution_count": 10,
     "metadata": {},
     "output_type": "execute_result"
    }
   ],
   "execution_count": 10
  },
  {
   "metadata": {},
   "cell_type": "markdown",
   "source": "From the method above, we can get a sense of distributions for each column. Especially mean close to the median suggest normal distribution.",
   "id": "d63dd5d9fa4ab80e"
  },
  {
   "metadata": {},
   "cell_type": "markdown",
   "source": "### Devices",
   "id": "ec84b09b250fdb4c"
  },
  {
   "metadata": {
    "ExecuteTime": {
     "end_time": "2024-10-07T07:38:07.536279Z",
     "start_time": "2024-10-07T07:38:07.525887Z"
    }
   },
   "cell_type": "code",
   "source": "devices.head()",
   "id": "12c494bb2a0e1226",
   "outputs": [
    {
     "data": {
      "text/plain": [
       "   latitude  longitude          store_name code  \\\n",
       "0  18.57677  -72.22625  Croix-des-Bouquets   HT   \n",
       "1 -25.54073  152.70493         Maryborough   AU   \n",
       "2  50.88506    4.07601         Denderleeuw   BE   \n",
       "3  48.15659   28.28489              Soroca   MD   \n",
       "4 -34.64966  -58.38341            Barracas   AR   \n",
       "\n",
       "                         location                 imei  \n",
       "0          America/Port-au-Prince  3590433799317662113  \n",
       "1              Australia/Brisbane  8630330696303481107  \n",
       "2                 Europe/Brussels  8630330696303481461  \n",
       "3                 Europe/Chisinau  3590433799317661016  \n",
       "4  America/Argentina/Buenos_Aires  3590433799317662253  "
      ],
      "text/html": [
       "<div>\n",
       "<style scoped>\n",
       "    .dataframe tbody tr th:only-of-type {\n",
       "        vertical-align: middle;\n",
       "    }\n",
       "\n",
       "    .dataframe tbody tr th {\n",
       "        vertical-align: top;\n",
       "    }\n",
       "\n",
       "    .dataframe thead th {\n",
       "        text-align: right;\n",
       "    }\n",
       "</style>\n",
       "<table border=\"1\" class=\"dataframe\">\n",
       "  <thead>\n",
       "    <tr style=\"text-align: right;\">\n",
       "      <th></th>\n",
       "      <th>latitude</th>\n",
       "      <th>longitude</th>\n",
       "      <th>store_name</th>\n",
       "      <th>code</th>\n",
       "      <th>location</th>\n",
       "      <th>imei</th>\n",
       "    </tr>\n",
       "  </thead>\n",
       "  <tbody>\n",
       "    <tr>\n",
       "      <th>0</th>\n",
       "      <td>18.57677</td>\n",
       "      <td>-72.22625</td>\n",
       "      <td>Croix-des-Bouquets</td>\n",
       "      <td>HT</td>\n",
       "      <td>America/Port-au-Prince</td>\n",
       "      <td>3590433799317662113</td>\n",
       "    </tr>\n",
       "    <tr>\n",
       "      <th>1</th>\n",
       "      <td>-25.54073</td>\n",
       "      <td>152.70493</td>\n",
       "      <td>Maryborough</td>\n",
       "      <td>AU</td>\n",
       "      <td>Australia/Brisbane</td>\n",
       "      <td>8630330696303481107</td>\n",
       "    </tr>\n",
       "    <tr>\n",
       "      <th>2</th>\n",
       "      <td>50.88506</td>\n",
       "      <td>4.07601</td>\n",
       "      <td>Denderleeuw</td>\n",
       "      <td>BE</td>\n",
       "      <td>Europe/Brussels</td>\n",
       "      <td>8630330696303481461</td>\n",
       "    </tr>\n",
       "    <tr>\n",
       "      <th>3</th>\n",
       "      <td>48.15659</td>\n",
       "      <td>28.28489</td>\n",
       "      <td>Soroca</td>\n",
       "      <td>MD</td>\n",
       "      <td>Europe/Chisinau</td>\n",
       "      <td>3590433799317661016</td>\n",
       "    </tr>\n",
       "    <tr>\n",
       "      <th>4</th>\n",
       "      <td>-34.64966</td>\n",
       "      <td>-58.38341</td>\n",
       "      <td>Barracas</td>\n",
       "      <td>AR</td>\n",
       "      <td>America/Argentina/Buenos_Aires</td>\n",
       "      <td>3590433799317662253</td>\n",
       "    </tr>\n",
       "  </tbody>\n",
       "</table>\n",
       "</div>"
      ]
     },
     "execution_count": 11,
     "metadata": {},
     "output_type": "execute_result"
    }
   ],
   "execution_count": 11
  },
  {
   "metadata": {
    "ExecuteTime": {
     "end_time": "2024-10-07T07:38:07.744029Z",
     "start_time": "2024-10-07T07:38:07.739301Z"
    }
   },
   "cell_type": "code",
   "source": "print(f\"There are {devices.shape[0]} entries with {devices.shape[1]} columns:\\n {devices.columns.values}\")\n",
   "id": "874f4abaa34b6c96",
   "outputs": [
    {
     "name": "stdout",
     "output_type": "stream",
     "text": [
      "There are 2895 entries with 6 columns:\n",
      " ['latitude' 'longitude' 'store_name' 'code' 'location' 'imei']\n"
     ]
    }
   ],
   "execution_count": 12
  },
  {
   "metadata": {
    "ExecuteTime": {
     "end_time": "2024-10-07T07:38:08.182905Z",
     "start_time": "2024-10-07T07:38:08.174384Z"
    }
   },
   "cell_type": "code",
   "source": "devices.info()",
   "id": "3a56ec5b0eb88b66",
   "outputs": [
    {
     "name": "stdout",
     "output_type": "stream",
     "text": [
      "<class 'pandas.core.frame.DataFrame'>\n",
      "RangeIndex: 2895 entries, 0 to 2894\n",
      "Data columns (total 6 columns):\n",
      " #   Column      Non-Null Count  Dtype  \n",
      "---  ------      --------------  -----  \n",
      " 0   latitude    2895 non-null   float64\n",
      " 1   longitude   2895 non-null   float64\n",
      " 2   store_name  2895 non-null   object \n",
      " 3   code        2895 non-null   object \n",
      " 4   location    2895 non-null   object \n",
      " 5   imei        2895 non-null   int64  \n",
      "dtypes: float64(2), int64(1), object(3)\n",
      "memory usage: 135.8+ KB\n"
     ]
    }
   ],
   "execution_count": 13
  },
  {
   "metadata": {},
   "cell_type": "markdown",
   "source": "Column 'code' has 3 null values. Others don't have any. ",
   "id": "c234a7d467b8a8a"
  },
  {
   "metadata": {
    "ExecuteTime": {
     "end_time": "2024-10-07T07:38:08.514572Z",
     "start_time": "2024-10-07T07:38:08.501612Z"
    }
   },
   "cell_type": "code",
   "source": "devices.describe()",
   "id": "c56a257ef8d815bf",
   "outputs": [
    {
     "data": {
      "text/plain": [
       "          latitude    longitude          imei\n",
       "count  2895.000000  2895.000000  2.895000e+03\n",
       "mean     29.379861     9.846564  3.919073e+18\n",
       "std      23.348693    73.262963  3.333461e+18\n",
       "min     -54.800000  -156.474320  3.590434e+17\n",
       "25%      14.933330   -60.931730  8.630331e+17\n",
       "50%      36.766390     9.152140  3.590434e+18\n",
       "75%      46.655810    71.211690  8.630331e+18\n",
       "max      68.798330   178.004170  8.630331e+18"
      ],
      "text/html": [
       "<div>\n",
       "<style scoped>\n",
       "    .dataframe tbody tr th:only-of-type {\n",
       "        vertical-align: middle;\n",
       "    }\n",
       "\n",
       "    .dataframe tbody tr th {\n",
       "        vertical-align: top;\n",
       "    }\n",
       "\n",
       "    .dataframe thead th {\n",
       "        text-align: right;\n",
       "    }\n",
       "</style>\n",
       "<table border=\"1\" class=\"dataframe\">\n",
       "  <thead>\n",
       "    <tr style=\"text-align: right;\">\n",
       "      <th></th>\n",
       "      <th>latitude</th>\n",
       "      <th>longitude</th>\n",
       "      <th>imei</th>\n",
       "    </tr>\n",
       "  </thead>\n",
       "  <tbody>\n",
       "    <tr>\n",
       "      <th>count</th>\n",
       "      <td>2895.000000</td>\n",
       "      <td>2895.000000</td>\n",
       "      <td>2.895000e+03</td>\n",
       "    </tr>\n",
       "    <tr>\n",
       "      <th>mean</th>\n",
       "      <td>29.379861</td>\n",
       "      <td>9.846564</td>\n",
       "      <td>3.919073e+18</td>\n",
       "    </tr>\n",
       "    <tr>\n",
       "      <th>std</th>\n",
       "      <td>23.348693</td>\n",
       "      <td>73.262963</td>\n",
       "      <td>3.333461e+18</td>\n",
       "    </tr>\n",
       "    <tr>\n",
       "      <th>min</th>\n",
       "      <td>-54.800000</td>\n",
       "      <td>-156.474320</td>\n",
       "      <td>3.590434e+17</td>\n",
       "    </tr>\n",
       "    <tr>\n",
       "      <th>25%</th>\n",
       "      <td>14.933330</td>\n",
       "      <td>-60.931730</td>\n",
       "      <td>8.630331e+17</td>\n",
       "    </tr>\n",
       "    <tr>\n",
       "      <th>50%</th>\n",
       "      <td>36.766390</td>\n",
       "      <td>9.152140</td>\n",
       "      <td>3.590434e+18</td>\n",
       "    </tr>\n",
       "    <tr>\n",
       "      <th>75%</th>\n",
       "      <td>46.655810</td>\n",
       "      <td>71.211690</td>\n",
       "      <td>8.630331e+18</td>\n",
       "    </tr>\n",
       "    <tr>\n",
       "      <th>max</th>\n",
       "      <td>68.798330</td>\n",
       "      <td>178.004170</td>\n",
       "      <td>8.630331e+18</td>\n",
       "    </tr>\n",
       "  </tbody>\n",
       "</table>\n",
       "</div>"
      ]
     },
     "execution_count": 14,
     "metadata": {},
     "output_type": "execute_result"
    }
   ],
   "execution_count": 14
  },
  {
   "metadata": {},
   "cell_type": "markdown",
   "source": "Latitude and longitude often act more as a categorical data instead of numerical, when it comes to analysis, as they split into categories rather than attributes growing in a linear fashion. IMEI is an id. Therefore the cell above provides no useful insight.",
   "id": "13e0711b2296c3c9"
  },
  {
   "metadata": {
    "ExecuteTime": {
     "end_time": "2024-10-07T07:38:08.929065Z",
     "start_time": "2024-10-07T07:38:08.910952Z"
    }
   },
   "cell_type": "code",
   "source": "processes.head()",
   "id": "17e59ccffe83ad97",
   "outputs": [
    {
     "data": {
      "text/plain": [
       "                    ts                 imei  mwra  p.android.chrome  \\\n",
       "0  2018-05-05 10:00:00  3590433799317661107   0.0           7.41473   \n",
       "1  2018-05-05 10:01:00  3590433799317662063   1.0           9.40603   \n",
       "2  2018-05-05 10:02:00   863033069630348313   0.0          13.61225   \n",
       "3  2018-05-05 10:03:00   359043379931766114   1.0           8.14970   \n",
       "4  2018-05-05 10:04:00  3590433799317661842   1.0           8.20358   \n",
       "\n",
       "   p.android.documentsui  p.android.gm  p.system  p.android.packageinstaller  \\\n",
       "0               10.17656      14.80917  12.14702                    11.55620   \n",
       "1                6.57378       6.06519  10.56643                    16.74062   \n",
       "2               11.73312       8.99679  10.79425                    12.60312   \n",
       "3                9.53996       8.28249  10.80629                    13.97670   \n",
       "4                8.94156       8.62248   8.33003                    13.44049   \n",
       "\n",
       "   p.android.settings  p.android.externalstorage  ...  p.dogalize  \\\n",
       "0             8.33912                   14.02450  ...    65.61120   \n",
       "1            13.78434                    7.57297  ...    47.85939   \n",
       "2            10.78121                   11.90788  ...    52.33884   \n",
       "3            12.73047                   11.64714  ...    28.18437   \n",
       "4            13.31239                   11.40689  ...    71.31165   \n",
       "\n",
       "   p.simulator  p.google  p.android.vending  p.inputmethod.latin  \\\n",
       "0     50.11483  53.37584           68.21001             61.69014   \n",
       "1     64.64494  15.73793           58.42507             57.04862   \n",
       "2     25.01553  42.88480           17.22521             13.74976   \n",
       "3     55.22909  59.59616           78.03742             20.18875   \n",
       "4     60.24955  52.48479           13.37139             51.12877   \n",
       "\n",
       "   p.process.gapps  p.notifier  p.olauncher  p.gms.persistent  \\\n",
       "0         42.31022     4.82212     90.97861          53.94759   \n",
       "1         40.09440    16.63539     30.11126          40.51207   \n",
       "2         50.38813    42.62046     96.70838          43.37143   \n",
       "3         20.99686    90.73121     86.05335          99.16606   \n",
       "4         70.85514    39.65245     29.01586           6.11403   \n",
       "\n",
       "   p.android.defcontainer  \n",
       "0                20.98954  \n",
       "1                64.61017  \n",
       "2                98.71501  \n",
       "3                95.92975  \n",
       "4                65.87936  \n",
       "\n",
       "[5 rows x 23 columns]"
      ],
      "text/html": [
       "<div>\n",
       "<style scoped>\n",
       "    .dataframe tbody tr th:only-of-type {\n",
       "        vertical-align: middle;\n",
       "    }\n",
       "\n",
       "    .dataframe tbody tr th {\n",
       "        vertical-align: top;\n",
       "    }\n",
       "\n",
       "    .dataframe thead th {\n",
       "        text-align: right;\n",
       "    }\n",
       "</style>\n",
       "<table border=\"1\" class=\"dataframe\">\n",
       "  <thead>\n",
       "    <tr style=\"text-align: right;\">\n",
       "      <th></th>\n",
       "      <th>ts</th>\n",
       "      <th>imei</th>\n",
       "      <th>mwra</th>\n",
       "      <th>p.android.chrome</th>\n",
       "      <th>p.android.documentsui</th>\n",
       "      <th>p.android.gm</th>\n",
       "      <th>p.system</th>\n",
       "      <th>p.android.packageinstaller</th>\n",
       "      <th>p.android.settings</th>\n",
       "      <th>p.android.externalstorage</th>\n",
       "      <th>...</th>\n",
       "      <th>p.dogalize</th>\n",
       "      <th>p.simulator</th>\n",
       "      <th>p.google</th>\n",
       "      <th>p.android.vending</th>\n",
       "      <th>p.inputmethod.latin</th>\n",
       "      <th>p.process.gapps</th>\n",
       "      <th>p.notifier</th>\n",
       "      <th>p.olauncher</th>\n",
       "      <th>p.gms.persistent</th>\n",
       "      <th>p.android.defcontainer</th>\n",
       "    </tr>\n",
       "  </thead>\n",
       "  <tbody>\n",
       "    <tr>\n",
       "      <th>0</th>\n",
       "      <td>2018-05-05 10:00:00</td>\n",
       "      <td>3590433799317661107</td>\n",
       "      <td>0.0</td>\n",
       "      <td>7.41473</td>\n",
       "      <td>10.17656</td>\n",
       "      <td>14.80917</td>\n",
       "      <td>12.14702</td>\n",
       "      <td>11.55620</td>\n",
       "      <td>8.33912</td>\n",
       "      <td>14.02450</td>\n",
       "      <td>...</td>\n",
       "      <td>65.61120</td>\n",
       "      <td>50.11483</td>\n",
       "      <td>53.37584</td>\n",
       "      <td>68.21001</td>\n",
       "      <td>61.69014</td>\n",
       "      <td>42.31022</td>\n",
       "      <td>4.82212</td>\n",
       "      <td>90.97861</td>\n",
       "      <td>53.94759</td>\n",
       "      <td>20.98954</td>\n",
       "    </tr>\n",
       "    <tr>\n",
       "      <th>1</th>\n",
       "      <td>2018-05-05 10:01:00</td>\n",
       "      <td>3590433799317662063</td>\n",
       "      <td>1.0</td>\n",
       "      <td>9.40603</td>\n",
       "      <td>6.57378</td>\n",
       "      <td>6.06519</td>\n",
       "      <td>10.56643</td>\n",
       "      <td>16.74062</td>\n",
       "      <td>13.78434</td>\n",
       "      <td>7.57297</td>\n",
       "      <td>...</td>\n",
       "      <td>47.85939</td>\n",
       "      <td>64.64494</td>\n",
       "      <td>15.73793</td>\n",
       "      <td>58.42507</td>\n",
       "      <td>57.04862</td>\n",
       "      <td>40.09440</td>\n",
       "      <td>16.63539</td>\n",
       "      <td>30.11126</td>\n",
       "      <td>40.51207</td>\n",
       "      <td>64.61017</td>\n",
       "    </tr>\n",
       "    <tr>\n",
       "      <th>2</th>\n",
       "      <td>2018-05-05 10:02:00</td>\n",
       "      <td>863033069630348313</td>\n",
       "      <td>0.0</td>\n",
       "      <td>13.61225</td>\n",
       "      <td>11.73312</td>\n",
       "      <td>8.99679</td>\n",
       "      <td>10.79425</td>\n",
       "      <td>12.60312</td>\n",
       "      <td>10.78121</td>\n",
       "      <td>11.90788</td>\n",
       "      <td>...</td>\n",
       "      <td>52.33884</td>\n",
       "      <td>25.01553</td>\n",
       "      <td>42.88480</td>\n",
       "      <td>17.22521</td>\n",
       "      <td>13.74976</td>\n",
       "      <td>50.38813</td>\n",
       "      <td>42.62046</td>\n",
       "      <td>96.70838</td>\n",
       "      <td>43.37143</td>\n",
       "      <td>98.71501</td>\n",
       "    </tr>\n",
       "    <tr>\n",
       "      <th>3</th>\n",
       "      <td>2018-05-05 10:03:00</td>\n",
       "      <td>359043379931766114</td>\n",
       "      <td>1.0</td>\n",
       "      <td>8.14970</td>\n",
       "      <td>9.53996</td>\n",
       "      <td>8.28249</td>\n",
       "      <td>10.80629</td>\n",
       "      <td>13.97670</td>\n",
       "      <td>12.73047</td>\n",
       "      <td>11.64714</td>\n",
       "      <td>...</td>\n",
       "      <td>28.18437</td>\n",
       "      <td>55.22909</td>\n",
       "      <td>59.59616</td>\n",
       "      <td>78.03742</td>\n",
       "      <td>20.18875</td>\n",
       "      <td>20.99686</td>\n",
       "      <td>90.73121</td>\n",
       "      <td>86.05335</td>\n",
       "      <td>99.16606</td>\n",
       "      <td>95.92975</td>\n",
       "    </tr>\n",
       "    <tr>\n",
       "      <th>4</th>\n",
       "      <td>2018-05-05 10:04:00</td>\n",
       "      <td>3590433799317661842</td>\n",
       "      <td>1.0</td>\n",
       "      <td>8.20358</td>\n",
       "      <td>8.94156</td>\n",
       "      <td>8.62248</td>\n",
       "      <td>8.33003</td>\n",
       "      <td>13.44049</td>\n",
       "      <td>13.31239</td>\n",
       "      <td>11.40689</td>\n",
       "      <td>...</td>\n",
       "      <td>71.31165</td>\n",
       "      <td>60.24955</td>\n",
       "      <td>52.48479</td>\n",
       "      <td>13.37139</td>\n",
       "      <td>51.12877</td>\n",
       "      <td>70.85514</td>\n",
       "      <td>39.65245</td>\n",
       "      <td>29.01586</td>\n",
       "      <td>6.11403</td>\n",
       "      <td>65.87936</td>\n",
       "    </tr>\n",
       "  </tbody>\n",
       "</table>\n",
       "<p>5 rows × 23 columns</p>\n",
       "</div>"
      ]
     },
     "execution_count": 15,
     "metadata": {},
     "output_type": "execute_result"
    }
   ],
   "execution_count": 15
  },
  {
   "metadata": {
    "ExecuteTime": {
     "end_time": "2024-10-07T07:38:09.102568Z",
     "start_time": "2024-10-07T07:38:09.096877Z"
    }
   },
   "cell_type": "code",
   "source": "print(f\"There are {processes.shape[0]} entries with {processes.shape[1]} columns:\\n {processes.columns.values}\")",
   "id": "5b8763d31feed980",
   "outputs": [
    {
     "name": "stdout",
     "output_type": "stream",
     "text": [
      "There are 15074 entries with 23 columns:\n",
      " ['ts' 'imei' 'mwra' 'p.android.chrome' 'p.android.documentsui'\n",
      " 'p.android.gm' 'p.system' 'p.android.packageinstaller'\n",
      " 'p.android.settings' 'p.android.externalstorage' 'p.android.gms'\n",
      " 'p.katana' 'p.browser.provider' 'p.dogalize' 'p.simulator' 'p.google'\n",
      " 'p.android.vending' 'p.inputmethod.latin' 'p.process.gapps' 'p.notifier'\n",
      " 'p.olauncher' 'p.gms.persistent' 'p.android.defcontainer']\n"
     ]
    }
   ],
   "execution_count": 16
  },
  {
   "metadata": {},
   "cell_type": "markdown",
   "source": "",
   "id": "d96a92decefcae3d"
  },
  {
   "metadata": {
    "ExecuteTime": {
     "end_time": "2024-10-07T07:38:09.609502Z",
     "start_time": "2024-10-07T07:38:09.599439Z"
    }
   },
   "cell_type": "code",
   "source": "processes.info()",
   "id": "1d16b394ad2f8955",
   "outputs": [
    {
     "name": "stdout",
     "output_type": "stream",
     "text": [
      "<class 'pandas.core.frame.DataFrame'>\n",
      "RangeIndex: 15074 entries, 0 to 15073\n",
      "Data columns (total 23 columns):\n",
      " #   Column                      Non-Null Count  Dtype  \n",
      "---  ------                      --------------  -----  \n",
      " 0   ts                          15074 non-null  object \n",
      " 1   imei                        15074 non-null  int64  \n",
      " 2   mwra                        15074 non-null  float64\n",
      " 3   p.android.chrome            15074 non-null  float64\n",
      " 4   p.android.documentsui       15074 non-null  float64\n",
      " 5   p.android.gm                15074 non-null  float64\n",
      " 6   p.system                    15074 non-null  float64\n",
      " 7   p.android.packageinstaller  15074 non-null  float64\n",
      " 8   p.android.settings          15074 non-null  float64\n",
      " 9   p.android.externalstorage   15074 non-null  float64\n",
      " 10  p.android.gms               15074 non-null  float64\n",
      " 11  p.katana                    15074 non-null  float64\n",
      " 12  p.browser.provider          15074 non-null  float64\n",
      " 13  p.dogalize                  15074 non-null  float64\n",
      " 14  p.simulator                 15074 non-null  float64\n",
      " 15  p.google                    15074 non-null  float64\n",
      " 16  p.android.vending           15074 non-null  float64\n",
      " 17  p.inputmethod.latin         15074 non-null  float64\n",
      " 18  p.process.gapps             15074 non-null  float64\n",
      " 19  p.notifier                  15074 non-null  float64\n",
      " 20  p.olauncher                 15074 non-null  float64\n",
      " 21  p.gms.persistent            15074 non-null  float64\n",
      " 22  p.android.defcontainer      15074 non-null  float64\n",
      "dtypes: float64(21), int64(1), object(1)\n",
      "memory usage: 2.6+ MB\n"
     ]
    }
   ],
   "execution_count": 17
  },
  {
   "metadata": {},
   "cell_type": "markdown",
   "source": "Same as the connections table, there are no null values in any columns. Other details are also the same as in the connections table.",
   "id": "fbe70495c4a1e818"
  },
  {
   "metadata": {
    "ExecuteTime": {
     "end_time": "2024-10-07T07:38:09.917785Z",
     "start_time": "2024-10-07T07:38:09.865594Z"
    }
   },
   "cell_type": "code",
   "source": "processes.describe()",
   "id": "a63007db06def8cb",
   "outputs": [
    {
     "data": {
      "text/plain": [
       "               imei          mwra  p.android.chrome  p.android.documentsui  \\\n",
       "count  1.507400e+04  15074.000000      15074.000000           15074.000000   \n",
       "mean   3.944186e+18      0.628367         10.624031              10.088090   \n",
       "std    3.331167e+18      0.483257          2.580956               2.380393   \n",
       "min    3.590434e+17      0.000000          1.596390               3.929200   \n",
       "25%    8.630331e+17      0.000000          8.704740               8.362568   \n",
       "50%    3.590434e+18      1.000000         10.369065               9.740430   \n",
       "75%    8.630331e+18      1.000000         12.449768              11.652207   \n",
       "max    8.630331e+18      1.000000         19.996520              18.814960   \n",
       "\n",
       "       p.android.gm      p.system  p.android.packageinstaller  \\\n",
       "count  15074.000000  15074.000000                15074.000000   \n",
       "mean       9.428202     10.055861                   12.395920   \n",
       "std        2.392442      2.646287                    1.841499   \n",
       "min        1.529690      0.051170                    5.165220   \n",
       "25%        7.834278      8.189795                   11.167677   \n",
       "50%        9.165670      9.794255                   12.409595   \n",
       "75%       10.747598     11.811273                   13.617365   \n",
       "max       20.640630     21.245590                   20.075470   \n",
       "\n",
       "       p.android.settings  p.android.externalstorage  p.android.gms  ...  \\\n",
       "count        15074.000000               15074.000000   15074.000000  ...   \n",
       "mean            11.247557                  11.242832      47.251979  ...   \n",
       "std              2.572235                   2.766107      12.825330  ...   \n",
       "min              1.636750                   1.918450       0.000000  ...   \n",
       "25%              9.465430                   9.340640      38.517235  ...   \n",
       "50%             11.408155                  11.333865      47.241170  ...   \n",
       "75%             13.093542                  13.186208      55.997227  ...   \n",
       "max             19.985360                  21.755430     100.000000  ...   \n",
       "\n",
       "         p.dogalize   p.simulator      p.google  p.android.vending  \\\n",
       "count  15074.000000  15074.000000  15074.000000       15074.000000   \n",
       "mean      50.848156     45.156014     49.467709          49.666323   \n",
       "std       13.234067     11.425622     13.496016          28.950774   \n",
       "min        0.000000      0.000000      0.000000           0.000000   \n",
       "25%       41.845320     37.395083     40.257945          24.730168   \n",
       "50%       50.959360     45.116790     49.738240          49.261350   \n",
       "75%       59.832208     52.859875     58.620773          74.841612   \n",
       "max      100.000000    100.000000    100.000000         100.000000   \n",
       "\n",
       "       p.inputmethod.latin  p.process.gapps    p.notifier   p.olauncher  \\\n",
       "count         15074.000000     15074.000000  15074.000000  15074.000000   \n",
       "mean             49.639707        50.260145     50.290151     49.752762   \n",
       "std              28.891075        28.812835     28.812182     28.678112   \n",
       "min               0.000000         0.000000      0.000000      0.000000   \n",
       "25%              24.392198        25.262542     25.568478     25.376043   \n",
       "50%              49.561340        50.040285     50.540960     49.815600   \n",
       "75%              74.672930        75.275445     75.288210     74.053022   \n",
       "max             100.000000       100.000000    100.000000    100.000000   \n",
       "\n",
       "       p.gms.persistent  p.android.defcontainer  \n",
       "count      15074.000000            15074.000000  \n",
       "mean          49.817193               49.571407  \n",
       "std           28.951400               29.061716  \n",
       "min            0.000000                0.000000  \n",
       "25%           24.504192               24.162805  \n",
       "50%           49.470135               50.005440  \n",
       "75%           74.966813               74.796243  \n",
       "max          100.000000              100.000000  \n",
       "\n",
       "[8 rows x 22 columns]"
      ],
      "text/html": [
       "<div>\n",
       "<style scoped>\n",
       "    .dataframe tbody tr th:only-of-type {\n",
       "        vertical-align: middle;\n",
       "    }\n",
       "\n",
       "    .dataframe tbody tr th {\n",
       "        vertical-align: top;\n",
       "    }\n",
       "\n",
       "    .dataframe thead th {\n",
       "        text-align: right;\n",
       "    }\n",
       "</style>\n",
       "<table border=\"1\" class=\"dataframe\">\n",
       "  <thead>\n",
       "    <tr style=\"text-align: right;\">\n",
       "      <th></th>\n",
       "      <th>imei</th>\n",
       "      <th>mwra</th>\n",
       "      <th>p.android.chrome</th>\n",
       "      <th>p.android.documentsui</th>\n",
       "      <th>p.android.gm</th>\n",
       "      <th>p.system</th>\n",
       "      <th>p.android.packageinstaller</th>\n",
       "      <th>p.android.settings</th>\n",
       "      <th>p.android.externalstorage</th>\n",
       "      <th>p.android.gms</th>\n",
       "      <th>...</th>\n",
       "      <th>p.dogalize</th>\n",
       "      <th>p.simulator</th>\n",
       "      <th>p.google</th>\n",
       "      <th>p.android.vending</th>\n",
       "      <th>p.inputmethod.latin</th>\n",
       "      <th>p.process.gapps</th>\n",
       "      <th>p.notifier</th>\n",
       "      <th>p.olauncher</th>\n",
       "      <th>p.gms.persistent</th>\n",
       "      <th>p.android.defcontainer</th>\n",
       "    </tr>\n",
       "  </thead>\n",
       "  <tbody>\n",
       "    <tr>\n",
       "      <th>count</th>\n",
       "      <td>1.507400e+04</td>\n",
       "      <td>15074.000000</td>\n",
       "      <td>15074.000000</td>\n",
       "      <td>15074.000000</td>\n",
       "      <td>15074.000000</td>\n",
       "      <td>15074.000000</td>\n",
       "      <td>15074.000000</td>\n",
       "      <td>15074.000000</td>\n",
       "      <td>15074.000000</td>\n",
       "      <td>15074.000000</td>\n",
       "      <td>...</td>\n",
       "      <td>15074.000000</td>\n",
       "      <td>15074.000000</td>\n",
       "      <td>15074.000000</td>\n",
       "      <td>15074.000000</td>\n",
       "      <td>15074.000000</td>\n",
       "      <td>15074.000000</td>\n",
       "      <td>15074.000000</td>\n",
       "      <td>15074.000000</td>\n",
       "      <td>15074.000000</td>\n",
       "      <td>15074.000000</td>\n",
       "    </tr>\n",
       "    <tr>\n",
       "      <th>mean</th>\n",
       "      <td>3.944186e+18</td>\n",
       "      <td>0.628367</td>\n",
       "      <td>10.624031</td>\n",
       "      <td>10.088090</td>\n",
       "      <td>9.428202</td>\n",
       "      <td>10.055861</td>\n",
       "      <td>12.395920</td>\n",
       "      <td>11.247557</td>\n",
       "      <td>11.242832</td>\n",
       "      <td>47.251979</td>\n",
       "      <td>...</td>\n",
       "      <td>50.848156</td>\n",
       "      <td>45.156014</td>\n",
       "      <td>49.467709</td>\n",
       "      <td>49.666323</td>\n",
       "      <td>49.639707</td>\n",
       "      <td>50.260145</td>\n",
       "      <td>50.290151</td>\n",
       "      <td>49.752762</td>\n",
       "      <td>49.817193</td>\n",
       "      <td>49.571407</td>\n",
       "    </tr>\n",
       "    <tr>\n",
       "      <th>std</th>\n",
       "      <td>3.331167e+18</td>\n",
       "      <td>0.483257</td>\n",
       "      <td>2.580956</td>\n",
       "      <td>2.380393</td>\n",
       "      <td>2.392442</td>\n",
       "      <td>2.646287</td>\n",
       "      <td>1.841499</td>\n",
       "      <td>2.572235</td>\n",
       "      <td>2.766107</td>\n",
       "      <td>12.825330</td>\n",
       "      <td>...</td>\n",
       "      <td>13.234067</td>\n",
       "      <td>11.425622</td>\n",
       "      <td>13.496016</td>\n",
       "      <td>28.950774</td>\n",
       "      <td>28.891075</td>\n",
       "      <td>28.812835</td>\n",
       "      <td>28.812182</td>\n",
       "      <td>28.678112</td>\n",
       "      <td>28.951400</td>\n",
       "      <td>29.061716</td>\n",
       "    </tr>\n",
       "    <tr>\n",
       "      <th>min</th>\n",
       "      <td>3.590434e+17</td>\n",
       "      <td>0.000000</td>\n",
       "      <td>1.596390</td>\n",
       "      <td>3.929200</td>\n",
       "      <td>1.529690</td>\n",
       "      <td>0.051170</td>\n",
       "      <td>5.165220</td>\n",
       "      <td>1.636750</td>\n",
       "      <td>1.918450</td>\n",
       "      <td>0.000000</td>\n",
       "      <td>...</td>\n",
       "      <td>0.000000</td>\n",
       "      <td>0.000000</td>\n",
       "      <td>0.000000</td>\n",
       "      <td>0.000000</td>\n",
       "      <td>0.000000</td>\n",
       "      <td>0.000000</td>\n",
       "      <td>0.000000</td>\n",
       "      <td>0.000000</td>\n",
       "      <td>0.000000</td>\n",
       "      <td>0.000000</td>\n",
       "    </tr>\n",
       "    <tr>\n",
       "      <th>25%</th>\n",
       "      <td>8.630331e+17</td>\n",
       "      <td>0.000000</td>\n",
       "      <td>8.704740</td>\n",
       "      <td>8.362568</td>\n",
       "      <td>7.834278</td>\n",
       "      <td>8.189795</td>\n",
       "      <td>11.167677</td>\n",
       "      <td>9.465430</td>\n",
       "      <td>9.340640</td>\n",
       "      <td>38.517235</td>\n",
       "      <td>...</td>\n",
       "      <td>41.845320</td>\n",
       "      <td>37.395083</td>\n",
       "      <td>40.257945</td>\n",
       "      <td>24.730168</td>\n",
       "      <td>24.392198</td>\n",
       "      <td>25.262542</td>\n",
       "      <td>25.568478</td>\n",
       "      <td>25.376043</td>\n",
       "      <td>24.504192</td>\n",
       "      <td>24.162805</td>\n",
       "    </tr>\n",
       "    <tr>\n",
       "      <th>50%</th>\n",
       "      <td>3.590434e+18</td>\n",
       "      <td>1.000000</td>\n",
       "      <td>10.369065</td>\n",
       "      <td>9.740430</td>\n",
       "      <td>9.165670</td>\n",
       "      <td>9.794255</td>\n",
       "      <td>12.409595</td>\n",
       "      <td>11.408155</td>\n",
       "      <td>11.333865</td>\n",
       "      <td>47.241170</td>\n",
       "      <td>...</td>\n",
       "      <td>50.959360</td>\n",
       "      <td>45.116790</td>\n",
       "      <td>49.738240</td>\n",
       "      <td>49.261350</td>\n",
       "      <td>49.561340</td>\n",
       "      <td>50.040285</td>\n",
       "      <td>50.540960</td>\n",
       "      <td>49.815600</td>\n",
       "      <td>49.470135</td>\n",
       "      <td>50.005440</td>\n",
       "    </tr>\n",
       "    <tr>\n",
       "      <th>75%</th>\n",
       "      <td>8.630331e+18</td>\n",
       "      <td>1.000000</td>\n",
       "      <td>12.449768</td>\n",
       "      <td>11.652207</td>\n",
       "      <td>10.747598</td>\n",
       "      <td>11.811273</td>\n",
       "      <td>13.617365</td>\n",
       "      <td>13.093542</td>\n",
       "      <td>13.186208</td>\n",
       "      <td>55.997227</td>\n",
       "      <td>...</td>\n",
       "      <td>59.832208</td>\n",
       "      <td>52.859875</td>\n",
       "      <td>58.620773</td>\n",
       "      <td>74.841612</td>\n",
       "      <td>74.672930</td>\n",
       "      <td>75.275445</td>\n",
       "      <td>75.288210</td>\n",
       "      <td>74.053022</td>\n",
       "      <td>74.966813</td>\n",
       "      <td>74.796243</td>\n",
       "    </tr>\n",
       "    <tr>\n",
       "      <th>max</th>\n",
       "      <td>8.630331e+18</td>\n",
       "      <td>1.000000</td>\n",
       "      <td>19.996520</td>\n",
       "      <td>18.814960</td>\n",
       "      <td>20.640630</td>\n",
       "      <td>21.245590</td>\n",
       "      <td>20.075470</td>\n",
       "      <td>19.985360</td>\n",
       "      <td>21.755430</td>\n",
       "      <td>100.000000</td>\n",
       "      <td>...</td>\n",
       "      <td>100.000000</td>\n",
       "      <td>100.000000</td>\n",
       "      <td>100.000000</td>\n",
       "      <td>100.000000</td>\n",
       "      <td>100.000000</td>\n",
       "      <td>100.000000</td>\n",
       "      <td>100.000000</td>\n",
       "      <td>100.000000</td>\n",
       "      <td>100.000000</td>\n",
       "      <td>100.000000</td>\n",
       "    </tr>\n",
       "  </tbody>\n",
       "</table>\n",
       "<p>8 rows × 22 columns</p>\n",
       "</div>"
      ]
     },
     "execution_count": 18,
     "metadata": {},
     "output_type": "execute_result"
    }
   ],
   "execution_count": 18
  },
  {
   "metadata": {},
   "cell_type": "markdown",
   "source": "We can again see that the mean is mostly close to the median, which suggests normal distribution. ",
   "id": "f616ce94adb5c904"
  },
  {
   "metadata": {
    "ExecuteTime": {
     "end_time": "2024-10-07T07:38:10.321308Z",
     "start_time": "2024-10-07T07:38:10.310203Z"
    }
   },
   "cell_type": "code",
   "source": "profiles.head()",
   "id": "c51a75b79859e7fa",
   "outputs": [
    {
     "data": {
      "text/plain": [
       "              name                    mail          registration  \\\n",
       "0   Matthew Powell  floreseugene@yahoo.com           14 Mar 2024   \n",
       "1  Nicole Richards     fthompson@gmail.com            2023-01-13   \n",
       "2     Andrew Smith       megan89@yahoo.com           17 Apr 2019   \n",
       "3   Shane Williams    osimmons@hotmail.com            2023-09-09   \n",
       "4   Patricia Leach    prodriguez@yahoo.com  01/30/2018, 00:00:00   \n",
       "\n",
       "                            job          ssn                      company  \\\n",
       "0                                219-60-6090                  Hicks-Drake   \n",
       "1                                049-88-9351      Nguyen, White and Lopez   \n",
       "2                                039-54-7186              Navarro-Goodman   \n",
       "3  Administrator, Civil Service  453-34-1867  Brown, Compton and Thompson   \n",
       "4                                785-50-4993                    Pratt PLC   \n",
       "\n",
       "                                  current_location     username  \\\n",
       "0   (Decimal('-27.447495'), Decimal('-43.231283'))    kcalderon   \n",
       "1    (Decimal('39.235450'), Decimal('138.429324'))      pgarcia   \n",
       "2  (Decimal('-22.094944'), Decimal('-141.211383'))       sramos   \n",
       "3   (Decimal('39.9652785'), Decimal('-39.378417'))      ioneill   \n",
       "4                                                   michaelhart   \n",
       "\n",
       "                  imei                                          residence  \\\n",
       "0  3590433799317661974                                                      \n",
       "1  8630330696303481198      662 Christopher Point\\nWest Matthew, VT 84352   \n",
       "2  8630330696303482071  9912 Jasmine Extension Suite 310\\nDianeville, ...   \n",
       "3   863033069630348826                                                      \n",
       "4   359043379931766403                                                      \n",
       "\n",
       "   user_id                                            address  \n",
       "0     2401  84859 Nunez Lock Suite 082\\nWest Rossside, HI ...  \n",
       "1     1147              9123 Traci Pines\\nLindastad, ME 99569  \n",
       "2      459      523 Suarez Port Apt. 013\\nKellybury, MS 63150  \n",
       "3     1587  4827 Morgan Mission\\nWest Michaelborough, AL 1...  \n",
       "4     2312             48666 William View\\nEricbury, OH 12135  "
      ],
      "text/html": [
       "<div>\n",
       "<style scoped>\n",
       "    .dataframe tbody tr th:only-of-type {\n",
       "        vertical-align: middle;\n",
       "    }\n",
       "\n",
       "    .dataframe tbody tr th {\n",
       "        vertical-align: top;\n",
       "    }\n",
       "\n",
       "    .dataframe thead th {\n",
       "        text-align: right;\n",
       "    }\n",
       "</style>\n",
       "<table border=\"1\" class=\"dataframe\">\n",
       "  <thead>\n",
       "    <tr style=\"text-align: right;\">\n",
       "      <th></th>\n",
       "      <th>name</th>\n",
       "      <th>mail</th>\n",
       "      <th>registration</th>\n",
       "      <th>job</th>\n",
       "      <th>ssn</th>\n",
       "      <th>company</th>\n",
       "      <th>current_location</th>\n",
       "      <th>username</th>\n",
       "      <th>imei</th>\n",
       "      <th>residence</th>\n",
       "      <th>user_id</th>\n",
       "      <th>address</th>\n",
       "    </tr>\n",
       "  </thead>\n",
       "  <tbody>\n",
       "    <tr>\n",
       "      <th>0</th>\n",
       "      <td>Matthew Powell</td>\n",
       "      <td>floreseugene@yahoo.com</td>\n",
       "      <td>14 Mar 2024</td>\n",
       "      <td></td>\n",
       "      <td>219-60-6090</td>\n",
       "      <td>Hicks-Drake</td>\n",
       "      <td>(Decimal('-27.447495'), Decimal('-43.231283'))</td>\n",
       "      <td>kcalderon</td>\n",
       "      <td>3590433799317661974</td>\n",
       "      <td></td>\n",
       "      <td>2401</td>\n",
       "      <td>84859 Nunez Lock Suite 082\\nWest Rossside, HI ...</td>\n",
       "    </tr>\n",
       "    <tr>\n",
       "      <th>1</th>\n",
       "      <td>Nicole Richards</td>\n",
       "      <td>fthompson@gmail.com</td>\n",
       "      <td>2023-01-13</td>\n",
       "      <td></td>\n",
       "      <td>049-88-9351</td>\n",
       "      <td>Nguyen, White and Lopez</td>\n",
       "      <td>(Decimal('39.235450'), Decimal('138.429324'))</td>\n",
       "      <td>pgarcia</td>\n",
       "      <td>8630330696303481198</td>\n",
       "      <td>662 Christopher Point\\nWest Matthew, VT 84352</td>\n",
       "      <td>1147</td>\n",
       "      <td>9123 Traci Pines\\nLindastad, ME 99569</td>\n",
       "    </tr>\n",
       "    <tr>\n",
       "      <th>2</th>\n",
       "      <td>Andrew Smith</td>\n",
       "      <td>megan89@yahoo.com</td>\n",
       "      <td>17 Apr 2019</td>\n",
       "      <td></td>\n",
       "      <td>039-54-7186</td>\n",
       "      <td>Navarro-Goodman</td>\n",
       "      <td>(Decimal('-22.094944'), Decimal('-141.211383'))</td>\n",
       "      <td>sramos</td>\n",
       "      <td>8630330696303482071</td>\n",
       "      <td>9912 Jasmine Extension Suite 310\\nDianeville, ...</td>\n",
       "      <td>459</td>\n",
       "      <td>523 Suarez Port Apt. 013\\nKellybury, MS 63150</td>\n",
       "    </tr>\n",
       "    <tr>\n",
       "      <th>3</th>\n",
       "      <td>Shane Williams</td>\n",
       "      <td>osimmons@hotmail.com</td>\n",
       "      <td>2023-09-09</td>\n",
       "      <td>Administrator, Civil Service</td>\n",
       "      <td>453-34-1867</td>\n",
       "      <td>Brown, Compton and Thompson</td>\n",
       "      <td>(Decimal('39.9652785'), Decimal('-39.378417'))</td>\n",
       "      <td>ioneill</td>\n",
       "      <td>863033069630348826</td>\n",
       "      <td></td>\n",
       "      <td>1587</td>\n",
       "      <td>4827 Morgan Mission\\nWest Michaelborough, AL 1...</td>\n",
       "    </tr>\n",
       "    <tr>\n",
       "      <th>4</th>\n",
       "      <td>Patricia Leach</td>\n",
       "      <td>prodriguez@yahoo.com</td>\n",
       "      <td>01/30/2018, 00:00:00</td>\n",
       "      <td></td>\n",
       "      <td>785-50-4993</td>\n",
       "      <td>Pratt PLC</td>\n",
       "      <td></td>\n",
       "      <td>michaelhart</td>\n",
       "      <td>359043379931766403</td>\n",
       "      <td></td>\n",
       "      <td>2312</td>\n",
       "      <td>48666 William View\\nEricbury, OH 12135</td>\n",
       "    </tr>\n",
       "  </tbody>\n",
       "</table>\n",
       "</div>"
      ]
     },
     "execution_count": 19,
     "metadata": {},
     "output_type": "execute_result"
    }
   ],
   "execution_count": 19
  },
  {
   "metadata": {
    "ExecuteTime": {
     "end_time": "2024-10-07T07:38:10.539825Z",
     "start_time": "2024-10-07T07:38:10.535659Z"
    }
   },
   "cell_type": "code",
   "source": "print(f\"There are {profiles.shape[0]} entries with {profiles.shape[1]} columns:\\n {profiles.columns.values}\")",
   "id": "91a83550880dd3a3",
   "outputs": [
    {
     "name": "stdout",
     "output_type": "stream",
     "text": [
      "There are 2605 entries with 12 columns:\n",
      " ['name' 'mail' 'registration' 'job' 'ssn' 'company' 'current_location'\n",
      " 'username' 'imei' 'residence' 'user_id' 'address']\n"
     ]
    }
   ],
   "execution_count": 20
  },
  {
   "metadata": {
    "ExecuteTime": {
     "end_time": "2024-10-07T07:38:11.101896Z",
     "start_time": "2024-10-07T07:38:11.089608Z"
    }
   },
   "cell_type": "code",
   "source": "profiles.describe()",
   "id": "1aac0f2ddb947196",
   "outputs": [
    {
     "data": {
      "text/plain": [
       "               imei      user_id\n",
       "count  2.605000e+03  2605.000000\n",
       "mean   3.884606e+18  1334.530902\n",
       "std    3.311186e+18   747.780003\n",
       "min    3.590434e+17     0.000000\n",
       "25%    8.630331e+17   679.000000\n",
       "50%    3.590434e+18  1346.000000\n",
       "75%    8.630331e+18  1995.000000\n",
       "max    8.630331e+18  2604.000000"
      ],
      "text/html": [
       "<div>\n",
       "<style scoped>\n",
       "    .dataframe tbody tr th:only-of-type {\n",
       "        vertical-align: middle;\n",
       "    }\n",
       "\n",
       "    .dataframe tbody tr th {\n",
       "        vertical-align: top;\n",
       "    }\n",
       "\n",
       "    .dataframe thead th {\n",
       "        text-align: right;\n",
       "    }\n",
       "</style>\n",
       "<table border=\"1\" class=\"dataframe\">\n",
       "  <thead>\n",
       "    <tr style=\"text-align: right;\">\n",
       "      <th></th>\n",
       "      <th>imei</th>\n",
       "      <th>user_id</th>\n",
       "    </tr>\n",
       "  </thead>\n",
       "  <tbody>\n",
       "    <tr>\n",
       "      <th>count</th>\n",
       "      <td>2.605000e+03</td>\n",
       "      <td>2605.000000</td>\n",
       "    </tr>\n",
       "    <tr>\n",
       "      <th>mean</th>\n",
       "      <td>3.884606e+18</td>\n",
       "      <td>1334.530902</td>\n",
       "    </tr>\n",
       "    <tr>\n",
       "      <th>std</th>\n",
       "      <td>3.311186e+18</td>\n",
       "      <td>747.780003</td>\n",
       "    </tr>\n",
       "    <tr>\n",
       "      <th>min</th>\n",
       "      <td>3.590434e+17</td>\n",
       "      <td>0.000000</td>\n",
       "    </tr>\n",
       "    <tr>\n",
       "      <th>25%</th>\n",
       "      <td>8.630331e+17</td>\n",
       "      <td>679.000000</td>\n",
       "    </tr>\n",
       "    <tr>\n",
       "      <th>50%</th>\n",
       "      <td>3.590434e+18</td>\n",
       "      <td>1346.000000</td>\n",
       "    </tr>\n",
       "    <tr>\n",
       "      <th>75%</th>\n",
       "      <td>8.630331e+18</td>\n",
       "      <td>1995.000000</td>\n",
       "    </tr>\n",
       "    <tr>\n",
       "      <th>max</th>\n",
       "      <td>8.630331e+18</td>\n",
       "      <td>2604.000000</td>\n",
       "    </tr>\n",
       "  </tbody>\n",
       "</table>\n",
       "</div>"
      ]
     },
     "execution_count": 21,
     "metadata": {},
     "output_type": "execute_result"
    }
   ],
   "execution_count": 21
  },
  {
   "metadata": {},
   "cell_type": "markdown",
   "source": "There are again only categorical data, so this cell doesn't provide any useful insight.",
   "id": "af303551c4f55ad7"
  },
  {
   "metadata": {
    "ExecuteTime": {
     "end_time": "2024-10-07T07:38:11.430518Z",
     "start_time": "2024-10-07T07:38:11.421085Z"
    }
   },
   "cell_type": "code",
   "source": "profiles.info()",
   "id": "d66765062ef98c",
   "outputs": [
    {
     "name": "stdout",
     "output_type": "stream",
     "text": [
      "<class 'pandas.core.frame.DataFrame'>\n",
      "RangeIndex: 2605 entries, 0 to 2604\n",
      "Data columns (total 12 columns):\n",
      " #   Column            Non-Null Count  Dtype \n",
      "---  ------            --------------  ----- \n",
      " 0   name              2605 non-null   object\n",
      " 1   mail              2605 non-null   object\n",
      " 2   registration      2605 non-null   object\n",
      " 3   job               2605 non-null   object\n",
      " 4   ssn               2605 non-null   object\n",
      " 5   company           2605 non-null   object\n",
      " 6   current_location  2605 non-null   object\n",
      " 7   username          2605 non-null   object\n",
      " 8   imei              2605 non-null   int64 \n",
      " 9   residence         2605 non-null   object\n",
      " 10  user_id           2605 non-null   int64 \n",
      " 11  address           2605 non-null   object\n",
      "dtypes: int64(2), object(10)\n",
      "memory usage: 244.3+ KB\n"
     ]
    }
   ],
   "execution_count": 22
  },
  {
   "metadata": {},
   "cell_type": "markdown",
   "source": "We can see all the columns are categorical. Further we can see that columns job and residence have a lot of missing values.",
   "id": "52012ee87ff421d3"
  },
  {
   "metadata": {},
   "cell_type": "markdown",
   "source": [
    "## 1-1B\n",
    "For better results, analysis should be repeated for cleaned data."
   ],
   "id": "62147c8ad1efe8d4"
  },
  {
   "metadata": {},
   "cell_type": "markdown",
   "source": [
    "\n",
    "* Connections\n",
    "    - c.android.youtube\n",
    "    - c.dogalize\n",
    "* Devices\n",
    "    - store_name\n",
    "    - code\n",
    "    - location\n",
    "* Processes\n",
    "    - p.system\n",
    "    - p.android.gm\n",
    "* Profiles\n",
    "    - company\n",
    "* Common\n",
    "    - Between connections and processes: ts\n",
    "    - Between all tables: imei"
   ],
   "id": "d1403b837aa6ff73"
  },
  {
   "metadata": {},
   "cell_type": "markdown",
   "source": "### column: imei",
   "id": "2022bbf1d4115dc3"
  },
  {
   "metadata": {
    "ExecuteTime": {
     "end_time": "2024-10-07T07:38:11.775622Z",
     "start_time": "2024-10-07T07:38:11.760226Z"
    }
   },
   "cell_type": "code",
   "source": [
    "for table in [connections, devices, processes, profiles]:\n",
    "    print(table['imei'].describe(),'\\nUnique values:', table['imei'].nunique(), '\\n')"
   ],
   "id": "f3f52fc7b55398f8",
   "outputs": [
    {
     "name": "stdout",
     "output_type": "stream",
     "text": [
      "count    1.507400e+04\n",
      "mean     3.944186e+18\n",
      "std      3.331167e+18\n",
      "min      3.590434e+17\n",
      "25%      8.630331e+17\n",
      "50%      3.590434e+18\n",
      "75%      8.630331e+18\n",
      "max      8.630331e+18\n",
      "Name: imei, dtype: float64 \n",
      "Unique values: 500 \n",
      "\n",
      "count    2.895000e+03\n",
      "mean     3.919073e+18\n",
      "std      3.333461e+18\n",
      "min      3.590434e+17\n",
      "25%      8.630331e+17\n",
      "50%      3.590434e+18\n",
      "75%      8.630331e+18\n",
      "max      8.630331e+18\n",
      "Name: imei, dtype: float64 \n",
      "Unique values: 499 \n",
      "\n",
      "count    1.507400e+04\n",
      "mean     3.944186e+18\n",
      "std      3.331167e+18\n",
      "min      3.590434e+17\n",
      "25%      8.630331e+17\n",
      "50%      3.590434e+18\n",
      "75%      8.630331e+18\n",
      "max      8.630331e+18\n",
      "Name: imei, dtype: float64 \n",
      "Unique values: 500 \n",
      "\n",
      "count    2.605000e+03\n",
      "mean     3.884606e+18\n",
      "std      3.311186e+18\n",
      "min      3.590434e+17\n",
      "25%      8.630331e+17\n",
      "50%      3.590434e+18\n",
      "75%      8.630331e+18\n",
      "max      8.630331e+18\n",
      "Name: imei, dtype: float64 \n",
      "Unique values: 496 \n",
      "\n"
     ]
    }
   ],
   "execution_count": 23
  },
  {
   "metadata": {},
   "cell_type": "markdown",
   "source": "From the previous cell, only useful information is unique values (roughly 500 in each of them), since mean and quantiles don't matter for id. ",
   "id": "e4216de79a54d026"
  },
  {
   "metadata": {
    "ExecuteTime": {
     "end_time": "2024-10-07T07:38:12.017469Z",
     "start_time": "2024-10-07T07:38:12.012036Z"
    }
   },
   "cell_type": "code",
   "source": [
    "# get counts how many each specific imei is in each table\n",
    "imei_counts = {\n",
    "    'connections': connections['imei'].value_counts(),\n",
    "    'devices': devices['imei'].value_counts(),\n",
    "    'processes': processes['imei'].value_counts(),\n",
    "    'profiles': profiles['imei'].value_counts()\n",
    "}"
   ],
   "id": "dda7aa2c3e0f793d",
   "outputs": [],
   "execution_count": 24
  },
  {
   "metadata": {
    "ExecuteTime": {
     "end_time": "2024-10-07T07:38:12.313998Z",
     "start_time": "2024-10-07T07:38:12.304582Z"
    }
   },
   "cell_type": "code",
   "source": "imei_counts['connections'].describe()",
   "id": "5c8481383a51a922",
   "outputs": [
    {
     "data": {
      "text/plain": [
       "count    500.000000\n",
       "mean      30.148000\n",
       "std        5.522961\n",
       "min       12.000000\n",
       "25%       26.000000\n",
       "50%       30.000000\n",
       "75%       34.000000\n",
       "max       47.000000\n",
       "Name: count, dtype: float64"
      ]
     },
     "execution_count": 25,
     "metadata": {},
     "output_type": "execute_result"
    }
   ],
   "execution_count": 25
  },
  {
   "metadata": {
    "ExecuteTime": {
     "end_time": "2024-10-07T07:38:12.428957Z",
     "start_time": "2024-10-07T07:38:12.420990Z"
    }
   },
   "cell_type": "code",
   "source": "imei_counts['devices'].describe()",
   "id": "d14b82d2d06053cd",
   "outputs": [
    {
     "data": {
      "text/plain": [
       "count    499.000000\n",
       "mean       5.801603\n",
       "std        2.245638\n",
       "min        1.000000\n",
       "25%        4.000000\n",
       "50%        6.000000\n",
       "75%        7.000000\n",
       "max       12.000000\n",
       "Name: count, dtype: float64"
      ]
     },
     "execution_count": 26,
     "metadata": {},
     "output_type": "execute_result"
    }
   ],
   "execution_count": 26
  },
  {
   "metadata": {
    "ExecuteTime": {
     "end_time": "2024-10-07T07:38:12.699313Z",
     "start_time": "2024-10-07T07:38:12.690923Z"
    }
   },
   "cell_type": "code",
   "source": "imei_counts['processes'].describe()",
   "id": "c22ba710973c7ff7",
   "outputs": [
    {
     "data": {
      "text/plain": [
       "count    500.000000\n",
       "mean      30.148000\n",
       "std        5.522961\n",
       "min       12.000000\n",
       "25%       26.000000\n",
       "50%       30.000000\n",
       "75%       34.000000\n",
       "max       47.000000\n",
       "Name: count, dtype: float64"
      ]
     },
     "execution_count": 27,
     "metadata": {},
     "output_type": "execute_result"
    }
   ],
   "execution_count": 27
  },
  {
   "metadata": {
    "ExecuteTime": {
     "end_time": "2024-10-07T07:38:12.946503Z",
     "start_time": "2024-10-07T07:38:12.938753Z"
    }
   },
   "cell_type": "code",
   "source": "imei_counts['profiles'].describe()",
   "id": "328eaa71d7278b0a",
   "outputs": [
    {
     "data": {
      "text/plain": [
       "count    496.000000\n",
       "mean       5.252016\n",
       "std        2.192502\n",
       "min        1.000000\n",
       "25%        4.000000\n",
       "50%        5.000000\n",
       "75%        7.000000\n",
       "max       13.000000\n",
       "Name: count, dtype: float64"
      ]
     },
     "execution_count": 28,
     "metadata": {},
     "output_type": "execute_result"
    }
   ],
   "execution_count": 28
  },
  {
   "metadata": {},
   "cell_type": "markdown",
   "source": "All the tables show to have roughly 500 distinct imei values. Processes and connections have way higher amount of entries per imei (30) than devices and profiles (about 5).",
   "id": "cea9ffcb8865875a"
  },
  {
   "metadata": {
    "ExecuteTime": {
     "end_time": "2024-10-07T07:38:13.532599Z",
     "start_time": "2024-10-07T07:38:13.265901Z"
    }
   },
   "cell_type": "code",
   "source": [
    "sns.histplot(imei_counts['connections'], kde=True)\n",
    "plt.xlabel('Number of entries per imei')"
   ],
   "id": "28f126b1241d6fe",
   "outputs": [
    {
     "data": {
      "text/plain": [
       "Text(0.5, 0, 'Number of entries per imei')"
      ]
     },
     "execution_count": 29,
     "metadata": {},
     "output_type": "execute_result"
    },
    {
     "data": {
      "text/plain": [
       "<Figure size 640x480 with 1 Axes>"
      ],
      "image/png": "[encoded data removed]"
     },
     "metadata": {},
     "output_type": "display_data"
    }
   ],
   "execution_count": 29
  },
  {
   "metadata": {
    "ExecuteTime": {
     "end_time": "2024-10-07T07:38:13.990376Z",
     "start_time": "2024-10-07T07:38:13.766775Z"
    }
   },
   "cell_type": "code",
   "source": [
    "sns.histplot(imei_counts['devices'], kde=True)\n",
    "plt.xlabel('Number of entries per imei')"
   ],
   "id": "86beda7c8ca92ac3",
   "outputs": [
    {
     "data": {
      "text/plain": [
       "Text(0.5, 0, 'Number of entries per imei')"
      ]
     },
     "execution_count": 30,
     "metadata": {},
     "output_type": "execute_result"
    },
    {
     "data": {
      "text/plain": [
       "<Figure size 640x480 with 1 Axes>"
      ],
      "image/png": "[encoded data removed]"
     },
     "metadata": {},
     "output_type": "display_data"
    }
   ],
   "execution_count": 30
  },
  {
   "metadata": {
    "ExecuteTime": {
     "end_time": "2024-10-07T07:38:14.472492Z",
     "start_time": "2024-10-07T07:38:14.247135Z"
    }
   },
   "cell_type": "code",
   "source": [
    "sns.histplot(imei_counts['processes'], kde=True)\n",
    "plt.xlabel('Number of entries per imei')"
   ],
   "id": "85ef32b3258e3bdb",
   "outputs": [
    {
     "data": {
      "text/plain": [
       "Text(0.5, 0, 'Number of entries per imei')"
      ]
     },
     "execution_count": 31,
     "metadata": {},
     "output_type": "execute_result"
    },
    {
     "data": {
      "text/plain": [
       "<Figure size 640x480 with 1 Axes>"
      ],
      "image/png": "[encoded data removed]"
     },
     "metadata": {},
     "output_type": "display_data"
    }
   ],
   "execution_count": 31
  },
  {
   "metadata": {
    "ExecuteTime": {
     "end_time": "2024-10-07T07:38:14.805430Z",
     "start_time": "2024-10-07T07:38:14.601884Z"
    }
   },
   "cell_type": "code",
   "source": [
    "sns.histplot(imei_counts['profiles'], kde=True)\n",
    "plt.xlabel('Number of entries per imei')"
   ],
   "id": "30b4078c4aa6f1cd",
   "outputs": [
    {
     "data": {
      "text/plain": [
       "Text(0.5, 0, 'Number of entries per imei')"
      ]
     },
     "execution_count": 32,
     "metadata": {},
     "output_type": "execute_result"
    },
    {
     "data": {
      "text/plain": [
       "<Figure size 640x480 with 1 Axes>"
      ],
      "image/png": "[encoded data removed]"
     },
     "metadata": {},
     "output_type": "display_data"
    }
   ],
   "execution_count": 32
  },
  {
   "metadata": {},
   "cell_type": "markdown",
   "source": [
    "Distribution in tables connections and processes is normal, meaning not all devices have been tested the same amount of times. \n",
    "In profiles table, the distribution of imei is resembling normal, although slightly skewed. More entries per imei implies a device is used by multiple users.\n",
    "In table devices, the distribution is also normal, also skewed. More entries per imei likely implies that device was sold multiple times, or something in that manner.\n"
   ],
   "id": "49a3549a48b69976"
  },
  {
   "metadata": {},
   "cell_type": "markdown",
   "source": "None of the columns seem to be skewed nor have unusual kurtosis.",
   "id": "778c4b011cc3762d"
  },
  {
   "metadata": {
    "ExecuteTime": {
     "end_time": "2024-10-07T07:38:14.965026Z",
     "start_time": "2024-10-07T07:38:14.955606Z"
    }
   },
   "cell_type": "code",
   "source": [
    "for table_name, imei_count in imei_counts.items():\n",
    "    print(f\"{table_name}\\n\\tSkewness: {stats.skew(imei_count)}\\n\\tKurtosis: {stats.kurtosis(imei_count)}\")"
   ],
   "id": "bda8a1412b9727b0",
   "outputs": [
    {
     "name": "stdout",
     "output_type": "stream",
     "text": [
      "connections\n",
      "\tSkewness: 0.020269235872144426\n",
      "\tKurtosis: 0.08682182515120385\n",
      "devices\n",
      "\tSkewness: 0.25375336357679545\n",
      "\tKurtosis: -0.1925534403016642\n",
      "processes\n",
      "\tSkewness: 0.020269235872144426\n",
      "\tKurtosis: 0.08682182515120385\n",
      "profiles\n",
      "\tSkewness: 0.43709435332792845\n",
      "\tKurtosis: -0.002120965891310611\n"
     ]
    }
   ],
   "execution_count": 33
  },
  {
   "metadata": {
    "ExecuteTime": {
     "end_time": "2024-10-07T07:38:15.126617Z",
     "start_time": "2024-10-07T07:38:15.116639Z"
    }
   },
   "cell_type": "code",
   "source": [
    "for table_name, imei_count in imei_counts.items():\n",
    "    print(f\"{table_name}\\n\\tnumber of outliers: {count_outliers(imei_count)}\")"
   ],
   "id": "5c4bbef93f13023b",
   "outputs": [
    {
     "name": "stdout",
     "output_type": "stream",
     "text": [
      "connections\n",
      "\tnumber of outliers: 3\n",
      "devices\n",
      "\tnumber of outliers: 5\n",
      "processes\n",
      "\tnumber of outliers: 3\n",
      "profiles\n",
      "\tnumber of outliers: 2\n"
     ]
    }
   ],
   "execution_count": 34
  },
  {
   "metadata": {},
   "cell_type": "markdown",
   "source": "For each of the tables, there are few outliers, appearing either too few times or too many times, but there isn't a significant amount of them.",
   "id": "506099ca5f63e59"
  },
  {
   "metadata": {},
   "cell_type": "markdown",
   "source": [
    "### column: ts\n",
    "timestamps appear in both connections and processes tables. "
   ],
   "id": "a885c99ce76a2411"
  },
  {
   "metadata": {},
   "cell_type": "markdown",
   "source": "They are in string format, so first we have to convert them to datetime format.",
   "id": "9d130e1d44445bd6"
  },
  {
   "metadata": {
    "ExecuteTime": {
     "end_time": "2024-10-07T07:38:15.246609Z",
     "start_time": "2024-10-07T07:38:15.216746Z"
    }
   },
   "cell_type": "code",
   "source": [
    "timestamps = {\n",
    "    'connections': pd.to_datetime(connections['ts']), \n",
    "    'processes': pd.to_datetime(processes['ts'])\n",
    "}"
   ],
   "id": "a2e70bc619b9f9c3",
   "outputs": [],
   "execution_count": 35
  },
  {
   "metadata": {
    "ExecuteTime": {
     "end_time": "2024-10-07T07:38:15.300064Z",
     "start_time": "2024-10-07T07:38:15.290639Z"
    }
   },
   "cell_type": "code",
   "source": "timestamps['connections'].describe()",
   "id": "f42de1f6bc6b487c",
   "outputs": [
    {
     "data": {
      "text/plain": [
       "count                            15074\n",
       "mean     2018-05-10 14:03:19.730662144\n",
       "min                2018-05-05 10:00:00\n",
       "25%                2018-05-07 23:59:15\n",
       "50%                2018-05-10 14:04:30\n",
       "75%                2018-05-13 04:00:45\n",
       "max                2018-05-15 18:14:00\n",
       "Name: ts, dtype: object"
      ]
     },
     "execution_count": 36,
     "metadata": {},
     "output_type": "execute_result"
    }
   ],
   "execution_count": 36
  },
  {
   "metadata": {
    "ExecuteTime": {
     "end_time": "2024-10-07T07:38:15.383991Z",
     "start_time": "2024-10-07T07:38:15.374890Z"
    }
   },
   "cell_type": "code",
   "source": "timestamps['processes'].describe()",
   "id": "901692b52985b58e",
   "outputs": [
    {
     "data": {
      "text/plain": [
       "count                            15074\n",
       "mean     2018-05-10 14:03:19.730662144\n",
       "min                2018-05-05 10:00:00\n",
       "25%                2018-05-07 23:59:15\n",
       "50%                2018-05-10 14:04:30\n",
       "75%                2018-05-13 04:00:45\n",
       "max                2018-05-15 18:14:00\n",
       "Name: ts, dtype: object"
      ]
     },
     "execution_count": 37,
     "metadata": {},
     "output_type": "execute_result"
    }
   ],
   "execution_count": 37
  },
  {
   "metadata": {},
   "cell_type": "markdown",
   "source": "The describe method shows the same attributes for both tables. Let's check if the timestamps are the same.",
   "id": "c6d35ac0389ca7ed"
  },
  {
   "metadata": {
    "ExecuteTime": {
     "end_time": "2024-10-07T07:38:15.523356Z",
     "start_time": "2024-10-07T07:38:15.516701Z"
    }
   },
   "cell_type": "code",
   "source": "timestamps['connections'].equals(timestamps['processes'])",
   "id": "714fb134765cbe63",
   "outputs": [
    {
     "data": {
      "text/plain": [
       "True"
      ]
     },
     "execution_count": 38,
     "metadata": {},
     "output_type": "execute_result"
    }
   ],
   "execution_count": 38
  },
  {
   "metadata": {},
   "cell_type": "markdown",
   "source": "Since they are the same, we don't have to check distribution for both tables.",
   "id": "dabee287ca0401e3"
  },
  {
   "metadata": {},
   "cell_type": "markdown",
   "source": "The timestamps are in 1 minute intervals. We can't check if that's true until we remove duplicates (which would add 0min intervals and falsely rule out the assumption).",
   "id": "aea8c9f962938401"
  },
  {
   "metadata": {
    "ExecuteTime": {
     "end_time": "2024-10-07T07:38:15.817513Z",
     "start_time": "2024-10-07T07:38:15.793663Z"
    }
   },
   "cell_type": "code",
   "source": [
    "# have to ignore the first row, because that doesn't have a difference\n",
    "timestamps['connections_diffs'] = timestamps['connections'].diff()[1:]\n",
    "print(f\"Before removing duplicates:\\n\\trows with 1minute difference: {sum(timestamps['connections'].diff() == '1min')}\\n\\tall rows have 1 min difference: {(timestamps['connections_diffs'] == '1min').all()}\")\n",
    "timestamps['connections_unique'] = pd.to_datetime(connections['ts'].drop_duplicates())\n",
    "timestamps['connections_unique_diffs'] = timestamps['connections_unique'].diff()[1:]\n",
    "print(f\"After removing duplicates:\\n\\trows with 1minute difference: {sum(timestamps['connections_unique'].diff() == '1min')}\\n\\tall rows have 1 min difference: {(timestamps['connections_unique_diffs'] == '1min').all()}\")\n",
    "print(f\"Since there is {timestamps['connections_unique'].shape[0]} unique timestamps, we can conclude that all the timestamps are in 1 minute intervals meaning uniform distribution.\")"
   ],
   "id": "8cd1f8000849095e",
   "outputs": [
    {
     "name": "stdout",
     "output_type": "stream",
     "text": [
      "Before removing duplicates:\n",
      "\trows with 1minute difference: 14894\n",
      "\tall rows have 1 min difference: False\n",
      "After removing duplicates:\n",
      "\trows with 1minute difference: 14894\n",
      "\tall rows have 1 min difference: True\n",
      "Since there is 14895 unique timestamps, we can conclude that all the timestamps are in 1 minute intervals meaning uniform distribution.\n"
     ]
    }
   ],
   "execution_count": 39
  },
  {
   "metadata": {},
   "cell_type": "markdown",
   "source": "Visual representation:",
   "id": "37905ef6f532b69c"
  },
  {
   "metadata": {
    "ExecuteTime": {
     "end_time": "2024-10-07T07:38:16.577349Z",
     "start_time": "2024-10-07T07:38:16.220572Z"
    }
   },
   "cell_type": "code",
   "source": "sns.histplot(timestamps['connections_unique'])",
   "id": "4b6c4bf18ef7cf28",
   "outputs": [
    {
     "data": {
      "text/plain": [
       "<Axes: xlabel='ts', ylabel='Count'>"
      ]
     },
     "execution_count": 40,
     "metadata": {},
     "output_type": "execute_result"
    },
    {
     "data": {
      "text/plain": [
       "<Figure size 640x480 with 1 Axes>"
      ],
      "image/png": "[encoded data removed]"
     },
     "metadata": {},
     "output_type": "display_data"
    }
   ],
   "execution_count": 40
  },
  {
   "metadata": {},
   "cell_type": "markdown",
   "source": "There naturally aren't any outliers as the data is uniformly distributed",
   "id": "8b546f9d3ee4d78b"
  },
  {
   "metadata": {},
   "cell_type": "markdown",
   "source": "### Column: connections - c.android.youtube",
   "id": "e17c8e67efc4f4b4"
  },
  {
   "metadata": {
    "ExecuteTime": {
     "end_time": "2024-10-07T07:38:16.613951Z",
     "start_time": "2024-10-07T07:38:16.605354Z"
    }
   },
   "cell_type": "code",
   "source": "connections['c.android.youtube'].describe()",
   "id": "fddb56a9e49d6250",
   "outputs": [
    {
     "data": {
      "text/plain": [
       "count    15074.000000\n",
       "mean        10.649835\n",
       "std          2.541594\n",
       "min          1.023410\n",
       "25%          8.759405\n",
       "50%         10.527030\n",
       "75%         12.507920\n",
       "max         20.726030\n",
       "Name: c.android.youtube, dtype: float64"
      ]
     },
     "execution_count": 41,
     "metadata": {},
     "output_type": "execute_result"
    }
   ],
   "execution_count": 41
  },
  {
   "metadata": {},
   "cell_type": "markdown",
   "source": "Count is same as the total row count, which means there are no missing values. IQR is about 3.75, so we can clearly see, there are outliers (at least the maximum and minimum values are).",
   "id": "1f10c2a3452c0bd2"
  },
  {
   "metadata": {
    "ExecuteTime": {
     "end_time": "2024-10-07T07:38:17.089564Z",
     "start_time": "2024-10-07T07:38:16.756443Z"
    }
   },
   "cell_type": "code",
   "source": "sns.histplot(connections['c.android.youtube'], kde=True)",
   "id": "16342161b17d6936",
   "outputs": [
    {
     "data": {
      "text/plain": [
       "<Axes: xlabel='c.android.youtube', ylabel='Count'>"
      ]
     },
     "execution_count": 42,
     "metadata": {},
     "output_type": "execute_result"
    },
    {
     "data": {
      "text/plain": [
       "<Figure size 640x480 with 1 Axes>"
      ],
      "image/png": "[encoded data removed]"
     },
     "metadata": {},
     "output_type": "display_data"
    }
   ],
   "execution_count": 42
  },
  {
   "metadata": {},
   "cell_type": "markdown",
   "source": "data appears to be uniformly distributed",
   "id": "8e665b95a4d515d5"
  },
  {
   "metadata": {},
   "cell_type": "markdown",
   "source": "The data doesn't seem skewed. It shows slightly negative kurtosis.",
   "id": "1a67748123fe91f2"
  },
  {
   "metadata": {
    "ExecuteTime": {
     "end_time": "2024-10-07T07:38:17.228282Z",
     "start_time": "2024-10-07T07:38:17.220475Z"
    }
   },
   "cell_type": "code",
   "source": "print(f\"Skewness: {stats.skew(connections['c.android.youtube'])}\\nKurtosis: {stats.kurtosis(connections['c.android.youtube'])}\")",
   "id": "290205882eaba1c2",
   "outputs": [
    {
     "name": "stdout",
     "output_type": "stream",
     "text": [
      "Skewness: 0.15226536913358077\n",
      "Kurtosis: -0.43960295056085474\n"
     ]
    }
   ],
   "execution_count": 43
  },
  {
   "metadata": {
    "ExecuteTime": {
     "end_time": "2024-10-07T07:38:17.423504Z",
     "start_time": "2024-10-07T07:38:17.415549Z"
    }
   },
   "cell_type": "code",
   "source": "print(f\"There are {count_outliers(connections['c.android.youtube'])} outliers in the column.\")",
   "id": "9b5befc383579a5",
   "outputs": [
    {
     "name": "stdout",
     "output_type": "stream",
     "text": [
      "There are 17 outliers in the column.\n"
     ]
    }
   ],
   "execution_count": 44
  },
  {
   "metadata": {},
   "cell_type": "markdown",
   "source": "Let's see the outliers in a graph",
   "id": "1184e0243a91427e"
  },
  {
   "metadata": {
    "ExecuteTime": {
     "end_time": "2024-10-07T07:38:17.798906Z",
     "start_time": "2024-10-07T07:38:17.618989Z"
    }
   },
   "cell_type": "code",
   "source": "sns.boxplot(connections['c.android.youtube'])",
   "id": "ae95ae9f86f4179a",
   "outputs": [
    {
     "data": {
      "text/plain": [
       "<Axes: ylabel='c.android.youtube'>"
      ]
     },
     "execution_count": 45,
     "metadata": {},
     "output_type": "execute_result"
    },
    {
     "data": {
      "text/plain": [
       "<Figure size 640x480 with 1 Axes>"
      ],
      "image/png": "[encoded data removed]"
     },
     "metadata": {},
     "output_type": "display_data"
    }
   ],
   "execution_count": 45
  },
  {
   "metadata": {},
   "cell_type": "markdown",
   "source": "### Column: connections - c.dogalize",
   "id": "4190edadd484e489"
  },
  {
   "metadata": {
    "ExecuteTime": {
     "end_time": "2024-10-07T07:38:17.901905Z",
     "start_time": "2024-10-07T07:38:17.893172Z"
    }
   },
   "cell_type": "code",
   "source": "connections['c.dogalize'].describe()",
   "id": "f7b96ca38a4991b0",
   "outputs": [
    {
     "data": {
      "text/plain": [
       "count    15074.000000\n",
       "mean        11.159652\n",
       "std          2.787612\n",
       "min          0.113470\n",
       "25%          9.342795\n",
       "50%         11.410130\n",
       "75%         13.140740\n",
       "max         19.477060\n",
       "Name: c.dogalize, dtype: float64"
      ]
     },
     "execution_count": 46,
     "metadata": {},
     "output_type": "execute_result"
    }
   ],
   "execution_count": 46
  },
  {
   "metadata": {},
   "cell_type": "markdown",
   "source": "Count is the same as the total row count, indicating there are no missing values. The interquartile range (IQR) is about 3.8, which indicates a moderate spread of the middle 50% of the data. The minimum value is quite low (0.11), and the maximum value is 19.48, which suggests that there may be some outliers. The standard deviation is 2.79, showing moderate variability around the mean (11.16), and the median is very close to the mean, indicating normal distribution.",
   "id": "747cf9dcc90d5bcf"
  },
  {
   "metadata": {
    "ExecuteTime": {
     "end_time": "2024-10-07T07:38:18.364752Z",
     "start_time": "2024-10-07T07:38:18.036672Z"
    }
   },
   "cell_type": "code",
   "source": "sns.histplot(connections['c.dogalize'], kde=True)",
   "id": "937bb6dab26e2d9e",
   "outputs": [
    {
     "data": {
      "text/plain": [
       "<Axes: xlabel='c.dogalize', ylabel='Count'>"
      ]
     },
     "execution_count": 47,
     "metadata": {},
     "output_type": "execute_result"
    },
    {
     "data": {
      "text/plain": [
       "<Figure size 640x480 with 1 Axes>"
      ],
      "image/png": "[encoded data removed]"
     },
     "metadata": {},
     "output_type": "display_data"
    }
   ],
   "execution_count": 47
  },
  {
   "metadata": {},
   "cell_type": "markdown",
   "source": "The data is normally distributed, but it seems to be slightly left skewed, so let's check the skewness.",
   "id": "9b33cef7ce449e4f"
  },
  {
   "metadata": {
    "ExecuteTime": {
     "end_time": "2024-10-07T07:38:18.434853Z",
     "start_time": "2024-10-07T07:38:18.426662Z"
    }
   },
   "cell_type": "code",
   "source": "stats.skew(connections['c.dogalize'])",
   "id": "bbd343804b703657",
   "outputs": [
    {
     "data": {
      "text/plain": [
       "-0.3408326674474093"
      ]
     },
     "execution_count": 48,
     "metadata": {},
     "output_type": "execute_result"
    }
   ],
   "execution_count": 48
  },
  {
   "metadata": {},
   "cell_type": "markdown",
   "source": "Also check kurtosis while we at it, but that one seems normal",
   "id": "3439acccfe78dac"
  },
  {
   "metadata": {
    "ExecuteTime": {
     "end_time": "2024-10-07T07:38:18.621970Z",
     "start_time": "2024-10-07T07:38:18.615418Z"
    }
   },
   "cell_type": "code",
   "source": "stats.kurtosis(connections['c.dogalize'])",
   "id": "5f17e3d9bce94741",
   "outputs": [
    {
     "data": {
      "text/plain": [
       "-0.043511800762510155"
      ]
     },
     "execution_count": 49,
     "metadata": {},
     "output_type": "execute_result"
    }
   ],
   "execution_count": 49
  },
  {
   "metadata": {},
   "cell_type": "markdown",
   "source": "Check amount of outliers",
   "id": "83b60cdb860d3dcf"
  },
  {
   "metadata": {
    "ExecuteTime": {
     "end_time": "2024-10-07T07:38:18.709969Z",
     "start_time": "2024-10-07T07:38:18.702014Z"
    }
   },
   "cell_type": "code",
   "source": "count_outliers(connections['c.dogalize'])",
   "id": "2908f40cc9254bb4",
   "outputs": [
    {
     "data": {
      "text/plain": [
       "115"
      ]
     },
     "execution_count": 50,
     "metadata": {},
     "output_type": "execute_result"
    }
   ],
   "execution_count": 50
  },
  {
   "metadata": {
    "ExecuteTime": {
     "end_time": "2024-10-07T07:38:18.971171Z",
     "start_time": "2024-10-07T07:38:18.822250Z"
    }
   },
   "cell_type": "code",
   "source": "sns.boxplot(connections['c.dogalize'])",
   "id": "35e468a633e43134",
   "outputs": [
    {
     "data": {
      "text/plain": [
       "<Axes: ylabel='c.dogalize'>"
      ]
     },
     "execution_count": 51,
     "metadata": {},
     "output_type": "execute_result"
    },
    {
     "data": {
      "text/plain": [
       "<Figure size 640x480 with 1 Axes>"
      ],
      "image/png": "[encoded data removed]"
     },
     "metadata": {},
     "output_type": "display_data"
    }
   ],
   "execution_count": 51
  },
  {
   "metadata": {},
   "cell_type": "markdown",
   "source": "Higher number of outliers than before, but still below 1%",
   "id": "26276744ba6683"
  },
  {
   "metadata": {},
   "cell_type": "markdown",
   "source": "### Column: devices - store_name",
   "id": "636d8324c333bea6"
  },
  {
   "metadata": {
    "ExecuteTime": {
     "end_time": "2024-10-07T07:38:19.067362Z",
     "start_time": "2024-10-07T07:38:19.059340Z"
    }
   },
   "cell_type": "code",
   "source": "devices['store_name'].describe()",
   "id": "f47ecd8187531d5f",
   "outputs": [
    {
     "data": {
      "text/plain": [
       "count        2895\n",
       "unique        937\n",
       "top       Mampong\n",
       "freq            9\n",
       "Name: store_name, dtype: object"
      ]
     },
     "execution_count": 52,
     "metadata": {},
     "output_type": "execute_result"
    }
   ],
   "execution_count": 52
  },
  {
   "metadata": {},
   "cell_type": "markdown",
   "source": "describes shows that only roughly third of the values are unique. Count is same as the total row count, indicating there are no missing values.",
   "id": "20f67214e581d28d"
  },
  {
   "metadata": {
    "ExecuteTime": {
     "end_time": "2024-10-07T07:38:19.426017Z",
     "start_time": "2024-10-07T07:38:19.198424Z"
    }
   },
   "cell_type": "code",
   "source": [
    "sns.histplot(devices['store_name'].value_counts())\n",
    "plt.xlabel('Number of devices per store')\n",
    "plt.ylabel('Number of stores')"
   ],
   "id": "dbd3a7497b377020",
   "outputs": [
    {
     "data": {
      "text/plain": [
       "Text(0, 0.5, 'Number of stores')"
      ]
     },
     "execution_count": 53,
     "metadata": {},
     "output_type": "execute_result"
    },
    {
     "data": {
      "text/plain": [
       "<Figure size 640x480 with 1 Axes>"
      ],
      "image/png": "[encoded data removed]"
     },
     "metadata": {},
     "output_type": "display_data"
    }
   ],
   "execution_count": 53
  },
  {
   "metadata": {},
   "cell_type": "markdown",
   "source": "Most stores have sold 1-4 devices, other than few exceptions. The distribution is right skewed.",
   "id": "3cb63a042460681d"
  },
  {
   "metadata": {
    "ExecuteTime": {
     "end_time": "2024-10-07T07:38:19.613636Z",
     "start_time": "2024-10-07T07:38:19.605259Z"
    }
   },
   "cell_type": "code",
   "source": "stats.skew(devices['store_name'].value_counts())",
   "id": "a25d8c024c17611d",
   "outputs": [
    {
     "data": {
      "text/plain": [
       "0.7251188534572053"
      ]
     },
     "execution_count": 54,
     "metadata": {},
     "output_type": "execute_result"
    }
   ],
   "execution_count": 54
  },
  {
   "metadata": {},
   "cell_type": "markdown",
   "source": "There are visibly some outliers. ",
   "id": "94cf37c44ad6595b"
  },
  {
   "metadata": {
    "ExecuteTime": {
     "end_time": "2024-10-07T07:38:19.779221Z",
     "start_time": "2024-10-07T07:38:19.771080Z"
    }
   },
   "cell_type": "code",
   "source": "count_outliers(devices['store_name'].value_counts())",
   "id": "30a39229911dbed7",
   "outputs": [
    {
     "data": {
      "text/plain": [
       "11"
      ]
     },
     "execution_count": 55,
     "metadata": {},
     "output_type": "execute_result"
    }
   ],
   "execution_count": 55
  },
  {
   "metadata": {
    "ExecuteTime": {
     "end_time": "2024-10-07T07:38:20.011426Z",
     "start_time": "2024-10-07T07:38:19.893106Z"
    }
   },
   "cell_type": "code",
   "source": "sns.boxplot(devices['store_name'].value_counts())",
   "id": "8cf99e51cf750e51",
   "outputs": [
    {
     "data": {
      "text/plain": [
       "<Axes: ylabel='count'>"
      ]
     },
     "execution_count": 56,
     "metadata": {},
     "output_type": "execute_result"
    },
    {
     "data": {
      "text/plain": [
       "<Figure size 640x480 with 1 Axes>"
      ],
      "image/png": "[encoded data removed]"
     },
     "metadata": {},
     "output_type": "display_data"
    }
   ],
   "execution_count": 56
  },
  {
   "metadata": {},
   "cell_type": "markdown",
   "source": "The biggest one, Mampong, being the only one at 9, while the other outliers are all at 8.",
   "id": "ccbd96b853ff1149"
  },
  {
   "metadata": {},
   "cell_type": "markdown",
   "source": [
    "### Column: devices - code \n",
    "to be renamed country code"
   ],
   "id": "3e4bb658629115f9"
  },
  {
   "metadata": {
    "ExecuteTime": {
     "end_time": "2024-10-07T07:38:20.213199Z",
     "start_time": "2024-10-07T07:38:20.204322Z"
    }
   },
   "cell_type": "code",
   "source": "devices['code'].describe()",
   "id": "6e676d9768f4c471",
   "outputs": [
    {
     "data": {
      "text/plain": [
       "count     2895\n",
       "unique     131\n",
       "top         US\n",
       "freq       508\n",
       "Name: code, dtype: object"
      ]
     },
     "execution_count": 57,
     "metadata": {},
     "output_type": "execute_result"
    }
   ],
   "execution_count": 57
  },
  {
   "metadata": {},
   "cell_type": "markdown",
   "source": "There are 131 distinct values and no missing values. The most frequent one is US, which appears in almost 20% of the rows.",
   "id": "cd83f0d286aa7b11"
  },
  {
   "metadata": {
    "ExecuteTime": {
     "end_time": "2024-10-07T07:38:20.282793Z",
     "start_time": "2024-10-07T07:38:20.274494Z"
    }
   },
   "cell_type": "code",
   "source": "devices['code'].value_counts().describe()",
   "id": "6b2be5249456e77d",
   "outputs": [
    {
     "data": {
      "text/plain": [
       "count    131.000000\n",
       "mean      22.099237\n",
       "std       53.511588\n",
       "min        1.000000\n",
       "25%        4.000000\n",
       "50%        6.000000\n",
       "75%       16.000000\n",
       "max      508.000000\n",
       "Name: count, dtype: float64"
      ]
     },
     "execution_count": 58,
     "metadata": {},
     "output_type": "execute_result"
    }
   ],
   "execution_count": 58
  },
  {
   "metadata": {},
   "cell_type": "markdown",
   "source": "508 being the biggest value, while 75% of the values are below 16 is problematic.",
   "id": "9dd10045d5c96a16"
  },
  {
   "metadata": {
    "ExecuteTime": {
     "end_time": "2024-10-07T07:38:20.654909Z",
     "start_time": "2024-10-07T07:38:20.365847Z"
    }
   },
   "cell_type": "code",
   "source": [
    "sns.histplot(devices['code'].value_counts())\n",
    "plt.xlabel('Number of devices per country')\n",
    "plt.ylabel('Number of countries')"
   ],
   "id": "d77650a187234899",
   "outputs": [
    {
     "data": {
      "text/plain": [
       "Text(0, 0.5, 'Number of countries')"
      ]
     },
     "execution_count": 59,
     "metadata": {},
     "output_type": "execute_result"
    },
    {
     "data": {
      "text/plain": [
       "<Figure size 640x480 with 1 Axes>"
      ],
      "image/png": "[encoded data removed]"
     },
     "metadata": {},
     "output_type": "display_data"
    }
   ],
   "execution_count": 59
  },
  {
   "metadata": {},
   "cell_type": "markdown",
   "source": "The distribution is clearly disproportionate, due to very prominent outliers.",
   "id": "63aad0ac1c06f20"
  },
  {
   "metadata": {},
   "cell_type": "markdown",
   "source": "The data is highly skewed with high kurtosis.",
   "id": "75d4fd4847ef89"
  },
  {
   "metadata": {
    "ExecuteTime": {
     "end_time": "2024-10-07T07:38:20.849177Z",
     "start_time": "2024-10-07T07:38:20.842091Z"
    }
   },
   "cell_type": "code",
   "source": "print(f\"Skewness: {stats.skew(devices['code'].value_counts())}\\nKurtosis: {stats.kurtosis(devices['code'].value_counts())}\")",
   "id": "31cceecb4bcc9bb",
   "outputs": [
    {
     "name": "stdout",
     "output_type": "stream",
     "text": [
      "Skewness: 6.366648462048307\n",
      "Kurtosis: 51.15506691140475\n"
     ]
    }
   ],
   "execution_count": 60
  },
  {
   "metadata": {
    "ExecuteTime": {
     "end_time": "2024-10-07T07:38:21.167365Z",
     "start_time": "2024-10-07T07:38:21.054571Z"
    }
   },
   "cell_type": "code",
   "source": "sns.boxplot(devices['code'].value_counts())",
   "id": "7bcbf398a57a0f60",
   "outputs": [
    {
     "data": {
      "text/plain": [
       "<Axes: ylabel='count'>"
      ]
     },
     "execution_count": 61,
     "metadata": {},
     "output_type": "execute_result"
    },
    {
     "data": {
      "text/plain": [
       "<Figure size 640x480 with 1 Axes>"
      ],
      "image/png": "[encoded data removed]"
     },
     "metadata": {},
     "output_type": "display_data"
    }
   ],
   "execution_count": 61
  },
  {
   "metadata": {
    "ExecuteTime": {
     "end_time": "2024-10-07T07:38:21.437299Z",
     "start_time": "2024-10-07T07:38:21.424619Z"
    }
   },
   "cell_type": "code",
   "source": "print(f\"There are {count_outliers(devices['code'].value_counts())} outliers, which amount for {round(count_outliers(devices['code'].value_counts()) / devices['code'].value_counts().shape[0] * 100, 1)}% of unique values and {round(sum(devices['code'].value_counts().nlargest(19))/devices['code'].value_counts().sum()*100, 1)}% of all the rows.\")",
   "id": "fc5e1fde85d40561",
   "outputs": [
    {
     "name": "stdout",
     "output_type": "stream",
     "text": [
      "There are 19 outliers, which amount for 14.5% of unique values and 70.2% of all the rows.\n"
     ]
    }
   ],
   "execution_count": 62
  },
  {
   "metadata": {},
   "cell_type": "markdown",
   "source": "One solution might be to group all the non-outliers into one category.",
   "id": "653f8a42e727b366"
  },
  {
   "metadata": {
    "ExecuteTime": {
     "end_time": "2024-10-07T07:38:21.579602Z",
     "start_time": "2024-10-07T07:38:21.566334Z"
    }
   },
   "cell_type": "code",
   "source": [
    "outlier_countries = devices['code'].value_counts().nlargest(19).index\n",
    "updated_country_code = devices['code'].apply(lambda x: x if x in outlier_countries else 'Other')\n",
    "updated_country_code.value_counts()"
   ],
   "id": "bb5e498b3a7269a9",
   "outputs": [
    {
     "data": {
      "text/plain": [
       "code\n",
       "Other    862\n",
       "US       508\n",
       "IN       184\n",
       "RU       156\n",
       "DE       140\n",
       "GB       123\n",
       "BR       113\n",
       "CN       111\n",
       "FR       107\n",
       "IT        96\n",
       "JP        72\n",
       "ES        66\n",
       "PH        62\n",
       "ID        59\n",
       "PK        47\n",
       "TH        40\n",
       "UA        39\n",
       "AU        37\n",
       "NG        37\n",
       "NL        36\n",
       "Name: count, dtype: int64"
      ]
     },
     "execution_count": 63,
     "metadata": {},
     "output_type": "execute_result"
    }
   ],
   "execution_count": 63
  },
  {
   "metadata": {
    "ExecuteTime": {
     "end_time": "2024-10-07T07:38:21.869544Z",
     "start_time": "2024-10-07T07:38:21.675409Z"
    }
   },
   "cell_type": "code",
   "source": "sns.histplot(updated_country_code.value_counts(), kde=True)",
   "id": "f0d07dec78ba0a48",
   "outputs": [
    {
     "data": {
      "text/plain": [
       "<Axes: xlabel='count', ylabel='Count'>"
      ]
     },
     "execution_count": 64,
     "metadata": {},
     "output_type": "execute_result"
    },
    {
     "data": {
      "text/plain": [
       "<Figure size 640x480 with 1 Axes>"
      ],
      "image/png": "[encoded data removed]"
     },
     "metadata": {},
     "output_type": "display_data"
    }
   ],
   "execution_count": 64
  },
  {
   "metadata": {},
   "cell_type": "markdown",
   "source": "This has proven ineffective as well",
   "id": "fa32f07225d4d419"
  },
  {
   "metadata": {},
   "cell_type": "markdown",
   "source": "Another option is grouping them by cumulative frequency.",
   "id": "283c8c8da7885688"
  },
  {
   "metadata": {
    "ExecuteTime": {
     "end_time": "2024-10-07T07:38:22.162805Z",
     "start_time": "2024-10-07T07:38:22.150660Z"
    }
   },
   "cell_type": "code",
   "source": [
    "country_counts = devices['code'].value_counts()\n",
    "cumulative_freq=country_counts.cumsum() / country_counts.sum()\n",
    "bins = [0, 0.2, 0.4, 0.6, 0.8, 1.0]\n",
    "\n",
    "# Assign each country to a group (A, B, C, D, E) based on the cumulative frequency\n",
    "group_labels = ['top20%', '20-40%', '40-60%', '60-80', 'bottom20%']\n",
    "country_groups = pd.cut(cumulative_freq, bins=bins, labels=group_labels, include_lowest=True)\n",
    "devices_copy = devices.copy()\n",
    "devices_copy['country_device_share'] =devices['code'].map(country_groups)\n",
    "devices_copy['country_device_share'].value_counts()"
   ],
   "id": "2f330a9e585d2db8",
   "outputs": [
    {
     "data": {
      "text/plain": [
       "country_device_share\n",
       "60-80        623\n",
       "20-40%       603\n",
       "bottom20%    596\n",
       "40-60%       565\n",
       "top20%       508\n",
       "Name: count, dtype: int64"
      ]
     },
     "execution_count": 65,
     "metadata": {},
     "output_type": "execute_result"
    }
   ],
   "execution_count": 65
  },
  {
   "metadata": {},
   "cell_type": "markdown",
   "source": "### Column: location",
   "id": "358857c10255f397"
  },
  {
   "metadata": {
    "ExecuteTime": {
     "end_time": "2024-10-07T07:38:22.349747Z",
     "start_time": "2024-10-07T07:38:22.342299Z"
    }
   },
   "cell_type": "code",
   "source": "devices['location'].describe()",
   "id": "f3775a44b6b2024c",
   "outputs": [
    {
     "data": {
      "text/plain": [
       "count                 2895\n",
       "unique                 179\n",
       "top       America/New_York\n",
       "freq                   218\n",
       "Name: location, dtype: object"
      ]
     },
     "execution_count": 66,
     "metadata": {},
     "output_type": "execute_result"
    }
   ],
   "execution_count": 66
  },
  {
   "metadata": {
    "ExecuteTime": {
     "end_time": "2024-10-07T07:38:22.558770Z",
     "start_time": "2024-10-07T07:38:22.549792Z"
    }
   },
   "cell_type": "code",
   "source": "devices['location'].value_counts().describe()",
   "id": "618ddc3b9b98ecea",
   "outputs": [
    {
     "data": {
      "text/plain": [
       "count    179.000000\n",
       "mean      16.173184\n",
       "std       31.931777\n",
       "min        1.000000\n",
       "25%        3.000000\n",
       "50%        5.000000\n",
       "75%       10.500000\n",
       "max      218.000000\n",
       "Name: count, dtype: float64"
      ]
     },
     "execution_count": 67,
     "metadata": {},
     "output_type": "execute_result"
    }
   ],
   "execution_count": 67
  },
  {
   "metadata": {
    "ExecuteTime": {
     "end_time": "2024-10-07T07:38:23.007500Z",
     "start_time": "2024-10-07T07:38:22.751254Z"
    }
   },
   "cell_type": "code",
   "source": "sns.histplot(devices['location'].value_counts())",
   "id": "7fcd8807b164176",
   "outputs": [
    {
     "data": {
      "text/plain": [
       "<Axes: xlabel='count', ylabel='Count'>"
      ]
     },
     "execution_count": 68,
     "metadata": {},
     "output_type": "execute_result"
    },
    {
     "data": {
      "text/plain": [
       "<Figure size 640x480 with 1 Axes>"
      ],
      "image/png": "[encoded data removed]"
     },
     "metadata": {},
     "output_type": "display_data"
    }
   ],
   "execution_count": 68
  },
  {
   "metadata": {
    "ExecuteTime": {
     "end_time": "2024-10-07T07:38:23.247219Z",
     "start_time": "2024-10-07T07:38:23.239416Z"
    }
   },
   "cell_type": "code",
   "source": "print(f\"Skewness: {stats.skew(devices['location'].value_counts())}\\nKurtosis: {stats.kurtosis(devices['location'].value_counts())}\")",
   "id": "72e79f5217247cd2",
   "outputs": [
    {
     "name": "stdout",
     "output_type": "stream",
     "text": [
      "Skewness: 3.7068891265244397\n",
      "Kurtosis: 15.165283941188175\n"
     ]
    }
   ],
   "execution_count": 69
  },
  {
   "metadata": {},
   "cell_type": "markdown",
   "source": "This column seems to have same problems as country code. Even if the distribution was better, the cardinality would be too high and highly correlated to store_name and other location-based columns, so we can just omit the city part of location. ",
   "id": "2f3267cc0b37f23a"
  },
  {
   "metadata": {
    "ExecuteTime": {
     "end_time": "2024-10-07T07:40:20.758087Z",
     "start_time": "2024-10-07T07:40:20.747532Z"
    }
   },
   "cell_type": "code",
   "source": [
    "devices_copy['continent'] = devices['location'].map(lambda x: x.split('/')[0])\n",
    "devices_copy['continent'].value_counts()"
   ],
   "id": "ed050d700d062bd7",
   "outputs": [
    {
     "data": {
      "text/plain": [
       "continent\n",
       "Europe       930\n",
       "America      851\n",
       "Asia         780\n",
       "Africa       262\n",
       "Australia     37\n",
       "Pacific       17\n",
       "Indian        11\n",
       "Atlantic       7\n",
       "Name: count, dtype: int64"
      ]
     },
     "execution_count": 89,
     "metadata": {},
     "output_type": "execute_result"
    }
   ],
   "execution_count": 89
  },
  {
   "metadata": {},
   "cell_type": "markdown",
   "source": "These are clearly better categories, as they are more evenly distributed and have less cardinality. Only Africa, Australia, Pacific, Indian and Atlantic should be merged into one category, as they are all very low in count.",
   "id": "fc65def5a933163e"
  },
  {
   "metadata": {
    "ExecuteTime": {
     "end_time": "2024-10-07T07:38:23.792154Z",
     "start_time": "2024-10-07T07:38:23.645015Z"
    }
   },
   "cell_type": "code",
   "source": [
    "devices_copy['continent'] = devices_copy['continent'].map(lambda x: x if x not in ['Africa', 'Australia', 'Pacific', 'Indian', 'Atlantic'] else 'Other')\n",
    "sns.barplot(devices_copy['continent'].value_counts())"
   ],
   "id": "7b36e483bf0d71c3",
   "outputs": [
    {
     "data": {
      "text/plain": [
       "<Axes: xlabel='continents', ylabel='count'>"
      ]
     },
     "execution_count": 71,
     "metadata": {},
     "output_type": "execute_result"
    },
    {
     "data": {
      "text/plain": [
       "<Figure size 640x480 with 1 Axes>"
      ],
      "image/png": "[encoded data removed]"
     },
     "metadata": {},
     "output_type": "display_data"
    }
   ],
   "execution_count": 71
  },
  {
   "metadata": {},
   "cell_type": "markdown",
   "source": "Smaller cardinality, no huge outliers, more practical for machine learning.",
   "id": "5919f9d834f337bd"
  },
  {
   "metadata": {},
   "cell_type": "markdown",
   "source": "### Column: processes - p.system",
   "id": "9e03a8aee0319171"
  },
  {
   "metadata": {
    "ExecuteTime": {
     "end_time": "2024-10-07T07:38:23.964562Z",
     "start_time": "2024-10-07T07:38:23.954246Z"
    }
   },
   "cell_type": "code",
   "source": "processes['p.system'].describe()",
   "id": "428669d57dfea45f",
   "outputs": [
    {
     "data": {
      "text/plain": [
       "count    15074.000000\n",
       "mean        10.055861\n",
       "std          2.646287\n",
       "min          0.051170\n",
       "25%          8.189795\n",
       "50%          9.794255\n",
       "75%         11.811273\n",
       "max         21.245590\n",
       "Name: p.system, dtype: float64"
      ]
     },
     "execution_count": 72,
     "metadata": {},
     "output_type": "execute_result"
    }
   ],
   "execution_count": 72
  },
  {
   "metadata": {},
   "cell_type": "markdown",
   "source": "Count is the same as row count, indicating no missing values. Mean is close to median, suggesting normal distribution. IQR is about 3.62 which is far from min and max suggesting outliers. Standard deviation is roughly 25% of the median suggesting moderate variability around the median.",
   "id": "e36616d6c7188b64"
  },
  {
   "metadata": {
    "ExecuteTime": {
     "end_time": "2024-10-07T07:38:24.370445Z",
     "start_time": "2024-10-07T07:38:24.059470Z"
    }
   },
   "cell_type": "code",
   "source": "sns.histplot(processes['p.system'], kde=True)",
   "id": "a13519c9b6ba5032",
   "outputs": [
    {
     "data": {
      "text/plain": [
       "<Axes: xlabel='p.system', ylabel='Count'>"
      ]
     },
     "execution_count": 73,
     "metadata": {},
     "output_type": "execute_result"
    },
    {
     "data": {
      "text/plain": [
       "<Figure size 640x480 with 1 Axes>"
      ],
      "image/png": "[encoded data removed]"
     },
     "metadata": {},
     "output_type": "display_data"
    }
   ],
   "execution_count": 73
  },
  {
   "metadata": {},
   "cell_type": "markdown",
   "source": "Data appears to be normally distributed, not extraordinarily skewed nor having unusual kurtosis.",
   "id": "56b677f47c0d87cd"
  },
  {
   "metadata": {
    "ExecuteTime": {
     "end_time": "2024-10-07T07:38:24.529653Z",
     "start_time": "2024-10-07T07:38:24.521824Z"
    }
   },
   "cell_type": "code",
   "source": "print(f\"Skewness: {stats.skew(processes['p.system'])}\\nKurtosis: {stats.kurtosis(processes['p.system'])}\")",
   "id": "17e2e470c0a986e5",
   "outputs": [
    {
     "name": "stdout",
     "output_type": "stream",
     "text": [
      "Skewness: 0.29895469791049273\n",
      "Kurtosis: -0.04770725365747319\n"
     ]
    }
   ],
   "execution_count": 74
  },
  {
   "metadata": {
    "ExecuteTime": {
     "end_time": "2024-10-07T07:38:24.694090Z",
     "start_time": "2024-10-07T07:38:24.686959Z"
    }
   },
   "cell_type": "code",
   "source": "print(f\"There are {count_outliers(processes['p.system'])} outliers in the column.\")",
   "id": "d4f04eebeb1565a8",
   "outputs": [
    {
     "name": "stdout",
     "output_type": "stream",
     "text": [
      "There are 105 outliers in the column.\n"
     ]
    }
   ],
   "execution_count": 75
  },
  {
   "metadata": {
    "ExecuteTime": {
     "end_time": "2024-10-07T07:38:24.947436Z",
     "start_time": "2024-10-07T07:38:24.811769Z"
    }
   },
   "cell_type": "code",
   "source": "sns.boxplot(processes['p.system'])",
   "id": "5f2ac629bd2b7946",
   "outputs": [
    {
     "data": {
      "text/plain": [
       "<Axes: ylabel='p.system'>"
      ]
     },
     "execution_count": 76,
     "metadata": {},
     "output_type": "execute_result"
    },
    {
     "data": {
      "text/plain": [
       "<Figure size 640x480 with 1 Axes>"
      ],
      "image/png": "[encoded data removed]"
     },
     "metadata": {},
     "output_type": "display_data"
    }
   ],
   "execution_count": 76
  },
  {
   "metadata": {},
   "cell_type": "markdown",
   "source": "### Column: processes - p.android.gm",
   "id": "60790761169ac2fe"
  },
  {
   "metadata": {
    "ExecuteTime": {
     "end_time": "2024-10-07T07:38:25.021597Z",
     "start_time": "2024-10-07T07:38:25.012997Z"
    }
   },
   "cell_type": "code",
   "source": "processes['p.android.gm'].describe()",
   "id": "27050a3c171be884",
   "outputs": [
    {
     "data": {
      "text/plain": [
       "count    15074.000000\n",
       "mean         9.428202\n",
       "std          2.392442\n",
       "min          1.529690\n",
       "25%          7.834278\n",
       "50%          9.165670\n",
       "75%         10.747598\n",
       "max         20.640630\n",
       "Name: p.android.gm, dtype: float64"
      ]
     },
     "execution_count": 77,
     "metadata": {},
     "output_type": "execute_result"
    }
   ],
   "execution_count": 77
  },
  {
   "metadata": {},
   "cell_type": "markdown",
   "source": "Count is the same as row count, indicating no missing values. Mean is close to median, suggesting normal distribution. IQR is about 2.91 which reveals few outliers for sure, as max and min aren't within 1.5 IQR of the 3rd and 1st quartile respectively.",
   "id": "f2d32713938dff1"
  },
  {
   "metadata": {
    "ExecuteTime": {
     "end_time": "2024-10-07T07:38:25.477946Z",
     "start_time": "2024-10-07T07:38:25.123901Z"
    }
   },
   "cell_type": "code",
   "source": "sns.histplot(processes['p.android.gm'], kde=True)",
   "id": "4afcfd6bf885ceb8",
   "outputs": [
    {
     "data": {
      "text/plain": [
       "<Axes: xlabel='p.android.gm', ylabel='Count'>"
      ]
     },
     "execution_count": 78,
     "metadata": {},
     "output_type": "execute_result"
    },
    {
     "data": {
      "text/plain": [
       "<Figure size 640x480 with 1 Axes>"
      ],
      "image/png": "[encoded data removed]"
     },
     "metadata": {},
     "output_type": "display_data"
    }
   ],
   "execution_count": 78
  },
  {
   "metadata": {
    "ExecuteTime": {
     "end_time": "2024-10-07T07:38:25.540410Z",
     "start_time": "2024-10-07T07:38:25.533364Z"
    }
   },
   "cell_type": "code",
   "source": "print(f\"Skewness: {stats.skew(processes['p.android.gm'])}\\nKurtosis: {stats.kurtosis(processes['p.android.gm'])}\")",
   "id": "7ab487c72885c8a1",
   "outputs": [
    {
     "name": "stdout",
     "output_type": "stream",
     "text": [
      "Skewness: 0.6239151528531606\n",
      "Kurtosis: 0.7740757760005348\n"
     ]
    }
   ],
   "execution_count": 79
  },
  {
   "metadata": {},
   "cell_type": "markdown",
   "source": "The column is in normal distribution. There is a right skew, but it's not too significant. The tails are slightly lighter as kurtosis suggests, but nothing significant either.",
   "id": "ed5fb3ffa02d5466"
  },
  {
   "metadata": {
    "ExecuteTime": {
     "end_time": "2024-10-07T07:38:25.617076Z",
     "start_time": "2024-10-07T07:38:25.607102Z"
    }
   },
   "cell_type": "code",
   "source": "print(f\"There are {count_outliers(processes['p.android.gm'])} outliers in the column, which amounts for {round(count_outliers(processes['p.android.gm'])/processes.shape[0]*100)}% of the entries.\")",
   "id": "7244ac39c2c50691",
   "outputs": [
    {
     "name": "stdout",
     "output_type": "stream",
     "text": [
      "There are 405 outliers in the column, which amounts for 3% of the entries.\n"
     ]
    }
   ],
   "execution_count": 80
  },
  {
   "metadata": {
    "ExecuteTime": {
     "end_time": "2024-10-07T07:38:25.917623Z",
     "start_time": "2024-10-07T07:38:25.769438Z"
    }
   },
   "cell_type": "code",
   "source": "sns.boxplot(processes['p.android.gm'])",
   "id": "129eee30244f19a6",
   "outputs": [
    {
     "data": {
      "text/plain": [
       "<Axes: ylabel='p.android.gm'>"
      ]
     },
     "execution_count": 81,
     "metadata": {},
     "output_type": "execute_result"
    },
    {
     "data": {
      "text/plain": [
       "<Figure size 640x480 with 1 Axes>"
      ],
      "image/png": "[encoded data removed]"
     },
     "metadata": {},
     "output_type": "display_data"
    }
   ],
   "execution_count": 81
  },
  {
   "metadata": {},
   "cell_type": "markdown",
   "source": "There is a higher percentage in outliers compared to other numerical columns previously observed, but that's good. Still nothing significant.",
   "id": "4189d2e009bac0f2"
  },
  {
   "metadata": {},
   "cell_type": "markdown",
   "source": "### Column: profiles - company",
   "id": "598be694c4da3040"
  },
  {
   "metadata": {
    "ExecuteTime": {
     "end_time": "2024-10-07T07:38:26.017197Z",
     "start_time": "2024-10-07T07:38:26.009423Z"
    }
   },
   "cell_type": "code",
   "source": "profiles['company'].describe()",
   "id": "e374da4e291c73c9",
   "outputs": [
    {
     "data": {
      "text/plain": [
       "count                 2605\n",
       "unique                2464\n",
       "top       Johnson and Sons\n",
       "freq                     6\n",
       "Name: company, dtype: object"
      ]
     },
     "execution_count": 82,
     "metadata": {},
     "output_type": "execute_result"
    }
   ],
   "execution_count": 82
  },
  {
   "metadata": {},
   "cell_type": "markdown",
   "source": "The previous function shows 2464 out of 2605 companies are unique, meaning no real value for machine learning process later, as aren't doing LLMs, so we can't infer anything from the company.",
   "id": "968592d6b81bee43"
  },
  {
   "metadata": {
    "ExecuteTime": {
     "end_time": "2024-10-07T07:38:26.145345Z",
     "start_time": "2024-10-07T07:38:26.135712Z"
    }
   },
   "cell_type": "code",
   "source": "profiles['company'].value_counts().describe()",
   "id": "1d998a74acd52124",
   "outputs": [
    {
     "data": {
      "text/plain": [
       "count    2464.000000\n",
       "mean        1.057224\n",
       "std         0.295405\n",
       "min         1.000000\n",
       "25%         1.000000\n",
       "50%         1.000000\n",
       "75%         1.000000\n",
       "max         6.000000\n",
       "Name: count, dtype: float64"
      ]
     },
     "execution_count": 83,
     "metadata": {},
     "output_type": "execute_result"
    }
   ],
   "execution_count": 83
  },
  {
   "metadata": {
    "ExecuteTime": {
     "end_time": "2024-10-07T07:38:26.438387Z",
     "start_time": "2024-10-07T07:38:26.229645Z"
    }
   },
   "cell_type": "code",
   "source": [
    "sns.histplot(profiles['company'].value_counts())\n",
    "plt.xlabel('Number of profiles per company')\n",
    "plt.ylabel('Number of companies')"
   ],
   "id": "fd17d94d2ab1f072",
   "outputs": [
    {
     "data": {
      "text/plain": [
       "Text(0, 0.5, 'Number of companies')"
      ]
     },
     "execution_count": 84,
     "metadata": {},
     "output_type": "execute_result"
    },
    {
     "data": {
      "text/plain": [
       "<Figure size 640x480 with 1 Axes>"
      ],
      "image/png": "[encoded data removed]"
     },
     "metadata": {},
     "output_type": "display_data"
    }
   ],
   "execution_count": 84
  },
  {
   "metadata": {},
   "cell_type": "markdown",
   "source": "As we can see, most of the companies have only one profile, which wouldn't be useful for machine learning.",
   "id": "de2863709b23d590"
  },
  {
   "metadata": {},
   "cell_type": "markdown",
   "source": "## 1-1C",
   "id": "62e094f6c6787fc"
  },
  {
   "metadata": {},
   "cell_type": "markdown",
   "source": "Columns likely to be correlated are all location columns in devices table. ",
   "id": "3a396a61cbb6920d"
  },
  {
   "metadata": {},
   "cell_type": "markdown",
   "source": "We can test it with chi square test. It calculates correlations between categorical values. The higher chi-squared statistic and the closer p-value is to 0, the more likely the columns are correlated.",
   "id": "ba43b87651706895"
  },
  {
   "metadata": {
    "ExecuteTime": {
     "end_time": "2024-10-07T07:38:26.617188Z",
     "start_time": "2024-10-07T07:38:26.582819Z"
    }
   },
   "cell_type": "code",
   "source": [
    "contingency_table = pd.crosstab(devices['location'], devices['store_name'])\n",
    "chi2_stat, p_val, dof, expected = stats.chi2_contingency(contingency_table)\n",
    "print(f\"Chi-Squared Statistic: {chi2_stat}\\nP-Value: {p_val}\")"
   ],
   "id": "bb20e8ad00a81821",
   "outputs": [
    {
     "name": "stdout",
     "output_type": "stream",
     "text": [
      "Chi-Squared Statistic: 515309.99999999994\n",
      "P-Value: 0.0\n"
     ]
    }
   ],
   "execution_count": 85
  },
  {
   "metadata": {
    "ExecuteTime": {
     "end_time": "2024-10-07T07:38:26.892350Z",
     "start_time": "2024-10-07T07:38:26.865841Z"
    }
   },
   "cell_type": "code",
   "source": [
    "contingency_table = pd.crosstab(devices['store_name'], devices['code'])\n",
    "chi2_stat, p_val, dof, expected = stats.chi2_contingency(contingency_table)\n",
    "print(f\"Chi-Squared Statistic: {chi2_stat}\\nP-Value: {p_val}\")"
   ],
   "id": "2a629022b451adb1",
   "outputs": [
    {
     "name": "stdout",
     "output_type": "stream",
     "text": [
      "Chi-Squared Statistic: 376350.0\n",
      "P-Value: 0.0\n"
     ]
    }
   ],
   "execution_count": 86
  },
  {
   "metadata": {},
   "cell_type": "markdown",
   "source": "Test has shown that these values are clearly correlated.",
   "id": "96375c074b9830ae"
  },
  {
   "metadata": {},
   "cell_type": "markdown",
   "source": "Newly made columns continent and country_device_share are also likely to be correlated, as countries with more share are likely to be in the continents with most share. ",
   "id": "eccb63b96605fcd4"
  },
  {
   "metadata": {
    "ExecuteTime": {
     "end_time": "2024-10-07T07:40:57.956875Z",
     "start_time": "2024-10-07T07:40:57.937301Z"
    }
   },
   "cell_type": "code",
   "source": "pd.crosstab(devices_copy['country_device_share'], devices_copy['continent'])",
   "id": "1835c3eb6d2fe34",
   "outputs": [
    {
     "data": {
      "text/plain": [
       "continent             Africa  America  Asia  Atlantic  Australia  Europe  \\\n",
       "country_device_share                                                       \n",
       "top20%                     0      505     0         0          0       0   \n",
       "20-40%                     0        0   239         0          0     364   \n",
       "40-60%                     0      113   183         3          0     266   \n",
       "60-80                     95       88   233         0         37     170   \n",
       "bottom20%                167      145   125         4          0     130   \n",
       "\n",
       "continent             Indian  Pacific  \n",
       "country_device_share                   \n",
       "top20%                     0        3  \n",
       "20-40%                     0        0  \n",
       "40-60%                     0        0  \n",
       "60-80                      0        0  \n",
       "bottom20%                 11       14  "
      ],
      "text/html": [
       "<div>\n",
       "<style scoped>\n",
       "    .dataframe tbody tr th:only-of-type {\n",
       "        vertical-align: middle;\n",
       "    }\n",
       "\n",
       "    .dataframe tbody tr th {\n",
       "        vertical-align: top;\n",
       "    }\n",
       "\n",
       "    .dataframe thead th {\n",
       "        text-align: right;\n",
       "    }\n",
       "</style>\n",
       "<table border=\"1\" class=\"dataframe\">\n",
       "  <thead>\n",
       "    <tr style=\"text-align: right;\">\n",
       "      <th>continent</th>\n",
       "      <th>Africa</th>\n",
       "      <th>America</th>\n",
       "      <th>Asia</th>\n",
       "      <th>Atlantic</th>\n",
       "      <th>Australia</th>\n",
       "      <th>Europe</th>\n",
       "      <th>Indian</th>\n",
       "      <th>Pacific</th>\n",
       "    </tr>\n",
       "    <tr>\n",
       "      <th>country_device_share</th>\n",
       "      <th></th>\n",
       "      <th></th>\n",
       "      <th></th>\n",
       "      <th></th>\n",
       "      <th></th>\n",
       "      <th></th>\n",
       "      <th></th>\n",
       "      <th></th>\n",
       "    </tr>\n",
       "  </thead>\n",
       "  <tbody>\n",
       "    <tr>\n",
       "      <th>top20%</th>\n",
       "      <td>0</td>\n",
       "      <td>505</td>\n",
       "      <td>0</td>\n",
       "      <td>0</td>\n",
       "      <td>0</td>\n",
       "      <td>0</td>\n",
       "      <td>0</td>\n",
       "      <td>3</td>\n",
       "    </tr>\n",
       "    <tr>\n",
       "      <th>20-40%</th>\n",
       "      <td>0</td>\n",
       "      <td>0</td>\n",
       "      <td>239</td>\n",
       "      <td>0</td>\n",
       "      <td>0</td>\n",
       "      <td>364</td>\n",
       "      <td>0</td>\n",
       "      <td>0</td>\n",
       "    </tr>\n",
       "    <tr>\n",
       "      <th>40-60%</th>\n",
       "      <td>0</td>\n",
       "      <td>113</td>\n",
       "      <td>183</td>\n",
       "      <td>3</td>\n",
       "      <td>0</td>\n",
       "      <td>266</td>\n",
       "      <td>0</td>\n",
       "      <td>0</td>\n",
       "    </tr>\n",
       "    <tr>\n",
       "      <th>60-80</th>\n",
       "      <td>95</td>\n",
       "      <td>88</td>\n",
       "      <td>233</td>\n",
       "      <td>0</td>\n",
       "      <td>37</td>\n",
       "      <td>170</td>\n",
       "      <td>0</td>\n",
       "      <td>0</td>\n",
       "    </tr>\n",
       "    <tr>\n",
       "      <th>bottom20%</th>\n",
       "      <td>167</td>\n",
       "      <td>145</td>\n",
       "      <td>125</td>\n",
       "      <td>4</td>\n",
       "      <td>0</td>\n",
       "      <td>130</td>\n",
       "      <td>11</td>\n",
       "      <td>14</td>\n",
       "    </tr>\n",
       "  </tbody>\n",
       "</table>\n",
       "</div>"
      ]
     },
     "execution_count": 90,
     "metadata": {},
     "output_type": "execute_result"
    }
   ],
   "execution_count": 90
  },
  {
   "metadata": {},
   "cell_type": "markdown",
   "source": "From the table, there seems to be a correlation. America is the only continent with a significant amount of countries in the top 20% share. Asia and Europe are mostly in the 20-80 categories and the other ones are mostly in the bottom 20%. Let's test the correlation also with chi-square test.",
   "id": "9fc30ef7f55c130"
  },
  {
   "metadata": {
    "ExecuteTime": {
     "end_time": "2024-10-07T07:40:59.781756Z",
     "start_time": "2024-10-07T07:40:59.767736Z"
    }
   },
   "cell_type": "code",
   "source": [
    "contingency_table = pd.crosstab(devices_copy['country_device_share'], devices_copy['continent'])\n",
    "# Perform the Chi-Squared test\n",
    "chi2_stat, p_val, dof, expected = stats.chi2_contingency(contingency_table)\n",
    "print(f\"Chi-Squared Statistic: {chi2_stat}\\nP-Value: {p_val}\")"
   ],
   "id": "6a9a6e075c5e3b8a",
   "outputs": [
    {
     "name": "stdout",
     "output_type": "stream",
     "text": [
      "Chi-Squared Statistic: 2329.9847986211107\n",
      "P-Value: 0.0\n"
     ]
    }
   ],
   "execution_count": 91
  },
  {
   "metadata": {},
   "cell_type": "markdown",
   "source": "Test has shown that these values are also clearly correlated.",
   "id": "c07832f6cc1efaf5"
  },
  {
   "metadata": {},
   "cell_type": "markdown",
   "source": "# Phase 1-2\n",
   "id": "81a26373cce47f59"
  },
  {
   "metadata": {},
   "cell_type": "markdown",
   "source": "It looks like processes and connections have the same length and the same values in the columns ts, imei, mwra in respective rows. Let's check if this is true.",
   "id": "d514a0e02da294a0"
  },
  {
   "metadata": {},
   "cell_type": "code",
   "source": "(connections[['ts', 'imei', 'mwra']] == processes[['ts', 'imei', 'mwra']]).all().all() # .all().all() checks if all values across both dimensions are True",
   "id": "5d1987ddf579574a",
   "outputs": [],
   "execution_count": null
  },
  {
   "metadata": {},
   "cell_type": "markdown",
   "source": "Previous cell has confirmed our suspicion, that these were the same snapshots. We can now join the tables",
   "id": "d92dc5741b3ab0dd"
  },
  {
   "metadata": {},
   "cell_type": "code",
   "source": "actions = processes.join(connections.drop(columns=['ts', 'imei', 'mwra']), how='inner')",
   "id": "957bcb235f6bbcc8",
   "outputs": [],
   "execution_count": null
  },
  {
   "metadata": {},
   "cell_type": "code",
   "source": "actions['imei'].nunique(), processes['imei'].nunique(), connections['imei'].nunique()",
   "id": "5a2041a39e8202ad",
   "outputs": [],
   "execution_count": null
  },
  {
   "metadata": {},
   "cell_type": "code",
   "source": "devices['imei'].nunique()",
   "id": "3e717ff44f682763",
   "outputs": [],
   "execution_count": null
  },
  {
   "metadata": {},
   "cell_type": "code",
   "source": [
    "# check what imei is in actions but not in devices\n",
    "actions['imei'].isin(devices['imei']).all()\n",
    "# get the false value\n",
    "actions['imei'][~actions['imei'].isin(devices['imei'])]"
   ],
   "id": "9cbc1156ba204e8",
   "outputs": [],
   "execution_count": null
  },
  {
   "metadata": {},
   "cell_type": "code",
   "source": "",
   "id": "bbf9389f41bbbfa2",
   "outputs": [],
   "execution_count": null
  }
 ],
 "metadata": {
  "kernelspec": {
   "display_name": "Python 3",
   "language": "python",
   "name": "python3"
  },
  "language_info": {
   "codemirror_mode": {
    "name": "ipython",
    "version": 2
   },
   "file_extension": ".py",
   "mimetype": "text/x-python",
   "name": "python",
   "nbconvert_exporter": "python",
   "pygments_lexer": "ipython2",
   "version": "2.7.6"
  }
 },
 "nbformat": 4,
 "nbformat_minor": 5
}
