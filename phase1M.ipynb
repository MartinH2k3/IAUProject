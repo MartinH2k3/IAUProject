{
 "cells": [
  {
   "metadata": {
    "ExecuteTime": {
     "end_time": "2024-10-06T08:24:40.528151Z",
     "start_time": "2024-10-06T08:24:40.524468Z"
    }
   },
   "cell_type": "code",
   "source": [
    "import matplotlib.pyplot as plt\n",
    "import seaborn as sns\n",
    "import pandas as pd\n",
    "import numpy as np\n",
    "import scipy.stats as stats"
   ],
   "id": "62485bd395b40d34",
   "outputs": [],
   "execution_count": 3
  },
  {
   "metadata": {},
   "cell_type": "markdown",
   "source": [
    "# Phase 1-1\n",
    "## 1-1A"
   ],
   "id": "8c902f45b1b5b0ad"
  },
  {
   "metadata": {},
   "cell_type": "markdown",
   "source": "Data is saved in 4 csv files: connections, devices, processes, profiles. One row = one entry. Separator is tab. Key connecting all tables is imei, which means a unique device identifier. ",
   "id": "4c92d245ee10e353"
  },
  {
   "metadata": {
    "ExecuteTime": {
     "end_time": "2024-10-06T08:24:42.495913Z",
     "start_time": "2024-10-06T08:24:42.379352Z"
    }
   },
   "cell_type": "code",
   "source": "connections, devices, processes, profiles = pd.read_csv('data/connections.csv', sep='\\t'), pd.read_csv('data/devices.csv', sep='\\t'), pd.read_csv('data/processes.csv', sep='\\t'), pd.read_csv('data/profiles.csv', sep='\\t')",
   "id": "4929b6ef0ce57750",
   "outputs": [],
   "execution_count": 4
  },
  {
   "metadata": {},
   "cell_type": "markdown",
   "source": [
    "### Connections\n",
    "Initially we print the first few rows of the connections table to get a sense of the data."
   ],
   "id": "9aa35db7baff0735"
  },
  {
   "metadata": {
    "ExecuteTime": {
     "end_time": "2024-10-06T08:24:43.595088Z",
     "start_time": "2024-10-06T08:24:43.576918Z"
    }
   },
   "cell_type": "code",
   "source": "connections.head()",
   "id": "d92abb56fc3aafc4",
   "outputs": [
    {
     "data": {
      "text/plain": [
       "                    ts                 imei  mwra  c.android.youtube  \\\n",
       "0  2018-05-05 10:00:00  3590433799317661107   0.0           11.65403   \n",
       "1  2018-05-05 10:01:00  3590433799317662063   1.0           10.29551   \n",
       "2  2018-05-05 10:02:00   863033069630348313   0.0           12.12831   \n",
       "3  2018-05-05 10:03:00   359043379931766114   1.0           11.06419   \n",
       "4  2018-05-05 10:04:00  3590433799317661842   1.0           12.08457   \n",
       "\n",
       "   c.dogalize  c.android.gm  c.katana  c.android.chrome  c.raider  \\\n",
       "0    10.65335      10.48791  16.91620           5.04564  36.21508   \n",
       "1    10.46363      10.98438  15.65637          14.82931  24.83765   \n",
       "2     9.53752       6.78080   6.98948          10.92433   3.29441   \n",
       "3    11.55759       8.87744  11.84499          15.45902  24.78878   \n",
       "4    10.42860       9.82241  12.48869          12.85363  40.98237   \n",
       "\n",
       "   c.android.vending  c.UCMobile.intl  c.UCMobile.x86  c.updateassist  \n",
       "0           14.24956          4.09319        15.20934         5.11764  \n",
       "1           57.49911         23.94919         8.82448        44.13570  \n",
       "2           20.37891         52.55353        49.51037        99.75215  \n",
       "3           36.40299         25.77644        21.84167        65.17774  \n",
       "4           74.13316         96.77450        18.48116        90.77304  "
      ],
      "text/html": [
       "<div>\n",
       "<style scoped>\n",
       "    .dataframe tbody tr th:only-of-type {\n",
       "        vertical-align: middle;\n",
       "    }\n",
       "\n",
       "    .dataframe tbody tr th {\n",
       "        vertical-align: top;\n",
       "    }\n",
       "\n",
       "    .dataframe thead th {\n",
       "        text-align: right;\n",
       "    }\n",
       "</style>\n",
       "<table border=\"1\" class=\"dataframe\">\n",
       "  <thead>\n",
       "    <tr style=\"text-align: right;\">\n",
       "      <th></th>\n",
       "      <th>ts</th>\n",
       "      <th>imei</th>\n",
       "      <th>mwra</th>\n",
       "      <th>c.android.youtube</th>\n",
       "      <th>c.dogalize</th>\n",
       "      <th>c.android.gm</th>\n",
       "      <th>c.katana</th>\n",
       "      <th>c.android.chrome</th>\n",
       "      <th>c.raider</th>\n",
       "      <th>c.android.vending</th>\n",
       "      <th>c.UCMobile.intl</th>\n",
       "      <th>c.UCMobile.x86</th>\n",
       "      <th>c.updateassist</th>\n",
       "    </tr>\n",
       "  </thead>\n",
       "  <tbody>\n",
       "    <tr>\n",
       "      <th>0</th>\n",
       "      <td>2018-05-05 10:00:00</td>\n",
       "      <td>3590433799317661107</td>\n",
       "      <td>0.0</td>\n",
       "      <td>11.65403</td>\n",
       "      <td>10.65335</td>\n",
       "      <td>10.48791</td>\n",
       "      <td>16.91620</td>\n",
       "      <td>5.04564</td>\n",
       "      <td>36.21508</td>\n",
       "      <td>14.24956</td>\n",
       "      <td>4.09319</td>\n",
       "      <td>15.20934</td>\n",
       "      <td>5.11764</td>\n",
       "    </tr>\n",
       "    <tr>\n",
       "      <th>1</th>\n",
       "      <td>2018-05-05 10:01:00</td>\n",
       "      <td>3590433799317662063</td>\n",
       "      <td>1.0</td>\n",
       "      <td>10.29551</td>\n",
       "      <td>10.46363</td>\n",
       "      <td>10.98438</td>\n",
       "      <td>15.65637</td>\n",
       "      <td>14.82931</td>\n",
       "      <td>24.83765</td>\n",
       "      <td>57.49911</td>\n",
       "      <td>23.94919</td>\n",
       "      <td>8.82448</td>\n",
       "      <td>44.13570</td>\n",
       "    </tr>\n",
       "    <tr>\n",
       "      <th>2</th>\n",
       "      <td>2018-05-05 10:02:00</td>\n",
       "      <td>863033069630348313</td>\n",
       "      <td>0.0</td>\n",
       "      <td>12.12831</td>\n",
       "      <td>9.53752</td>\n",
       "      <td>6.78080</td>\n",
       "      <td>6.98948</td>\n",
       "      <td>10.92433</td>\n",
       "      <td>3.29441</td>\n",
       "      <td>20.37891</td>\n",
       "      <td>52.55353</td>\n",
       "      <td>49.51037</td>\n",
       "      <td>99.75215</td>\n",
       "    </tr>\n",
       "    <tr>\n",
       "      <th>3</th>\n",
       "      <td>2018-05-05 10:03:00</td>\n",
       "      <td>359043379931766114</td>\n",
       "      <td>1.0</td>\n",
       "      <td>11.06419</td>\n",
       "      <td>11.55759</td>\n",
       "      <td>8.87744</td>\n",
       "      <td>11.84499</td>\n",
       "      <td>15.45902</td>\n",
       "      <td>24.78878</td>\n",
       "      <td>36.40299</td>\n",
       "      <td>25.77644</td>\n",
       "      <td>21.84167</td>\n",
       "      <td>65.17774</td>\n",
       "    </tr>\n",
       "    <tr>\n",
       "      <th>4</th>\n",
       "      <td>2018-05-05 10:04:00</td>\n",
       "      <td>3590433799317661842</td>\n",
       "      <td>1.0</td>\n",
       "      <td>12.08457</td>\n",
       "      <td>10.42860</td>\n",
       "      <td>9.82241</td>\n",
       "      <td>12.48869</td>\n",
       "      <td>12.85363</td>\n",
       "      <td>40.98237</td>\n",
       "      <td>74.13316</td>\n",
       "      <td>96.77450</td>\n",
       "      <td>18.48116</td>\n",
       "      <td>90.77304</td>\n",
       "    </tr>\n",
       "  </tbody>\n",
       "</table>\n",
       "</div>"
      ]
     },
     "execution_count": 5,
     "metadata": {},
     "output_type": "execute_result"
    }
   ],
   "execution_count": 5
  },
  {
   "metadata": {},
   "cell_type": "markdown",
   "source": "We analyze the structure of the table.",
   "id": "73105bc8d7c55d6f"
  },
  {
   "metadata": {
    "ExecuteTime": {
     "end_time": "2024-10-06T08:39:56.824277Z",
     "start_time": "2024-10-06T08:39:56.819104Z"
    }
   },
   "cell_type": "code",
   "source": "print(f\"There are {connections.shape[0]} entries with {connections.shape[1]} columns:\\n {connections.columns.values}\")",
   "id": "2da4256dd43b183",
   "outputs": [
    {
     "name": "stdout",
     "output_type": "stream",
     "text": [
      "There are 15074 entries with 13 columns:\n",
      " ['ts' 'imei' 'mwra' 'c.android.youtube' 'c.dogalize' 'c.android.gm'\n",
      " 'c.katana' 'c.android.chrome' 'c.raider' 'c.android.vending'\n",
      " 'c.UCMobile.intl' 'c.UCMobile.x86' 'c.updateassist']\n"
     ]
    }
   ],
   "execution_count": 25
  },
  {
   "metadata": {
    "ExecuteTime": {
     "end_time": "2024-10-06T08:33:21.469547Z",
     "start_time": "2024-10-06T08:33:21.460030Z"
    }
   },
   "cell_type": "code",
   "source": "connections.info()",
   "id": "1914bba4a62b7ba9",
   "outputs": [
    {
     "name": "stdout",
     "output_type": "stream",
     "text": [
      "<class 'pandas.core.frame.DataFrame'>\n",
      "RangeIndex: 15074 entries, 0 to 15073\n",
      "Data columns (total 13 columns):\n",
      " #   Column             Non-Null Count  Dtype  \n",
      "---  ------             --------------  -----  \n",
      " 0   ts                 15074 non-null  object \n",
      " 1   imei               15074 non-null  int64  \n",
      " 2   mwra               15074 non-null  float64\n",
      " 3   c.android.youtube  15074 non-null  float64\n",
      " 4   c.dogalize         15074 non-null  float64\n",
      " 5   c.android.gm       15074 non-null  float64\n",
      " 6   c.katana           15074 non-null  float64\n",
      " 7   c.android.chrome   15074 non-null  float64\n",
      " 8   c.raider           15074 non-null  float64\n",
      " 9   c.android.vending  15074 non-null  float64\n",
      " 10  c.UCMobile.intl    15074 non-null  float64\n",
      " 11  c.UCMobile.x86     15074 non-null  float64\n",
      " 12  c.updateassist     15074 non-null  float64\n",
      "dtypes: float64(11), int64(1), object(1)\n",
      "memory usage: 1.5+ MB\n"
     ]
    }
   ],
   "execution_count": 23
  },
  {
   "metadata": {},
   "cell_type": "markdown",
   "source": "This dataset contains no missing values, as the number of non-null entries in each column matches the total row count. The first column holds object type values, representing timestamps, and will likely be converted to timestamp type during further processing. The second column stores int64 values, which represent the International Mobile Equipment Identity (IMEI) number. The third column is of type float64 despite containing only boolean values, which indicate malware-related activity. The other columns are of type float64  serving as input for evaluating mwra. ",
   "id": "73b89a2efbf2c545"
  },
  {
   "metadata": {},
   "cell_type": "markdown",
   "source": "The pair of first and second column (ts, imei) are keys for snapshot of the rest of values. The third column is the result of evaluation. ",
   "id": "72c0c6947e6f898e"
  },
  {
   "metadata": {
    "ExecuteTime": {
     "end_time": "2024-10-06T08:45:05.609510Z",
     "start_time": "2024-10-06T08:45:05.574742Z"
    }
   },
   "cell_type": "code",
   "source": "connections.describe()",
   "id": "73458ae9a232b1a8",
   "outputs": [
    {
     "data": {
      "text/plain": [
       "               imei          mwra  c.android.youtube    c.dogalize  \\\n",
       "count  1.507400e+04  15074.000000       15074.000000  15074.000000   \n",
       "mean   3.944186e+18      0.628367          10.649835     11.159652   \n",
       "std    3.331167e+18      0.483257           2.541594      2.787612   \n",
       "min    3.590434e+17      0.000000           1.023410      0.113470   \n",
       "25%    8.630331e+17      0.000000           8.759405      9.342795   \n",
       "50%    3.590434e+18      1.000000          10.527030     11.410130   \n",
       "75%    8.630331e+18      1.000000          12.507920     13.140740   \n",
       "max    8.630331e+18      1.000000          20.726030     19.477060   \n",
       "\n",
       "       c.android.gm      c.katana  c.android.chrome      c.raider  \\\n",
       "count  15074.000000  15074.000000      15074.000000  15074.000000   \n",
       "mean       9.960639     11.779597          9.983044     49.518952   \n",
       "std        2.564320      2.332968          2.609872     28.933385   \n",
       "min        0.022370      2.299720          0.000000      0.000000   \n",
       "25%        8.119385     10.424308          8.128787     24.551032   \n",
       "50%        9.868480     12.011270          9.935055     49.285175   \n",
       "75%       11.798052     13.362262         11.872960     74.746440   \n",
       "max       18.284120     19.684410         19.927250    100.000000   \n",
       "\n",
       "       c.android.vending  c.UCMobile.intl  c.UCMobile.x86  c.updateassist  \n",
       "count       15074.000000     15074.000000    15074.000000    15074.000000  \n",
       "mean           50.033587        50.042579       49.858606       49.845721  \n",
       "std            28.855641        28.955827       29.024959       28.848587  \n",
       "min             0.000000         0.000000        0.000000        0.000000  \n",
       "25%            24.985702        24.950173       24.570863       24.762352  \n",
       "50%            50.404290        50.368725       49.839325       49.573495  \n",
       "75%            75.024978        74.937760       75.378667       74.872277  \n",
       "max           100.000000       100.000000      100.000000      100.000000  "
      ],
      "text/html": [
       "<div>\n",
       "<style scoped>\n",
       "    .dataframe tbody tr th:only-of-type {\n",
       "        vertical-align: middle;\n",
       "    }\n",
       "\n",
       "    .dataframe tbody tr th {\n",
       "        vertical-align: top;\n",
       "    }\n",
       "\n",
       "    .dataframe thead th {\n",
       "        text-align: right;\n",
       "    }\n",
       "</style>\n",
       "<table border=\"1\" class=\"dataframe\">\n",
       "  <thead>\n",
       "    <tr style=\"text-align: right;\">\n",
       "      <th></th>\n",
       "      <th>imei</th>\n",
       "      <th>mwra</th>\n",
       "      <th>c.android.youtube</th>\n",
       "      <th>c.dogalize</th>\n",
       "      <th>c.android.gm</th>\n",
       "      <th>c.katana</th>\n",
       "      <th>c.android.chrome</th>\n",
       "      <th>c.raider</th>\n",
       "      <th>c.android.vending</th>\n",
       "      <th>c.UCMobile.intl</th>\n",
       "      <th>c.UCMobile.x86</th>\n",
       "      <th>c.updateassist</th>\n",
       "    </tr>\n",
       "  </thead>\n",
       "  <tbody>\n",
       "    <tr>\n",
       "      <th>count</th>\n",
       "      <td>1.507400e+04</td>\n",
       "      <td>15074.000000</td>\n",
       "      <td>15074.000000</td>\n",
       "      <td>15074.000000</td>\n",
       "      <td>15074.000000</td>\n",
       "      <td>15074.000000</td>\n",
       "      <td>15074.000000</td>\n",
       "      <td>15074.000000</td>\n",
       "      <td>15074.000000</td>\n",
       "      <td>15074.000000</td>\n",
       "      <td>15074.000000</td>\n",
       "      <td>15074.000000</td>\n",
       "    </tr>\n",
       "    <tr>\n",
       "      <th>mean</th>\n",
       "      <td>3.944186e+18</td>\n",
       "      <td>0.628367</td>\n",
       "      <td>10.649835</td>\n",
       "      <td>11.159652</td>\n",
       "      <td>9.960639</td>\n",
       "      <td>11.779597</td>\n",
       "      <td>9.983044</td>\n",
       "      <td>49.518952</td>\n",
       "      <td>50.033587</td>\n",
       "      <td>50.042579</td>\n",
       "      <td>49.858606</td>\n",
       "      <td>49.845721</td>\n",
       "    </tr>\n",
       "    <tr>\n",
       "      <th>std</th>\n",
       "      <td>3.331167e+18</td>\n",
       "      <td>0.483257</td>\n",
       "      <td>2.541594</td>\n",
       "      <td>2.787612</td>\n",
       "      <td>2.564320</td>\n",
       "      <td>2.332968</td>\n",
       "      <td>2.609872</td>\n",
       "      <td>28.933385</td>\n",
       "      <td>28.855641</td>\n",
       "      <td>28.955827</td>\n",
       "      <td>29.024959</td>\n",
       "      <td>28.848587</td>\n",
       "    </tr>\n",
       "    <tr>\n",
       "      <th>min</th>\n",
       "      <td>3.590434e+17</td>\n",
       "      <td>0.000000</td>\n",
       "      <td>1.023410</td>\n",
       "      <td>0.113470</td>\n",
       "      <td>0.022370</td>\n",
       "      <td>2.299720</td>\n",
       "      <td>0.000000</td>\n",
       "      <td>0.000000</td>\n",
       "      <td>0.000000</td>\n",
       "      <td>0.000000</td>\n",
       "      <td>0.000000</td>\n",
       "      <td>0.000000</td>\n",
       "    </tr>\n",
       "    <tr>\n",
       "      <th>25%</th>\n",
       "      <td>8.630331e+17</td>\n",
       "      <td>0.000000</td>\n",
       "      <td>8.759405</td>\n",
       "      <td>9.342795</td>\n",
       "      <td>8.119385</td>\n",
       "      <td>10.424308</td>\n",
       "      <td>8.128787</td>\n",
       "      <td>24.551032</td>\n",
       "      <td>24.985702</td>\n",
       "      <td>24.950173</td>\n",
       "      <td>24.570863</td>\n",
       "      <td>24.762352</td>\n",
       "    </tr>\n",
       "    <tr>\n",
       "      <th>50%</th>\n",
       "      <td>3.590434e+18</td>\n",
       "      <td>1.000000</td>\n",
       "      <td>10.527030</td>\n",
       "      <td>11.410130</td>\n",
       "      <td>9.868480</td>\n",
       "      <td>12.011270</td>\n",
       "      <td>9.935055</td>\n",
       "      <td>49.285175</td>\n",
       "      <td>50.404290</td>\n",
       "      <td>50.368725</td>\n",
       "      <td>49.839325</td>\n",
       "      <td>49.573495</td>\n",
       "    </tr>\n",
       "    <tr>\n",
       "      <th>75%</th>\n",
       "      <td>8.630331e+18</td>\n",
       "      <td>1.000000</td>\n",
       "      <td>12.507920</td>\n",
       "      <td>13.140740</td>\n",
       "      <td>11.798052</td>\n",
       "      <td>13.362262</td>\n",
       "      <td>11.872960</td>\n",
       "      <td>74.746440</td>\n",
       "      <td>75.024978</td>\n",
       "      <td>74.937760</td>\n",
       "      <td>75.378667</td>\n",
       "      <td>74.872277</td>\n",
       "    </tr>\n",
       "    <tr>\n",
       "      <th>max</th>\n",
       "      <td>8.630331e+18</td>\n",
       "      <td>1.000000</td>\n",
       "      <td>20.726030</td>\n",
       "      <td>19.477060</td>\n",
       "      <td>18.284120</td>\n",
       "      <td>19.684410</td>\n",
       "      <td>19.927250</td>\n",
       "      <td>100.000000</td>\n",
       "      <td>100.000000</td>\n",
       "      <td>100.000000</td>\n",
       "      <td>100.000000</td>\n",
       "      <td>100.000000</td>\n",
       "    </tr>\n",
       "  </tbody>\n",
       "</table>\n",
       "</div>"
      ]
     },
     "execution_count": 27,
     "metadata": {},
     "output_type": "execute_result"
    }
   ],
   "execution_count": 27
  },
  {
   "metadata": {},
   "cell_type": "markdown",
   "source": "From the method above, we can get a sense of distributions for each column. Especially mean close to the median suggest normal distribution.",
   "id": "d63dd5d9fa4ab80e"
  },
  {
   "metadata": {},
   "cell_type": "markdown",
   "source": "### Devices",
   "id": "ec84b09b250fdb4c"
  },
  {
   "metadata": {},
   "cell_type": "code",
   "outputs": [],
   "execution_count": null,
   "source": "devices.head()",
   "id": "12c494bb2a0e1226"
  },
  {
   "metadata": {
    "ExecuteTime": {
     "end_time": "2024-10-06T10:04:35.374461Z",
     "start_time": "2024-10-06T10:04:35.369270Z"
    }
   },
   "cell_type": "code",
   "source": "print(f\"There are {devices.shape[0]} entries with {devices.shape[1]} columns:\\n {devices.columns.values}\")\n",
   "id": "874f4abaa34b6c96",
   "outputs": [
    {
     "name": "stdout",
     "output_type": "stream",
     "text": [
      "There are 2895 entries with 6 columns:\n",
      " ['latitude' 'longitude' 'store_name' 'code' 'location' 'imei']\n"
     ]
    }
   ],
   "execution_count": 28
  },
  {
   "metadata": {
    "ExecuteTime": {
     "end_time": "2024-10-06T08:24:48.913665Z",
     "start_time": "2024-10-06T08:24:48.905192Z"
    }
   },
   "cell_type": "code",
   "source": "devices.info()",
   "id": "3a56ec5b0eb88b66",
   "outputs": [
    {
     "name": "stdout",
     "output_type": "stream",
     "text": [
      "<class 'pandas.core.frame.DataFrame'>\n",
      "RangeIndex: 2895 entries, 0 to 2894\n",
      "Data columns (total 6 columns):\n",
      " #   Column      Non-Null Count  Dtype  \n",
      "---  ------      --------------  -----  \n",
      " 0   latitude    2895 non-null   float64\n",
      " 1   longitude   2895 non-null   float64\n",
      " 2   store_name  2895 non-null   object \n",
      " 3   code        2892 non-null   object \n",
      " 4   location    2895 non-null   object \n",
      " 5   imei        2895 non-null   int64  \n",
      "dtypes: float64(2), int64(1), object(3)\n",
      "memory usage: 135.8+ KB\n"
     ]
    }
   ],
   "execution_count": 10
  },
  {
   "metadata": {},
   "cell_type": "markdown",
   "source": "Column 'code' has 3 null values. Others don't have any. ",
   "id": "c234a7d467b8a8a"
  },
  {
   "metadata": {
    "ExecuteTime": {
     "end_time": "2024-10-06T08:24:48.535580Z",
     "start_time": "2024-10-06T08:24:48.520712Z"
    }
   },
   "cell_type": "code",
   "outputs": [
    {
     "data": {
      "text/plain": [
       "          latitude    longitude          imei\n",
       "count  2895.000000  2895.000000  2.895000e+03\n",
       "mean     29.379861     9.846564  3.919073e+18\n",
       "std      23.348693    73.262963  3.333461e+18\n",
       "min     -54.800000  -156.474320  3.590434e+17\n",
       "25%      14.933330   -60.931730  8.630331e+17\n",
       "50%      36.766390     9.152140  3.590434e+18\n",
       "75%      46.655810    71.211690  8.630331e+18\n",
       "max      68.798330   178.004170  8.630331e+18"
      ],
      "text/html": [
       "<div>\n",
       "<style scoped>\n",
       "    .dataframe tbody tr th:only-of-type {\n",
       "        vertical-align: middle;\n",
       "    }\n",
       "\n",
       "    .dataframe tbody tr th {\n",
       "        vertical-align: top;\n",
       "    }\n",
       "\n",
       "    .dataframe thead th {\n",
       "        text-align: right;\n",
       "    }\n",
       "</style>\n",
       "<table border=\"1\" class=\"dataframe\">\n",
       "  <thead>\n",
       "    <tr style=\"text-align: right;\">\n",
       "      <th></th>\n",
       "      <th>latitude</th>\n",
       "      <th>longitude</th>\n",
       "      <th>imei</th>\n",
       "    </tr>\n",
       "  </thead>\n",
       "  <tbody>\n",
       "    <tr>\n",
       "      <th>count</th>\n",
       "      <td>2895.000000</td>\n",
       "      <td>2895.000000</td>\n",
       "      <td>2.895000e+03</td>\n",
       "    </tr>\n",
       "    <tr>\n",
       "      <th>mean</th>\n",
       "      <td>29.379861</td>\n",
       "      <td>9.846564</td>\n",
       "      <td>3.919073e+18</td>\n",
       "    </tr>\n",
       "    <tr>\n",
       "      <th>std</th>\n",
       "      <td>23.348693</td>\n",
       "      <td>73.262963</td>\n",
       "      <td>3.333461e+18</td>\n",
       "    </tr>\n",
       "    <tr>\n",
       "      <th>min</th>\n",
       "      <td>-54.800000</td>\n",
       "      <td>-156.474320</td>\n",
       "      <td>3.590434e+17</td>\n",
       "    </tr>\n",
       "    <tr>\n",
       "      <th>25%</th>\n",
       "      <td>14.933330</td>\n",
       "      <td>-60.931730</td>\n",
       "      <td>8.630331e+17</td>\n",
       "    </tr>\n",
       "    <tr>\n",
       "      <th>50%</th>\n",
       "      <td>36.766390</td>\n",
       "      <td>9.152140</td>\n",
       "      <td>3.590434e+18</td>\n",
       "    </tr>\n",
       "    <tr>\n",
       "      <th>75%</th>\n",
       "      <td>46.655810</td>\n",
       "      <td>71.211690</td>\n",
       "      <td>8.630331e+18</td>\n",
       "    </tr>\n",
       "    <tr>\n",
       "      <th>max</th>\n",
       "      <td>68.798330</td>\n",
       "      <td>178.004170</td>\n",
       "      <td>8.630331e+18</td>\n",
       "    </tr>\n",
       "  </tbody>\n",
       "</table>\n",
       "</div>"
      ]
     },
     "execution_count": 9,
     "metadata": {},
     "output_type": "execute_result"
    }
   ],
   "execution_count": 9,
   "source": "devices.describe()",
   "id": "c56a257ef8d815bf"
  },
  {
   "metadata": {},
   "cell_type": "markdown",
   "source": "Latitude and longitude often act more as a categorical data instead of numerical, when it comes to analysis, as they split into categories rather than attributes growing in a linear fashion. IMEI is an id. Therefore the cell above provides no useful insight.",
   "id": "13e0711b2296c3c9"
  },
  {
   "metadata": {
    "ExecuteTime": {
     "end_time": "2024-10-06T08:24:49.278742Z",
     "start_time": "2024-10-06T08:24:49.260934Z"
    }
   },
   "cell_type": "code",
   "source": "processes.head()",
   "id": "17e59ccffe83ad97",
   "outputs": [
    {
     "data": {
      "text/plain": [
       "                    ts                 imei  mwra  p.android.chrome  \\\n",
       "0  2018-05-05 10:00:00  3590433799317661107   0.0           7.41473   \n",
       "1  2018-05-05 10:01:00  3590433799317662063   1.0           9.40603   \n",
       "2  2018-05-05 10:02:00   863033069630348313   0.0          13.61225   \n",
       "3  2018-05-05 10:03:00   359043379931766114   1.0           8.14970   \n",
       "4  2018-05-05 10:04:00  3590433799317661842   1.0           8.20358   \n",
       "\n",
       "   p.android.documentsui  p.android.gm  p.system  p.android.packageinstaller  \\\n",
       "0               10.17656      14.80917  12.14702                    11.55620   \n",
       "1                6.57378       6.06519  10.56643                    16.74062   \n",
       "2               11.73312       8.99679  10.79425                    12.60312   \n",
       "3                9.53996       8.28249  10.80629                    13.97670   \n",
       "4                8.94156       8.62248   8.33003                    13.44049   \n",
       "\n",
       "   p.android.settings  p.android.externalstorage  ...  p.dogalize  \\\n",
       "0             8.33912                   14.02450  ...    65.61120   \n",
       "1            13.78434                    7.57297  ...    47.85939   \n",
       "2            10.78121                   11.90788  ...    52.33884   \n",
       "3            12.73047                   11.64714  ...    28.18437   \n",
       "4            13.31239                   11.40689  ...    71.31165   \n",
       "\n",
       "   p.simulator  p.google  p.android.vending  p.inputmethod.latin  \\\n",
       "0     50.11483  53.37584           68.21001             61.69014   \n",
       "1     64.64494  15.73793           58.42507             57.04862   \n",
       "2     25.01553  42.88480           17.22521             13.74976   \n",
       "3     55.22909  59.59616           78.03742             20.18875   \n",
       "4     60.24955  52.48479           13.37139             51.12877   \n",
       "\n",
       "   p.process.gapps  p.notifier  p.olauncher  p.gms.persistent  \\\n",
       "0         42.31022     4.82212     90.97861          53.94759   \n",
       "1         40.09440    16.63539     30.11126          40.51207   \n",
       "2         50.38813    42.62046     96.70838          43.37143   \n",
       "3         20.99686    90.73121     86.05335          99.16606   \n",
       "4         70.85514    39.65245     29.01586           6.11403   \n",
       "\n",
       "   p.android.defcontainer  \n",
       "0                20.98954  \n",
       "1                64.61017  \n",
       "2                98.71501  \n",
       "3                95.92975  \n",
       "4                65.87936  \n",
       "\n",
       "[5 rows x 23 columns]"
      ],
      "text/html": [
       "<div>\n",
       "<style scoped>\n",
       "    .dataframe tbody tr th:only-of-type {\n",
       "        vertical-align: middle;\n",
       "    }\n",
       "\n",
       "    .dataframe tbody tr th {\n",
       "        vertical-align: top;\n",
       "    }\n",
       "\n",
       "    .dataframe thead th {\n",
       "        text-align: right;\n",
       "    }\n",
       "</style>\n",
       "<table border=\"1\" class=\"dataframe\">\n",
       "  <thead>\n",
       "    <tr style=\"text-align: right;\">\n",
       "      <th></th>\n",
       "      <th>ts</th>\n",
       "      <th>imei</th>\n",
       "      <th>mwra</th>\n",
       "      <th>p.android.chrome</th>\n",
       "      <th>p.android.documentsui</th>\n",
       "      <th>p.android.gm</th>\n",
       "      <th>p.system</th>\n",
       "      <th>p.android.packageinstaller</th>\n",
       "      <th>p.android.settings</th>\n",
       "      <th>p.android.externalstorage</th>\n",
       "      <th>...</th>\n",
       "      <th>p.dogalize</th>\n",
       "      <th>p.simulator</th>\n",
       "      <th>p.google</th>\n",
       "      <th>p.android.vending</th>\n",
       "      <th>p.inputmethod.latin</th>\n",
       "      <th>p.process.gapps</th>\n",
       "      <th>p.notifier</th>\n",
       "      <th>p.olauncher</th>\n",
       "      <th>p.gms.persistent</th>\n",
       "      <th>p.android.defcontainer</th>\n",
       "    </tr>\n",
       "  </thead>\n",
       "  <tbody>\n",
       "    <tr>\n",
       "      <th>0</th>\n",
       "      <td>2018-05-05 10:00:00</td>\n",
       "      <td>3590433799317661107</td>\n",
       "      <td>0.0</td>\n",
       "      <td>7.41473</td>\n",
       "      <td>10.17656</td>\n",
       "      <td>14.80917</td>\n",
       "      <td>12.14702</td>\n",
       "      <td>11.55620</td>\n",
       "      <td>8.33912</td>\n",
       "      <td>14.02450</td>\n",
       "      <td>...</td>\n",
       "      <td>65.61120</td>\n",
       "      <td>50.11483</td>\n",
       "      <td>53.37584</td>\n",
       "      <td>68.21001</td>\n",
       "      <td>61.69014</td>\n",
       "      <td>42.31022</td>\n",
       "      <td>4.82212</td>\n",
       "      <td>90.97861</td>\n",
       "      <td>53.94759</td>\n",
       "      <td>20.98954</td>\n",
       "    </tr>\n",
       "    <tr>\n",
       "      <th>1</th>\n",
       "      <td>2018-05-05 10:01:00</td>\n",
       "      <td>3590433799317662063</td>\n",
       "      <td>1.0</td>\n",
       "      <td>9.40603</td>\n",
       "      <td>6.57378</td>\n",
       "      <td>6.06519</td>\n",
       "      <td>10.56643</td>\n",
       "      <td>16.74062</td>\n",
       "      <td>13.78434</td>\n",
       "      <td>7.57297</td>\n",
       "      <td>...</td>\n",
       "      <td>47.85939</td>\n",
       "      <td>64.64494</td>\n",
       "      <td>15.73793</td>\n",
       "      <td>58.42507</td>\n",
       "      <td>57.04862</td>\n",
       "      <td>40.09440</td>\n",
       "      <td>16.63539</td>\n",
       "      <td>30.11126</td>\n",
       "      <td>40.51207</td>\n",
       "      <td>64.61017</td>\n",
       "    </tr>\n",
       "    <tr>\n",
       "      <th>2</th>\n",
       "      <td>2018-05-05 10:02:00</td>\n",
       "      <td>863033069630348313</td>\n",
       "      <td>0.0</td>\n",
       "      <td>13.61225</td>\n",
       "      <td>11.73312</td>\n",
       "      <td>8.99679</td>\n",
       "      <td>10.79425</td>\n",
       "      <td>12.60312</td>\n",
       "      <td>10.78121</td>\n",
       "      <td>11.90788</td>\n",
       "      <td>...</td>\n",
       "      <td>52.33884</td>\n",
       "      <td>25.01553</td>\n",
       "      <td>42.88480</td>\n",
       "      <td>17.22521</td>\n",
       "      <td>13.74976</td>\n",
       "      <td>50.38813</td>\n",
       "      <td>42.62046</td>\n",
       "      <td>96.70838</td>\n",
       "      <td>43.37143</td>\n",
       "      <td>98.71501</td>\n",
       "    </tr>\n",
       "    <tr>\n",
       "      <th>3</th>\n",
       "      <td>2018-05-05 10:03:00</td>\n",
       "      <td>359043379931766114</td>\n",
       "      <td>1.0</td>\n",
       "      <td>8.14970</td>\n",
       "      <td>9.53996</td>\n",
       "      <td>8.28249</td>\n",
       "      <td>10.80629</td>\n",
       "      <td>13.97670</td>\n",
       "      <td>12.73047</td>\n",
       "      <td>11.64714</td>\n",
       "      <td>...</td>\n",
       "      <td>28.18437</td>\n",
       "      <td>55.22909</td>\n",
       "      <td>59.59616</td>\n",
       "      <td>78.03742</td>\n",
       "      <td>20.18875</td>\n",
       "      <td>20.99686</td>\n",
       "      <td>90.73121</td>\n",
       "      <td>86.05335</td>\n",
       "      <td>99.16606</td>\n",
       "      <td>95.92975</td>\n",
       "    </tr>\n",
       "    <tr>\n",
       "      <th>4</th>\n",
       "      <td>2018-05-05 10:04:00</td>\n",
       "      <td>3590433799317661842</td>\n",
       "      <td>1.0</td>\n",
       "      <td>8.20358</td>\n",
       "      <td>8.94156</td>\n",
       "      <td>8.62248</td>\n",
       "      <td>8.33003</td>\n",
       "      <td>13.44049</td>\n",
       "      <td>13.31239</td>\n",
       "      <td>11.40689</td>\n",
       "      <td>...</td>\n",
       "      <td>71.31165</td>\n",
       "      <td>60.24955</td>\n",
       "      <td>52.48479</td>\n",
       "      <td>13.37139</td>\n",
       "      <td>51.12877</td>\n",
       "      <td>70.85514</td>\n",
       "      <td>39.65245</td>\n",
       "      <td>29.01586</td>\n",
       "      <td>6.11403</td>\n",
       "      <td>65.87936</td>\n",
       "    </tr>\n",
       "  </tbody>\n",
       "</table>\n",
       "<p>5 rows × 23 columns</p>\n",
       "</div>"
      ]
     },
     "execution_count": 11,
     "metadata": {},
     "output_type": "execute_result"
    }
   ],
   "execution_count": 11
  },
  {
   "metadata": {
    "ExecuteTime": {
     "end_time": "2024-10-06T10:34:00.316699Z",
     "start_time": "2024-10-06T10:34:00.311074Z"
    }
   },
   "cell_type": "code",
   "source": "print(f\"There are {processes.shape[0]} entries with {processes.shape[1]} columns:\\n {processes.columns.values}\")",
   "id": "5b8763d31feed980",
   "outputs": [
    {
     "name": "stdout",
     "output_type": "stream",
     "text": [
      "There are 15074 entries with 23 columns:\n",
      " ['ts' 'imei' 'mwra' 'p.android.chrome' 'p.android.documentsui'\n",
      " 'p.android.gm' 'p.system' 'p.android.packageinstaller'\n",
      " 'p.android.settings' 'p.android.externalstorage' 'p.android.gms'\n",
      " 'p.katana' 'p.browser.provider' 'p.dogalize' 'p.simulator' 'p.google'\n",
      " 'p.android.vending' 'p.inputmethod.latin' 'p.process.gapps' 'p.notifier'\n",
      " 'p.olauncher' 'p.gms.persistent' 'p.android.defcontainer']\n"
     ]
    }
   ],
   "execution_count": 29
  },
  {
   "metadata": {},
   "cell_type": "markdown",
   "source": "",
   "id": "d96a92decefcae3d"
  },
  {
   "metadata": {
    "ExecuteTime": {
     "end_time": "2024-10-06T08:24:50.191868Z",
     "start_time": "2024-10-06T08:24:50.181442Z"
    }
   },
   "cell_type": "code",
   "source": "processes.info()",
   "id": "1d16b394ad2f8955",
   "outputs": [
    {
     "name": "stdout",
     "output_type": "stream",
     "text": [
      "<class 'pandas.core.frame.DataFrame'>\n",
      "RangeIndex: 15074 entries, 0 to 15073\n",
      "Data columns (total 23 columns):\n",
      " #   Column                      Non-Null Count  Dtype  \n",
      "---  ------                      --------------  -----  \n",
      " 0   ts                          15074 non-null  object \n",
      " 1   imei                        15074 non-null  int64  \n",
      " 2   mwra                        15074 non-null  float64\n",
      " 3   p.android.chrome            15074 non-null  float64\n",
      " 4   p.android.documentsui       15074 non-null  float64\n",
      " 5   p.android.gm                15074 non-null  float64\n",
      " 6   p.system                    15074 non-null  float64\n",
      " 7   p.android.packageinstaller  15074 non-null  float64\n",
      " 8   p.android.settings          15074 non-null  float64\n",
      " 9   p.android.externalstorage   15074 non-null  float64\n",
      " 10  p.android.gms               15074 non-null  float64\n",
      " 11  p.katana                    15074 non-null  float64\n",
      " 12  p.browser.provider          15074 non-null  float64\n",
      " 13  p.dogalize                  15074 non-null  float64\n",
      " 14  p.simulator                 15074 non-null  float64\n",
      " 15  p.google                    15074 non-null  float64\n",
      " 16  p.android.vending           15074 non-null  float64\n",
      " 17  p.inputmethod.latin         15074 non-null  float64\n",
      " 18  p.process.gapps             15074 non-null  float64\n",
      " 19  p.notifier                  15074 non-null  float64\n",
      " 20  p.olauncher                 15074 non-null  float64\n",
      " 21  p.gms.persistent            15074 non-null  float64\n",
      " 22  p.android.defcontainer      15074 non-null  float64\n",
      "dtypes: float64(21), int64(1), object(1)\n",
      "memory usage: 2.6+ MB\n"
     ]
    }
   ],
   "execution_count": 13
  },
  {
   "metadata": {},
   "cell_type": "markdown",
   "source": "Same as the connections table, there are no null values in any columns. Other details are also the same as in the connections table.",
   "id": "fbe70495c4a1e818"
  },
  {
   "metadata": {
    "ExecuteTime": {
     "end_time": "2024-10-06T08:24:49.493206Z",
     "start_time": "2024-10-06T08:24:49.440991Z"
    }
   },
   "cell_type": "code",
   "outputs": [
    {
     "data": {
      "text/plain": [
       "               imei          mwra  p.android.chrome  p.android.documentsui  \\\n",
       "count  1.507400e+04  15074.000000      15074.000000           15074.000000   \n",
       "mean   3.944186e+18      0.628367         10.624031              10.088090   \n",
       "std    3.331167e+18      0.483257          2.580956               2.380393   \n",
       "min    3.590434e+17      0.000000          1.596390               3.929200   \n",
       "25%    8.630331e+17      0.000000          8.704740               8.362568   \n",
       "50%    3.590434e+18      1.000000         10.369065               9.740430   \n",
       "75%    8.630331e+18      1.000000         12.449768              11.652207   \n",
       "max    8.630331e+18      1.000000         19.996520              18.814960   \n",
       "\n",
       "       p.android.gm      p.system  p.android.packageinstaller  \\\n",
       "count  15074.000000  15074.000000                15074.000000   \n",
       "mean       9.428202     10.055861                   12.395920   \n",
       "std        2.392442      2.646287                    1.841499   \n",
       "min        1.529690      0.051170                    5.165220   \n",
       "25%        7.834278      8.189795                   11.167677   \n",
       "50%        9.165670      9.794255                   12.409595   \n",
       "75%       10.747598     11.811273                   13.617365   \n",
       "max       20.640630     21.245590                   20.075470   \n",
       "\n",
       "       p.android.settings  p.android.externalstorage  p.android.gms  ...  \\\n",
       "count        15074.000000               15074.000000   15074.000000  ...   \n",
       "mean            11.247557                  11.242832      47.251979  ...   \n",
       "std              2.572235                   2.766107      12.825330  ...   \n",
       "min              1.636750                   1.918450       0.000000  ...   \n",
       "25%              9.465430                   9.340640      38.517235  ...   \n",
       "50%             11.408155                  11.333865      47.241170  ...   \n",
       "75%             13.093542                  13.186208      55.997227  ...   \n",
       "max             19.985360                  21.755430     100.000000  ...   \n",
       "\n",
       "         p.dogalize   p.simulator      p.google  p.android.vending  \\\n",
       "count  15074.000000  15074.000000  15074.000000       15074.000000   \n",
       "mean      50.848156     45.156014     49.467709          49.666323   \n",
       "std       13.234067     11.425622     13.496016          28.950774   \n",
       "min        0.000000      0.000000      0.000000           0.000000   \n",
       "25%       41.845320     37.395083     40.257945          24.730168   \n",
       "50%       50.959360     45.116790     49.738240          49.261350   \n",
       "75%       59.832208     52.859875     58.620773          74.841612   \n",
       "max      100.000000    100.000000    100.000000         100.000000   \n",
       "\n",
       "       p.inputmethod.latin  p.process.gapps    p.notifier   p.olauncher  \\\n",
       "count         15074.000000     15074.000000  15074.000000  15074.000000   \n",
       "mean             49.639707        50.260145     50.290151     49.752762   \n",
       "std              28.891075        28.812835     28.812182     28.678112   \n",
       "min               0.000000         0.000000      0.000000      0.000000   \n",
       "25%              24.392198        25.262542     25.568478     25.376043   \n",
       "50%              49.561340        50.040285     50.540960     49.815600   \n",
       "75%              74.672930        75.275445     75.288210     74.053022   \n",
       "max             100.000000       100.000000    100.000000    100.000000   \n",
       "\n",
       "       p.gms.persistent  p.android.defcontainer  \n",
       "count      15074.000000            15074.000000  \n",
       "mean          49.817193               49.571407  \n",
       "std           28.951400               29.061716  \n",
       "min            0.000000                0.000000  \n",
       "25%           24.504192               24.162805  \n",
       "50%           49.470135               50.005440  \n",
       "75%           74.966813               74.796243  \n",
       "max          100.000000              100.000000  \n",
       "\n",
       "[8 rows x 22 columns]"
      ],
      "text/html": [
       "<div>\n",
       "<style scoped>\n",
       "    .dataframe tbody tr th:only-of-type {\n",
       "        vertical-align: middle;\n",
       "    }\n",
       "\n",
       "    .dataframe tbody tr th {\n",
       "        vertical-align: top;\n",
       "    }\n",
       "\n",
       "    .dataframe thead th {\n",
       "        text-align: right;\n",
       "    }\n",
       "</style>\n",
       "<table border=\"1\" class=\"dataframe\">\n",
       "  <thead>\n",
       "    <tr style=\"text-align: right;\">\n",
       "      <th></th>\n",
       "      <th>imei</th>\n",
       "      <th>mwra</th>\n",
       "      <th>p.android.chrome</th>\n",
       "      <th>p.android.documentsui</th>\n",
       "      <th>p.android.gm</th>\n",
       "      <th>p.system</th>\n",
       "      <th>p.android.packageinstaller</th>\n",
       "      <th>p.android.settings</th>\n",
       "      <th>p.android.externalstorage</th>\n",
       "      <th>p.android.gms</th>\n",
       "      <th>...</th>\n",
       "      <th>p.dogalize</th>\n",
       "      <th>p.simulator</th>\n",
       "      <th>p.google</th>\n",
       "      <th>p.android.vending</th>\n",
       "      <th>p.inputmethod.latin</th>\n",
       "      <th>p.process.gapps</th>\n",
       "      <th>p.notifier</th>\n",
       "      <th>p.olauncher</th>\n",
       "      <th>p.gms.persistent</th>\n",
       "      <th>p.android.defcontainer</th>\n",
       "    </tr>\n",
       "  </thead>\n",
       "  <tbody>\n",
       "    <tr>\n",
       "      <th>count</th>\n",
       "      <td>1.507400e+04</td>\n",
       "      <td>15074.000000</td>\n",
       "      <td>15074.000000</td>\n",
       "      <td>15074.000000</td>\n",
       "      <td>15074.000000</td>\n",
       "      <td>15074.000000</td>\n",
       "      <td>15074.000000</td>\n",
       "      <td>15074.000000</td>\n",
       "      <td>15074.000000</td>\n",
       "      <td>15074.000000</td>\n",
       "      <td>...</td>\n",
       "      <td>15074.000000</td>\n",
       "      <td>15074.000000</td>\n",
       "      <td>15074.000000</td>\n",
       "      <td>15074.000000</td>\n",
       "      <td>15074.000000</td>\n",
       "      <td>15074.000000</td>\n",
       "      <td>15074.000000</td>\n",
       "      <td>15074.000000</td>\n",
       "      <td>15074.000000</td>\n",
       "      <td>15074.000000</td>\n",
       "    </tr>\n",
       "    <tr>\n",
       "      <th>mean</th>\n",
       "      <td>3.944186e+18</td>\n",
       "      <td>0.628367</td>\n",
       "      <td>10.624031</td>\n",
       "      <td>10.088090</td>\n",
       "      <td>9.428202</td>\n",
       "      <td>10.055861</td>\n",
       "      <td>12.395920</td>\n",
       "      <td>11.247557</td>\n",
       "      <td>11.242832</td>\n",
       "      <td>47.251979</td>\n",
       "      <td>...</td>\n",
       "      <td>50.848156</td>\n",
       "      <td>45.156014</td>\n",
       "      <td>49.467709</td>\n",
       "      <td>49.666323</td>\n",
       "      <td>49.639707</td>\n",
       "      <td>50.260145</td>\n",
       "      <td>50.290151</td>\n",
       "      <td>49.752762</td>\n",
       "      <td>49.817193</td>\n",
       "      <td>49.571407</td>\n",
       "    </tr>\n",
       "    <tr>\n",
       "      <th>std</th>\n",
       "      <td>3.331167e+18</td>\n",
       "      <td>0.483257</td>\n",
       "      <td>2.580956</td>\n",
       "      <td>2.380393</td>\n",
       "      <td>2.392442</td>\n",
       "      <td>2.646287</td>\n",
       "      <td>1.841499</td>\n",
       "      <td>2.572235</td>\n",
       "      <td>2.766107</td>\n",
       "      <td>12.825330</td>\n",
       "      <td>...</td>\n",
       "      <td>13.234067</td>\n",
       "      <td>11.425622</td>\n",
       "      <td>13.496016</td>\n",
       "      <td>28.950774</td>\n",
       "      <td>28.891075</td>\n",
       "      <td>28.812835</td>\n",
       "      <td>28.812182</td>\n",
       "      <td>28.678112</td>\n",
       "      <td>28.951400</td>\n",
       "      <td>29.061716</td>\n",
       "    </tr>\n",
       "    <tr>\n",
       "      <th>min</th>\n",
       "      <td>3.590434e+17</td>\n",
       "      <td>0.000000</td>\n",
       "      <td>1.596390</td>\n",
       "      <td>3.929200</td>\n",
       "      <td>1.529690</td>\n",
       "      <td>0.051170</td>\n",
       "      <td>5.165220</td>\n",
       "      <td>1.636750</td>\n",
       "      <td>1.918450</td>\n",
       "      <td>0.000000</td>\n",
       "      <td>...</td>\n",
       "      <td>0.000000</td>\n",
       "      <td>0.000000</td>\n",
       "      <td>0.000000</td>\n",
       "      <td>0.000000</td>\n",
       "      <td>0.000000</td>\n",
       "      <td>0.000000</td>\n",
       "      <td>0.000000</td>\n",
       "      <td>0.000000</td>\n",
       "      <td>0.000000</td>\n",
       "      <td>0.000000</td>\n",
       "    </tr>\n",
       "    <tr>\n",
       "      <th>25%</th>\n",
       "      <td>8.630331e+17</td>\n",
       "      <td>0.000000</td>\n",
       "      <td>8.704740</td>\n",
       "      <td>8.362568</td>\n",
       "      <td>7.834278</td>\n",
       "      <td>8.189795</td>\n",
       "      <td>11.167677</td>\n",
       "      <td>9.465430</td>\n",
       "      <td>9.340640</td>\n",
       "      <td>38.517235</td>\n",
       "      <td>...</td>\n",
       "      <td>41.845320</td>\n",
       "      <td>37.395083</td>\n",
       "      <td>40.257945</td>\n",
       "      <td>24.730168</td>\n",
       "      <td>24.392198</td>\n",
       "      <td>25.262542</td>\n",
       "      <td>25.568478</td>\n",
       "      <td>25.376043</td>\n",
       "      <td>24.504192</td>\n",
       "      <td>24.162805</td>\n",
       "    </tr>\n",
       "    <tr>\n",
       "      <th>50%</th>\n",
       "      <td>3.590434e+18</td>\n",
       "      <td>1.000000</td>\n",
       "      <td>10.369065</td>\n",
       "      <td>9.740430</td>\n",
       "      <td>9.165670</td>\n",
       "      <td>9.794255</td>\n",
       "      <td>12.409595</td>\n",
       "      <td>11.408155</td>\n",
       "      <td>11.333865</td>\n",
       "      <td>47.241170</td>\n",
       "      <td>...</td>\n",
       "      <td>50.959360</td>\n",
       "      <td>45.116790</td>\n",
       "      <td>49.738240</td>\n",
       "      <td>49.261350</td>\n",
       "      <td>49.561340</td>\n",
       "      <td>50.040285</td>\n",
       "      <td>50.540960</td>\n",
       "      <td>49.815600</td>\n",
       "      <td>49.470135</td>\n",
       "      <td>50.005440</td>\n",
       "    </tr>\n",
       "    <tr>\n",
       "      <th>75%</th>\n",
       "      <td>8.630331e+18</td>\n",
       "      <td>1.000000</td>\n",
       "      <td>12.449768</td>\n",
       "      <td>11.652207</td>\n",
       "      <td>10.747598</td>\n",
       "      <td>11.811273</td>\n",
       "      <td>13.617365</td>\n",
       "      <td>13.093542</td>\n",
       "      <td>13.186208</td>\n",
       "      <td>55.997227</td>\n",
       "      <td>...</td>\n",
       "      <td>59.832208</td>\n",
       "      <td>52.859875</td>\n",
       "      <td>58.620773</td>\n",
       "      <td>74.841612</td>\n",
       "      <td>74.672930</td>\n",
       "      <td>75.275445</td>\n",
       "      <td>75.288210</td>\n",
       "      <td>74.053022</td>\n",
       "      <td>74.966813</td>\n",
       "      <td>74.796243</td>\n",
       "    </tr>\n",
       "    <tr>\n",
       "      <th>max</th>\n",
       "      <td>8.630331e+18</td>\n",
       "      <td>1.000000</td>\n",
       "      <td>19.996520</td>\n",
       "      <td>18.814960</td>\n",
       "      <td>20.640630</td>\n",
       "      <td>21.245590</td>\n",
       "      <td>20.075470</td>\n",
       "      <td>19.985360</td>\n",
       "      <td>21.755430</td>\n",
       "      <td>100.000000</td>\n",
       "      <td>...</td>\n",
       "      <td>100.000000</td>\n",
       "      <td>100.000000</td>\n",
       "      <td>100.000000</td>\n",
       "      <td>100.000000</td>\n",
       "      <td>100.000000</td>\n",
       "      <td>100.000000</td>\n",
       "      <td>100.000000</td>\n",
       "      <td>100.000000</td>\n",
       "      <td>100.000000</td>\n",
       "      <td>100.000000</td>\n",
       "    </tr>\n",
       "  </tbody>\n",
       "</table>\n",
       "<p>8 rows × 22 columns</p>\n",
       "</div>"
      ]
     },
     "execution_count": 12,
     "metadata": {},
     "output_type": "execute_result"
    }
   ],
   "execution_count": 12,
   "source": "processes.describe()",
   "id": "a63007db06def8cb"
  },
  {
   "metadata": {},
   "cell_type": "markdown",
   "source": "We can again see that the mean is mostly close to the median, which suggests normal distribution. ",
   "id": "f616ce94adb5c904"
  },
  {
   "metadata": {
    "ExecuteTime": {
     "end_time": "2024-10-06T08:24:50.883173Z",
     "start_time": "2024-10-06T08:24:50.871259Z"
    }
   },
   "cell_type": "code",
   "source": "profiles.head()",
   "id": "c51a75b79859e7fa",
   "outputs": [
    {
     "data": {
      "text/plain": [
       "              name                    mail          registration  \\\n",
       "0   Matthew Powell  floreseugene@yahoo.com           14 Mar 2024   \n",
       "1  Nicole Richards     fthompson@gmail.com            2023-01-13   \n",
       "2     Andrew Smith       megan89@yahoo.com           17 Apr 2019   \n",
       "3   Shane Williams    osimmons@hotmail.com            2023-09-09   \n",
       "4   Patricia Leach    prodriguez@yahoo.com  01/30/2018, 00:00:00   \n",
       "\n",
       "                            job          ssn                      company  \\\n",
       "0                           NaN  219-60-6090                  Hicks-Drake   \n",
       "1                           NaN  049-88-9351      Nguyen, White and Lopez   \n",
       "2                           NaN  039-54-7186              Navarro-Goodman   \n",
       "3  Administrator, Civil Service  453-34-1867  Brown, Compton and Thompson   \n",
       "4                           NaN  785-50-4993                    Pratt PLC   \n",
       "\n",
       "                                  current_location     username  \\\n",
       "0   (Decimal('-27.447495'), Decimal('-43.231283'))    kcalderon   \n",
       "1    (Decimal('39.235450'), Decimal('138.429324'))      pgarcia   \n",
       "2  (Decimal('-22.094944'), Decimal('-141.211383'))       sramos   \n",
       "3   (Decimal('39.9652785'), Decimal('-39.378417'))      ioneill   \n",
       "4                                              NaN  michaelhart   \n",
       "\n",
       "                  imei                                          residence  \\\n",
       "0  3590433799317661974                                                NaN   \n",
       "1  8630330696303481198      662 Christopher Point\\nWest Matthew, VT 84352   \n",
       "2  8630330696303482071  9912 Jasmine Extension Suite 310\\nDianeville, ...   \n",
       "3   863033069630348826                                                NaN   \n",
       "4   359043379931766403                                                NaN   \n",
       "\n",
       "   user_id                                            address  \n",
       "0     2401  84859 Nunez Lock Suite 082\\nWest Rossside, HI ...  \n",
       "1     1147              9123 Traci Pines\\nLindastad, ME 99569  \n",
       "2      459      523 Suarez Port Apt. 013\\nKellybury, MS 63150  \n",
       "3     1587  4827 Morgan Mission\\nWest Michaelborough, AL 1...  \n",
       "4     2312             48666 William View\\nEricbury, OH 12135  "
      ],
      "text/html": [
       "<div>\n",
       "<style scoped>\n",
       "    .dataframe tbody tr th:only-of-type {\n",
       "        vertical-align: middle;\n",
       "    }\n",
       "\n",
       "    .dataframe tbody tr th {\n",
       "        vertical-align: top;\n",
       "    }\n",
       "\n",
       "    .dataframe thead th {\n",
       "        text-align: right;\n",
       "    }\n",
       "</style>\n",
       "<table border=\"1\" class=\"dataframe\">\n",
       "  <thead>\n",
       "    <tr style=\"text-align: right;\">\n",
       "      <th></th>\n",
       "      <th>name</th>\n",
       "      <th>mail</th>\n",
       "      <th>registration</th>\n",
       "      <th>job</th>\n",
       "      <th>ssn</th>\n",
       "      <th>company</th>\n",
       "      <th>current_location</th>\n",
       "      <th>username</th>\n",
       "      <th>imei</th>\n",
       "      <th>residence</th>\n",
       "      <th>user_id</th>\n",
       "      <th>address</th>\n",
       "    </tr>\n",
       "  </thead>\n",
       "  <tbody>\n",
       "    <tr>\n",
       "      <th>0</th>\n",
       "      <td>Matthew Powell</td>\n",
       "      <td>floreseugene@yahoo.com</td>\n",
       "      <td>14 Mar 2024</td>\n",
       "      <td>NaN</td>\n",
       "      <td>219-60-6090</td>\n",
       "      <td>Hicks-Drake</td>\n",
       "      <td>(Decimal('-27.447495'), Decimal('-43.231283'))</td>\n",
       "      <td>kcalderon</td>\n",
       "      <td>3590433799317661974</td>\n",
       "      <td>NaN</td>\n",
       "      <td>2401</td>\n",
       "      <td>84859 Nunez Lock Suite 082\\nWest Rossside, HI ...</td>\n",
       "    </tr>\n",
       "    <tr>\n",
       "      <th>1</th>\n",
       "      <td>Nicole Richards</td>\n",
       "      <td>fthompson@gmail.com</td>\n",
       "      <td>2023-01-13</td>\n",
       "      <td>NaN</td>\n",
       "      <td>049-88-9351</td>\n",
       "      <td>Nguyen, White and Lopez</td>\n",
       "      <td>(Decimal('39.235450'), Decimal('138.429324'))</td>\n",
       "      <td>pgarcia</td>\n",
       "      <td>8630330696303481198</td>\n",
       "      <td>662 Christopher Point\\nWest Matthew, VT 84352</td>\n",
       "      <td>1147</td>\n",
       "      <td>9123 Traci Pines\\nLindastad, ME 99569</td>\n",
       "    </tr>\n",
       "    <tr>\n",
       "      <th>2</th>\n",
       "      <td>Andrew Smith</td>\n",
       "      <td>megan89@yahoo.com</td>\n",
       "      <td>17 Apr 2019</td>\n",
       "      <td>NaN</td>\n",
       "      <td>039-54-7186</td>\n",
       "      <td>Navarro-Goodman</td>\n",
       "      <td>(Decimal('-22.094944'), Decimal('-141.211383'))</td>\n",
       "      <td>sramos</td>\n",
       "      <td>8630330696303482071</td>\n",
       "      <td>9912 Jasmine Extension Suite 310\\nDianeville, ...</td>\n",
       "      <td>459</td>\n",
       "      <td>523 Suarez Port Apt. 013\\nKellybury, MS 63150</td>\n",
       "    </tr>\n",
       "    <tr>\n",
       "      <th>3</th>\n",
       "      <td>Shane Williams</td>\n",
       "      <td>osimmons@hotmail.com</td>\n",
       "      <td>2023-09-09</td>\n",
       "      <td>Administrator, Civil Service</td>\n",
       "      <td>453-34-1867</td>\n",
       "      <td>Brown, Compton and Thompson</td>\n",
       "      <td>(Decimal('39.9652785'), Decimal('-39.378417'))</td>\n",
       "      <td>ioneill</td>\n",
       "      <td>863033069630348826</td>\n",
       "      <td>NaN</td>\n",
       "      <td>1587</td>\n",
       "      <td>4827 Morgan Mission\\nWest Michaelborough, AL 1...</td>\n",
       "    </tr>\n",
       "    <tr>\n",
       "      <th>4</th>\n",
       "      <td>Patricia Leach</td>\n",
       "      <td>prodriguez@yahoo.com</td>\n",
       "      <td>01/30/2018, 00:00:00</td>\n",
       "      <td>NaN</td>\n",
       "      <td>785-50-4993</td>\n",
       "      <td>Pratt PLC</td>\n",
       "      <td>NaN</td>\n",
       "      <td>michaelhart</td>\n",
       "      <td>359043379931766403</td>\n",
       "      <td>NaN</td>\n",
       "      <td>2312</td>\n",
       "      <td>48666 William View\\nEricbury, OH 12135</td>\n",
       "    </tr>\n",
       "  </tbody>\n",
       "</table>\n",
       "</div>"
      ]
     },
     "execution_count": 14,
     "metadata": {},
     "output_type": "execute_result"
    }
   ],
   "execution_count": 14
  },
  {
   "metadata": {
    "ExecuteTime": {
     "end_time": "2024-10-06T10:54:26.631211Z",
     "start_time": "2024-10-06T10:54:26.624445Z"
    }
   },
   "cell_type": "code",
   "source": "print(f\"There are {profiles.shape[0]} entries with {profiles.shape[1]} columns:\\n {profiles.columns.values}\")",
   "id": "91a83550880dd3a3",
   "outputs": [
    {
     "name": "stdout",
     "output_type": "stream",
     "text": [
      "There are 2605 entries with 12 columns:\n",
      " ['name' 'mail' 'registration' 'job' 'ssn' 'company' 'current_location'\n",
      " 'username' 'imei' 'residence' 'user_id' 'address']\n"
     ]
    }
   ],
   "execution_count": 30
  },
  {
   "metadata": {
    "ExecuteTime": {
     "end_time": "2024-10-06T10:55:08.033934Z",
     "start_time": "2024-10-06T10:55:08.018470Z"
    }
   },
   "cell_type": "code",
   "source": "profiles.describe()",
   "id": "1aac0f2ddb947196",
   "outputs": [
    {
     "data": {
      "text/plain": [
       "               imei      user_id\n",
       "count  2.605000e+03  2605.000000\n",
       "mean   3.884606e+18  1334.530902\n",
       "std    3.311186e+18   747.780003\n",
       "min    3.590434e+17     0.000000\n",
       "25%    8.630331e+17   679.000000\n",
       "50%    3.590434e+18  1346.000000\n",
       "75%    8.630331e+18  1995.000000\n",
       "max    8.630331e+18  2604.000000"
      ],
      "text/html": [
       "<div>\n",
       "<style scoped>\n",
       "    .dataframe tbody tr th:only-of-type {\n",
       "        vertical-align: middle;\n",
       "    }\n",
       "\n",
       "    .dataframe tbody tr th {\n",
       "        vertical-align: top;\n",
       "    }\n",
       "\n",
       "    .dataframe thead th {\n",
       "        text-align: right;\n",
       "    }\n",
       "</style>\n",
       "<table border=\"1\" class=\"dataframe\">\n",
       "  <thead>\n",
       "    <tr style=\"text-align: right;\">\n",
       "      <th></th>\n",
       "      <th>imei</th>\n",
       "      <th>user_id</th>\n",
       "    </tr>\n",
       "  </thead>\n",
       "  <tbody>\n",
       "    <tr>\n",
       "      <th>count</th>\n",
       "      <td>2.605000e+03</td>\n",
       "      <td>2605.000000</td>\n",
       "    </tr>\n",
       "    <tr>\n",
       "      <th>mean</th>\n",
       "      <td>3.884606e+18</td>\n",
       "      <td>1334.530902</td>\n",
       "    </tr>\n",
       "    <tr>\n",
       "      <th>std</th>\n",
       "      <td>3.311186e+18</td>\n",
       "      <td>747.780003</td>\n",
       "    </tr>\n",
       "    <tr>\n",
       "      <th>min</th>\n",
       "      <td>3.590434e+17</td>\n",
       "      <td>0.000000</td>\n",
       "    </tr>\n",
       "    <tr>\n",
       "      <th>25%</th>\n",
       "      <td>8.630331e+17</td>\n",
       "      <td>679.000000</td>\n",
       "    </tr>\n",
       "    <tr>\n",
       "      <th>50%</th>\n",
       "      <td>3.590434e+18</td>\n",
       "      <td>1346.000000</td>\n",
       "    </tr>\n",
       "    <tr>\n",
       "      <th>75%</th>\n",
       "      <td>8.630331e+18</td>\n",
       "      <td>1995.000000</td>\n",
       "    </tr>\n",
       "    <tr>\n",
       "      <th>max</th>\n",
       "      <td>8.630331e+18</td>\n",
       "      <td>2604.000000</td>\n",
       "    </tr>\n",
       "  </tbody>\n",
       "</table>\n",
       "</div>"
      ]
     },
     "execution_count": 32,
     "metadata": {},
     "output_type": "execute_result"
    }
   ],
   "execution_count": 32
  },
  {
   "metadata": {},
   "cell_type": "markdown",
   "source": "There are again only categorical data, so this cell doesn't provide any useful insight.",
   "id": "af303551c4f55ad7"
  },
  {
   "metadata": {
    "ExecuteTime": {
     "end_time": "2024-10-06T08:24:52.111572Z",
     "start_time": "2024-10-06T08:24:52.099113Z"
    }
   },
   "cell_type": "code",
   "source": "profiles.info()",
   "id": "d66765062ef98c",
   "outputs": [
    {
     "name": "stdout",
     "output_type": "stream",
     "text": [
      "<class 'pandas.core.frame.DataFrame'>\n",
      "RangeIndex: 2605 entries, 0 to 2604\n",
      "Data columns (total 12 columns):\n",
      " #   Column            Non-Null Count  Dtype \n",
      "---  ------            --------------  ----- \n",
      " 0   name              2605 non-null   object\n",
      " 1   mail              2605 non-null   object\n",
      " 2   registration      2605 non-null   object\n",
      " 3   job               782 non-null    object\n",
      " 4   ssn               2605 non-null   object\n",
      " 5   company           2605 non-null   object\n",
      " 6   current_location  2475 non-null   object\n",
      " 7   username          2605 non-null   object\n",
      " 8   imei              2605 non-null   int64 \n",
      " 9   residence         912 non-null    object\n",
      " 10  user_id           2605 non-null   int64 \n",
      " 11  address           2214 non-null   object\n",
      "dtypes: int64(2), object(10)\n",
      "memory usage: 244.3+ KB\n"
     ]
    }
   ],
   "execution_count": 16
  },
  {
   "metadata": {},
   "cell_type": "markdown",
   "source": "We can see all the columns are categorical. Further we can see that columns job and residence have a lot of missing values.",
   "id": "52012ee87ff421d3"
  },
  {
   "metadata": {},
   "cell_type": "markdown",
   "source": [
    "## 1-1B\n",
    "For better results, analysis should be repeated for cleaned data."
   ],
   "id": "62147c8ad1efe8d4"
  },
  {
   "metadata": {},
   "cell_type": "markdown",
   "source": [
    "\n",
    "* Connections\n",
    "    - c.android.youtube\n",
    "    - c.dogalize\n",
    "* Devices\n",
    "    - store_name\n",
    "    - location\n",
    "* Processes\n",
    "    - ...\n",
    "* Profiles\n",
    "    - company\n",
    "* Common\n",
    "    - Between connections and processes: ts\n",
    "    - Between all tables: imei"
   ],
   "id": "d1403b837aa6ff73"
  },
  {
   "metadata": {},
   "cell_type": "markdown",
   "source": "column: imei",
   "id": "2022bbf1d4115dc3"
  },
  {
   "metadata": {
    "ExecuteTime": {
     "end_time": "2024-10-06T13:05:45.100707Z",
     "start_time": "2024-10-06T13:05:45.089393Z"
    }
   },
   "cell_type": "code",
   "source": [
    "# get counts how many each specific imei is in each table\n",
    "imei_counts = {\n",
    "    'connections': connections['imei'].value_counts().reset_index()['count'],\n",
    "    'devices': devices['imei'].value_counts().reset_index()['count'],\n",
    "    'processes': processes['imei'].value_counts().reset_index()['count'],\n",
    "    'profiles': profiles['imei'].value_counts().reset_index()['count']\n",
    "}"
   ],
   "id": "dda7aa2c3e0f793d",
   "outputs": [],
   "execution_count": 41
  },
  {
   "metadata": {
    "ExecuteTime": {
     "end_time": "2024-10-06T14:29:38.597440Z",
     "start_time": "2024-10-06T14:29:38.367131Z"
    }
   },
   "cell_type": "code",
   "source": [
    "sns.histplot(imei_counts['connections'], kde=True)\n",
    "plt.xlabel('Number of entries per imei')"
   ],
   "id": "28f126b1241d6fe",
   "outputs": [
    {
     "data": {
      "text/plain": [
       "Text(0.5, 0, 'Number of entries per imei')"
      ]
     },
     "execution_count": 46,
     "metadata": {},
     "output_type": "execute_result"
    },
    {
     "data": {
      "text/plain": [
       "<Figure size 640x480 with 1 Axes>"
      ],
      "image/png": "[encoded data removed]"
     },
     "metadata": {},
     "output_type": "display_data"
    }
   ],
   "execution_count": 46
  },
  {
   "metadata": {
    "ExecuteTime": {
     "end_time": "2024-10-06T14:29:38.977248Z",
     "start_time": "2024-10-06T14:29:38.774720Z"
    }
   },
   "cell_type": "code",
   "source": [
    "sns.histplot(imei_counts['devices'], kde=True)\n",
    "plt.xlabel('Number of entries per imei')"
   ],
   "id": "86beda7c8ca92ac3",
   "outputs": [
    {
     "data": {
      "text/plain": [
       "Text(0.5, 0, 'Number of entries per imei')"
      ]
     },
     "execution_count": 47,
     "metadata": {},
     "output_type": "execute_result"
    },
    {
     "data": {
      "text/plain": [
       "<Figure size 640x480 with 1 Axes>"
      ],
      "image/png": "[encoded data removed]"
     },
     "metadata": {},
     "output_type": "display_data"
    }
   ],
   "execution_count": 47
  },
  {
   "metadata": {
    "ExecuteTime": {
     "end_time": "2024-10-06T14:29:39.618181Z",
     "start_time": "2024-10-06T14:29:39.392585Z"
    }
   },
   "cell_type": "code",
   "source": [
    "sns.histplot(imei_counts['processes'], kde=True)\n",
    "plt.xlabel('Number of entries per imei')"
   ],
   "id": "85ef32b3258e3bdb",
   "outputs": [
    {
     "data": {
      "text/plain": [
       "Text(0.5, 0, 'Number of entries per imei')"
      ]
     },
     "execution_count": 48,
     "metadata": {},
     "output_type": "execute_result"
    },
    {
     "data": {
      "text/plain": [
       "<Figure size 640x480 with 1 Axes>"
      ],
      "image/png": "[encoded data removed]"
     },
     "metadata": {},
     "output_type": "display_data"
    }
   ],
   "execution_count": 48
  },
  {
   "metadata": {
    "ExecuteTime": {
     "end_time": "2024-10-06T14:29:40.208358Z",
     "start_time": "2024-10-06T14:29:40.000228Z"
    }
   },
   "cell_type": "code",
   "source": [
    "sns.histplot(imei_counts['profiles'], kde=True)\n",
    "plt.xlabel('Number of entries per imei')"
   ],
   "id": "30b4078c4aa6f1cd",
   "outputs": [
    {
     "data": {
      "text/plain": [
       "Text(0.5, 0, 'Number of entries per imei')"
      ]
     },
     "execution_count": 49,
     "metadata": {},
     "output_type": "execute_result"
    },
    {
     "data": {
      "text/plain": [
       "<Figure size 640x480 with 1 Axes>"
      ],
      "image/png": "[encoded data removed]"
     },
     "metadata": {},
     "output_type": "display_data"
    }
   ],
   "execution_count": 49
  },
  {
   "metadata": {},
   "cell_type": "markdown",
   "source": [
    "Distribution in tables connections and processes is normal, meaning not all devices have been tested the same amount of times. \n",
    "In profiles table, the distribution of imei is resembling normal, although slightly skewed, implying users have multiple devices. \n",
    "In table devices, the distribution is also normal, which is a problem, as imei should be unique per device."
   ],
   "id": "49a3549a48b69976"
  },
  {
   "metadata": {},
   "cell_type": "markdown",
   "source": "# Phase 1-2\n",
   "id": "81a26373cce47f59"
  },
  {
   "metadata": {},
   "cell_type": "markdown",
   "source": "It looks like processes and connections have the same length and the same values in the columns ts, imei, mwra in respective rows. Let's check if this is true.",
   "id": "d514a0e02da294a0"
  },
  {
   "metadata": {
    "ExecuteTime": {
     "end_time": "2024-10-05T22:53:48.533189Z",
     "start_time": "2024-10-05T22:53:48.522010Z"
    }
   },
   "cell_type": "code",
   "source": "(connections[['ts', 'imei', 'mwra']] == processes[['ts', 'imei', 'mwra']]).all().all() # .all().all() checks if all values across both dimensions are True",
   "id": "5d1987ddf579574a",
   "outputs": [
    {
     "data": {
      "text/plain": [
       "True"
      ]
     },
     "execution_count": 83,
     "metadata": {},
     "output_type": "execute_result"
    }
   ],
   "execution_count": 83
  },
  {
   "metadata": {},
   "cell_type": "markdown",
   "source": "Previous cell has confirmed our suspicion, that these were the same snapshots. We can now join the tables",
   "id": "d92dc5741b3ab0dd"
  },
  {
   "metadata": {
    "ExecuteTime": {
     "end_time": "2024-10-05T22:59:47.060713Z",
     "start_time": "2024-10-05T22:59:47.051982Z"
    }
   },
   "cell_type": "code",
   "source": "actions = processes.join(connections.drop(columns=['ts', 'imei', 'mwra']), how='inner')",
   "id": "957bcb235f6bbcc8",
   "outputs": [],
   "execution_count": 92
  },
  {
   "metadata": {
    "ExecuteTime": {
     "end_time": "2024-10-05T23:06:57.859954Z",
     "start_time": "2024-10-05T23:06:57.851144Z"
    }
   },
   "cell_type": "code",
   "source": "actions['imei'].nunique(), processes['imei'].nunique(), connections['imei'].nunique()",
   "id": "5a2041a39e8202ad",
   "outputs": [
    {
     "data": {
      "text/plain": [
       "(500, 500, 500)"
      ]
     },
     "execution_count": 109,
     "metadata": {},
     "output_type": "execute_result"
    }
   ],
   "execution_count": 109
  },
  {
   "metadata": {
    "ExecuteTime": {
     "end_time": "2024-10-05T23:06:42.736289Z",
     "start_time": "2024-10-05T23:06:42.728915Z"
    }
   },
   "cell_type": "code",
   "source": "devices['imei'].nunique()",
   "id": "3e717ff44f682763",
   "outputs": [
    {
     "data": {
      "text/plain": [
       "499"
      ]
     },
     "execution_count": 108,
     "metadata": {},
     "output_type": "execute_result"
    }
   ],
   "execution_count": 108
  },
  {
   "metadata": {
    "ExecuteTime": {
     "end_time": "2024-10-05T23:08:42.715965Z",
     "start_time": "2024-10-05T23:08:42.706715Z"
    }
   },
   "cell_type": "code",
   "source": [
    "# check what imei is in actions but not in devices\n",
    "actions['imei'].isin(devices['imei']).all()\n",
    "# get the false value\n",
    "actions['imei'][~actions['imei'].isin(devices['imei'])]"
   ],
   "id": "9cbc1156ba204e8",
   "outputs": [
    {
     "data": {
      "text/plain": [
       "447      3590433799317662055\n",
       "475      3590433799317662055\n",
       "837      3590433799317662055\n",
       "1124     3590433799317662055\n",
       "1326     3590433799317662055\n",
       "1548     3590433799317662055\n",
       "1872     3590433799317662055\n",
       "2237     3590433799317662055\n",
       "2918     3590433799317662055\n",
       "5308     3590433799317662055\n",
       "5730     3590433799317662055\n",
       "6039     3590433799317662055\n",
       "6103     3590433799317662055\n",
       "7066     3590433799317662055\n",
       "7311     3590433799317662055\n",
       "7338     3590433799317662055\n",
       "8631     3590433799317662055\n",
       "9257     3590433799317662055\n",
       "9319     3590433799317662055\n",
       "9684     3590433799317662055\n",
       "9900     3590433799317662055\n",
       "10181    3590433799317662055\n",
       "10576    3590433799317662055\n",
       "10611    3590433799317662055\n",
       "10641    3590433799317662055\n",
       "11774    3590433799317662055\n",
       "11995    3590433799317662055\n",
       "12168    3590433799317662055\n",
       "12869    3590433799317662055\n",
       "13017    3590433799317662055\n",
       "13766    3590433799317662055\n",
       "13857    3590433799317662055\n",
       "14117    3590433799317662055\n",
       "14892    3590433799317662055\n",
       "Name: imei, dtype: int64"
      ]
     },
     "execution_count": 113,
     "metadata": {},
     "output_type": "execute_result"
    }
   ],
   "execution_count": 113
  },
  {
   "metadata": {},
   "cell_type": "code",
   "outputs": [],
   "execution_count": null,
   "source": "",
   "id": "bbf9389f41bbbfa2"
  }
 ],
 "metadata": {
  "kernelspec": {
   "display_name": "Python 3",
   "language": "python",
   "name": "python3"
  },
  "language_info": {
   "codemirror_mode": {
    "name": "ipython",
    "version": 2
   },
   "file_extension": ".py",
   "mimetype": "text/x-python",
   "name": "python",
   "nbconvert_exporter": "python",
   "pygments_lexer": "ipython2",
   "version": "2.7.6"
  }
 },
 "nbformat": 4,
 "nbformat_minor": 5
}
