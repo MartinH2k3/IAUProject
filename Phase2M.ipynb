{
 "cells": [
  {
   "cell_type": "code",
   "id": "initial_id",
   "metadata": {
    "collapsed": true,
    "ExecuteTime": {
     "end_time": "2024-10-24T07:50:11.105597Z",
     "start_time": "2024-10-24T07:50:10.845564Z"
    }
   },
   "source": [
    "import matplotlib.pyplot as plt\n",
    "import seaborn as sns\n",
    "import pandas as pd\n",
    "import numpy as np\n",
    "import scipy.stats as stats\n",
    "from datetime import datetime\n",
    "from sklearn.model_selection import train_test_split"
   ],
   "outputs": [],
   "execution_count": 1
  },
  {
   "metadata": {},
   "cell_type": "markdown",
   "source": "# Phase 2: Data preprocessing",
   "id": "87f08b3907cc03bd"
  },
  {
   "metadata": {},
   "cell_type": "markdown",
   "source": "## First we redo the data changes from the 1st phase",
   "id": "e14ff616e53bc87"
  },
  {
   "metadata": {
    "ExecuteTime": {
     "end_time": "2024-10-24T07:53:57.632497Z",
     "start_time": "2024-10-24T07:53:57.501122Z"
    }
   },
   "cell_type": "code",
   "source": "connections, devices, processes, profiles = pd.read_csv('data/connections.csv', sep='\\t', keep_default_na=False, na_values=''), pd.read_csv('data/devices.csv', sep='\\t', keep_default_na=False, na_values=''), pd.read_csv('data/processes.csv', sep='\\t', keep_default_na=False, na_values=''), pd.read_csv('data/profiles.csv', sep='\\t', keep_default_na=False, na_values='')",
   "id": "29387cee1bcc3fa4",
   "outputs": [],
   "execution_count": 2
  },
  {
   "metadata": {},
   "cell_type": "markdown",
   "source": "Iterative way to redo the changes:",
   "id": "621d25b7e9625cb9"
  },
  {
   "metadata": {
    "ExecuteTime": {
     "end_time": "2024-10-24T07:54:01.707329Z",
     "start_time": "2024-10-24T07:54:01.702119Z"
    }
   },
   "cell_type": "code",
   "source": [
    "def get_outliers(column: pd.Series):\n",
    "    lower_quartile = column.quantile(0.25)\n",
    "    upper_quartile = column.quantile(0.75)\n",
    "    iqr = upper_quartile - lower_quartile\n",
    "    return column[(column < lower_quartile - 1.5*iqr) | (column > upper_quartile + 1.5*iqr)]\n"
   ],
   "id": "fb4d0f16b6c55ae4",
   "outputs": [],
   "execution_count": 5
  },
  {
   "metadata": {},
   "cell_type": "code",
   "outputs": [],
   "execution_count": null,
   "source": [
    "def iterative_reformat(processes_ptr: pd.DataFrame, connections_ptr: pd.DataFrame) -> pd.DataFrame:\n",
    "    connections_ptr['ts'] = pd.to_datetime(connections_ptr['ts'])\n",
    "    processes_ptr['ts'] = pd.to_datetime(processes_ptr['ts'])\n",
    "    connections_ptr['mwra'] = connections_ptr['mwra'].astype(bool)\n",
    "    processes_ptr['mwra'] = processes_ptr['mwra'].astype(bool)\n",
    "    merged = processes_ptr.merge(connections_ptr, on=['ts', 'imei', 'mwra'], how='inner')\n",
    "    # handle null values and outliers\n",
    "    for column in merged.columns:\n",
    "        # if more than 5% are NaN values or more than 5% are outliers, we don't use that column\n",
    "        column_outliers = get_outliers(merged[column])\n",
    "        if ((merged[column].dropna().shape[0]/merged.shape[0] > 0.05) or \n",
    "            (column_outliers.shape[0] / merged.shape[0] > 0.05)):\n",
    "            merged.drop(columns=column)\n",
    "            continue\n",
    "        # if there are some null values, we replace the data that's neutral in respect to mwra\n",
    "        if merged[column].isnull().any():\n",
    "            # we get means of the distributions for rows with present and non-present malware related activity\n",
    "            means_per_mwra = merged.groupby('mwra')[column].mean()\n",
    "            # we average those means, meaning the manufactured value won't be likely to affect predicted mwra \n",
    "            imputed_value = means_per_mwra.mean()\n",
    "            merged[column].fillna(imputed_value, inplace=True)\n",
    "        #  if there are any outliers, we replace them with the edge values\n",
    "        if column_outliers.shape[0]:\n",
    "            iqr = stats.iqr(merged[column])\n",
    "            lower_limit = merged[column].quantile(0.25)  - 1.5 * iqr\n",
    "            upper_limit = merged[column].quantile(0.75)  - 1.5 * iqr\n",
    "            merged[column] = merged[column].apply(\n",
    "                lambda x: lower_limit if x < lower_limit else upper_limit if x > upper_limit else x\n",
    "            )\n",
    "    return merged"
   ],
   "id": "3d3773f998dabebe"
  },
  {
   "metadata": {},
   "cell_type": "markdown",
   "source": "# Phase 2-1: Realizing data preprocessing",
   "id": "f4b354aa3ab72ab"
  },
  {
   "metadata": {},
   "cell_type": "markdown",
   "source": [
    "## 2-1a & 2-1b\n",
    "Splitting the data into training and testing sets + transforming data for ML"
   ],
   "id": "28dbdd10be58dd2a"
  },
  {
   "metadata": {},
   "cell_type": "markdown",
   "source": "First we create a combined table for data to work with. As we learnt in the previous phase, we will use only connections and processes tables. Devices and profiles couldn't be connected logically with the other two tables. That's because there were multiple profiles/devices per imei. And it wasn't a fixed amount of profiles/devices per imei either, so we can't just make a column for all locations/usernames/etc. Even if we did that, there wasn't a correlation found between any of the columns in these tables and mwra.",
   "id": "305615d97cc5b489"
  },
  {
   "metadata": {
    "ExecuteTime": {
     "end_time": "2024-10-24T07:57:09.936496Z",
     "start_time": "2024-10-24T07:57:09.909820Z"
    }
   },
   "cell_type": "code",
   "source": "combined_table = iterative_reformat(processes, connections)",
   "id": "6eed37a2981f13ae",
   "outputs": [
    {
     "data": {
      "text/plain": [
       "                   ts                 imei   mwra  p.android.chrome  \\\n",
       "0 2018-05-05 10:00:00  3590433799317661107  False           7.41473   \n",
       "1 2018-05-05 10:01:00  3590433799317662063   True           9.40603   \n",
       "2 2018-05-05 10:02:00   863033069630348313  False          13.61225   \n",
       "3 2018-05-05 10:03:00   359043379931766114   True           8.14970   \n",
       "4 2018-05-05 10:04:00  3590433799317661842   True           8.20358   \n",
       "\n",
       "   p.android.documentsui  p.android.gm  p.system  p.android.packageinstaller  \\\n",
       "0               10.17656      14.80917  12.14702                    11.55620   \n",
       "1                6.57378       6.06519  10.56643                    16.74062   \n",
       "2               11.73312       8.99679  10.79425                    12.60312   \n",
       "3                9.53996       8.28249  10.80629                    13.97670   \n",
       "4                8.94156       8.62248   8.33003                    13.44049   \n",
       "\n",
       "   p.android.settings  p.android.externalstorage  ...  c.android.youtube  \\\n",
       "0             8.33912                   14.02450  ...           11.65403   \n",
       "1            13.78434                    7.57297  ...           10.29551   \n",
       "2            10.78121                   11.90788  ...           12.12831   \n",
       "3            12.73047                   11.64714  ...           11.06419   \n",
       "4            13.31239                   11.40689  ...           12.08457   \n",
       "\n",
       "   c.dogalize  c.android.gm  c.katana  c.android.chrome  c.raider  \\\n",
       "0    10.65335      10.48791  16.91620           5.04564  36.21508   \n",
       "1    10.46363      10.98438  15.65637          14.82931  24.83765   \n",
       "2     9.53752       6.78080   6.98948          10.92433   3.29441   \n",
       "3    11.55759       8.87744  11.84499          15.45902  24.78878   \n",
       "4    10.42860       9.82241  12.48869          12.85363  40.98237   \n",
       "\n",
       "   c.android.vending  c.UCMobile.intl  c.UCMobile.x86  c.updateassist  \n",
       "0           14.24956          4.09319        15.20934         5.11764  \n",
       "1           57.49911         23.94919         8.82448        44.13570  \n",
       "2           20.37891         52.55353        49.51037        99.75215  \n",
       "3           36.40299         25.77644        21.84167        65.17774  \n",
       "4           74.13316         96.77450        18.48116        90.77304  \n",
       "\n",
       "[5 rows x 33 columns]"
      ],
      "text/html": [
       "<div>\n",
       "<style scoped>\n",
       "    .dataframe tbody tr th:only-of-type {\n",
       "        vertical-align: middle;\n",
       "    }\n",
       "\n",
       "    .dataframe tbody tr th {\n",
       "        vertical-align: top;\n",
       "    }\n",
       "\n",
       "    .dataframe thead th {\n",
       "        text-align: right;\n",
       "    }\n",
       "</style>\n",
       "<table border=\"1\" class=\"dataframe\">\n",
       "  <thead>\n",
       "    <tr style=\"text-align: right;\">\n",
       "      <th></th>\n",
       "      <th>ts</th>\n",
       "      <th>imei</th>\n",
       "      <th>mwra</th>\n",
       "      <th>p.android.chrome</th>\n",
       "      <th>p.android.documentsui</th>\n",
       "      <th>p.android.gm</th>\n",
       "      <th>p.system</th>\n",
       "      <th>p.android.packageinstaller</th>\n",
       "      <th>p.android.settings</th>\n",
       "      <th>p.android.externalstorage</th>\n",
       "      <th>...</th>\n",
       "      <th>c.android.youtube</th>\n",
       "      <th>c.dogalize</th>\n",
       "      <th>c.android.gm</th>\n",
       "      <th>c.katana</th>\n",
       "      <th>c.android.chrome</th>\n",
       "      <th>c.raider</th>\n",
       "      <th>c.android.vending</th>\n",
       "      <th>c.UCMobile.intl</th>\n",
       "      <th>c.UCMobile.x86</th>\n",
       "      <th>c.updateassist</th>\n",
       "    </tr>\n",
       "  </thead>\n",
       "  <tbody>\n",
       "    <tr>\n",
       "      <th>0</th>\n",
       "      <td>2018-05-05 10:00:00</td>\n",
       "      <td>3590433799317661107</td>\n",
       "      <td>False</td>\n",
       "      <td>7.41473</td>\n",
       "      <td>10.17656</td>\n",
       "      <td>14.80917</td>\n",
       "      <td>12.14702</td>\n",
       "      <td>11.55620</td>\n",
       "      <td>8.33912</td>\n",
       "      <td>14.02450</td>\n",
       "      <td>...</td>\n",
       "      <td>11.65403</td>\n",
       "      <td>10.65335</td>\n",
       "      <td>10.48791</td>\n",
       "      <td>16.91620</td>\n",
       "      <td>5.04564</td>\n",
       "      <td>36.21508</td>\n",
       "      <td>14.24956</td>\n",
       "      <td>4.09319</td>\n",
       "      <td>15.20934</td>\n",
       "      <td>5.11764</td>\n",
       "    </tr>\n",
       "    <tr>\n",
       "      <th>1</th>\n",
       "      <td>2018-05-05 10:01:00</td>\n",
       "      <td>3590433799317662063</td>\n",
       "      <td>True</td>\n",
       "      <td>9.40603</td>\n",
       "      <td>6.57378</td>\n",
       "      <td>6.06519</td>\n",
       "      <td>10.56643</td>\n",
       "      <td>16.74062</td>\n",
       "      <td>13.78434</td>\n",
       "      <td>7.57297</td>\n",
       "      <td>...</td>\n",
       "      <td>10.29551</td>\n",
       "      <td>10.46363</td>\n",
       "      <td>10.98438</td>\n",
       "      <td>15.65637</td>\n",
       "      <td>14.82931</td>\n",
       "      <td>24.83765</td>\n",
       "      <td>57.49911</td>\n",
       "      <td>23.94919</td>\n",
       "      <td>8.82448</td>\n",
       "      <td>44.13570</td>\n",
       "    </tr>\n",
       "    <tr>\n",
       "      <th>2</th>\n",
       "      <td>2018-05-05 10:02:00</td>\n",
       "      <td>863033069630348313</td>\n",
       "      <td>False</td>\n",
       "      <td>13.61225</td>\n",
       "      <td>11.73312</td>\n",
       "      <td>8.99679</td>\n",
       "      <td>10.79425</td>\n",
       "      <td>12.60312</td>\n",
       "      <td>10.78121</td>\n",
       "      <td>11.90788</td>\n",
       "      <td>...</td>\n",
       "      <td>12.12831</td>\n",
       "      <td>9.53752</td>\n",
       "      <td>6.78080</td>\n",
       "      <td>6.98948</td>\n",
       "      <td>10.92433</td>\n",
       "      <td>3.29441</td>\n",
       "      <td>20.37891</td>\n",
       "      <td>52.55353</td>\n",
       "      <td>49.51037</td>\n",
       "      <td>99.75215</td>\n",
       "    </tr>\n",
       "    <tr>\n",
       "      <th>3</th>\n",
       "      <td>2018-05-05 10:03:00</td>\n",
       "      <td>359043379931766114</td>\n",
       "      <td>True</td>\n",
       "      <td>8.14970</td>\n",
       "      <td>9.53996</td>\n",
       "      <td>8.28249</td>\n",
       "      <td>10.80629</td>\n",
       "      <td>13.97670</td>\n",
       "      <td>12.73047</td>\n",
       "      <td>11.64714</td>\n",
       "      <td>...</td>\n",
       "      <td>11.06419</td>\n",
       "      <td>11.55759</td>\n",
       "      <td>8.87744</td>\n",
       "      <td>11.84499</td>\n",
       "      <td>15.45902</td>\n",
       "      <td>24.78878</td>\n",
       "      <td>36.40299</td>\n",
       "      <td>25.77644</td>\n",
       "      <td>21.84167</td>\n",
       "      <td>65.17774</td>\n",
       "    </tr>\n",
       "    <tr>\n",
       "      <th>4</th>\n",
       "      <td>2018-05-05 10:04:00</td>\n",
       "      <td>3590433799317661842</td>\n",
       "      <td>True</td>\n",
       "      <td>8.20358</td>\n",
       "      <td>8.94156</td>\n",
       "      <td>8.62248</td>\n",
       "      <td>8.33003</td>\n",
       "      <td>13.44049</td>\n",
       "      <td>13.31239</td>\n",
       "      <td>11.40689</td>\n",
       "      <td>...</td>\n",
       "      <td>12.08457</td>\n",
       "      <td>10.42860</td>\n",
       "      <td>9.82241</td>\n",
       "      <td>12.48869</td>\n",
       "      <td>12.85363</td>\n",
       "      <td>40.98237</td>\n",
       "      <td>74.13316</td>\n",
       "      <td>96.77450</td>\n",
       "      <td>18.48116</td>\n",
       "      <td>90.77304</td>\n",
       "    </tr>\n",
       "  </tbody>\n",
       "</table>\n",
       "<p>5 rows × 33 columns</p>\n",
       "</div>"
      ]
     },
     "execution_count": 7,
     "metadata": {},
     "output_type": "execute_result"
    }
   ],
   "execution_count": 7
  },
  {
   "metadata": {},
   "cell_type": "markdown",
   "source": "now onto splitting the data into testing and training",
   "id": "4767938d6652d569"
  },
  {
   "metadata": {
    "ExecuteTime": {
     "end_time": "2024-10-24T07:57:12.253070Z",
     "start_time": "2024-10-24T07:57:12.237176Z"
    }
   },
   "cell_type": "code",
   "source": [
    "# we separate the features and the target\n",
    "X = combined_table.drop(columns=['mwra'])\n",
    "y = combined_table['mwra']\n",
    "X_train, X_test, y_train, y_test = train_test_split(X, y, test_size=0.2, random_state=69)"
   ],
   "id": "bf593ed12f12b4f4",
   "outputs": [],
   "execution_count": 8
  },
  {
   "metadata": {},
   "cell_type": "markdown",
   "source": "As we didn't use any non-numerical data, we don't need to do any conversions to numerical. Most of the data had huge cardinality either way which would increase likelihood of overfitting and difficulty of encoding. ",
   "id": "e6b227ee766836ea"
  },
  {
   "metadata": {},
   "cell_type": "markdown",
   "source": "Example for what we would do if we were to use the categorical data from profiles and devices table",
   "id": "be04272d98313d38"
  },
  {
   "metadata": {
    "ExecuteTime": {
     "end_time": "2024-10-24T20:19:02.966003Z",
     "start_time": "2024-10-24T20:19:02.953325Z"
    }
   },
   "cell_type": "code",
   "source": [
    "# if the cardinality was too high to use one hot encoding, we can hash the values and now they are numbers\n",
    "mail_encoded = profiles['mail'].apply(lambda x: hash(x))\n",
    "profiles['mail'].nunique(), mail_encoded.nunique()\n",
    "# if one hot encoding was feasible, it could be doable like this\n",
    "continents = devices[\"location\"].apply(lambda x: x.split('/')[0])\n",
    "continents.head()"
   ],
   "id": "f9749fe466196039",
   "outputs": [
    {
     "data": {
      "text/plain": [
       "0      America\n",
       "1    Australia\n",
       "2       Europe\n",
       "3       Europe\n",
       "4      America\n",
       "Name: location, dtype: object"
      ]
     },
     "execution_count": 23,
     "metadata": {},
     "output_type": "execute_result"
    }
   ],
   "execution_count": 23
  },
  {
   "metadata": {},
   "cell_type": "code",
   "outputs": [],
   "execution_count": null,
   "source": "",
   "id": "76d6b91e161ae04c"
  }
 ],
 "metadata": {
  "kernelspec": {
   "display_name": "Python 3",
   "language": "python",
   "name": "python3"
  },
  "language_info": {
   "codemirror_mode": {
    "name": "ipython",
    "version": 2
   },
   "file_extension": ".py",
   "mimetype": "text/x-python",
   "name": "python",
   "nbconvert_exporter": "python",
   "pygments_lexer": "ipython2",
   "version": "2.7.6"
  }
 },
 "nbformat": 4,
 "nbformat_minor": 5
}
