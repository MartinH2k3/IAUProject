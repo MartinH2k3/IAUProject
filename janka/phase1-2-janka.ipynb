{
 "cells": [
  {
   "cell_type": "code",
   "execution_count": 2,
   "metadata": {},
   "outputs": [],
   "source": [
    "import matplotlib.pyplot as plt\n",
    "import seaborn as sns\n",
    "import pandas as pd\n",
    "import numpy as np\n",
    "import scipy.stats as stats\n",
    "from datetime import datetime"
   ]
  },
  {
   "cell_type": "code",
   "execution_count": 4,
   "metadata": {},
   "outputs": [],
   "source": [
    "def convert_to_datetime(value):\n",
    "    date_formats = [\"%Y-%m-%d\", \"%Y/%m/%d\", \"%m/%d/%Y, %H:%M:%S\", \"%d %b %Y\"]\n",
    "    for fmt in date_formats:\n",
    "        try:\n",
    "            return datetime.strptime(value, fmt)\n",
    "        except ValueError:\n",
    "            continue\n",
    "    return None"
   ]
  },
  {
   "cell_type": "code",
   "execution_count": 32,
   "metadata": {},
   "outputs": [],
   "source": [
    "connections, devices, processes, profiles = pd.read_csv('data/connections.csv', sep='\\t', keep_default_na=False), pd.read_csv('data/devices.csv', sep='\\t', keep_default_na=False), pd.read_csv('data/processes.csv', sep='\\t', keep_default_na=False), pd.read_csv('data/profiles.csv', sep='\\t', keep_default_na=False)"
   ]
  },
  {
   "cell_type": "markdown",
   "metadata": {},
   "source": [
    "## Missing values - deleting records"
   ]
  },
  {
   "cell_type": "code",
   "execution_count": 166,
   "metadata": {},
   "outputs": [],
   "source": [
    "profiles = profiles[profiles['current_location'] != '']"
   ]
  },
  {
   "cell_type": "markdown",
   "metadata": {},
   "source": [
    "## Non-uniform formats"
   ]
  },
  {
   "cell_type": "markdown",
   "metadata": {},
   "source": [
    "Timestamp type correction"
   ]
  },
  {
   "cell_type": "code",
   "execution_count": 167,
   "metadata": {},
   "outputs": [],
   "source": [
    "connections['ts'] = pd.to_datetime(connections['ts'])\n",
    "processes['ts'] = pd.to_datetime(processes['ts'])"
   ]
  },
  {
   "cell_type": "code",
   "execution_count": 168,
   "metadata": {},
   "outputs": [],
   "source": [
    "profiles['registration'] = profiles['registration'].apply(convert_to_datetime)"
   ]
  },
  {
   "cell_type": "markdown",
   "metadata": {},
   "source": [
    "Conversion of the column current_location to two columns: latitude and longitude"
   ]
  },
  {
   "cell_type": "code",
   "execution_count": 169,
   "metadata": {},
   "outputs": [],
   "source": [
    "latitudes = []\n",
    "longitudes = []\n",
    "\n",
    "for location in profiles['current_location']:\n",
    "    if len(location) < 1:\n",
    "        latitudes.append(None)\n",
    "        longitudes.append(None)\n",
    "        continue\n",
    "    loc = location.replace(\"Decimal(\", \"\").replace(\")\", \"\").replace(\" \", \"\").replace(\"'\", \"\").replace(\"(\", \"\")\n",
    "    lat, lon = loc.split(\",\")\n",
    "    lat = float(lat.strip())\n",
    "    lon = float(lon.strip())\n",
    "\n",
    "    latitudes.append(lat)\n",
    "    longitudes.append(lon)\n",
    "\n",
    "profiles['latitude'] = latitudes\n",
    "profiles['longitude'] = longitudes\n",
    "\n",
    "profiles.drop(columns=['current_location'], inplace=True)"
   ]
  },
  {
   "cell_type": "markdown",
   "metadata": {},
   "source": [
    "## Inappropriate data structure"
   ]
  },
  {
   "cell_type": "markdown",
   "metadata": {},
   "source": [
    "Split column location in table devices to two columns: continent and city"
   ]
  },
  {
   "cell_type": "code",
   "execution_count": 170,
   "metadata": {},
   "outputs": [],
   "source": [
    "continents, cities = [], []\n",
    "\n",
    "for location in devices['location']:\n",
    "    if len(location) > 0:\n",
    "        continent, city = location.split(\"/\", 1)\n",
    "        continents.append(continent)\n",
    "        cities.append(city)\n",
    "    else:\n",
    "        continents.append(None)\n",
    "        cities.append(None)\n",
    "\n",
    "devices['continent'] = continents\n",
    "devices['city'] = cities\n",
    "\n",
    "devices.drop(columns=['location'], inplace=True)"
   ]
  },
  {
   "cell_type": "markdown",
   "metadata": {},
   "source": [
    "## Duplicate values"
   ]
  },
  {
   "cell_type": "code",
   "execution_count": 173,
   "metadata": {},
   "outputs": [
    {
     "name": "stdout",
     "output_type": "stream",
     "text": [
      "Number of records before deleting duplicates\n",
      "Connections:  15074\n",
      "Devices:  2895\n",
      "Profiles:  2475\n",
      "Processes:  15074\n"
     ]
    }
   ],
   "source": [
    "print(\"Number of records before deleting duplicates\")\n",
    "print(\"Connections: \", connections.shape[0])\n",
    "print(\"Devices: \", devices.shape[0])\n",
    "print(\"Profiles: \", profiles.shape[0])\n",
    "print(\"Processes: \", processes.shape[0])"
   ]
  },
  {
   "cell_type": "code",
   "execution_count": 174,
   "metadata": {},
   "outputs": [],
   "source": [
    "connections = connections.drop_duplicates()\n",
    "devices = devices.drop_duplicates()\n",
    "profiles = profiles.drop_duplicates()\n",
    "processes = processes.drop_duplicates()"
   ]
  },
  {
   "cell_type": "code",
   "execution_count": 175,
   "metadata": {},
   "outputs": [
    {
     "name": "stdout",
     "output_type": "stream",
     "text": [
      "Number of records after deleting duplicates\n",
      "Connections:  14895\n",
      "Devices:  2883\n",
      "Profiles:  2475\n",
      "Processes:  14895\n"
     ]
    }
   ],
   "source": [
    "print(\"Number of records after deleting duplicates\")\n",
    "print(\"Connections: \", connections.shape[0])\n",
    "print(\"Devices: \", devices.shape[0])\n",
    "print(\"Profiles: \", profiles.shape[0])\n",
    "print(\"Processes: \", processes.shape[0])"
   ]
  },
  {
   "cell_type": "markdown",
   "metadata": {},
   "source": [
    "## Missing values - replacing with constant value"
   ]
  },
  {
   "cell_type": "code",
   "execution_count": 171,
   "metadata": {},
   "outputs": [],
   "source": [
    "profiles['residence'] = np.where(profiles['residence'] == '', 'Unknown', profiles['residence'])\n",
    "profiles['address'] = np.where(profiles['address'] == '', 'Unknown', profiles['address'])"
   ]
  },
  {
   "cell_type": "code",
   "execution_count": 172,
   "metadata": {},
   "outputs": [
    {
     "data": {
      "text/html": [
       "<div>\n",
       "<style scoped>\n",
       "    .dataframe tbody tr th:only-of-type {\n",
       "        vertical-align: middle;\n",
       "    }\n",
       "\n",
       "    .dataframe tbody tr th {\n",
       "        vertical-align: top;\n",
       "    }\n",
       "\n",
       "    .dataframe thead th {\n",
       "        text-align: right;\n",
       "    }\n",
       "</style>\n",
       "<table border=\"1\" class=\"dataframe\">\n",
       "  <thead>\n",
       "    <tr style=\"text-align: right;\">\n",
       "      <th></th>\n",
       "      <th>name</th>\n",
       "      <th>mail</th>\n",
       "      <th>registration</th>\n",
       "      <th>job</th>\n",
       "      <th>ssn</th>\n",
       "      <th>company</th>\n",
       "      <th>username</th>\n",
       "      <th>imei</th>\n",
       "      <th>residence</th>\n",
       "      <th>user_id</th>\n",
       "      <th>address</th>\n",
       "      <th>latitude</th>\n",
       "      <th>longitude</th>\n",
       "    </tr>\n",
       "  </thead>\n",
       "  <tbody>\n",
       "    <tr>\n",
       "      <th>0</th>\n",
       "      <td>Matthew Powell</td>\n",
       "      <td>floreseugene@yahoo.com</td>\n",
       "      <td>2024-03-14</td>\n",
       "      <td>Unknown</td>\n",
       "      <td>219-60-6090</td>\n",
       "      <td>Hicks-Drake</td>\n",
       "      <td>kcalderon</td>\n",
       "      <td>3590433799317661974</td>\n",
       "      <td>Unknown</td>\n",
       "      <td>2401</td>\n",
       "      <td>84859 Nunez Lock Suite 082\\nWest Rossside, HI ...</td>\n",
       "      <td>-27.447495</td>\n",
       "      <td>-43.231283</td>\n",
       "    </tr>\n",
       "    <tr>\n",
       "      <th>1</th>\n",
       "      <td>Nicole Richards</td>\n",
       "      <td>fthompson@gmail.com</td>\n",
       "      <td>2023-01-13</td>\n",
       "      <td>Unknown</td>\n",
       "      <td>049-88-9351</td>\n",
       "      <td>Nguyen, White and Lopez</td>\n",
       "      <td>pgarcia</td>\n",
       "      <td>8630330696303481198</td>\n",
       "      <td>662 Christopher Point\\nWest Matthew, VT 84352</td>\n",
       "      <td>1147</td>\n",
       "      <td>9123 Traci Pines\\nLindastad, ME 99569</td>\n",
       "      <td>39.235450</td>\n",
       "      <td>138.429324</td>\n",
       "    </tr>\n",
       "    <tr>\n",
       "      <th>2</th>\n",
       "      <td>Andrew Smith</td>\n",
       "      <td>megan89@yahoo.com</td>\n",
       "      <td>2019-04-17</td>\n",
       "      <td>Unknown</td>\n",
       "      <td>039-54-7186</td>\n",
       "      <td>Navarro-Goodman</td>\n",
       "      <td>sramos</td>\n",
       "      <td>8630330696303482071</td>\n",
       "      <td>9912 Jasmine Extension Suite 310\\nDianeville, ...</td>\n",
       "      <td>459</td>\n",
       "      <td>523 Suarez Port Apt. 013\\nKellybury, MS 63150</td>\n",
       "      <td>-22.094944</td>\n",
       "      <td>-141.211383</td>\n",
       "    </tr>\n",
       "    <tr>\n",
       "      <th>3</th>\n",
       "      <td>Shane Williams</td>\n",
       "      <td>osimmons@hotmail.com</td>\n",
       "      <td>2023-09-09</td>\n",
       "      <td>Administrator, Civil Service</td>\n",
       "      <td>453-34-1867</td>\n",
       "      <td>Brown, Compton and Thompson</td>\n",
       "      <td>ioneill</td>\n",
       "      <td>863033069630348826</td>\n",
       "      <td>Unknown</td>\n",
       "      <td>1587</td>\n",
       "      <td>4827 Morgan Mission\\nWest Michaelborough, AL 1...</td>\n",
       "      <td>39.965278</td>\n",
       "      <td>-39.378417</td>\n",
       "    </tr>\n",
       "    <tr>\n",
       "      <th>5</th>\n",
       "      <td>Debra Duncan</td>\n",
       "      <td>lindawebster@yahoo.com</td>\n",
       "      <td>2018-04-24</td>\n",
       "      <td>Unknown</td>\n",
       "      <td>100-29-5185</td>\n",
       "      <td>Bowen, Smith and Sanchez</td>\n",
       "      <td>karen44</td>\n",
       "      <td>3590433799317661321</td>\n",
       "      <td>PSC 5534, Box 8755\\nAPO AP 13717</td>\n",
       "      <td>2257</td>\n",
       "      <td>Unknown</td>\n",
       "      <td>-9.258064</td>\n",
       "      <td>-170.595126</td>\n",
       "    </tr>\n",
       "  </tbody>\n",
       "</table>\n",
       "</div>"
      ],
      "text/plain": [
       "              name                    mail registration  \\\n",
       "0   Matthew Powell  floreseugene@yahoo.com   2024-03-14   \n",
       "1  Nicole Richards     fthompson@gmail.com   2023-01-13   \n",
       "2     Andrew Smith       megan89@yahoo.com   2019-04-17   \n",
       "3   Shane Williams    osimmons@hotmail.com   2023-09-09   \n",
       "5     Debra Duncan  lindawebster@yahoo.com   2018-04-24   \n",
       "\n",
       "                            job          ssn                      company  \\\n",
       "0                       Unknown  219-60-6090                  Hicks-Drake   \n",
       "1                       Unknown  049-88-9351      Nguyen, White and Lopez   \n",
       "2                       Unknown  039-54-7186              Navarro-Goodman   \n",
       "3  Administrator, Civil Service  453-34-1867  Brown, Compton and Thompson   \n",
       "5                       Unknown  100-29-5185     Bowen, Smith and Sanchez   \n",
       "\n",
       "    username                 imei  \\\n",
       "0  kcalderon  3590433799317661974   \n",
       "1    pgarcia  8630330696303481198   \n",
       "2     sramos  8630330696303482071   \n",
       "3    ioneill   863033069630348826   \n",
       "5    karen44  3590433799317661321   \n",
       "\n",
       "                                           residence  user_id  \\\n",
       "0                                            Unknown     2401   \n",
       "1      662 Christopher Point\\nWest Matthew, VT 84352     1147   \n",
       "2  9912 Jasmine Extension Suite 310\\nDianeville, ...      459   \n",
       "3                                            Unknown     1587   \n",
       "5                   PSC 5534, Box 8755\\nAPO AP 13717     2257   \n",
       "\n",
       "                                             address   latitude   longitude  \n",
       "0  84859 Nunez Lock Suite 082\\nWest Rossside, HI ... -27.447495  -43.231283  \n",
       "1              9123 Traci Pines\\nLindastad, ME 99569  39.235450  138.429324  \n",
       "2      523 Suarez Port Apt. 013\\nKellybury, MS 63150 -22.094944 -141.211383  \n",
       "3  4827 Morgan Mission\\nWest Michaelborough, AL 1...  39.965278  -39.378417  \n",
       "5                                            Unknown  -9.258064 -170.595126  "
      ]
     },
     "execution_count": 172,
     "metadata": {},
     "output_type": "execute_result"
    }
   ],
   "source": [
    "profiles.head()"
   ]
  },
  {
   "cell_type": "markdown",
   "metadata": {},
   "source": [
    "## Missing values - replacing value with mode"
   ]
  },
  {
   "cell_type": "markdown",
   "metadata": {},
   "source": [
    "Replacing empty records with modus."
   ]
  },
  {
   "cell_type": "code",
   "execution_count": 16,
   "metadata": {},
   "outputs": [
    {
     "name": "stdout",
     "output_type": "stream",
     "text": [
      "0    Sports development officer\n",
      "Name: job, dtype: object\n"
     ]
    }
   ],
   "source": [
    "filtered_mode = profiles['job'][profiles['job'].notna() & (profiles['job'] != '')].mode()\n",
    "profiles['job'] = np.where(profiles['job'] == '', filtered_mode, profiles['job'])"
   ]
  },
  {
   "cell_type": "code",
   "execution_count": 17,
   "metadata": {},
   "outputs": [
    {
     "data": {
      "text/html": [
       "<div>\n",
       "<style scoped>\n",
       "    .dataframe tbody tr th:only-of-type {\n",
       "        vertical-align: middle;\n",
       "    }\n",
       "\n",
       "    .dataframe tbody tr th {\n",
       "        vertical-align: top;\n",
       "    }\n",
       "\n",
       "    .dataframe thead th {\n",
       "        text-align: right;\n",
       "    }\n",
       "</style>\n",
       "<table border=\"1\" class=\"dataframe\">\n",
       "  <thead>\n",
       "    <tr style=\"text-align: right;\">\n",
       "      <th></th>\n",
       "      <th>name</th>\n",
       "      <th>mail</th>\n",
       "      <th>registration</th>\n",
       "      <th>job</th>\n",
       "      <th>ssn</th>\n",
       "      <th>company</th>\n",
       "      <th>current_location</th>\n",
       "      <th>username</th>\n",
       "      <th>imei</th>\n",
       "      <th>residence</th>\n",
       "      <th>user_id</th>\n",
       "      <th>address</th>\n",
       "    </tr>\n",
       "  </thead>\n",
       "  <tbody>\n",
       "    <tr>\n",
       "      <th>0</th>\n",
       "      <td>Matthew Powell</td>\n",
       "      <td>floreseugene@yahoo.com</td>\n",
       "      <td>14 Mar 2024</td>\n",
       "      <td>Sports development officer</td>\n",
       "      <td>219-60-6090</td>\n",
       "      <td>Hicks-Drake</td>\n",
       "      <td>(Decimal('-27.447495'), Decimal('-43.231283'))</td>\n",
       "      <td>kcalderon</td>\n",
       "      <td>3590433799317661974</td>\n",
       "      <td></td>\n",
       "      <td>2401</td>\n",
       "      <td>84859 Nunez Lock Suite 082\\nWest Rossside, HI ...</td>\n",
       "    </tr>\n",
       "    <tr>\n",
       "      <th>1</th>\n",
       "      <td>Nicole Richards</td>\n",
       "      <td>fthompson@gmail.com</td>\n",
       "      <td>2023-01-13</td>\n",
       "      <td>Sports development officer</td>\n",
       "      <td>049-88-9351</td>\n",
       "      <td>Nguyen, White and Lopez</td>\n",
       "      <td>(Decimal('39.235450'), Decimal('138.429324'))</td>\n",
       "      <td>pgarcia</td>\n",
       "      <td>8630330696303481198</td>\n",
       "      <td>662 Christopher Point\\nWest Matthew, VT 84352</td>\n",
       "      <td>1147</td>\n",
       "      <td>9123 Traci Pines\\nLindastad, ME 99569</td>\n",
       "    </tr>\n",
       "    <tr>\n",
       "      <th>2</th>\n",
       "      <td>Andrew Smith</td>\n",
       "      <td>megan89@yahoo.com</td>\n",
       "      <td>17 Apr 2019</td>\n",
       "      <td>Sports development officer</td>\n",
       "      <td>039-54-7186</td>\n",
       "      <td>Navarro-Goodman</td>\n",
       "      <td>(Decimal('-22.094944'), Decimal('-141.211383'))</td>\n",
       "      <td>sramos</td>\n",
       "      <td>8630330696303482071</td>\n",
       "      <td>9912 Jasmine Extension Suite 310\\nDianeville, ...</td>\n",
       "      <td>459</td>\n",
       "      <td>523 Suarez Port Apt. 013\\nKellybury, MS 63150</td>\n",
       "    </tr>\n",
       "    <tr>\n",
       "      <th>3</th>\n",
       "      <td>Shane Williams</td>\n",
       "      <td>osimmons@hotmail.com</td>\n",
       "      <td>2023-09-09</td>\n",
       "      <td>Administrator, Civil Service</td>\n",
       "      <td>453-34-1867</td>\n",
       "      <td>Brown, Compton and Thompson</td>\n",
       "      <td>(Decimal('39.9652785'), Decimal('-39.378417'))</td>\n",
       "      <td>ioneill</td>\n",
       "      <td>863033069630348826</td>\n",
       "      <td></td>\n",
       "      <td>1587</td>\n",
       "      <td>4827 Morgan Mission\\nWest Michaelborough, AL 1...</td>\n",
       "    </tr>\n",
       "    <tr>\n",
       "      <th>4</th>\n",
       "      <td>Patricia Leach</td>\n",
       "      <td>prodriguez@yahoo.com</td>\n",
       "      <td>01/30/2018, 00:00:00</td>\n",
       "      <td>Sports development officer</td>\n",
       "      <td>785-50-4993</td>\n",
       "      <td>Pratt PLC</td>\n",
       "      <td></td>\n",
       "      <td>michaelhart</td>\n",
       "      <td>359043379931766403</td>\n",
       "      <td></td>\n",
       "      <td>2312</td>\n",
       "      <td>48666 William View\\nEricbury, OH 12135</td>\n",
       "    </tr>\n",
       "  </tbody>\n",
       "</table>\n",
       "</div>"
      ],
      "text/plain": [
       "              name                    mail          registration  \\\n",
       "0   Matthew Powell  floreseugene@yahoo.com           14 Mar 2024   \n",
       "1  Nicole Richards     fthompson@gmail.com            2023-01-13   \n",
       "2     Andrew Smith       megan89@yahoo.com           17 Apr 2019   \n",
       "3   Shane Williams    osimmons@hotmail.com            2023-09-09   \n",
       "4   Patricia Leach    prodriguez@yahoo.com  01/30/2018, 00:00:00   \n",
       "\n",
       "                            job          ssn                      company  \\\n",
       "0    Sports development officer  219-60-6090                  Hicks-Drake   \n",
       "1    Sports development officer  049-88-9351      Nguyen, White and Lopez   \n",
       "2    Sports development officer  039-54-7186              Navarro-Goodman   \n",
       "3  Administrator, Civil Service  453-34-1867  Brown, Compton and Thompson   \n",
       "4    Sports development officer  785-50-4993                    Pratt PLC   \n",
       "\n",
       "                                  current_location     username  \\\n",
       "0   (Decimal('-27.447495'), Decimal('-43.231283'))    kcalderon   \n",
       "1    (Decimal('39.235450'), Decimal('138.429324'))      pgarcia   \n",
       "2  (Decimal('-22.094944'), Decimal('-141.211383'))       sramos   \n",
       "3   (Decimal('39.9652785'), Decimal('-39.378417'))      ioneill   \n",
       "4                                                   michaelhart   \n",
       "\n",
       "                  imei                                          residence  \\\n",
       "0  3590433799317661974                                                      \n",
       "1  8630330696303481198      662 Christopher Point\\nWest Matthew, VT 84352   \n",
       "2  8630330696303482071  9912 Jasmine Extension Suite 310\\nDianeville, ...   \n",
       "3   863033069630348826                                                      \n",
       "4   359043379931766403                                                      \n",
       "\n",
       "   user_id                                            address  \n",
       "0     2401  84859 Nunez Lock Suite 082\\nWest Rossside, HI ...  \n",
       "1     1147              9123 Traci Pines\\nLindastad, ME 99569  \n",
       "2      459      523 Suarez Port Apt. 013\\nKellybury, MS 63150  \n",
       "3     1587  4827 Morgan Mission\\nWest Michaelborough, AL 1...  \n",
       "4     2312             48666 William View\\nEricbury, OH 12135  "
      ]
     },
     "execution_count": 17,
     "metadata": {},
     "output_type": "execute_result"
    }
   ],
   "source": [
    "profiles.head()"
   ]
  },
  {
   "cell_type": "markdown",
   "metadata": {},
   "source": [
    "## Deviated values - replacing with cutoff values"
   ]
  },
  {
   "cell_type": "code",
   "execution_count": 19,
   "metadata": {},
   "outputs": [
    {
     "data": {
      "text/plain": [
       "<Axes: ylabel='c.dogalize'>"
      ]
     },
     "execution_count": 19,
     "metadata": {},
     "output_type": "execute_result"
    },
    {
     "data": {
      "image/png": "[encoded data removed]",
      "text/plain": [
       "<Figure size 640x480 with 1 Axes>"
      ]
     },
     "metadata": {},
     "output_type": "display_data"
    }
   ],
   "source": [
    "sns.boxplot(connections['c.dogalize'])"
   ]
  },
  {
   "cell_type": "code",
   "execution_count": 20,
   "metadata": {},
   "outputs": [],
   "source": [
    "lower = connections['c.dogalize'].quantile(0.25) - 1.5 * stats.iqr(connections['c.dogalize'])\n",
    "upper = connections['c.dogalize'].quantile(0.75) + 1.5 * stats.iqr(connections['c.dogalize'])\n",
    "\n",
    "connections['c.dogalize'] = np.where(connections['c.dogalize'] < lower, lower, connections['c.dogalize'])\n",
    "connections['c.dogalize'] = np.where(connections['c.dogalize'] > upper, upper, connections['c.dogalize'])"
   ]
  },
  {
   "cell_type": "code",
   "execution_count": 21,
   "metadata": {},
   "outputs": [
    {
     "data": {
      "text/plain": [
       "<Axes: ylabel='c.dogalize'>"
      ]
     },
     "execution_count": 21,
     "metadata": {},
     "output_type": "execute_result"
    },
    {
     "data": {
      "image/png": "[encoded data removed]",
      "text/plain": [
       "<Figure size 640x480 with 1 Axes>"
      ]
     },
     "metadata": {},
     "output_type": "display_data"
    }
   ],
   "source": [
    "sns.boxplot(connections['c.dogalize'])"
   ]
  },
  {
   "cell_type": "markdown",
   "metadata": {},
   "source": [
    "## Deviated values - removing records"
   ]
  },
  {
   "cell_type": "code",
   "execution_count": 33,
   "metadata": {},
   "outputs": [
    {
     "data": {
      "text/plain": [
       "<Axes: ylabel='c.android.youtube'>"
      ]
     },
     "execution_count": 33,
     "metadata": {},
     "output_type": "execute_result"
    },
    {
     "data": {
      "image/png": "[encoded data removed]",
      "text/plain": [
       "<Figure size 640x480 with 1 Axes>"
      ]
     },
     "metadata": {},
     "output_type": "display_data"
    }
   ],
   "source": [
    "sns.boxplot(connections['c.android.youtube'])"
   ]
  },
  {
   "cell_type": "code",
   "execution_count": 34,
   "metadata": {},
   "outputs": [],
   "source": [
    "lower = connections['c.android.youtube'].quantile(0.25) - 1.5 * stats.iqr(connections['c.android.youtube'])\n",
    "upper = connections['c.android.youtube'].quantile(0.75) + 1.5 * stats.iqr(connections['c.android.youtube'])\n",
    "\n",
    "connections = connections[(connections['c.android.youtube'] >= lower) & (connections['c.android.youtube'] <= upper)]\n"
   ]
  },
  {
   "cell_type": "code",
   "execution_count": 35,
   "metadata": {},
   "outputs": [
    {
     "data": {
      "text/plain": [
       "<Axes: ylabel='c.android.youtube'>"
      ]
     },
     "execution_count": 35,
     "metadata": {},
     "output_type": "execute_result"
    },
    {
     "data": {
      "image/png": "[encoded data removed]",
      "text/plain": [
       "<Figure size 640x480 with 1 Axes>"
      ]
     },
     "metadata": {},
     "output_type": "display_data"
    }
   ],
   "source": [
    "sns.boxplot(connections['c.android.youtube'])"
   ]
  }
 ],
 "metadata": {
  "kernelspec": {
   "display_name": "Python 3",
   "language": "python",
   "name": "python3"
  },
  "language_info": {
   "codemirror_mode": {
    "name": "ipython",
    "version": 3
   },
   "file_extension": ".py",
   "mimetype": "text/x-python",
   "name": "python",
   "nbconvert_exporter": "python",
   "pygments_lexer": "ipython3",
   "version": "3.12.5"
  }
 },
 "nbformat": 4,
 "nbformat_minor": 2
}
