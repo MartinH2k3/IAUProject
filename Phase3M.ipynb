{
 "cells": [
  {
   "metadata": {
    "ExecuteTime": {
     "end_time": "2024-11-09T19:08:58.962687Z",
     "start_time": "2024-11-09T19:08:58.956818Z"
    }
   },
   "cell_type": "code",
   "source": [
    "# just for easier debugging\n",
    "from typing import *\n",
    "# phase 1 imports\n",
    "import numpy as np\n",
    "import pandas as pd\n",
    "import scipy.stats as stats\n",
    "from distributed.utils_test import throws\n",
    "from sklearn.model_selection import train_test_split\n",
    "import matplotlib.pyplot as plt\n",
    "import matplotlib.ticker as mtick\n",
    "import seaborn as sns\n",
    "# phase 2 imports\n",
    "from sklearn.compose import ColumnTransformer\n",
    "from sklearn.base import TransformerMixin, BaseEstimator\n",
    "from sklearn.linear_model import LogisticRegression, Lasso, LassoCV, Ridge, RidgeCV\n",
    "from sklearn.pipeline import Pipeline\n",
    "from sklearn.preprocessing import StandardScaler, MinMaxScaler, RobustScaler, PowerTransformer, QuantileTransformer\n",
    "from sklearn.feature_selection import SelectKBest, VarianceThreshold, f_classif, mutual_info_classif, RFE\n",
    "# phase 3 imports\n",
    "from collections import Counter\n",
    "from scipy.stats import entropy\n",
    "from sklearn.metrics import accuracy_score\n",
    "from sklearn.metrics import precision_score\n",
    "from sklearn.metrics import recall_score\n",
    "from time import time"
   ],
   "id": "4b190eddd736bf5e",
   "outputs": [],
   "execution_count": 56
  },
  {
   "metadata": {
    "ExecuteTime": {
     "end_time": "2024-11-09T18:51:42.071591Z",
     "start_time": "2024-11-09T18:51:42.062019Z"
    }
   },
   "cell_type": "code",
   "source": [
    "# functions to redo phase 1\n",
    "def get_outliers(column: pd.Series):\n",
    "    lower_quartile = column.quantile(0.25)\n",
    "    upper_quartile = column.quantile(0.75)\n",
    "    iqr = upper_quartile - lower_quartile\n",
    "    return column[(column < lower_quartile - 1.5*iqr) | (column > upper_quartile + 1.5*iqr)]\n",
    "def iterative_reformat(processes_ptr: pd.DataFrame, connections_ptr: pd.DataFrame) -> pd.DataFrame:\n",
    "    connections_ptr['ts'] = pd.to_datetime(connections_ptr['ts'])\n",
    "    processes_ptr['ts'] = pd.to_datetime(processes_ptr['ts'])\n",
    "    merged = processes_ptr.merge(connections_ptr, on=['ts', 'imei', 'mwra'], how='inner')\n",
    "    merged['mwra'] = merged['mwra'].astype('int64')\n",
    "    merged.drop(columns=['ts', 'imei'], inplace=True)\n",
    "    to_drop = []\n",
    "    # handle null values and outliers\n",
    "    for column in merged.columns:\n",
    "        # if more than 5% are NaN values or more than 5% are outliers, we don't use that column\n",
    "        column_outliers = get_outliers(merged[column])\n",
    "        if ((merged[column].isna().sum()/merged.shape[0] > 0.05) or \n",
    "            (column_outliers.shape[0] / merged.shape[0] > 0.05)):\n",
    "            to_drop.append(column)\n",
    "            continue\n",
    "        # if there are some null values, we replace the data that's neutral in respect to mwra\n",
    "        if merged[column].isnull().any():\n",
    "            # we get means of the distributions for rows with present and non-present malware related activity\n",
    "            means_per_mwra = merged.groupby('mwra')[column].mean()\n",
    "            # we average those means, meaning the manufactured value won't be likely to affect predicted mwra \n",
    "            imputed_value = means_per_mwra.mean()\n",
    "            merged[column].fillna(imputed_value, inplace=True)\n",
    "        #  if there are any outliers, we replace them with the edge values. If we clipped all outliers, we would clutter way too much data together, so we clip only the most extreme ones\n",
    "        if column_outliers.shape[0]:\n",
    "            iqr = stats.iqr(merged[column])\n",
    "            lower_limit = merged[column].quantile(0.25)  - 2.5 * iqr\n",
    "            upper_limit = merged[column].quantile(0.75)  + 2.5 * iqr\n",
    "            merged[column] = merged[column].clip(lower=lower_limit, upper=upper_limit)\n",
    "    return merged.drop(columns=to_drop)\n",
    "# functions to redo phase 2"
   ],
   "id": "67d48d526a25a659",
   "outputs": [],
   "execution_count": 3
  },
  {
   "metadata": {
    "ExecuteTime": {
     "end_time": "2024-11-09T18:51:42.374758Z",
     "start_time": "2024-11-09T18:51:42.150769Z"
    }
   },
   "cell_type": "code",
   "source": [
    "# getting the data from previous phases\n",
    "connections, processes, = pd.read_csv('data/connections.csv', sep='\\t', keep_default_na=False, na_values=''), pd.read_csv('data/processes.csv', sep='\\t', keep_default_na=False, na_values=''),\n",
    "combined_table = iterative_reformat(processes, connections)\n",
    "X = combined_table.drop(columns=['mwra'])\n",
    "y = combined_table['mwra']\n",
    "X_train, X_test, y_train, y_test = train_test_split(X, y, test_size=0.2, random_state=69)"
   ],
   "id": "90741fe1f4f969b4",
   "outputs": [],
   "execution_count": 4
  },
  {
   "metadata": {},
   "cell_type": "markdown",
   "source": "# Phase 3: Machine Learning",
   "id": "911acb1d8b313572"
  },
  {
   "metadata": {},
   "cell_type": "markdown",
   "source": "# Phase 3-1: Implementing ID3 Classifier  ",
   "id": "b28ff85e1c26f39c"
  },
  {
   "metadata": {},
   "cell_type": "markdown",
   "source": "## 3-1A: Implementation",
   "id": "14286155068a9b5a"
  },
  {
   "metadata": {},
   "cell_type": "markdown",
   "source": [
    "As we are dealing with continuous data, we will be using a different version of the ID3 algorithm opposed to the one shown in the lecture.  \n",
    "Our implementation was inspired by the following implementation: https://www.geeksforgeeks.org/iterative-dichotomiser-3-id3-algorithm-from-scratch/"
   ],
   "id": "bb1dfb0188104bd9"
  },
  {
   "metadata": {
    "ExecuteTime": {
     "end_time": "2024-11-09T18:57:52.272868Z",
     "start_time": "2024-11-09T18:57:52.260825Z"
    }
   },
   "cell_type": "code",
   "source": [
    "def calculate_entropy(data):\n",
    "    counts = np.bincount(data)\n",
    "    probabilities = counts / len(data)\n",
    "    return entropy(probabilities, base=2) # base=2 to use log2\n",
    "\n",
    "\n",
    "class ID3classifier:\n",
    "    class Node:\n",
    "        def __init__(self, feature=None, result=None, value=None, left_child=None, right_child=None):\n",
    "            self.feature: np.array = feature # column index of criteria being tested\n",
    "            self.result: Union[0, 1] = result\n",
    "            self.split_point: int = value\n",
    "            self.left_child: Optional['ID3classifier.Node'] = left_child\n",
    "            self.right_child: Optional['ID3classifier.Node'] = right_child\n",
    "            \n",
    "    def __init__(self, max_depth=None, min_samples_split=2, threshold=0):\n",
    "        self.root: Optional['ID3classifier.Node'] = None\n",
    "        self.max_depth: int = max_depth\n",
    "        self.min_samples_split: int = min_samples_split\n",
    "        self.threshold: float = threshold\n",
    "        \n",
    "    def fit(self, data_samples: np.array, target_values: list[int]):\n",
    "        self.root = self._build(data_samples, target_values)\n",
    "        \n",
    "    def _build(self, X, y, depth=0):\n",
    "        # going through halt conditions\n",
    "        if (len(set(y)) == 1 or \n",
    "                (self.max_depth is not None and depth >= self.max_depth) or\n",
    "                (y.shape[0] < self.min_samples_split)):\n",
    "            return self.Node(result=Counter(y).most_common(1)[0][0])\n",
    "        \n",
    "        best_entropy_gain = 0\n",
    "        best_feature = None\n",
    "        best_split_point = None\n",
    "        features_length = X.shape[1]\n",
    "        current_entropy = calculate_entropy(y)\n",
    "        best_left_X, best_left_y, best_right_X, best_right_y = None, None, None, None\n",
    "        for feature in range(features_length):\n",
    "            split_point = np.median(X[:, feature])\n",
    "            left_indices = X[:, feature] < split_point\n",
    "            right_indices = X[:, feature] >= split_point\n",
    "            left_X, left_y = X[left_indices], y[left_indices]\n",
    "            right_X, right_y = X[right_indices], y[right_indices]\n",
    "            left_entropy = calculate_entropy(left_y)\n",
    "            right_entropy = calculate_entropy(right_y)\n",
    "            left_p = len(left_y) / len(y)\n",
    "            right_p = 1 - left_p\n",
    "            entropy_gain = current_entropy - (left_p * left_entropy + right_p * right_entropy)\n",
    "            \n",
    "            if entropy_gain > best_entropy_gain:\n",
    "                best_entropy_gain = entropy_gain\n",
    "                best_feature = feature\n",
    "                best_split_point = split_point\n",
    "                best_left_X, best_left_y, best_right_X, best_right_y = left_X, left_y, right_X, right_y\n",
    "                \n",
    "        if best_entropy_gain > self.threshold:\n",
    "            left_child = self._build(best_left_X, best_left_y, depth + 1)\n",
    "            right_child = self._build(best_right_X, best_right_y, depth + 1)\n",
    "            return self.Node(feature=best_feature, value=best_split_point ,left_child=left_child, right_child=right_child)\n",
    "        \n",
    "        # if no split found, return the most common label by default\n",
    "        return self.Node(result=Counter(y).most_common(1)[0][0])\n",
    "    \n",
    "    def predict(self, item):\n",
    "        if self.root is None:\n",
    "            raise ValueError('The model has not been trained yet.')\n",
    "            \n",
    "        # the depth has to be at least 2, including root, because it's a condition in the assignment \n",
    "        if self.root.left_child is None and self.root.right_child is None:\n",
    "            return None\n",
    "        return self._predict(self.root, item)\n",
    "        \n",
    "    def _predict(self, node, item):\n",
    "        if node.result is not None:\n",
    "            return node.result\n",
    "        if item[node.feature] < node.split_point:\n",
    "            return self._predict(node.left_child, item)\n",
    "        return self._predict(node.right_child, item)\n",
    "        "
   ],
   "id": "1c380d26f939b8fd",
   "outputs": [],
   "execution_count": 26
  },
  {
   "metadata": {},
   "cell_type": "markdown",
   "source": "## 3-1B & 3-1C: Testing using accuracy, precision and recall and testing overfitting",
   "id": "dd46aa723e350aef"
  },
  {
   "metadata": {
    "ExecuteTime": {
     "end_time": "2024-11-09T18:52:41.905039Z",
     "start_time": "2024-11-09T18:52:41.898045Z"
    }
   },
   "cell_type": "code",
   "source": [
    "def show_metrics(predicted_train, predicted_test, real_train, real_test):\n",
    "    test_precision_scores   = precision_score(real_test, predicted_test, average=None)\n",
    "    test_precision_true     = test_precision_scores[0]\n",
    "    test_precision_false    = test_precision_scores[1]\n",
    "    test_precision_weighted = precision_score(real_test, predicted_test, average='weighted')\n",
    "    test_recall_scores      = recall_score(real_test, predicted_test, average=None)\n",
    "    test_recall_false       = test_recall_scores[0]\n",
    "    test_recall_true        = test_recall_scores[1]\n",
    "    test_recall_weighted    = recall_score(real_test, predicted_test, average='weighted')\n",
    "    test_accuracy           = accuracy_score(real_test, predicted_test)\n",
    "    train_precision_scores  = precision_score(real_train, predicted_train, average=None)\n",
    "    train_precision_true    = train_precision_scores[0]\n",
    "    train_precision_false   = train_precision_scores[1]\n",
    "    train_precision_weighted= precision_score(real_train, predicted_train, average='weighted')\n",
    "    train_recall_scores     = recall_score(real_train, predicted_train, average=None)\n",
    "    train_recall_false      = train_recall_scores[0]\n",
    "    train_recall_true       = train_recall_scores[1]\n",
    "    train_recall_weighted   = recall_score(real_train, predicted_train, average='weighted')\n",
    "    train_accuracy          = accuracy_score(real_train, predicted_train)\n",
    "\n",
    "    df = pd.DataFrame({\n",
    "        'Train': [train_precision_true, train_precision_false, train_precision_weighted, train_recall_true, train_recall_false, train_recall_weighted, train_accuracy],\n",
    "        'Test': [test_precision_true, test_precision_false, test_precision_weighted, test_recall_true, test_recall_false, test_recall_weighted, test_accuracy]\n",
    "    }, index=['Precision True', 'Precision False', 'Precision Weighted', 'Recall True', 'Recall False', 'Recall Weighted', 'Accuracy'])\n",
    "    return df"
   ],
   "id": "66acb88547e7ce9f",
   "outputs": [],
   "execution_count": 19
  },
  {
   "metadata": {},
   "cell_type": "markdown",
   "source": "Before we start testing, we need to check if our testing data is balanced, so we know which metrics to prioritize and whether we need to use oversampling or undersampling.",
   "id": "5e49f45044d76f9c"
  },
  {
   "metadata": {
    "ExecuteTime": {
     "end_time": "2024-11-09T18:52:44.631107Z",
     "start_time": "2024-11-09T18:52:44.625196Z"
    }
   },
   "cell_type": "code",
   "source": [
    "positives_y_train = y_train[y_train == 1].shape[0]\n",
    "positive_ratio_y_train = round(positives_y_train / y_train.shape[0], 2)\n",
    "positives_y_test = y_test[y_test == 1].shape[0]\n",
    "positive_ratio_y_test = round(positives_y_test / y_test.shape[0], 2)\n",
    "print(f'Positive percentage in training data: {positive_ratio_y_train*100}%.\\nPositive percentage in testing data: {positive_ratio_y_test*100}%.')"
   ],
   "id": "694fd1ee3e386dad",
   "outputs": [
    {
     "name": "stdout",
     "output_type": "stream",
     "text": [
      "Positive percentage in training data: 63.0%.\n",
      "Positive percentage in testing data: 62.0%.\n"
     ]
    }
   ],
   "execution_count": 20
  },
  {
   "metadata": {},
   "cell_type": "markdown",
   "source": "We found small imbalance, but it's not significant enough to warrant oversampling or under-sampling as oversampling would provide synthetic data, which may not represent real patterns and under-sampling would remove too much data.",
   "id": "42f30efe51fd1ff6"
  },
  {
   "metadata": {},
   "cell_type": "markdown",
   "source": "#### First step of testing, we test the classifier without changing any of the hyperparameters. That means we will not limit the depth of the tree, the minimum samples required to split a node or change the threshold for entropy gain.",
   "id": "273fe9ed5849a210"
  },
  {
   "metadata": {
    "ExecuteTime": {
     "end_time": "2024-11-09T18:57:52.253470Z",
     "start_time": "2024-11-09T18:57:23.366221Z"
    }
   },
   "cell_type": "code",
   "source": [
    "unmodified_id3 = ID3classifier()\n",
    "unmodified_id3.fit(X_train.values, y_train.values)"
   ],
   "id": "b010b307dcb864c5",
   "outputs": [
    {
     "name": "stdout",
     "output_type": "stream",
     "text": [
      "(12345, 29)\n"
     ]
    }
   ],
   "execution_count": 25
  },
  {
   "metadata": {
    "ExecuteTime": {
     "end_time": "2024-11-09T18:57:55.778462Z",
     "start_time": "2024-11-09T18:57:55.724006Z"
    }
   },
   "cell_type": "code",
   "source": [
    "# getting predicted values for testing data, but also training data to check for overfitting\n",
    "y_pred = np.array([unmodified_id3.predict(item) for item in X_test.values])\n",
    "y_pred_train = np.array([unmodified_id3.predict(item) for item in X_train.values])"
   ],
   "id": "d874bc1d676160e1",
   "outputs": [],
   "execution_count": 27
  },
  {
   "metadata": {},
   "cell_type": "markdown",
   "source": "Since using precision and recall with average='micro' is the same as accuracy, we will use average=None to get the scores for both classes.",
   "id": "ac9c106c9ce353e3"
  },
  {
   "metadata": {
    "ExecuteTime": {
     "end_time": "2024-11-09T18:57:58.311993Z",
     "start_time": "2024-11-09T18:57:58.272212Z"
    }
   },
   "cell_type": "code",
   "source": "show_metrics(y_pred_train, y_pred, y_train, y_test)",
   "id": "5f161f82eaf7e9ea",
   "outputs": [
    {
     "data": {
      "text/plain": [
       "                    Train      Test\n",
       "Precision True        1.0  0.783666\n",
       "Precision False       1.0  0.863636\n",
       "Precision Weighted    1.0  0.833431\n",
       "Recall True           1.0  0.870380\n",
       "Recall False          1.0  0.773585\n",
       "Recall Weighted       1.0  0.833819\n",
       "Accuracy              1.0  0.833819"
      ],
      "text/html": [
       "<div>\n",
       "<style scoped>\n",
       "    .dataframe tbody tr th:only-of-type {\n",
       "        vertical-align: middle;\n",
       "    }\n",
       "\n",
       "    .dataframe tbody tr th {\n",
       "        vertical-align: top;\n",
       "    }\n",
       "\n",
       "    .dataframe thead th {\n",
       "        text-align: right;\n",
       "    }\n",
       "</style>\n",
       "<table border=\"1\" class=\"dataframe\">\n",
       "  <thead>\n",
       "    <tr style=\"text-align: right;\">\n",
       "      <th></th>\n",
       "      <th>Train</th>\n",
       "      <th>Test</th>\n",
       "    </tr>\n",
       "  </thead>\n",
       "  <tbody>\n",
       "    <tr>\n",
       "      <th>Precision True</th>\n",
       "      <td>1.0</td>\n",
       "      <td>0.783666</td>\n",
       "    </tr>\n",
       "    <tr>\n",
       "      <th>Precision False</th>\n",
       "      <td>1.0</td>\n",
       "      <td>0.863636</td>\n",
       "    </tr>\n",
       "    <tr>\n",
       "      <th>Precision Weighted</th>\n",
       "      <td>1.0</td>\n",
       "      <td>0.833431</td>\n",
       "    </tr>\n",
       "    <tr>\n",
       "      <th>Recall True</th>\n",
       "      <td>1.0</td>\n",
       "      <td>0.870380</td>\n",
       "    </tr>\n",
       "    <tr>\n",
       "      <th>Recall False</th>\n",
       "      <td>1.0</td>\n",
       "      <td>0.773585</td>\n",
       "    </tr>\n",
       "    <tr>\n",
       "      <th>Recall Weighted</th>\n",
       "      <td>1.0</td>\n",
       "      <td>0.833819</td>\n",
       "    </tr>\n",
       "    <tr>\n",
       "      <th>Accuracy</th>\n",
       "      <td>1.0</td>\n",
       "      <td>0.833819</td>\n",
       "    </tr>\n",
       "  </tbody>\n",
       "</table>\n",
       "</div>"
      ]
     },
     "execution_count": 28,
     "metadata": {},
     "output_type": "execute_result"
    }
   ],
   "execution_count": 28
  },
  {
   "metadata": {},
   "cell_type": "markdown",
   "source": [
    "Initial thing we can see is that the training data is overfitting, as all the metrics are 100%.  \n",
    "In testing data, the metrics are all in the 80% range which is not bad, but it's not great as always predicting true would give us 63% accuracy.\n",
    "We can confirm the imbalance by the fact that precision for true is lower than recall for true implying a lot more false positives than false negatives.\n",
    "But the imbalance isn't as bad, as the weighted recall and precision are both really close to the accuracy."
   ],
   "id": "7cb8f2141cbfa823"
  },
  {
   "metadata": {},
   "cell_type": "markdown",
   "source": "We can try to limit the depth of the tree to see if it will help with overfitting.",
   "id": "c2e848e0758730b3"
  },
  {
   "metadata": {
    "ExecuteTime": {
     "end_time": "2024-11-09T18:58:03.732688Z",
     "start_time": "2024-11-09T18:58:03.015965Z"
    }
   },
   "cell_type": "code",
   "source": [
    "bounded_id3 = ID3classifier(max_depth=5)\n",
    "bounded_id3.fit(X_train.values, y_train.values)"
   ],
   "id": "1e7b47992e49cfa4",
   "outputs": [],
   "execution_count": 29
  },
  {
   "metadata": {
    "ExecuteTime": {
     "end_time": "2024-11-09T18:58:05.030608Z",
     "start_time": "2024-11-09T18:58:04.963480Z"
    }
   },
   "cell_type": "code",
   "source": [
    "y_pred = np.array([bounded_id3.predict(item) for item in X_test.values])\n",
    "y_pred_train = np.array([bounded_id3.predict(item) for item in X_train.values])\n",
    "show_metrics(y_pred_train, y_pred, y_train, y_test)"
   ],
   "id": "98c32a5caf2353b6",
   "outputs": [
    {
     "data": {
      "text/plain": [
       "                       Train      Test\n",
       "Precision True      0.830022  0.841783\n",
       "Precision False     0.906286  0.895522\n",
       "Precision Weighted  0.878079  0.875224\n",
       "Recall True         0.898830  0.905778\n",
       "Recall False        0.841656  0.825901\n",
       "Recall Weighted     0.877683  0.875607\n",
       "Accuracy            0.877683  0.875607"
      ],
      "text/html": [
       "<div>\n",
       "<style scoped>\n",
       "    .dataframe tbody tr th:only-of-type {\n",
       "        vertical-align: middle;\n",
       "    }\n",
       "\n",
       "    .dataframe tbody tr th {\n",
       "        vertical-align: top;\n",
       "    }\n",
       "\n",
       "    .dataframe thead th {\n",
       "        text-align: right;\n",
       "    }\n",
       "</style>\n",
       "<table border=\"1\" class=\"dataframe\">\n",
       "  <thead>\n",
       "    <tr style=\"text-align: right;\">\n",
       "      <th></th>\n",
       "      <th>Train</th>\n",
       "      <th>Test</th>\n",
       "    </tr>\n",
       "  </thead>\n",
       "  <tbody>\n",
       "    <tr>\n",
       "      <th>Precision True</th>\n",
       "      <td>0.830022</td>\n",
       "      <td>0.841783</td>\n",
       "    </tr>\n",
       "    <tr>\n",
       "      <th>Precision False</th>\n",
       "      <td>0.906286</td>\n",
       "      <td>0.895522</td>\n",
       "    </tr>\n",
       "    <tr>\n",
       "      <th>Precision Weighted</th>\n",
       "      <td>0.878079</td>\n",
       "      <td>0.875224</td>\n",
       "    </tr>\n",
       "    <tr>\n",
       "      <th>Recall True</th>\n",
       "      <td>0.898830</td>\n",
       "      <td>0.905778</td>\n",
       "    </tr>\n",
       "    <tr>\n",
       "      <th>Recall False</th>\n",
       "      <td>0.841656</td>\n",
       "      <td>0.825901</td>\n",
       "    </tr>\n",
       "    <tr>\n",
       "      <th>Recall Weighted</th>\n",
       "      <td>0.877683</td>\n",
       "      <td>0.875607</td>\n",
       "    </tr>\n",
       "    <tr>\n",
       "      <th>Accuracy</th>\n",
       "      <td>0.877683</td>\n",
       "      <td>0.875607</td>\n",
       "    </tr>\n",
       "  </tbody>\n",
       "</table>\n",
       "</div>"
      ]
     },
     "execution_count": 30,
     "metadata": {},
     "output_type": "execute_result"
    }
   ],
   "execution_count": 30
  },
  {
   "metadata": {},
   "cell_type": "markdown",
   "source": "We can see that despite way lower accuracy in the training dataset, on the testing dataset it has improved and even performed better than on the training dataset in some metrics. ",
   "id": "f68dbe9cf52986d2"
  },
  {
   "metadata": {},
   "cell_type": "markdown",
   "source": [
    "### Observations\n",
    "- When we ignore overfitting, the ID3 algorithm has 83% accuracy compared to 63% accuracy if we always assume mwra is true.\n",
    "- The base ID3 algorithm is prone to overfitting.\n",
    "- Limiting the maximum depth greatly helps with overfitting. "
   ],
   "id": "73f2d0aeb059ebda"
  },
  {
   "metadata": {},
   "cell_type": "markdown",
   "source": [
    "### Tuning the hyperparameters\n",
    "In a later step, we will test multiple hyperparameters of a different function more in depth, but for now we can test just a few."
   ],
   "id": "d0bd3cb72e2bbc32"
  },
  {
   "metadata": {
    "ExecuteTime": {
     "end_time": "2024-11-09T19:26:02.532050Z",
     "start_time": "2024-11-09T19:26:02.526367Z"
    }
   },
   "cell_type": "code",
   "source": [
    "def test_id3_hyperparameters(max_depth=None, min_samples_split=2, threshold=0):\n",
    "    modified_id3 = ID3classifier(max_depth=max_depth, min_samples_split=min_samples_split, threshold=threshold)\n",
    "    modified_id3.fit(X_train.values, y_train.values)\n",
    "    y_pred = np.array([modified_id3.predict(item) for item in X_test.values])\n",
    "    y_pred_train = np.array([modified_id3.predict(item) for item in X_train.values])\n",
    "    return show_metrics(y_pred_train, y_pred, y_train, y_test)"
   ],
   "id": "1d760520dfeec642",
   "outputs": [],
   "execution_count": 63
  },
  {
   "metadata": {
    "ExecuteTime": {
     "end_time": "2024-11-09T19:05:36.024225Z",
     "start_time": "2024-11-09T19:05:24.064521Z"
    }
   },
   "cell_type": "code",
   "source": "test_id3_hyperparameters(max_depth=10)",
   "id": "e72b7ef4c3c01b0e",
   "outputs": [
    {
     "data": {
      "text/plain": [
       "                       Train      Test\n",
       "Precision True      0.906722  0.866667\n",
       "Precision False     0.924727  0.891064\n",
       "Precision Weighted  0.918067  0.881849\n",
       "Recall True         0.947551  0.923998\n",
       "Recall False        0.868594  0.813894\n",
       "Recall Weighted     0.918348  0.882410\n",
       "Accuracy            0.918348  0.882410"
      ],
      "text/html": [
       "<div>\n",
       "<style scoped>\n",
       "    .dataframe tbody tr th:only-of-type {\n",
       "        vertical-align: middle;\n",
       "    }\n",
       "\n",
       "    .dataframe tbody tr th {\n",
       "        vertical-align: top;\n",
       "    }\n",
       "\n",
       "    .dataframe thead th {\n",
       "        text-align: right;\n",
       "    }\n",
       "</style>\n",
       "<table border=\"1\" class=\"dataframe\">\n",
       "  <thead>\n",
       "    <tr style=\"text-align: right;\">\n",
       "      <th></th>\n",
       "      <th>Train</th>\n",
       "      <th>Test</th>\n",
       "    </tr>\n",
       "  </thead>\n",
       "  <tbody>\n",
       "    <tr>\n",
       "      <th>Precision True</th>\n",
       "      <td>0.906722</td>\n",
       "      <td>0.866667</td>\n",
       "    </tr>\n",
       "    <tr>\n",
       "      <th>Precision False</th>\n",
       "      <td>0.924727</td>\n",
       "      <td>0.891064</td>\n",
       "    </tr>\n",
       "    <tr>\n",
       "      <th>Precision Weighted</th>\n",
       "      <td>0.918067</td>\n",
       "      <td>0.881849</td>\n",
       "    </tr>\n",
       "    <tr>\n",
       "      <th>Recall True</th>\n",
       "      <td>0.947551</td>\n",
       "      <td>0.923998</td>\n",
       "    </tr>\n",
       "    <tr>\n",
       "      <th>Recall False</th>\n",
       "      <td>0.868594</td>\n",
       "      <td>0.813894</td>\n",
       "    </tr>\n",
       "    <tr>\n",
       "      <th>Recall Weighted</th>\n",
       "      <td>0.918348</td>\n",
       "      <td>0.882410</td>\n",
       "    </tr>\n",
       "    <tr>\n",
       "      <th>Accuracy</th>\n",
       "      <td>0.918348</td>\n",
       "      <td>0.882410</td>\n",
       "    </tr>\n",
       "  </tbody>\n",
       "</table>\n",
       "</div>"
      ]
     },
     "execution_count": 44,
     "metadata": {},
     "output_type": "execute_result"
    }
   ],
   "execution_count": 44
  },
  {
   "metadata": {
    "ExecuteTime": {
     "end_time": "2024-11-09T19:05:50.229175Z",
     "start_time": "2024-11-09T19:05:38.440561Z"
    }
   },
   "cell_type": "code",
   "source": "test_id3_hyperparameters(max_depth=10, min_samples_split=10)",
   "id": "87eb237554967f31",
   "outputs": [
    {
     "data": {
      "text/plain": [
       "                       Train      Test\n",
       "Precision True      0.906722  0.866667\n",
       "Precision False     0.924727  0.891064\n",
       "Precision Weighted  0.918067  0.881849\n",
       "Recall True         0.947551  0.923998\n",
       "Recall False        0.868594  0.813894\n",
       "Recall Weighted     0.918348  0.882410\n",
       "Accuracy            0.918348  0.882410"
      ],
      "text/html": [
       "<div>\n",
       "<style scoped>\n",
       "    .dataframe tbody tr th:only-of-type {\n",
       "        vertical-align: middle;\n",
       "    }\n",
       "\n",
       "    .dataframe tbody tr th {\n",
       "        vertical-align: top;\n",
       "    }\n",
       "\n",
       "    .dataframe thead th {\n",
       "        text-align: right;\n",
       "    }\n",
       "</style>\n",
       "<table border=\"1\" class=\"dataframe\">\n",
       "  <thead>\n",
       "    <tr style=\"text-align: right;\">\n",
       "      <th></th>\n",
       "      <th>Train</th>\n",
       "      <th>Test</th>\n",
       "    </tr>\n",
       "  </thead>\n",
       "  <tbody>\n",
       "    <tr>\n",
       "      <th>Precision True</th>\n",
       "      <td>0.906722</td>\n",
       "      <td>0.866667</td>\n",
       "    </tr>\n",
       "    <tr>\n",
       "      <th>Precision False</th>\n",
       "      <td>0.924727</td>\n",
       "      <td>0.891064</td>\n",
       "    </tr>\n",
       "    <tr>\n",
       "      <th>Precision Weighted</th>\n",
       "      <td>0.918067</td>\n",
       "      <td>0.881849</td>\n",
       "    </tr>\n",
       "    <tr>\n",
       "      <th>Recall True</th>\n",
       "      <td>0.947551</td>\n",
       "      <td>0.923998</td>\n",
       "    </tr>\n",
       "    <tr>\n",
       "      <th>Recall False</th>\n",
       "      <td>0.868594</td>\n",
       "      <td>0.813894</td>\n",
       "    </tr>\n",
       "    <tr>\n",
       "      <th>Recall Weighted</th>\n",
       "      <td>0.918348</td>\n",
       "      <td>0.882410</td>\n",
       "    </tr>\n",
       "    <tr>\n",
       "      <th>Accuracy</th>\n",
       "      <td>0.918348</td>\n",
       "      <td>0.882410</td>\n",
       "    </tr>\n",
       "  </tbody>\n",
       "</table>\n",
       "</div>"
      ]
     },
     "execution_count": 45,
     "metadata": {},
     "output_type": "execute_result"
    }
   ],
   "execution_count": 45
  },
  {
   "metadata": {
    "ExecuteTime": {
     "end_time": "2024-11-09T19:05:58.210510Z",
     "start_time": "2024-11-09T19:05:53.777135Z"
    }
   },
   "cell_type": "code",
   "source": "test_id3_hyperparameters(max_depth=10, min_samples_split=50)",
   "id": "24ece8ce411424c7",
   "outputs": [
    {
     "data": {
      "text/plain": [
       "                       Train      Test\n",
       "Precision True      0.900811  0.903349\n",
       "Precision False     0.903325  0.891283\n",
       "Precision Weighted  0.902395  0.895841\n",
       "Recall True         0.946523  0.947423\n",
       "Recall False        0.827420  0.809605\n",
       "Recall Weighted     0.902471  0.895368\n",
       "Accuracy            0.902471  0.895368"
      ],
      "text/html": [
       "<div>\n",
       "<style scoped>\n",
       "    .dataframe tbody tr th:only-of-type {\n",
       "        vertical-align: middle;\n",
       "    }\n",
       "\n",
       "    .dataframe tbody tr th {\n",
       "        vertical-align: top;\n",
       "    }\n",
       "\n",
       "    .dataframe thead th {\n",
       "        text-align: right;\n",
       "    }\n",
       "</style>\n",
       "<table border=\"1\" class=\"dataframe\">\n",
       "  <thead>\n",
       "    <tr style=\"text-align: right;\">\n",
       "      <th></th>\n",
       "      <th>Train</th>\n",
       "      <th>Test</th>\n",
       "    </tr>\n",
       "  </thead>\n",
       "  <tbody>\n",
       "    <tr>\n",
       "      <th>Precision True</th>\n",
       "      <td>0.900811</td>\n",
       "      <td>0.903349</td>\n",
       "    </tr>\n",
       "    <tr>\n",
       "      <th>Precision False</th>\n",
       "      <td>0.903325</td>\n",
       "      <td>0.891283</td>\n",
       "    </tr>\n",
       "    <tr>\n",
       "      <th>Precision Weighted</th>\n",
       "      <td>0.902395</td>\n",
       "      <td>0.895841</td>\n",
       "    </tr>\n",
       "    <tr>\n",
       "      <th>Recall True</th>\n",
       "      <td>0.946523</td>\n",
       "      <td>0.947423</td>\n",
       "    </tr>\n",
       "    <tr>\n",
       "      <th>Recall False</th>\n",
       "      <td>0.827420</td>\n",
       "      <td>0.809605</td>\n",
       "    </tr>\n",
       "    <tr>\n",
       "      <th>Recall Weighted</th>\n",
       "      <td>0.902471</td>\n",
       "      <td>0.895368</td>\n",
       "    </tr>\n",
       "    <tr>\n",
       "      <th>Accuracy</th>\n",
       "      <td>0.902471</td>\n",
       "      <td>0.895368</td>\n",
       "    </tr>\n",
       "  </tbody>\n",
       "</table>\n",
       "</div>"
      ]
     },
     "execution_count": 46,
     "metadata": {},
     "output_type": "execute_result"
    }
   ],
   "execution_count": 46
  },
  {
   "metadata": {
    "ExecuteTime": {
     "end_time": "2024-11-09T19:06:49.643472Z",
     "start_time": "2024-11-09T19:06:48.279690Z"
    }
   },
   "cell_type": "code",
   "source": "test_id3_hyperparameters(max_depth=10, min_samples_split=200)",
   "id": "3a8943ae0478d56",
   "outputs": [
    {
     "data": {
      "text/plain": [
       "                       Train      Test\n",
       "Precision True      0.895088  0.908000\n",
       "Precision False     0.886665  0.876378\n",
       "Precision Weighted  0.889780  0.888322\n",
       "Recall True         0.945366  0.952108\n",
       "Recall False        0.794131  0.778731\n",
       "Recall Weighted     0.889429  0.886621\n",
       "Accuracy            0.889429  0.886621"
      ],
      "text/html": [
       "<div>\n",
       "<style scoped>\n",
       "    .dataframe tbody tr th:only-of-type {\n",
       "        vertical-align: middle;\n",
       "    }\n",
       "\n",
       "    .dataframe tbody tr th {\n",
       "        vertical-align: top;\n",
       "    }\n",
       "\n",
       "    .dataframe thead th {\n",
       "        text-align: right;\n",
       "    }\n",
       "</style>\n",
       "<table border=\"1\" class=\"dataframe\">\n",
       "  <thead>\n",
       "    <tr style=\"text-align: right;\">\n",
       "      <th></th>\n",
       "      <th>Train</th>\n",
       "      <th>Test</th>\n",
       "    </tr>\n",
       "  </thead>\n",
       "  <tbody>\n",
       "    <tr>\n",
       "      <th>Precision True</th>\n",
       "      <td>0.895088</td>\n",
       "      <td>0.908000</td>\n",
       "    </tr>\n",
       "    <tr>\n",
       "      <th>Precision False</th>\n",
       "      <td>0.886665</td>\n",
       "      <td>0.876378</td>\n",
       "    </tr>\n",
       "    <tr>\n",
       "      <th>Precision Weighted</th>\n",
       "      <td>0.889780</td>\n",
       "      <td>0.888322</td>\n",
       "    </tr>\n",
       "    <tr>\n",
       "      <th>Recall True</th>\n",
       "      <td>0.945366</td>\n",
       "      <td>0.952108</td>\n",
       "    </tr>\n",
       "    <tr>\n",
       "      <th>Recall False</th>\n",
       "      <td>0.794131</td>\n",
       "      <td>0.778731</td>\n",
       "    </tr>\n",
       "    <tr>\n",
       "      <th>Recall Weighted</th>\n",
       "      <td>0.889429</td>\n",
       "      <td>0.886621</td>\n",
       "    </tr>\n",
       "    <tr>\n",
       "      <th>Accuracy</th>\n",
       "      <td>0.889429</td>\n",
       "      <td>0.886621</td>\n",
       "    </tr>\n",
       "  </tbody>\n",
       "</table>\n",
       "</div>"
      ]
     },
     "execution_count": 50,
     "metadata": {},
     "output_type": "execute_result"
    }
   ],
   "execution_count": 50
  },
  {
   "metadata": {
    "ExecuteTime": {
     "end_time": "2024-11-09T19:07:42.756256Z",
     "start_time": "2024-11-09T19:07:42.289804Z"
    }
   },
   "cell_type": "code",
   "source": "test_id3_hyperparameters(max_depth=10, min_samples_split=50, threshold=0.03)",
   "id": "a1f010c3f4359496",
   "outputs": [
    {
     "data": {
      "text/plain": [
       "                       Train      Test\n",
       "Precision True      0.867529  0.880597\n",
       "Precision False     0.877516  0.865034\n",
       "Precision Weighted  0.873822  0.870912\n",
       "Recall True         0.930197  0.937533\n",
       "Recall False        0.778800  0.759005\n",
       "Recall Weighted     0.874200  0.870100\n",
       "Accuracy            0.874200  0.870100"
      ],
      "text/html": [
       "<div>\n",
       "<style scoped>\n",
       "    .dataframe tbody tr th:only-of-type {\n",
       "        vertical-align: middle;\n",
       "    }\n",
       "\n",
       "    .dataframe tbody tr th {\n",
       "        vertical-align: top;\n",
       "    }\n",
       "\n",
       "    .dataframe thead th {\n",
       "        text-align: right;\n",
       "    }\n",
       "</style>\n",
       "<table border=\"1\" class=\"dataframe\">\n",
       "  <thead>\n",
       "    <tr style=\"text-align: right;\">\n",
       "      <th></th>\n",
       "      <th>Train</th>\n",
       "      <th>Test</th>\n",
       "    </tr>\n",
       "  </thead>\n",
       "  <tbody>\n",
       "    <tr>\n",
       "      <th>Precision True</th>\n",
       "      <td>0.867529</td>\n",
       "      <td>0.880597</td>\n",
       "    </tr>\n",
       "    <tr>\n",
       "      <th>Precision False</th>\n",
       "      <td>0.877516</td>\n",
       "      <td>0.865034</td>\n",
       "    </tr>\n",
       "    <tr>\n",
       "      <th>Precision Weighted</th>\n",
       "      <td>0.873822</td>\n",
       "      <td>0.870912</td>\n",
       "    </tr>\n",
       "    <tr>\n",
       "      <th>Recall True</th>\n",
       "      <td>0.930197</td>\n",
       "      <td>0.937533</td>\n",
       "    </tr>\n",
       "    <tr>\n",
       "      <th>Recall False</th>\n",
       "      <td>0.778800</td>\n",
       "      <td>0.759005</td>\n",
       "    </tr>\n",
       "    <tr>\n",
       "      <th>Recall Weighted</th>\n",
       "      <td>0.874200</td>\n",
       "      <td>0.870100</td>\n",
       "    </tr>\n",
       "    <tr>\n",
       "      <th>Accuracy</th>\n",
       "      <td>0.874200</td>\n",
       "      <td>0.870100</td>\n",
       "    </tr>\n",
       "  </tbody>\n",
       "</table>\n",
       "</div>"
      ]
     },
     "execution_count": 53,
     "metadata": {},
     "output_type": "execute_result"
    }
   ],
   "execution_count": 53
  },
  {
   "metadata": {
    "ExecuteTime": {
     "end_time": "2024-11-09T19:18:49.564079Z",
     "start_time": "2024-11-09T19:18:40.028850Z"
    }
   },
   "cell_type": "code",
   "source": "test_id3_hyperparameters(threshold=0.01)",
   "id": "a6ab5108084f834f",
   "outputs": [
    {
     "data": {
      "text/plain": [
       "                       Train      Test\n",
       "Precision True      0.945123  0.869844\n",
       "Precision False     0.941683  0.891283\n",
       "Precision Weighted  0.942956  0.883185\n",
       "Recall True         0.969405  0.926080\n",
       "Recall False        0.897722  0.813894\n",
       "Recall Weighted     0.942892  0.883706\n",
       "Accuracy            0.942892  0.883706"
      ],
      "text/html": [
       "<div>\n",
       "<style scoped>\n",
       "    .dataframe tbody tr th:only-of-type {\n",
       "        vertical-align: middle;\n",
       "    }\n",
       "\n",
       "    .dataframe tbody tr th {\n",
       "        vertical-align: top;\n",
       "    }\n",
       "\n",
       "    .dataframe thead th {\n",
       "        text-align: right;\n",
       "    }\n",
       "</style>\n",
       "<table border=\"1\" class=\"dataframe\">\n",
       "  <thead>\n",
       "    <tr style=\"text-align: right;\">\n",
       "      <th></th>\n",
       "      <th>Train</th>\n",
       "      <th>Test</th>\n",
       "    </tr>\n",
       "  </thead>\n",
       "  <tbody>\n",
       "    <tr>\n",
       "      <th>Precision True</th>\n",
       "      <td>0.945123</td>\n",
       "      <td>0.869844</td>\n",
       "    </tr>\n",
       "    <tr>\n",
       "      <th>Precision False</th>\n",
       "      <td>0.941683</td>\n",
       "      <td>0.891283</td>\n",
       "    </tr>\n",
       "    <tr>\n",
       "      <th>Precision Weighted</th>\n",
       "      <td>0.942956</td>\n",
       "      <td>0.883185</td>\n",
       "    </tr>\n",
       "    <tr>\n",
       "      <th>Recall True</th>\n",
       "      <td>0.969405</td>\n",
       "      <td>0.926080</td>\n",
       "    </tr>\n",
       "    <tr>\n",
       "      <th>Recall False</th>\n",
       "      <td>0.897722</td>\n",
       "      <td>0.813894</td>\n",
       "    </tr>\n",
       "    <tr>\n",
       "      <th>Recall Weighted</th>\n",
       "      <td>0.942892</td>\n",
       "      <td>0.883706</td>\n",
       "    </tr>\n",
       "    <tr>\n",
       "      <th>Accuracy</th>\n",
       "      <td>0.942892</td>\n",
       "      <td>0.883706</td>\n",
       "    </tr>\n",
       "  </tbody>\n",
       "</table>\n",
       "</div>"
      ]
     },
     "execution_count": 62,
     "metadata": {},
     "output_type": "execute_result"
    }
   ],
   "execution_count": 62
  },
  {
   "metadata": {
    "ExecuteTime": {
     "end_time": "2024-11-09T19:14:34.106372Z",
     "start_time": "2024-11-09T19:14:02.852272Z"
    }
   },
   "cell_type": "code",
   "source": [
    "time_before = time()\n",
    "test_id3_hyperparameters()\n",
    "time_middle = time()\n",
    "test_id3_hyperparameters(threshold=0.02)\n",
    "time_after = time()\n",
    "print(f\"Time without threshold: {time_middle - time_before}, time with threshold: {time_after - time_middle}\")"
   ],
   "id": "a42375a1bd067022",
   "outputs": [
    {
     "name": "stdout",
     "output_type": "stream",
     "text": [
      "Time without threshold: 29.188769578933716, time with threshold: 2.0605218410491943\n"
     ]
    }
   ],
   "execution_count": 61
  },
  {
   "metadata": {},
   "cell_type": "markdown",
   "source": [
    "#### Results\n",
    "- depth:  \n",
    "We learned that lowering the depth of the tree is beneficial to speed up the function and prevent overfitting and it can even improve the performance on the testing dataset, but only to a certain point, after which we start to get problems with overfitting.\n",
    "- min_samples_split:  \n",
    "Same as with depth, raising min_sample_split helped in all areas, but also only to a certain point.\n",
    "- threshold:  \n",
    "Raising the threshold had same effects as the previous ones. The main benefit of tweaking this hyperparameter in combination \n",
    "- accuracy:  \n",
    "In the best configuration out of the few we tested, highest accuracy we achieved on the testing dataset was 89.5%."
   ],
   "id": "74f8bca1b4d067cf"
  }
 ],
 "metadata": {
  "kernelspec": {
   "display_name": "Python 3",
   "language": "python",
   "name": "python3"
  },
  "language_info": {
   "codemirror_mode": {
    "name": "ipython",
    "version": 2
   },
   "file_extension": ".py",
   "mimetype": "text/x-python",
   "name": "python",
   "nbconvert_exporter": "python",
   "pygments_lexer": "ipython2",
   "version": "2.7.6"
  }
 },
 "nbformat": 4,
 "nbformat_minor": 5
}
