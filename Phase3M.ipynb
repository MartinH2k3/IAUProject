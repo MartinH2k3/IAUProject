{
 "cells": [
  {
   "metadata": {
    "ExecuteTime": {
     "end_time": "2024-11-17T21:00:43.902406Z",
     "start_time": "2024-11-17T21:00:43.895484Z"
    }
   },
   "cell_type": "code",
   "source": [
    "# just for easier debugging\n",
    "from typing import *\n",
    "# phase 1 imports\n",
    "import numpy as np\n",
    "import pandas as pd\n",
    "import scipy.stats as stats\n",
    "import sklearn.base\n",
    "from distributed.utils_test import throws\n",
    "from sklearn.model_selection import train_test_split\n",
    "import matplotlib.pyplot as plt\n",
    "import matplotlib.ticker as mtick\n",
    "import seaborn as sns\n",
    "# phase 2 imports\n",
    "from sklearn.compose import ColumnTransformer\n",
    "from sklearn.base import TransformerMixin, BaseEstimator\n",
    "from sklearn.linear_model import LogisticRegression, Lasso, LassoCV, Ridge, RidgeCV\n",
    "from sklearn.pipeline import Pipeline\n",
    "from sklearn.preprocessing import StandardScaler, MinMaxScaler, RobustScaler, PowerTransformer, QuantileTransformer\n",
    "from sklearn.feature_selection import SelectKBest, f_classif, mutual_info_classif\n",
    "# phase 3 imports\n",
    "# 3-1\n",
    "from collections import Counter\n",
    "from scipy.stats import entropy\n",
    "from sklearn.metrics import accuracy_score\n",
    "from sklearn.metrics import precision_score\n",
    "from sklearn.metrics import recall_score\n",
    "# 3-2\n",
    "from time import time\n",
    "from sklearn import tree\n",
    "from sklearn.model_selection import GridSearchCV, cross_val_score, KFold\n",
    "# 3-3\n",
    "from sklearn.ensemble import RandomForestClassifier, VotingClassifier, GradientBoostingClassifier"
   ],
   "id": "4b190eddd736bf5e",
   "outputs": [],
   "execution_count": 110
  },
  {
   "metadata": {
    "ExecuteTime": {
     "end_time": "2024-11-17T20:24:21.648648Z",
     "start_time": "2024-11-17T20:24:21.639792Z"
    }
   },
   "cell_type": "code",
   "source": [
    "# functions to redo phase 1\n",
    "def get_outliers(column: pd.Series):\n",
    "    lower_quartile = column.quantile(0.25)\n",
    "    upper_quartile = column.quantile(0.75)\n",
    "    iqr = upper_quartile - lower_quartile\n",
    "    return column[(column < lower_quartile - 1.5*iqr) | (column > upper_quartile + 1.5*iqr)]\n",
    "def iterative_reformat(processes_ptr: pd.DataFrame, connections_ptr: pd.DataFrame, do_clean=True) -> pd.DataFrame:\n",
    "    connections_ptr['ts'] = pd.to_datetime(connections_ptr['ts'])\n",
    "    processes_ptr['ts'] = pd.to_datetime(processes_ptr['ts'])\n",
    "    merged = processes_ptr.merge(connections_ptr, on=['ts', 'imei', 'mwra'], how='inner')\n",
    "    merged['mwra'] = merged['mwra'].astype('int64')\n",
    "    merged.drop(columns=['ts', 'imei'], inplace=True)\n",
    "    if not do_clean:\n",
    "        return merged\n",
    "    to_drop = []\n",
    "    # handle null values and outliers\n",
    "    for column in merged.columns:\n",
    "        # if more than 5% are NaN values or more than 5% are outliers, we don't use that column\n",
    "        column_outliers = get_outliers(merged[column])\n",
    "        if ((merged[column].isna().sum()/merged.shape[0] > 0.05) or \n",
    "            (column_outliers.shape[0] / merged.shape[0] > 0.05)):\n",
    "            to_drop.append(column)\n",
    "            continue\n",
    "        # if there are some null values, we replace the data that's neutral in respect to mwra\n",
    "        if merged[column].isnull().any():\n",
    "            # we get means of the distributions for rows with present and non-present malware related activity\n",
    "            means_per_mwra = merged.groupby('mwra')[column].mean()\n",
    "            # we average those means, meaning the manufactured value won't be likely to affect predicted mwra \n",
    "            imputed_value = means_per_mwra.mean()\n",
    "            merged[column].fillna(imputed_value, inplace=True)\n",
    "        #  if there are any outliers, we replace them with the edge values. If we clipped all outliers, \n",
    "        #  we would clutter way too much data together, so we clip only the most extreme ones\n",
    "        if column_outliers.shape[0]:\n",
    "            iqr = stats.iqr(merged[column])\n",
    "            lower_limit = merged[column].quantile(0.25)  - 2.5 * iqr\n",
    "            upper_limit = merged[column].quantile(0.75)  + 2.5 * iqr\n",
    "            merged[column] = merged[column].clip(lower=lower_limit, upper=upper_limit)\n",
    "    return merged.drop(columns=to_drop)\n",
    "# functions to redo phase 2"
   ],
   "id": "67d48d526a25a659",
   "outputs": [],
   "execution_count": 81
  },
  {
   "metadata": {
    "ExecuteTime": {
     "end_time": "2024-11-17T12:58:59.218947Z",
     "start_time": "2024-11-17T12:58:58.967630Z"
    }
   },
   "cell_type": "code",
   "source": [
    "# getting the data from previous phases\n",
    "connections, processes, = (pd.read_csv('data/connections.csv', sep='\\t', keep_default_na=False, na_values=''), \n",
    "                           pd.read_csv('data/processes.csv', sep='\\t', keep_default_na=False, na_values=''),)\n",
    "combined_table = iterative_reformat(processes, connections)\n",
    "X = combined_table.drop(columns=['mwra'])\n",
    "y = combined_table['mwra']\n",
    "X_train, X_test, y_train, y_test = train_test_split(X, y, test_size=0.2, random_state=69)"
   ],
   "id": "90741fe1f4f969b4",
   "outputs": [],
   "execution_count": 3
  },
  {
   "metadata": {},
   "cell_type": "markdown",
   "source": [
    "# Phase 3: Machine Learning\n",
    "Martin Horský 50%, Janka Krajčíková 50%"
   ],
   "id": "911acb1d8b313572"
  },
  {
   "metadata": {},
   "cell_type": "markdown",
   "source": "# Phase 3-1: Implementing ID3 Classifier  ",
   "id": "b28ff85e1c26f39c"
  },
  {
   "metadata": {},
   "cell_type": "markdown",
   "source": "## 3-1A: Implementation",
   "id": "14286155068a9b5a"
  },
  {
   "metadata": {},
   "cell_type": "markdown",
   "source": [
    "As we are dealing with continuous data, we will be using a different version of the ID3 algorithm opposed to the one shown in the lecture.  \n",
    "Our implementation was inspired by the following implementation:  \n",
    "https://www.geeksforgeeks.org/iterative-dichotomiser-3-id3-algorithm-from-scratch/"
   ],
   "id": "bb1dfb0188104bd9"
  },
  {
   "metadata": {
    "ExecuteTime": {
     "end_time": "2024-11-17T12:58:59.720600Z",
     "start_time": "2024-11-17T12:58:59.698975Z"
    }
   },
   "cell_type": "code",
   "source": [
    "def _calculate_entropy(data):\n",
    "    counts = np.bincount(data)\n",
    "    probabilities = counts / len(data)\n",
    "    return entropy(probabilities, base=2) # base=2 to use log2\n",
    "\n",
    "\n",
    "def _bin_df(df: np.array):\n",
    "    def _bin_column(column):\n",
    "        bins = np.linspace(min(column), max(column)+0.01, 10) # +0.01 so max is included\n",
    "        indices = np.digitize(column, bins)\n",
    "        return np.array([(bins[_-1] + bins[_]) / 2 for _ in indices])\n",
    "    \n",
    "    for column_index in range(df.shape[1]):\n",
    "        df[:, column_index] = _bin_column(df[:, column_index])\n",
    "    return df\n",
    "\n",
    "\n",
    "class ID3classifier(BaseEstimator):\n",
    "    class Node:\n",
    "        def __init__(self, feature=None, result=None, value=None, left_child=None, right_child=None):\n",
    "            self.feature: np.array = feature # column index of criteria being tested\n",
    "            self.result: Union[0, 1] = result\n",
    "            self.split_point: int = value\n",
    "            self.left_child: Optional['ID3classifier.Node'] = left_child\n",
    "            self.right_child: Optional['ID3classifier.Node'] = right_child\n",
    "            \n",
    "    def __init__(self, max_depth=None, min_samples_split=2, threshold=0):\n",
    "        self.root: Optional['ID3classifier.Node'] = None\n",
    "        self.max_depth: int = max_depth\n",
    "        self.min_samples_split: int = min_samples_split\n",
    "        self.threshold: float = threshold\n",
    "        \n",
    "    def fit(self, data_samples: np.array, target_values: list[int], do_best_split_point: bool = False):\n",
    "        if do_best_split_point:\n",
    "            data_samples = _bin_df(data_samples)\n",
    "            self.root = self._long_build(data_samples, target_values)\n",
    "        else:\n",
    "            self.root = self._build(data_samples, target_values)\n",
    "        \n",
    "    def _build(self, X, y, depth=0):\n",
    "        # going through halt conditions\n",
    "        if (len(set(y)) == 1 or \n",
    "                (self.max_depth is not None and depth >= self.max_depth) or\n",
    "                (y.shape[0] < self.min_samples_split)):\n",
    "            return self.Node(result=Counter(y).most_common(1)[0][0])\n",
    "        \n",
    "        best_entropy_gain = 0\n",
    "        best_feature = None\n",
    "        best_split_point = None\n",
    "        features_length = X.shape[1]\n",
    "        current_entropy = _calculate_entropy(y)\n",
    "        best_left_X, best_left_y, best_right_X, best_right_y = None, None, None, None\n",
    "        for feature in range(features_length):\n",
    "            split_point = np.median(X[:, feature])\n",
    "            left_indices = X[:, feature] < split_point\n",
    "            right_indices = X[:, feature] >= split_point\n",
    "            left_X, left_y = X[left_indices], y[left_indices]\n",
    "            right_X, right_y = X[right_indices], y[right_indices]\n",
    "            left_entropy = _calculate_entropy(left_y)\n",
    "            right_entropy = _calculate_entropy(right_y)\n",
    "            left_p = len(left_y) / len(y)\n",
    "            right_p = 1 - left_p\n",
    "            entropy_gain = current_entropy - (left_p * left_entropy + right_p * right_entropy)\n",
    "            \n",
    "            if entropy_gain > best_entropy_gain:\n",
    "                best_entropy_gain = entropy_gain\n",
    "                best_feature = feature\n",
    "                best_split_point = split_point\n",
    "                best_left_X, best_left_y, best_right_X, best_right_y = left_X, left_y, right_X, right_y\n",
    "                \n",
    "        if best_entropy_gain > self.threshold:\n",
    "            left_child = self._build(best_left_X, best_left_y, depth + 1)\n",
    "            right_child = self._build(best_right_X, best_right_y, depth + 1)\n",
    "            return self.Node(feature=best_feature, value=best_split_point ,left_child=left_child, right_child=right_child)\n",
    "        \n",
    "        # if no split found, return the most common label by default\n",
    "        return self.Node(result=Counter(y).most_common(1)[0][0])\n",
    "    \n",
    "    def _long_build(self, X, y, depth=0):\n",
    "        if (len(set(y)) == 1 or \n",
    "                (self.max_depth is not None and depth >= self.max_depth) or\n",
    "                (y.shape[0] < self.min_samples_split)):\n",
    "            return self.Node(result=Counter(y).most_common(1)[0][0])\n",
    "        \n",
    "        best_entropy_gain = 0\n",
    "        best_feature = None\n",
    "        best_split_point = None\n",
    "        features_length = X.shape[1]\n",
    "        current_entropy = _calculate_entropy(y)\n",
    "        best_left_X, best_left_y, best_right_X, best_right_y = None, None, None, None\n",
    "        for feature in range(features_length):\n",
    "            #JANKA changed - we are looking for the best split point (= split with highest entropy gain)\n",
    "            feature_values = set(X[:, feature])\n",
    "            for split_point in feature_values:\n",
    "                left_indices = X[:, feature] < split_point\n",
    "                right_indices = X[:, feature] >= split_point\n",
    "                left_X, left_y = X[left_indices], y[left_indices]\n",
    "                right_X, right_y = X[right_indices], y[right_indices]\n",
    "                left_entropy = _calculate_entropy(left_y)\n",
    "                right_entropy = _calculate_entropy(right_y)\n",
    "                left_p = len(left_y) / len(y)\n",
    "                right_p = 1 - left_p\n",
    "                entropy_gain = current_entropy - (left_p * left_entropy + right_p * right_entropy)\n",
    "                if entropy_gain > best_entropy_gain:\n",
    "                    best_entropy_gain = entropy_gain\n",
    "                    best_feature = feature\n",
    "                    best_split_point = split_point\n",
    "                    best_left_X, best_left_y, best_right_X, best_right_y = left_X, left_y, right_X, right_y\n",
    "                    \n",
    "            if best_entropy_gain > self.threshold:\n",
    "                left_child = self._build(best_left_X, best_left_y, depth + 1)\n",
    "                right_child = self._build(best_right_X, best_right_y, depth + 1)\n",
    "                return self.Node(feature=best_feature, value=best_split_point ,left_child=left_child, right_child=right_child)\n",
    "        \n",
    "        # if no split found, return the most common label by default\n",
    "        return self.Node(result=Counter(y).most_common(1)[0][0])\n",
    "\n",
    "    def predict(self, items: np.array) -> np.array:\n",
    "        if self.root is None:\n",
    "            raise ValueError('The model has not been trained yet.')\n",
    "            \n",
    "        # the depth has to be at least 2, including root, because it's a condition in the assignment \n",
    "        if self.root.left_child is None and self.root.right_child is None:\n",
    "            return None\n",
    "        return np.array([self._predict(self.root, item) for item in items])\n",
    "        \n",
    "    def _predict(self, node, item):\n",
    "        if node.result is not None:\n",
    "            return node.result\n",
    "        if item[node.feature] < node.split_point:\n",
    "            return self._predict(node.left_child, item)\n",
    "        return self._predict(node.right_child, item)\n",
    "    \n",
    "    def visualize(self) -> pd.DataFrame:\n",
    "        if self.root is None:\n",
    "            raise ValueError('The model has not been trained yet.')\n",
    "        rows = []\n",
    "        def traverse(node, depth, path):\n",
    "            if not node:\n",
    "                return\n",
    "            # Add current node to the path\n",
    "            path[depth] = f\"Result: {node.result}\" if node.result is not None else f\"Column {node.feature} split at {round(node.split_point, 4)}\"\n",
    "            # If it's a leaf node, record the path as a row\n",
    "            if node.result is not None:\n",
    "                rows.append(path[:depth + 1] + [None] * (max_depth - depth - 1))\n",
    "            else:\n",
    "                # Traverse left and right children\n",
    "                traverse(node.left_child, depth + 1, path)\n",
    "                traverse(node.right_child, depth + 1, path)\n",
    "                \n",
    "        def max_depth(node):\n",
    "            if not node:\n",
    "                return 0\n",
    "            return 1 + max(max_depth(node.left_child), max_depth(node.right_child))\n",
    "\n",
    "        max_depth = max_depth(self.root)\n",
    "        traverse(self.root, 0, [None] * max_depth)\n",
    "\n",
    "        # Convert rows to DataFrame\n",
    "        columns = [f\"Depth {i}\" for i in range(max_depth)]\n",
    "        \n",
    "        output = pd.DataFrame(rows, columns=columns)\n",
    "        \n",
    "        for col in output.columns:\n",
    "            output[col] = output[col].mask(\n",
    "                (output[col].duplicated() | output[col].isnull()) & ~output[col].isin(['Result: 0', 'Result: 1']), '')\n",
    "            \n",
    "        return output\n",
    "    "
   ],
   "id": "1c380d26f939b8fd",
   "outputs": [],
   "execution_count": 4
  },
  {
   "metadata": {},
   "cell_type": "markdown",
   "source": "## 3-1B & 3-1C: Testing using accuracy, precision and recall and testing overfitting",
   "id": "dd46aa723e350aef"
  },
  {
   "metadata": {
    "ExecuteTime": {
     "end_time": "2024-11-17T12:58:59.791313Z",
     "start_time": "2024-11-17T12:58:59.784677Z"
    }
   },
   "cell_type": "code",
   "source": [
    "def show_metrics(predicted_train, predicted_test, real_train, real_test):\n",
    "    test_precision_scores   = precision_score(real_test, predicted_test, average=None)\n",
    "    test_precision_true     = test_precision_scores[0]\n",
    "    test_precision_false    = test_precision_scores[1]\n",
    "    test_precision_weighted = precision_score(real_test, predicted_test, average='weighted')\n",
    "    test_recall_scores      = recall_score(real_test, predicted_test, average=None)\n",
    "    test_recall_false       = test_recall_scores[0]\n",
    "    test_recall_true        = test_recall_scores[1]\n",
    "    test_recall_weighted    = recall_score(real_test, predicted_test, average='weighted')\n",
    "    test_accuracy           = accuracy_score(real_test, predicted_test)\n",
    "    train_precision_scores  = precision_score(real_train, predicted_train, average=None)\n",
    "    train_precision_true    = train_precision_scores[0]\n",
    "    train_precision_false   = train_precision_scores[1]\n",
    "    train_precision_weighted= precision_score(real_train, predicted_train, average='weighted')\n",
    "    train_recall_scores     = recall_score(real_train, predicted_train, average=None)\n",
    "    train_recall_false      = train_recall_scores[0]\n",
    "    train_recall_true       = train_recall_scores[1]\n",
    "    train_recall_weighted   = recall_score(real_train, predicted_train, average='weighted')\n",
    "    train_accuracy          = accuracy_score(real_train, predicted_train)\n",
    "\n",
    "    df = pd.DataFrame({\n",
    "        'Train': [train_precision_true, train_precision_false, train_precision_weighted, train_recall_true, train_recall_false, train_recall_weighted, train_accuracy],\n",
    "        'Test': [test_precision_true, test_precision_false, test_precision_weighted, test_recall_true, test_recall_false, test_recall_weighted, test_accuracy]\n",
    "    }, index=['Precision True', 'Precision False', 'Precision Weighted', 'Recall True', 'Recall False', 'Recall Weighted', 'Accuracy'])\n",
    "    return df"
   ],
   "id": "66acb88547e7ce9f",
   "outputs": [],
   "execution_count": 5
  },
  {
   "metadata": {},
   "cell_type": "markdown",
   "source": "Before we start testing, we need to check if our testing data is balanced, so we know which metrics to prioritize and whether we need to use oversampling or undersampling.",
   "id": "5e49f45044d76f9c"
  },
  {
   "metadata": {
    "ExecuteTime": {
     "end_time": "2024-11-15T18:47:40.651236Z",
     "start_time": "2024-11-15T18:47:40.645356Z"
    }
   },
   "cell_type": "code",
   "source": [
    "positives_y_train = y_train[y_train == 1].shape[0]\n",
    "positive_ratio_y_train = round(positives_y_train / y_train.shape[0], 2)\n",
    "positives_y_test = y_test[y_test == 1].shape[0]\n",
    "positive_ratio_y_test = round(positives_y_test / y_test.shape[0], 2)\n",
    "print(f'Positive percentage in training data: {positive_ratio_y_train*100}%.\\nPositive percentage in testing data: {positive_ratio_y_test*100}%.')"
   ],
   "id": "694fd1ee3e386dad",
   "outputs": [
    {
     "name": "stdout",
     "output_type": "stream",
     "text": [
      "Positive percentage in training data: 63.0%.\n",
      "Positive percentage in testing data: 62.0%.\n"
     ]
    }
   ],
   "execution_count": 103
  },
  {
   "metadata": {},
   "cell_type": "markdown",
   "source": "We found small imbalance, but it's not significant enough to warrant oversampling or under-sampling as oversampling would provide synthetic data, which may not represent real patterns and under-sampling would remove too much data.",
   "id": "42f30efe51fd1ff6"
  },
  {
   "metadata": {},
   "cell_type": "markdown",
   "source": "#### First step of testing, we test the classifier without changing any of the hyperparameters. That means we will not limit the depth of the tree, the minimum samples required to split a node or change the threshold for entropy gain.",
   "id": "273fe9ed5849a210"
  },
  {
   "metadata": {
    "ExecuteTime": {
     "end_time": "2024-11-15T18:48:10.203327Z",
     "start_time": "2024-11-15T18:47:40.675819Z"
    }
   },
   "cell_type": "code",
   "source": [
    "unmodified_id3 = ID3classifier()\n",
    "unmodified_id3.fit(X_train.values, y_train.values)"
   ],
   "id": "b010b307dcb864c5",
   "outputs": [],
   "execution_count": 104
  },
  {
   "metadata": {
    "ExecuteTime": {
     "end_time": "2024-11-15T18:48:10.324471Z",
     "start_time": "2024-11-15T18:48:10.273115Z"
    }
   },
   "cell_type": "code",
   "source": [
    "# getting predicted values for testing data, but also training data to check for overfitting\n",
    "y_pred = unmodified_id3.predict(X_test)\n",
    "y_pred_train = unmodified_id3.predict(X_train)"
   ],
   "id": "d874bc1d676160e1",
   "outputs": [],
   "execution_count": 105
  },
  {
   "metadata": {},
   "cell_type": "markdown",
   "source": "Since using precision and recall with average='micro' is the same as accuracy, we will use average=None to get the scores for both classes.",
   "id": "ac9c106c9ce353e3"
  },
  {
   "metadata": {
    "ExecuteTime": {
     "end_time": "2024-11-15T18:48:10.433772Z",
     "start_time": "2024-11-15T18:48:10.394050Z"
    }
   },
   "cell_type": "code",
   "source": "show_metrics(y_pred_train, y_pred, y_train, y_test)",
   "id": "5f161f82eaf7e9ea",
   "outputs": [
    {
     "data": {
      "text/plain": [
       "                    Train      Test\n",
       "Precision True        1.0  0.783666\n",
       "Precision False       1.0  0.863636\n",
       "Precision Weighted    1.0  0.833431\n",
       "Recall True           1.0  0.870380\n",
       "Recall False          1.0  0.773585\n",
       "Recall Weighted       1.0  0.833819\n",
       "Accuracy              1.0  0.833819"
      ],
      "text/html": [
       "<div>\n",
       "<style scoped>\n",
       "    .dataframe tbody tr th:only-of-type {\n",
       "        vertical-align: middle;\n",
       "    }\n",
       "\n",
       "    .dataframe tbody tr th {\n",
       "        vertical-align: top;\n",
       "    }\n",
       "\n",
       "    .dataframe thead th {\n",
       "        text-align: right;\n",
       "    }\n",
       "</style>\n",
       "<table border=\"1\" class=\"dataframe\">\n",
       "  <thead>\n",
       "    <tr style=\"text-align: right;\">\n",
       "      <th></th>\n",
       "      <th>Train</th>\n",
       "      <th>Test</th>\n",
       "    </tr>\n",
       "  </thead>\n",
       "  <tbody>\n",
       "    <tr>\n",
       "      <th>Precision True</th>\n",
       "      <td>1.0</td>\n",
       "      <td>0.783666</td>\n",
       "    </tr>\n",
       "    <tr>\n",
       "      <th>Precision False</th>\n",
       "      <td>1.0</td>\n",
       "      <td>0.863636</td>\n",
       "    </tr>\n",
       "    <tr>\n",
       "      <th>Precision Weighted</th>\n",
       "      <td>1.0</td>\n",
       "      <td>0.833431</td>\n",
       "    </tr>\n",
       "    <tr>\n",
       "      <th>Recall True</th>\n",
       "      <td>1.0</td>\n",
       "      <td>0.870380</td>\n",
       "    </tr>\n",
       "    <tr>\n",
       "      <th>Recall False</th>\n",
       "      <td>1.0</td>\n",
       "      <td>0.773585</td>\n",
       "    </tr>\n",
       "    <tr>\n",
       "      <th>Recall Weighted</th>\n",
       "      <td>1.0</td>\n",
       "      <td>0.833819</td>\n",
       "    </tr>\n",
       "    <tr>\n",
       "      <th>Accuracy</th>\n",
       "      <td>1.0</td>\n",
       "      <td>0.833819</td>\n",
       "    </tr>\n",
       "  </tbody>\n",
       "</table>\n",
       "</div>"
      ]
     },
     "execution_count": 106,
     "metadata": {},
     "output_type": "execute_result"
    }
   ],
   "execution_count": 106
  },
  {
   "metadata": {},
   "cell_type": "markdown",
   "source": [
    "Initial thing we can see is that the training data is overfitting, as all the metrics are 100%.  \n",
    "In testing data, the metrics are all in the 80% range which is not bad, but it's not great as always predicting true would give us 63% accuracy.\n",
    "We can confirm the imbalance by the fact that precision for true is lower than recall for true implying a lot more false positives than false negatives.\n",
    "But the imbalance isn't as bad, as the weighted recall and precision are both really close to the accuracy."
   ],
   "id": "7cb8f2141cbfa823"
  },
  {
   "metadata": {},
   "cell_type": "markdown",
   "source": "We can also try a method that tries to find the best split point for each feature, which should increase the performance.",
   "id": "b69f64b65c78692e"
  },
  {
   "metadata": {
    "ExecuteTime": {
     "end_time": "2024-11-15T18:48:38.035826Z",
     "start_time": "2024-11-15T18:48:10.664226Z"
    }
   },
   "cell_type": "code",
   "source": [
    "best_split_id3 = ID3classifier()\n",
    "best_split_id3.fit(X_train.values, y_train.values, do_best_split_point=True)\n",
    "y_pred = np.array([best_split_id3.predict(item) for item in X_test.values])\n",
    "y_pred_train = np.array([best_split_id3.predict(item) for item in X_train.values])\n",
    "show_metrics(y_pred_train, y_pred, y_train, y_test)"
   ],
   "id": "551774d505a080d6",
   "outputs": [
    {
     "data": {
      "text/plain": [
       "                       Train      Test\n",
       "Precision True      0.753413  0.733898\n",
       "Precision False     0.870912  0.842685\n",
       "Precision Weighted  0.827453  0.801595\n",
       "Recall True         0.849081  0.836543\n",
       "Recall False        0.785589  0.742710\n",
       "Recall Weighted     0.825597  0.801101\n",
       "Accuracy            0.825597  0.801101"
      ],
      "text/html": [
       "<div>\n",
       "<style scoped>\n",
       "    .dataframe tbody tr th:only-of-type {\n",
       "        vertical-align: middle;\n",
       "    }\n",
       "\n",
       "    .dataframe tbody tr th {\n",
       "        vertical-align: top;\n",
       "    }\n",
       "\n",
       "    .dataframe thead th {\n",
       "        text-align: right;\n",
       "    }\n",
       "</style>\n",
       "<table border=\"1\" class=\"dataframe\">\n",
       "  <thead>\n",
       "    <tr style=\"text-align: right;\">\n",
       "      <th></th>\n",
       "      <th>Train</th>\n",
       "      <th>Test</th>\n",
       "    </tr>\n",
       "  </thead>\n",
       "  <tbody>\n",
       "    <tr>\n",
       "      <th>Precision True</th>\n",
       "      <td>0.753413</td>\n",
       "      <td>0.733898</td>\n",
       "    </tr>\n",
       "    <tr>\n",
       "      <th>Precision False</th>\n",
       "      <td>0.870912</td>\n",
       "      <td>0.842685</td>\n",
       "    </tr>\n",
       "    <tr>\n",
       "      <th>Precision Weighted</th>\n",
       "      <td>0.827453</td>\n",
       "      <td>0.801595</td>\n",
       "    </tr>\n",
       "    <tr>\n",
       "      <th>Recall True</th>\n",
       "      <td>0.849081</td>\n",
       "      <td>0.836543</td>\n",
       "    </tr>\n",
       "    <tr>\n",
       "      <th>Recall False</th>\n",
       "      <td>0.785589</td>\n",
       "      <td>0.742710</td>\n",
       "    </tr>\n",
       "    <tr>\n",
       "      <th>Recall Weighted</th>\n",
       "      <td>0.825597</td>\n",
       "      <td>0.801101</td>\n",
       "    </tr>\n",
       "    <tr>\n",
       "      <th>Accuracy</th>\n",
       "      <td>0.825597</td>\n",
       "      <td>0.801101</td>\n",
       "    </tr>\n",
       "  </tbody>\n",
       "</table>\n",
       "</div>"
      ]
     },
     "execution_count": 107,
     "metadata": {},
     "output_type": "execute_result"
    }
   ],
   "execution_count": 107
  },
  {
   "metadata": {},
   "cell_type": "markdown",
   "source": "Using the best split point only lowered the performance as we needed to bin the data to get it done in a reasonable time (What takes 1 minute with taking the mean would take 8 days with the best split point method). We can see that the performance is worse than the base ID3 algorithm. We can also see that since we binned the data we trained on, the training data accuracy isn't great either as it was overfitted to the modified data, not the original. ",
   "id": "bd9891220450debf"
  },
  {
   "metadata": {},
   "cell_type": "markdown",
   "source": "We can try to limit the depth of the tree to see if it will help with overfitting.",
   "id": "c2e848e0758730b3"
  },
  {
   "metadata": {
    "ExecuteTime": {
     "end_time": "2024-11-15T18:48:38.929357Z",
     "start_time": "2024-11-15T18:48:38.099592Z"
    }
   },
   "cell_type": "code",
   "source": [
    "bounded_id3 = ID3classifier(max_depth=5)\n",
    "bounded_id3.fit(X_train.values, y_train.values)"
   ],
   "id": "1e7b47992e49cfa4",
   "outputs": [],
   "execution_count": 108
  },
  {
   "metadata": {
    "ExecuteTime": {
     "end_time": "2024-11-15T18:48:39.023186Z",
     "start_time": "2024-11-15T18:48:38.961189Z"
    }
   },
   "cell_type": "code",
   "source": [
    "y_pred = np.array([bounded_id3.predict(item) for item in X_test.values])\n",
    "y_pred_train = np.array([bounded_id3.predict(item) for item in X_train.values])\n",
    "show_metrics(y_pred_train, y_pred, y_train, y_test)"
   ],
   "id": "98c32a5caf2353b6",
   "outputs": [
    {
     "data": {
      "text/plain": [
       "                       Train      Test\n",
       "Precision True      0.830022  0.841783\n",
       "Precision False     0.906286  0.895522\n",
       "Precision Weighted  0.878079  0.875224\n",
       "Recall True         0.898830  0.905778\n",
       "Recall False        0.841656  0.825901\n",
       "Recall Weighted     0.877683  0.875607\n",
       "Accuracy            0.877683  0.875607"
      ],
      "text/html": [
       "<div>\n",
       "<style scoped>\n",
       "    .dataframe tbody tr th:only-of-type {\n",
       "        vertical-align: middle;\n",
       "    }\n",
       "\n",
       "    .dataframe tbody tr th {\n",
       "        vertical-align: top;\n",
       "    }\n",
       "\n",
       "    .dataframe thead th {\n",
       "        text-align: right;\n",
       "    }\n",
       "</style>\n",
       "<table border=\"1\" class=\"dataframe\">\n",
       "  <thead>\n",
       "    <tr style=\"text-align: right;\">\n",
       "      <th></th>\n",
       "      <th>Train</th>\n",
       "      <th>Test</th>\n",
       "    </tr>\n",
       "  </thead>\n",
       "  <tbody>\n",
       "    <tr>\n",
       "      <th>Precision True</th>\n",
       "      <td>0.830022</td>\n",
       "      <td>0.841783</td>\n",
       "    </tr>\n",
       "    <tr>\n",
       "      <th>Precision False</th>\n",
       "      <td>0.906286</td>\n",
       "      <td>0.895522</td>\n",
       "    </tr>\n",
       "    <tr>\n",
       "      <th>Precision Weighted</th>\n",
       "      <td>0.878079</td>\n",
       "      <td>0.875224</td>\n",
       "    </tr>\n",
       "    <tr>\n",
       "      <th>Recall True</th>\n",
       "      <td>0.898830</td>\n",
       "      <td>0.905778</td>\n",
       "    </tr>\n",
       "    <tr>\n",
       "      <th>Recall False</th>\n",
       "      <td>0.841656</td>\n",
       "      <td>0.825901</td>\n",
       "    </tr>\n",
       "    <tr>\n",
       "      <th>Recall Weighted</th>\n",
       "      <td>0.877683</td>\n",
       "      <td>0.875607</td>\n",
       "    </tr>\n",
       "    <tr>\n",
       "      <th>Accuracy</th>\n",
       "      <td>0.877683</td>\n",
       "      <td>0.875607</td>\n",
       "    </tr>\n",
       "  </tbody>\n",
       "</table>\n",
       "</div>"
      ]
     },
     "execution_count": 109,
     "metadata": {},
     "output_type": "execute_result"
    }
   ],
   "execution_count": 109
  },
  {
   "metadata": {},
   "cell_type": "markdown",
   "source": "We can see that despite way lower accuracy in the training dataset, on the testing dataset it has improved and even performed better than on the training dataset in some metrics. ",
   "id": "f68dbe9cf52986d2"
  },
  {
   "metadata": {},
   "cell_type": "markdown",
   "source": [
    "### Observations\n",
    "- When we ignore overfitting, the ID3 algorithm has 83% accuracy compared to 63% accuracy if we always assume mwra is true.\n",
    "- The base ID3 algorithm is prone to overfitting.\n",
    "- Limiting the maximum depth greatly helps with overfitting. "
   ],
   "id": "73f2d0aeb059ebda"
  },
  {
   "metadata": {},
   "cell_type": "markdown",
   "source": [
    "### Tuning the hyperparameters\n",
    "In a later step, we will test multiple hyperparameters of a different function more in depth, but for now we can test just a few."
   ],
   "id": "d0bd3cb72e2bbc32"
  },
  {
   "metadata": {
    "ExecuteTime": {
     "end_time": "2024-11-16T10:16:53.525384Z",
     "start_time": "2024-11-16T10:16:53.521102Z"
    }
   },
   "cell_type": "code",
   "source": [
    "def test_id3_hyperparameters(max_depth=None, min_samples_split=2, threshold=0):\n",
    "    modified_id3 = ID3classifier(max_depth=max_depth, min_samples_split=min_samples_split, threshold=threshold)\n",
    "    modified_id3.fit(X_train.values, y_train.values)\n",
    "    y_pred = modified_id3.predict(X_test)\n",
    "    y_pred_train = modified_id3.predict(X_train)\n",
    "    return show_metrics(y_pred_train, y_pred, y_train, y_test)"
   ],
   "id": "1d760520dfeec642",
   "outputs": [],
   "execution_count": 6
  },
  {
   "metadata": {
    "ExecuteTime": {
     "end_time": "2024-11-15T18:48:51.066466Z",
     "start_time": "2024-11-15T18:48:39.142524Z"
    }
   },
   "cell_type": "code",
   "source": "test_id3_hyperparameters(max_depth=10)",
   "id": "e72b7ef4c3c01b0e",
   "outputs": [
    {
     "data": {
      "text/plain": [
       "                       Train      Test\n",
       "Precision True      0.906722  0.866667\n",
       "Precision False     0.924727  0.891064\n",
       "Precision Weighted  0.918067  0.881849\n",
       "Recall True         0.947551  0.923998\n",
       "Recall False        0.868594  0.813894\n",
       "Recall Weighted     0.918348  0.882410\n",
       "Accuracy            0.918348  0.882410"
      ],
      "text/html": [
       "<div>\n",
       "<style scoped>\n",
       "    .dataframe tbody tr th:only-of-type {\n",
       "        vertical-align: middle;\n",
       "    }\n",
       "\n",
       "    .dataframe tbody tr th {\n",
       "        vertical-align: top;\n",
       "    }\n",
       "\n",
       "    .dataframe thead th {\n",
       "        text-align: right;\n",
       "    }\n",
       "</style>\n",
       "<table border=\"1\" class=\"dataframe\">\n",
       "  <thead>\n",
       "    <tr style=\"text-align: right;\">\n",
       "      <th></th>\n",
       "      <th>Train</th>\n",
       "      <th>Test</th>\n",
       "    </tr>\n",
       "  </thead>\n",
       "  <tbody>\n",
       "    <tr>\n",
       "      <th>Precision True</th>\n",
       "      <td>0.906722</td>\n",
       "      <td>0.866667</td>\n",
       "    </tr>\n",
       "    <tr>\n",
       "      <th>Precision False</th>\n",
       "      <td>0.924727</td>\n",
       "      <td>0.891064</td>\n",
       "    </tr>\n",
       "    <tr>\n",
       "      <th>Precision Weighted</th>\n",
       "      <td>0.918067</td>\n",
       "      <td>0.881849</td>\n",
       "    </tr>\n",
       "    <tr>\n",
       "      <th>Recall True</th>\n",
       "      <td>0.947551</td>\n",
       "      <td>0.923998</td>\n",
       "    </tr>\n",
       "    <tr>\n",
       "      <th>Recall False</th>\n",
       "      <td>0.868594</td>\n",
       "      <td>0.813894</td>\n",
       "    </tr>\n",
       "    <tr>\n",
       "      <th>Recall Weighted</th>\n",
       "      <td>0.918348</td>\n",
       "      <td>0.882410</td>\n",
       "    </tr>\n",
       "    <tr>\n",
       "      <th>Accuracy</th>\n",
       "      <td>0.918348</td>\n",
       "      <td>0.882410</td>\n",
       "    </tr>\n",
       "  </tbody>\n",
       "</table>\n",
       "</div>"
      ]
     },
     "execution_count": 111,
     "metadata": {},
     "output_type": "execute_result"
    }
   ],
   "execution_count": 111
  },
  {
   "metadata": {
    "ExecuteTime": {
     "end_time": "2024-11-15T18:49:04.410709Z",
     "start_time": "2024-11-15T18:48:51.111431Z"
    }
   },
   "cell_type": "code",
   "source": "test_id3_hyperparameters(max_depth=10, min_samples_split=10)",
   "id": "87eb237554967f31",
   "outputs": [
    {
     "data": {
      "text/plain": [
       "                       Train      Test\n",
       "Precision True      0.906722  0.866667\n",
       "Precision False     0.924727  0.891064\n",
       "Precision Weighted  0.918067  0.881849\n",
       "Recall True         0.947551  0.923998\n",
       "Recall False        0.868594  0.813894\n",
       "Recall Weighted     0.918348  0.882410\n",
       "Accuracy            0.918348  0.882410"
      ],
      "text/html": [
       "<div>\n",
       "<style scoped>\n",
       "    .dataframe tbody tr th:only-of-type {\n",
       "        vertical-align: middle;\n",
       "    }\n",
       "\n",
       "    .dataframe tbody tr th {\n",
       "        vertical-align: top;\n",
       "    }\n",
       "\n",
       "    .dataframe thead th {\n",
       "        text-align: right;\n",
       "    }\n",
       "</style>\n",
       "<table border=\"1\" class=\"dataframe\">\n",
       "  <thead>\n",
       "    <tr style=\"text-align: right;\">\n",
       "      <th></th>\n",
       "      <th>Train</th>\n",
       "      <th>Test</th>\n",
       "    </tr>\n",
       "  </thead>\n",
       "  <tbody>\n",
       "    <tr>\n",
       "      <th>Precision True</th>\n",
       "      <td>0.906722</td>\n",
       "      <td>0.866667</td>\n",
       "    </tr>\n",
       "    <tr>\n",
       "      <th>Precision False</th>\n",
       "      <td>0.924727</td>\n",
       "      <td>0.891064</td>\n",
       "    </tr>\n",
       "    <tr>\n",
       "      <th>Precision Weighted</th>\n",
       "      <td>0.918067</td>\n",
       "      <td>0.881849</td>\n",
       "    </tr>\n",
       "    <tr>\n",
       "      <th>Recall True</th>\n",
       "      <td>0.947551</td>\n",
       "      <td>0.923998</td>\n",
       "    </tr>\n",
       "    <tr>\n",
       "      <th>Recall False</th>\n",
       "      <td>0.868594</td>\n",
       "      <td>0.813894</td>\n",
       "    </tr>\n",
       "    <tr>\n",
       "      <th>Recall Weighted</th>\n",
       "      <td>0.918348</td>\n",
       "      <td>0.882410</td>\n",
       "    </tr>\n",
       "    <tr>\n",
       "      <th>Accuracy</th>\n",
       "      <td>0.918348</td>\n",
       "      <td>0.882410</td>\n",
       "    </tr>\n",
       "  </tbody>\n",
       "</table>\n",
       "</div>"
      ]
     },
     "execution_count": 112,
     "metadata": {},
     "output_type": "execute_result"
    }
   ],
   "execution_count": 112
  },
  {
   "metadata": {
    "ExecuteTime": {
     "end_time": "2024-11-15T18:49:08.915953Z",
     "start_time": "2024-11-15T18:49:04.475427Z"
    }
   },
   "cell_type": "code",
   "source": "test_id3_hyperparameters(max_depth=10, min_samples_split=50)",
   "id": "24ece8ce411424c7",
   "outputs": [
    {
     "data": {
      "text/plain": [
       "                       Train      Test\n",
       "Precision True      0.900811  0.903349\n",
       "Precision False     0.903325  0.891283\n",
       "Precision Weighted  0.902395  0.895841\n",
       "Recall True         0.946523  0.947423\n",
       "Recall False        0.827420  0.809605\n",
       "Recall Weighted     0.902471  0.895368\n",
       "Accuracy            0.902471  0.895368"
      ],
      "text/html": [
       "<div>\n",
       "<style scoped>\n",
       "    .dataframe tbody tr th:only-of-type {\n",
       "        vertical-align: middle;\n",
       "    }\n",
       "\n",
       "    .dataframe tbody tr th {\n",
       "        vertical-align: top;\n",
       "    }\n",
       "\n",
       "    .dataframe thead th {\n",
       "        text-align: right;\n",
       "    }\n",
       "</style>\n",
       "<table border=\"1\" class=\"dataframe\">\n",
       "  <thead>\n",
       "    <tr style=\"text-align: right;\">\n",
       "      <th></th>\n",
       "      <th>Train</th>\n",
       "      <th>Test</th>\n",
       "    </tr>\n",
       "  </thead>\n",
       "  <tbody>\n",
       "    <tr>\n",
       "      <th>Precision True</th>\n",
       "      <td>0.900811</td>\n",
       "      <td>0.903349</td>\n",
       "    </tr>\n",
       "    <tr>\n",
       "      <th>Precision False</th>\n",
       "      <td>0.903325</td>\n",
       "      <td>0.891283</td>\n",
       "    </tr>\n",
       "    <tr>\n",
       "      <th>Precision Weighted</th>\n",
       "      <td>0.902395</td>\n",
       "      <td>0.895841</td>\n",
       "    </tr>\n",
       "    <tr>\n",
       "      <th>Recall True</th>\n",
       "      <td>0.946523</td>\n",
       "      <td>0.947423</td>\n",
       "    </tr>\n",
       "    <tr>\n",
       "      <th>Recall False</th>\n",
       "      <td>0.827420</td>\n",
       "      <td>0.809605</td>\n",
       "    </tr>\n",
       "    <tr>\n",
       "      <th>Recall Weighted</th>\n",
       "      <td>0.902471</td>\n",
       "      <td>0.895368</td>\n",
       "    </tr>\n",
       "    <tr>\n",
       "      <th>Accuracy</th>\n",
       "      <td>0.902471</td>\n",
       "      <td>0.895368</td>\n",
       "    </tr>\n",
       "  </tbody>\n",
       "</table>\n",
       "</div>"
      ]
     },
     "execution_count": 113,
     "metadata": {},
     "output_type": "execute_result"
    }
   ],
   "execution_count": 113
  },
  {
   "metadata": {
    "ExecuteTime": {
     "end_time": "2024-11-15T18:49:10.738438Z",
     "start_time": "2024-11-15T18:49:08.989817Z"
    }
   },
   "cell_type": "code",
   "source": "test_id3_hyperparameters(max_depth=10, min_samples_split=200)",
   "id": "3a8943ae0478d56",
   "outputs": [
    {
     "data": {
      "text/plain": [
       "                       Train      Test\n",
       "Precision True      0.895088  0.908000\n",
       "Precision False     0.886665  0.876378\n",
       "Precision Weighted  0.889780  0.888322\n",
       "Recall True         0.945366  0.952108\n",
       "Recall False        0.794131  0.778731\n",
       "Recall Weighted     0.889429  0.886621\n",
       "Accuracy            0.889429  0.886621"
      ],
      "text/html": [
       "<div>\n",
       "<style scoped>\n",
       "    .dataframe tbody tr th:only-of-type {\n",
       "        vertical-align: middle;\n",
       "    }\n",
       "\n",
       "    .dataframe tbody tr th {\n",
       "        vertical-align: top;\n",
       "    }\n",
       "\n",
       "    .dataframe thead th {\n",
       "        text-align: right;\n",
       "    }\n",
       "</style>\n",
       "<table border=\"1\" class=\"dataframe\">\n",
       "  <thead>\n",
       "    <tr style=\"text-align: right;\">\n",
       "      <th></th>\n",
       "      <th>Train</th>\n",
       "      <th>Test</th>\n",
       "    </tr>\n",
       "  </thead>\n",
       "  <tbody>\n",
       "    <tr>\n",
       "      <th>Precision True</th>\n",
       "      <td>0.895088</td>\n",
       "      <td>0.908000</td>\n",
       "    </tr>\n",
       "    <tr>\n",
       "      <th>Precision False</th>\n",
       "      <td>0.886665</td>\n",
       "      <td>0.876378</td>\n",
       "    </tr>\n",
       "    <tr>\n",
       "      <th>Precision Weighted</th>\n",
       "      <td>0.889780</td>\n",
       "      <td>0.888322</td>\n",
       "    </tr>\n",
       "    <tr>\n",
       "      <th>Recall True</th>\n",
       "      <td>0.945366</td>\n",
       "      <td>0.952108</td>\n",
       "    </tr>\n",
       "    <tr>\n",
       "      <th>Recall False</th>\n",
       "      <td>0.794131</td>\n",
       "      <td>0.778731</td>\n",
       "    </tr>\n",
       "    <tr>\n",
       "      <th>Recall Weighted</th>\n",
       "      <td>0.889429</td>\n",
       "      <td>0.886621</td>\n",
       "    </tr>\n",
       "    <tr>\n",
       "      <th>Accuracy</th>\n",
       "      <td>0.889429</td>\n",
       "      <td>0.886621</td>\n",
       "    </tr>\n",
       "  </tbody>\n",
       "</table>\n",
       "</div>"
      ]
     },
     "execution_count": 114,
     "metadata": {},
     "output_type": "execute_result"
    }
   ],
   "execution_count": 114
  },
  {
   "metadata": {
    "ExecuteTime": {
     "end_time": "2024-11-15T18:49:11.368612Z",
     "start_time": "2024-11-15T18:49:10.801368Z"
    }
   },
   "cell_type": "code",
   "source": "test_id3_hyperparameters(max_depth=10, min_samples_split=50, threshold=0.03)",
   "id": "a1f010c3f4359496",
   "outputs": [
    {
     "data": {
      "text/plain": [
       "                       Train      Test\n",
       "Precision True      0.867529  0.880597\n",
       "Precision False     0.877516  0.865034\n",
       "Precision Weighted  0.873822  0.870912\n",
       "Recall True         0.930197  0.937533\n",
       "Recall False        0.778800  0.759005\n",
       "Recall Weighted     0.874200  0.870100\n",
       "Accuracy            0.874200  0.870100"
      ],
      "text/html": [
       "<div>\n",
       "<style scoped>\n",
       "    .dataframe tbody tr th:only-of-type {\n",
       "        vertical-align: middle;\n",
       "    }\n",
       "\n",
       "    .dataframe tbody tr th {\n",
       "        vertical-align: top;\n",
       "    }\n",
       "\n",
       "    .dataframe thead th {\n",
       "        text-align: right;\n",
       "    }\n",
       "</style>\n",
       "<table border=\"1\" class=\"dataframe\">\n",
       "  <thead>\n",
       "    <tr style=\"text-align: right;\">\n",
       "      <th></th>\n",
       "      <th>Train</th>\n",
       "      <th>Test</th>\n",
       "    </tr>\n",
       "  </thead>\n",
       "  <tbody>\n",
       "    <tr>\n",
       "      <th>Precision True</th>\n",
       "      <td>0.867529</td>\n",
       "      <td>0.880597</td>\n",
       "    </tr>\n",
       "    <tr>\n",
       "      <th>Precision False</th>\n",
       "      <td>0.877516</td>\n",
       "      <td>0.865034</td>\n",
       "    </tr>\n",
       "    <tr>\n",
       "      <th>Precision Weighted</th>\n",
       "      <td>0.873822</td>\n",
       "      <td>0.870912</td>\n",
       "    </tr>\n",
       "    <tr>\n",
       "      <th>Recall True</th>\n",
       "      <td>0.930197</td>\n",
       "      <td>0.937533</td>\n",
       "    </tr>\n",
       "    <tr>\n",
       "      <th>Recall False</th>\n",
       "      <td>0.778800</td>\n",
       "      <td>0.759005</td>\n",
       "    </tr>\n",
       "    <tr>\n",
       "      <th>Recall Weighted</th>\n",
       "      <td>0.874200</td>\n",
       "      <td>0.870100</td>\n",
       "    </tr>\n",
       "    <tr>\n",
       "      <th>Accuracy</th>\n",
       "      <td>0.874200</td>\n",
       "      <td>0.870100</td>\n",
       "    </tr>\n",
       "  </tbody>\n",
       "</table>\n",
       "</div>"
      ]
     },
     "execution_count": 115,
     "metadata": {},
     "output_type": "execute_result"
    }
   ],
   "execution_count": 115
  },
  {
   "metadata": {
    "ExecuteTime": {
     "end_time": "2024-11-15T18:49:22.611473Z",
     "start_time": "2024-11-15T18:49:11.442654Z"
    }
   },
   "cell_type": "code",
   "source": "test_id3_hyperparameters(threshold=0.01)",
   "id": "a6ab5108084f834f",
   "outputs": [
    {
     "data": {
      "text/plain": [
       "                       Train      Test\n",
       "Precision True      0.945123  0.869844\n",
       "Precision False     0.941683  0.891283\n",
       "Precision Weighted  0.942956  0.883185\n",
       "Recall True         0.969405  0.926080\n",
       "Recall False        0.897722  0.813894\n",
       "Recall Weighted     0.942892  0.883706\n",
       "Accuracy            0.942892  0.883706"
      ],
      "text/html": [
       "<div>\n",
       "<style scoped>\n",
       "    .dataframe tbody tr th:only-of-type {\n",
       "        vertical-align: middle;\n",
       "    }\n",
       "\n",
       "    .dataframe tbody tr th {\n",
       "        vertical-align: top;\n",
       "    }\n",
       "\n",
       "    .dataframe thead th {\n",
       "        text-align: right;\n",
       "    }\n",
       "</style>\n",
       "<table border=\"1\" class=\"dataframe\">\n",
       "  <thead>\n",
       "    <tr style=\"text-align: right;\">\n",
       "      <th></th>\n",
       "      <th>Train</th>\n",
       "      <th>Test</th>\n",
       "    </tr>\n",
       "  </thead>\n",
       "  <tbody>\n",
       "    <tr>\n",
       "      <th>Precision True</th>\n",
       "      <td>0.945123</td>\n",
       "      <td>0.869844</td>\n",
       "    </tr>\n",
       "    <tr>\n",
       "      <th>Precision False</th>\n",
       "      <td>0.941683</td>\n",
       "      <td>0.891283</td>\n",
       "    </tr>\n",
       "    <tr>\n",
       "      <th>Precision Weighted</th>\n",
       "      <td>0.942956</td>\n",
       "      <td>0.883185</td>\n",
       "    </tr>\n",
       "    <tr>\n",
       "      <th>Recall True</th>\n",
       "      <td>0.969405</td>\n",
       "      <td>0.926080</td>\n",
       "    </tr>\n",
       "    <tr>\n",
       "      <th>Recall False</th>\n",
       "      <td>0.897722</td>\n",
       "      <td>0.813894</td>\n",
       "    </tr>\n",
       "    <tr>\n",
       "      <th>Recall Weighted</th>\n",
       "      <td>0.942892</td>\n",
       "      <td>0.883706</td>\n",
       "    </tr>\n",
       "    <tr>\n",
       "      <th>Accuracy</th>\n",
       "      <td>0.942892</td>\n",
       "      <td>0.883706</td>\n",
       "    </tr>\n",
       "  </tbody>\n",
       "</table>\n",
       "</div>"
      ]
     },
     "execution_count": 116,
     "metadata": {},
     "output_type": "execute_result"
    }
   ],
   "execution_count": 116
  },
  {
   "metadata": {
    "ExecuteTime": {
     "end_time": "2024-11-15T18:49:55.556153Z",
     "start_time": "2024-11-15T18:49:22.678974Z"
    }
   },
   "cell_type": "code",
   "source": [
    "time_before = time()\n",
    "test_id3_hyperparameters()\n",
    "time_middle = time()\n",
    "test_id3_hyperparameters(threshold=0.02)\n",
    "time_after = time()\n",
    "print(f\"Time without threshold: {time_middle - time_before}, time with threshold: {time_after - time_middle}\")"
   ],
   "id": "a42375a1bd067022",
   "outputs": [
    {
     "name": "stdout",
     "output_type": "stream",
     "text": [
      "Time without threshold: 30.732453107833862, time with threshold: 2.140275478363037\n"
     ]
    }
   ],
   "execution_count": 117
  },
  {
   "metadata": {},
   "cell_type": "markdown",
   "source": "#### Finding at which depth the algorithm starts to overfit",
   "id": "32589d356d2efd48"
  },
  {
   "metadata": {
    "ExecuteTime": {
     "end_time": "2024-11-15T18:54:30.803048Z",
     "start_time": "2024-11-15T18:49:55.685499Z"
    }
   },
   "cell_type": "code",
   "source": [
    "accuracies_train = []\n",
    "accuracies_test = []\n",
    "for forest_depth in range(2, 20):\n",
    "    modified_id3 = ID3classifier(max_depth=forest_depth)\n",
    "    modified_id3.fit(X_train.values, y_train.values)\n",
    "    y_pred = modified_id3.predict(X_test.values)\n",
    "    y_pred_train = modified_id3.predict(X_train)\n",
    "    accuracies_train.append(accuracy_score(y_train, y_pred_train))\n",
    "    accuracies_test.append(accuracy_score(y_test, y_pred))"
   ],
   "id": "2023a9bad1e520ee",
   "outputs": [],
   "execution_count": 118
  },
  {
   "metadata": {
    "ExecuteTime": {
     "end_time": "2024-11-15T18:54:31.121005Z",
     "start_time": "2024-11-15T18:54:30.837809Z"
    }
   },
   "cell_type": "code",
   "source": [
    "plt.plot(range(2, 20), accuracies_train, label='Training')\n",
    "plt.plot(range(2, 20), accuracies_test, label='Testing')\n",
    "plt.xlabel('Depth')\n",
    "plt.ylabel('Accuracy')\n",
    "plt.xticks(np.arange(2, 20, step=1))\n",
    "plt.legend()\n",
    "plt.show()"
   ],
   "id": "468b309a431dbd24",
   "outputs": [
    {
     "data": {
      "text/plain": [
       "<Figure size 640x480 with 1 Axes>"
      ],
      "image/png": "[encoded data removed]"
     },
     "metadata": {},
     "output_type": "display_data"
    }
   ],
   "execution_count": 119
  },
  {
   "metadata": {},
   "cell_type": "markdown",
   "source": [
    "### Results\n",
    "- depth:  \n",
    "We learned that lowering the depth of the tree is beneficial to speed up the function and prevent overfitting and it can even improve the performance on the testing dataset, but only to a certain point, after which we start to get problems with overfitting. To be precise, the best depth for this dataset is 9 before data starts overfitting.\n",
    "- min_samples_split:  \n",
    "Same as with depth, raising min_sample_split helped in all areas, but also only to a certain point.\n",
    "- threshold:  \n",
    "Raising the threshold had same effects as the previous ones. The main benefit of tweaking this hyperparameter in combination \n",
    "- accuracy:  \n",
    "In the best configuration out of the few we tested, highest accuracy we achieved on the testing dataset was 89.5%."
   ],
   "id": "74f8bca1b4d067cf"
  },
  {
   "metadata": {},
   "cell_type": "markdown",
   "source": [
    "# Phase 3-2: Training and evaluating classifiers\n",
    "First we transform data based on decisions from Phase 2 combined with notes from lecturer on phase 2."
   ],
   "id": "4595933c11ed8240"
  },
  {
   "metadata": {
    "ExecuteTime": {
     "end_time": "2024-11-17T21:21:06.281206Z",
     "start_time": "2024-11-17T21:21:05.914659Z"
    }
   },
   "cell_type": "code",
   "source": [
    "transformation_pipeline = Pipeline([\n",
    "    ('scaler', MinMaxScaler()),\n",
    "    ('transformer', QuantileTransformer(output_distribution='normal'))\n",
    "])\n",
    "\n",
    "transformed_X_train, transformed_X_test = transformation_pipeline.fit_transform(X_train), transformation_pipeline.fit_transform(X_test)\n"
   ],
   "id": "1fb09a93d05ea531",
   "outputs": [],
   "execution_count": 119
  },
  {
   "metadata": {},
   "cell_type": "markdown",
   "source": "## 3-2A: Decision Tree Classifier",
   "id": "c6e0e5b1b7d48ab7"
  },
  {
   "metadata": {
    "ExecuteTime": {
     "end_time": "2024-11-15T19:02:50.460499Z",
     "start_time": "2024-11-15T19:02:49.096239Z"
    }
   },
   "cell_type": "code",
   "source": [
    "decision_tree = tree.DecisionTreeClassifier()\n",
    "decision_tree.fit(transformed_X_train, y_train)\n",
    "y_pred = decision_tree.predict(transformed_X_test)\n",
    "y_pred_train = decision_tree.predict(transformed_X_train)\n",
    "show_metrics(y_pred_train, y_pred, y_train, y_test)"
   ],
   "id": "f03b1a80b4ad6031",
   "outputs": [
    {
     "data": {
      "text/plain": [
       "                    Train      Test\n",
       "Precision True        1.0  0.777496\n",
       "Precision False       1.0  0.870341\n",
       "Precision Weighted    1.0  0.835272\n",
       "Recall True           1.0  0.863092\n",
       "Recall False          1.0  0.788165\n",
       "Recall Weighted       1.0  0.834791\n",
       "Accuracy              1.0  0.834791"
      ],
      "text/html": [
       "<div>\n",
       "<style scoped>\n",
       "    .dataframe tbody tr th:only-of-type {\n",
       "        vertical-align: middle;\n",
       "    }\n",
       "\n",
       "    .dataframe tbody tr th {\n",
       "        vertical-align: top;\n",
       "    }\n",
       "\n",
       "    .dataframe thead th {\n",
       "        text-align: right;\n",
       "    }\n",
       "</style>\n",
       "<table border=\"1\" class=\"dataframe\">\n",
       "  <thead>\n",
       "    <tr style=\"text-align: right;\">\n",
       "      <th></th>\n",
       "      <th>Train</th>\n",
       "      <th>Test</th>\n",
       "    </tr>\n",
       "  </thead>\n",
       "  <tbody>\n",
       "    <tr>\n",
       "      <th>Precision True</th>\n",
       "      <td>1.0</td>\n",
       "      <td>0.777496</td>\n",
       "    </tr>\n",
       "    <tr>\n",
       "      <th>Precision False</th>\n",
       "      <td>1.0</td>\n",
       "      <td>0.870341</td>\n",
       "    </tr>\n",
       "    <tr>\n",
       "      <th>Precision Weighted</th>\n",
       "      <td>1.0</td>\n",
       "      <td>0.835272</td>\n",
       "    </tr>\n",
       "    <tr>\n",
       "      <th>Recall True</th>\n",
       "      <td>1.0</td>\n",
       "      <td>0.863092</td>\n",
       "    </tr>\n",
       "    <tr>\n",
       "      <th>Recall False</th>\n",
       "      <td>1.0</td>\n",
       "      <td>0.788165</td>\n",
       "    </tr>\n",
       "    <tr>\n",
       "      <th>Recall Weighted</th>\n",
       "      <td>1.0</td>\n",
       "      <td>0.834791</td>\n",
       "    </tr>\n",
       "    <tr>\n",
       "      <th>Accuracy</th>\n",
       "      <td>1.0</td>\n",
       "      <td>0.834791</td>\n",
       "    </tr>\n",
       "  </tbody>\n",
       "</table>\n",
       "</div>"
      ]
     },
     "execution_count": 130,
     "metadata": {},
     "output_type": "execute_result"
    }
   ],
   "execution_count": 130
  },
  {
   "metadata": {},
   "cell_type": "markdown",
   "source": "The default model is obviously overfitted, so we change some hyperparameters. Let's try to check a few of them to improve slightly. We will do a more exhaustive search later.",
   "id": "3855770899149e4e"
  },
  {
   "metadata": {
    "ExecuteTime": {
     "end_time": "2024-11-15T21:02:29.775911Z",
     "start_time": "2024-11-15T21:02:14.792460Z"
    }
   },
   "cell_type": "code",
   "source": [
    "grid_search_tree = GridSearchCV(\n",
    "    tree.DecisionTreeClassifier(), \n",
    "    param_grid={\n",
    "    'criterion': ['gini', 'entropy'],\n",
    "    'max_depth': [None, 5, 10, 15],\n",
    "    'min_samples_split': [2, 5, 10],\n",
    "    'min_samples_leaf': [1, 2, 4],\n",
    "    'max_features': [None, 'sqrt', 'log2']\n",
    "    }, \n",
    "    cv=5, # 5-fold cross validation\n",
    "    verbose=1, # prints out progress\n",
    "    n_jobs=-1 # allows all cores to run in parallel\n",
    ")\n",
    "grid_search_tree.fit(transformed_X_train, y_train)\n",
    "print(grid_search_tree.best_params_)"
   ],
   "id": "16e7e0697d10e433",
   "outputs": [
    {
     "name": "stdout",
     "output_type": "stream",
     "text": [
      "Fitting 5 folds for each of 216 candidates, totalling 1080 fits\n",
      "{'criterion': 'gini', 'max_depth': 5, 'max_features': None, 'min_samples_leaf': 1, 'min_samples_split': 2}\n"
     ]
    }
   ],
   "execution_count": 168
  },
  {
   "metadata": {
    "ExecuteTime": {
     "end_time": "2024-11-15T21:02:35.632052Z",
     "start_time": "2024-11-15T21:02:35.628218Z"
    }
   },
   "cell_type": "code",
   "source": "decision_tree = grid_search_tree.best_estimator_",
   "id": "c7618b624a01a101",
   "outputs": [],
   "execution_count": 169
  },
  {
   "metadata": {
    "ExecuteTime": {
     "end_time": "2024-11-15T21:55:09.170461Z",
     "start_time": "2024-11-15T21:55:09.126692Z"
    }
   },
   "cell_type": "code",
   "source": [
    "y_pred = decision_tree.predict(transformed_X_test)\n",
    "y_pred_train = decision_tree.predict(transformed_X_train)\n",
    "tree_metrics = show_metrics(y_pred_train, y_pred, y_train, y_test)\n",
    "tree_metrics"
   ],
   "id": "b19d5714aee3e25b",
   "outputs": [
    {
     "data": {
      "text/plain": [
       "                       Train      Test\n",
       "Precision True      0.902787  0.893715\n",
       "Precision False     0.919165  0.900748\n",
       "Precision Weighted  0.913108  0.898092\n",
       "Recall True         0.945751  0.940135\n",
       "Recall False        0.858300  0.829331\n",
       "Recall Weighted     0.913406  0.898283\n",
       "Accuracy            0.913406  0.898283"
      ],
      "text/html": [
       "<div>\n",
       "<style scoped>\n",
       "    .dataframe tbody tr th:only-of-type {\n",
       "        vertical-align: middle;\n",
       "    }\n",
       "\n",
       "    .dataframe tbody tr th {\n",
       "        vertical-align: top;\n",
       "    }\n",
       "\n",
       "    .dataframe thead th {\n",
       "        text-align: right;\n",
       "    }\n",
       "</style>\n",
       "<table border=\"1\" class=\"dataframe\">\n",
       "  <thead>\n",
       "    <tr style=\"text-align: right;\">\n",
       "      <th></th>\n",
       "      <th>Train</th>\n",
       "      <th>Test</th>\n",
       "    </tr>\n",
       "  </thead>\n",
       "  <tbody>\n",
       "    <tr>\n",
       "      <th>Precision True</th>\n",
       "      <td>0.902787</td>\n",
       "      <td>0.893715</td>\n",
       "    </tr>\n",
       "    <tr>\n",
       "      <th>Precision False</th>\n",
       "      <td>0.919165</td>\n",
       "      <td>0.900748</td>\n",
       "    </tr>\n",
       "    <tr>\n",
       "      <th>Precision Weighted</th>\n",
       "      <td>0.913108</td>\n",
       "      <td>0.898092</td>\n",
       "    </tr>\n",
       "    <tr>\n",
       "      <th>Recall True</th>\n",
       "      <td>0.945751</td>\n",
       "      <td>0.940135</td>\n",
       "    </tr>\n",
       "    <tr>\n",
       "      <th>Recall False</th>\n",
       "      <td>0.858300</td>\n",
       "      <td>0.829331</td>\n",
       "    </tr>\n",
       "    <tr>\n",
       "      <th>Recall Weighted</th>\n",
       "      <td>0.913406</td>\n",
       "      <td>0.898283</td>\n",
       "    </tr>\n",
       "    <tr>\n",
       "      <th>Accuracy</th>\n",
       "      <td>0.913406</td>\n",
       "      <td>0.898283</td>\n",
       "    </tr>\n",
       "  </tbody>\n",
       "</table>\n",
       "</div>"
      ]
     },
     "execution_count": 208,
     "metadata": {},
     "output_type": "execute_result"
    }
   ],
   "execution_count": 208
  },
  {
   "metadata": {},
   "cell_type": "markdown",
   "source": "By optimizing the hyperparameters, we managed to get the accuracy up to 89.8% on the testing dataset, which is up by 6.4% from the default model.",
   "id": "25f388353166cc73"
  },
  {
   "metadata": {},
   "cell_type": "markdown",
   "source": "## 3-2B: Logistic Regression Classifier",
   "id": "a124a59944cb7303"
  },
  {
   "metadata": {
    "ExecuteTime": {
     "end_time": "2024-11-15T21:28:56.915268Z",
     "start_time": "2024-11-15T21:28:56.850780Z"
    }
   },
   "cell_type": "code",
   "source": [
    "logistic_regressor = LogisticRegression()\n",
    "logistic_regressor.fit(transformed_X_train, y_train)\n",
    "y_pred = logistic_regressor.predict(transformed_X_test)\n",
    "y_pred_train = logistic_regressor.predict(transformed_X_train)\n",
    "show_metrics(y_pred_train, y_pred, y_train, y_test)"
   ],
   "id": "ab6b6091267178f",
   "outputs": [
    {
     "data": {
      "text/plain": [
       "                       Train      Test\n",
       "Precision True      0.912392  0.916123\n",
       "Precision False     0.916914  0.909136\n",
       "Precision Weighted  0.915242  0.911775\n",
       "Recall True         0.951922  0.953149\n",
       "Recall False        0.853044  0.843053\n",
       "Recall Weighted     0.915350  0.911565\n",
       "Accuracy            0.915350  0.911565"
      ],
      "text/html": [
       "<div>\n",
       "<style scoped>\n",
       "    .dataframe tbody tr th:only-of-type {\n",
       "        vertical-align: middle;\n",
       "    }\n",
       "\n",
       "    .dataframe tbody tr th {\n",
       "        vertical-align: top;\n",
       "    }\n",
       "\n",
       "    .dataframe thead th {\n",
       "        text-align: right;\n",
       "    }\n",
       "</style>\n",
       "<table border=\"1\" class=\"dataframe\">\n",
       "  <thead>\n",
       "    <tr style=\"text-align: right;\">\n",
       "      <th></th>\n",
       "      <th>Train</th>\n",
       "      <th>Test</th>\n",
       "    </tr>\n",
       "  </thead>\n",
       "  <tbody>\n",
       "    <tr>\n",
       "      <th>Precision True</th>\n",
       "      <td>0.912392</td>\n",
       "      <td>0.916123</td>\n",
       "    </tr>\n",
       "    <tr>\n",
       "      <th>Precision False</th>\n",
       "      <td>0.916914</td>\n",
       "      <td>0.909136</td>\n",
       "    </tr>\n",
       "    <tr>\n",
       "      <th>Precision Weighted</th>\n",
       "      <td>0.915242</td>\n",
       "      <td>0.911775</td>\n",
       "    </tr>\n",
       "    <tr>\n",
       "      <th>Recall True</th>\n",
       "      <td>0.951922</td>\n",
       "      <td>0.953149</td>\n",
       "    </tr>\n",
       "    <tr>\n",
       "      <th>Recall False</th>\n",
       "      <td>0.853044</td>\n",
       "      <td>0.843053</td>\n",
       "    </tr>\n",
       "    <tr>\n",
       "      <th>Recall Weighted</th>\n",
       "      <td>0.915350</td>\n",
       "      <td>0.911565</td>\n",
       "    </tr>\n",
       "    <tr>\n",
       "      <th>Accuracy</th>\n",
       "      <td>0.915350</td>\n",
       "      <td>0.911565</td>\n",
       "    </tr>\n",
       "  </tbody>\n",
       "</table>\n",
       "</div>"
      ]
     },
     "execution_count": 192,
     "metadata": {},
     "output_type": "execute_result"
    }
   ],
   "execution_count": 192
  },
  {
   "metadata": {
    "ExecuteTime": {
     "end_time": "2024-11-16T17:44:37.921822Z",
     "start_time": "2024-11-16T17:44:34.389055Z"
    }
   },
   "cell_type": "code",
   "source": [
    "grid_search_log_reg = GridSearchCV(\n",
    "    LogisticRegression(), \n",
    "    param_grid={\n",
    "    'penalty': ['l1', 'l2', 'elasticnet', None], # we will get some warnings for unsupported combinations, but we can ignore them\n",
    "    'C': [0.001, 0.01, 0.1, 1, 10, 100, 1000],\n",
    "    'solver': ['liblinear', 'lbfgs', 'saga', 'newton-cholesky'],\n",
    "    'class_weight': ['balanced', None],\n",
    "    'max_iter': [100, 1000]\n",
    "    }, \n",
    "    cv=5, \n",
    "    n_jobs=-1\n",
    ")\n",
    "grid_search_log_reg.fit(transformed_X_train, y_train)\n",
    "logistic_regressor = grid_search_log_reg.best_estimator_"
   ],
   "id": "53cc87dd39c6665e",
   "outputs": [
    {
     "name": "stderr",
     "output_type": "stream",
     "text": [
      "C:\\Users\\marti\\anaconda3\\Lib\\site-packages\\sklearn\\model_selection\\_validation.py:547: FitFailedWarning: \n",
      "980 fits failed out of a total of 2240.\n",
      "The score on these train-test partitions for these parameters will be set to nan.\n",
      "If these failures are not expected, you can try to debug them by setting error_score='raise'.\n",
      "\n",
      "Below are more details about the failures:\n",
      "--------------------------------------------------------------------------------\n",
      "140 fits failed with the following error:\n",
      "Traceback (most recent call last):\n",
      "  File \"C:\\Users\\marti\\anaconda3\\Lib\\site-packages\\sklearn\\model_selection\\_validation.py\", line 895, in _fit_and_score\n",
      "    estimator.fit(X_train, y_train, **fit_params)\n",
      "  File \"C:\\Users\\marti\\anaconda3\\Lib\\site-packages\\sklearn\\base.py\", line 1474, in wrapper\n",
      "    return fit_method(estimator, *args, **kwargs)\n",
      "           ^^^^^^^^^^^^^^^^^^^^^^^^^^^^^^^^^^^^^^\n",
      "  File \"C:\\Users\\marti\\anaconda3\\Lib\\site-packages\\sklearn\\linear_model\\_logistic.py\", line 1172, in fit\n",
      "    solver = _check_solver(self.solver, self.penalty, self.dual)\n",
      "             ^^^^^^^^^^^^^^^^^^^^^^^^^^^^^^^^^^^^^^^^^^^^^^^^^^^\n",
      "  File \"C:\\Users\\marti\\anaconda3\\Lib\\site-packages\\sklearn\\linear_model\\_logistic.py\", line 67, in _check_solver\n",
      "    raise ValueError(\n",
      "ValueError: Solver lbfgs supports only 'l2' or None penalties, got l1 penalty.\n",
      "\n",
      "--------------------------------------------------------------------------------\n",
      "140 fits failed with the following error:\n",
      "Traceback (most recent call last):\n",
      "  File \"C:\\Users\\marti\\anaconda3\\Lib\\site-packages\\sklearn\\model_selection\\_validation.py\", line 895, in _fit_and_score\n",
      "    estimator.fit(X_train, y_train, **fit_params)\n",
      "  File \"C:\\Users\\marti\\anaconda3\\Lib\\site-packages\\sklearn\\base.py\", line 1474, in wrapper\n",
      "    return fit_method(estimator, *args, **kwargs)\n",
      "           ^^^^^^^^^^^^^^^^^^^^^^^^^^^^^^^^^^^^^^\n",
      "  File \"C:\\Users\\marti\\anaconda3\\Lib\\site-packages\\sklearn\\linear_model\\_logistic.py\", line 1172, in fit\n",
      "    solver = _check_solver(self.solver, self.penalty, self.dual)\n",
      "             ^^^^^^^^^^^^^^^^^^^^^^^^^^^^^^^^^^^^^^^^^^^^^^^^^^^\n",
      "  File \"C:\\Users\\marti\\anaconda3\\Lib\\site-packages\\sklearn\\linear_model\\_logistic.py\", line 67, in _check_solver\n",
      "    raise ValueError(\n",
      "ValueError: Solver newton-cholesky supports only 'l2' or None penalties, got l1 penalty.\n",
      "\n",
      "--------------------------------------------------------------------------------\n",
      "140 fits failed with the following error:\n",
      "Traceback (most recent call last):\n",
      "  File \"C:\\Users\\marti\\anaconda3\\Lib\\site-packages\\sklearn\\model_selection\\_validation.py\", line 895, in _fit_and_score\n",
      "    estimator.fit(X_train, y_train, **fit_params)\n",
      "  File \"C:\\Users\\marti\\anaconda3\\Lib\\site-packages\\sklearn\\base.py\", line 1474, in wrapper\n",
      "    return fit_method(estimator, *args, **kwargs)\n",
      "           ^^^^^^^^^^^^^^^^^^^^^^^^^^^^^^^^^^^^^^\n",
      "  File \"C:\\Users\\marti\\anaconda3\\Lib\\site-packages\\sklearn\\linear_model\\_logistic.py\", line 1172, in fit\n",
      "    solver = _check_solver(self.solver, self.penalty, self.dual)\n",
      "             ^^^^^^^^^^^^^^^^^^^^^^^^^^^^^^^^^^^^^^^^^^^^^^^^^^^\n",
      "  File \"C:\\Users\\marti\\anaconda3\\Lib\\site-packages\\sklearn\\linear_model\\_logistic.py\", line 75, in _check_solver\n",
      "    raise ValueError(\n",
      "ValueError: Only 'saga' solver supports elasticnet penalty, got solver=liblinear.\n",
      "\n",
      "--------------------------------------------------------------------------------\n",
      "140 fits failed with the following error:\n",
      "Traceback (most recent call last):\n",
      "  File \"C:\\Users\\marti\\anaconda3\\Lib\\site-packages\\sklearn\\model_selection\\_validation.py\", line 895, in _fit_and_score\n",
      "    estimator.fit(X_train, y_train, **fit_params)\n",
      "  File \"C:\\Users\\marti\\anaconda3\\Lib\\site-packages\\sklearn\\base.py\", line 1474, in wrapper\n",
      "    return fit_method(estimator, *args, **kwargs)\n",
      "           ^^^^^^^^^^^^^^^^^^^^^^^^^^^^^^^^^^^^^^\n",
      "  File \"C:\\Users\\marti\\anaconda3\\Lib\\site-packages\\sklearn\\linear_model\\_logistic.py\", line 1172, in fit\n",
      "    solver = _check_solver(self.solver, self.penalty, self.dual)\n",
      "             ^^^^^^^^^^^^^^^^^^^^^^^^^^^^^^^^^^^^^^^^^^^^^^^^^^^\n",
      "  File \"C:\\Users\\marti\\anaconda3\\Lib\\site-packages\\sklearn\\linear_model\\_logistic.py\", line 67, in _check_solver\n",
      "    raise ValueError(\n",
      "ValueError: Solver lbfgs supports only 'l2' or None penalties, got elasticnet penalty.\n",
      "\n",
      "--------------------------------------------------------------------------------\n",
      "140 fits failed with the following error:\n",
      "Traceback (most recent call last):\n",
      "  File \"C:\\Users\\marti\\anaconda3\\Lib\\site-packages\\sklearn\\model_selection\\_validation.py\", line 895, in _fit_and_score\n",
      "    estimator.fit(X_train, y_train, **fit_params)\n",
      "  File \"C:\\Users\\marti\\anaconda3\\Lib\\site-packages\\sklearn\\base.py\", line 1474, in wrapper\n",
      "    return fit_method(estimator, *args, **kwargs)\n",
      "           ^^^^^^^^^^^^^^^^^^^^^^^^^^^^^^^^^^^^^^\n",
      "  File \"C:\\Users\\marti\\anaconda3\\Lib\\site-packages\\sklearn\\linear_model\\_logistic.py\", line 1182, in fit\n",
      "    raise ValueError(\"l1_ratio must be specified when penalty is elasticnet.\")\n",
      "ValueError: l1_ratio must be specified when penalty is elasticnet.\n",
      "\n",
      "--------------------------------------------------------------------------------\n",
      "140 fits failed with the following error:\n",
      "Traceback (most recent call last):\n",
      "  File \"C:\\Users\\marti\\anaconda3\\Lib\\site-packages\\sklearn\\model_selection\\_validation.py\", line 895, in _fit_and_score\n",
      "    estimator.fit(X_train, y_train, **fit_params)\n",
      "  File \"C:\\Users\\marti\\anaconda3\\Lib\\site-packages\\sklearn\\base.py\", line 1474, in wrapper\n",
      "    return fit_method(estimator, *args, **kwargs)\n",
      "           ^^^^^^^^^^^^^^^^^^^^^^^^^^^^^^^^^^^^^^\n",
      "  File \"C:\\Users\\marti\\anaconda3\\Lib\\site-packages\\sklearn\\linear_model\\_logistic.py\", line 1172, in fit\n",
      "    solver = _check_solver(self.solver, self.penalty, self.dual)\n",
      "             ^^^^^^^^^^^^^^^^^^^^^^^^^^^^^^^^^^^^^^^^^^^^^^^^^^^\n",
      "  File \"C:\\Users\\marti\\anaconda3\\Lib\\site-packages\\sklearn\\linear_model\\_logistic.py\", line 67, in _check_solver\n",
      "    raise ValueError(\n",
      "ValueError: Solver newton-cholesky supports only 'l2' or None penalties, got elasticnet penalty.\n",
      "\n",
      "--------------------------------------------------------------------------------\n",
      "140 fits failed with the following error:\n",
      "Traceback (most recent call last):\n",
      "  File \"C:\\Users\\marti\\anaconda3\\Lib\\site-packages\\sklearn\\model_selection\\_validation.py\", line 895, in _fit_and_score\n",
      "    estimator.fit(X_train, y_train, **fit_params)\n",
      "  File \"C:\\Users\\marti\\anaconda3\\Lib\\site-packages\\sklearn\\base.py\", line 1474, in wrapper\n",
      "    return fit_method(estimator, *args, **kwargs)\n",
      "           ^^^^^^^^^^^^^^^^^^^^^^^^^^^^^^^^^^^^^^\n",
      "  File \"C:\\Users\\marti\\anaconda3\\Lib\\site-packages\\sklearn\\linear_model\\_logistic.py\", line 1172, in fit\n",
      "    solver = _check_solver(self.solver, self.penalty, self.dual)\n",
      "             ^^^^^^^^^^^^^^^^^^^^^^^^^^^^^^^^^^^^^^^^^^^^^^^^^^^\n",
      "  File \"C:\\Users\\marti\\anaconda3\\Lib\\site-packages\\sklearn\\linear_model\\_logistic.py\", line 80, in _check_solver\n",
      "    raise ValueError(\"penalty=None is not supported for the liblinear solver\")\n",
      "ValueError: penalty=None is not supported for the liblinear solver\n",
      "\n",
      "  warnings.warn(some_fits_failed_message, FitFailedWarning)\n",
      "C:\\Users\\marti\\anaconda3\\Lib\\site-packages\\sklearn\\model_selection\\_search.py:1051: UserWarning: One or more of the test scores are non-finite: [0.84406642        nan 0.88116646        nan 0.90311867 0.90959903\n",
      " 0.90959903 0.90959903        nan        nan        nan        nan\n",
      "        nan 0.90935601 0.90927501 0.90927501 0.84406642        nan\n",
      " 0.88116646        nan 0.90311867 0.90959903 0.90959903 0.90959903\n",
      "        nan        nan        nan        nan        nan 0.90935601\n",
      " 0.90927501 0.90927501 0.87209397        nan 0.89210207        nan\n",
      " 0.91381126 0.91113811 0.91113811 0.91113811        nan        nan\n",
      "        nan        nan        nan 0.9146213  0.91470231 0.91470231\n",
      " 0.87209397        nan 0.89210207        nan 0.91381126 0.91113811\n",
      " 0.91113811 0.91113811        nan        nan        nan        nan\n",
      "        nan 0.9146213  0.91470231 0.91470231 0.9072499         nan\n",
      " 0.91049008        nan 0.90927501 0.91016606 0.91016606 0.91016606\n",
      "        nan        nan        nan        nan        nan 0.90935601\n",
      " 0.90919401 0.90927501 0.9072499         nan 0.91049008        nan\n",
      " 0.90927501 0.91016606 0.91016606 0.91016606        nan        nan\n",
      "        nan        nan        nan 0.90935601 0.90927501 0.90927501\n",
      " 0.91470231        nan 0.91478331        nan 0.91470231 0.91502633\n",
      " 0.91502633 0.91502633        nan        nan        nan        nan\n",
      "        nan 0.9146213  0.91470231 0.91470231 0.91470231        nan\n",
      " 0.91478331        nan 0.91470231 0.91502633 0.91502633 0.91502633\n",
      "        nan        nan        nan        nan        nan 0.9146213\n",
      " 0.91470231 0.91470231 0.91032807        nan 0.91032807        nan\n",
      " 0.90951802 0.90984204 0.90984204 0.90984204        nan        nan\n",
      "        nan        nan        nan 0.90935601 0.90919401 0.90927501\n",
      " 0.91032807        nan 0.91032807        nan 0.90951802 0.90984204\n",
      " 0.90984204 0.90984204        nan        nan        nan        nan\n",
      "        nan 0.90935601 0.90927501 0.90927501 0.9146213         nan\n",
      " 0.91470231        nan 0.9145403  0.91470231 0.9146213  0.9146213\n",
      "        nan        nan        nan        nan        nan 0.9146213\n",
      " 0.91470231 0.91470231 0.9146213         nan 0.91470231        nan\n",
      " 0.9145403  0.91470231 0.9146213  0.9146213         nan        nan\n",
      "        nan        nan        nan 0.9146213  0.91470231 0.91470231\n",
      " 0.90943702        nan 0.90951802        nan 0.90919401 0.90935601\n",
      " 0.90927501 0.90927501        nan        nan        nan        nan\n",
      "        nan 0.90935601 0.90927501 0.90927501 0.90943702        nan\n",
      " 0.90951802        nan 0.90919401 0.90935601 0.90927501 0.90927501\n",
      "        nan        nan        nan        nan        nan 0.90935601\n",
      " 0.90927501 0.90927501 0.91470231        nan 0.91478331        nan\n",
      " 0.91470231 0.9146213  0.91470231 0.91470231        nan        nan\n",
      "        nan        nan        nan 0.9146213  0.91470231 0.91470231\n",
      " 0.91470231        nan 0.91478331        nan 0.91470231 0.9146213\n",
      " 0.91470231 0.91470231        nan        nan        nan        nan\n",
      "        nan 0.9146213  0.91470231 0.91470231 0.90927501        nan\n",
      " 0.90927501        nan 0.90927501 0.90935601 0.90927501 0.90927501\n",
      "        nan        nan        nan        nan        nan 0.90935601\n",
      " 0.90927501 0.90927501 0.90927501        nan 0.90927501        nan\n",
      " 0.90927501 0.90935601 0.90927501 0.90927501        nan        nan\n",
      "        nan        nan        nan 0.90935601 0.90927501 0.90927501\n",
      " 0.91470231        nan 0.91470231        nan 0.91470231 0.9146213\n",
      " 0.91470231 0.91470231        nan        nan        nan        nan\n",
      "        nan 0.9146213  0.91470231 0.91470231 0.91470231        nan\n",
      " 0.91470231        nan 0.91470231 0.9146213  0.91470231 0.91470231\n",
      "        nan        nan        nan        nan        nan 0.9146213\n",
      " 0.91470231 0.91470231 0.90927501        nan 0.90927501        nan\n",
      " 0.90927501 0.90935601 0.90927501 0.90927501        nan        nan\n",
      "        nan        nan        nan 0.90935601 0.90927501 0.90927501\n",
      " 0.90927501        nan 0.90927501        nan 0.90927501 0.90935601\n",
      " 0.90927501 0.90927501        nan        nan        nan        nan\n",
      "        nan 0.90935601 0.90927501 0.90927501 0.91470231        nan\n",
      " 0.91470231        nan 0.91470231 0.9146213  0.91470231 0.91470231\n",
      "        nan        nan        nan        nan        nan 0.9146213\n",
      " 0.91470231 0.91470231 0.91470231        nan 0.91470231        nan\n",
      " 0.91470231 0.9146213  0.91470231 0.91470231        nan        nan\n",
      "        nan        nan        nan 0.9146213  0.91470231 0.91470231\n",
      " 0.909113          nan 0.90927501        nan 0.90927501 0.90935601\n",
      " 0.90927501 0.90927501        nan        nan        nan        nan\n",
      "        nan 0.90935601 0.90927501 0.90927501 0.90919401        nan\n",
      " 0.90927501        nan 0.90927501 0.90935601 0.90927501 0.90927501\n",
      "        nan        nan        nan        nan        nan 0.90935601\n",
      " 0.90927501 0.90927501 0.91470231        nan 0.91470231        nan\n",
      " 0.91470231 0.9146213  0.91470231 0.91470231        nan        nan\n",
      "        nan        nan        nan 0.9146213  0.91470231 0.91470231\n",
      " 0.91470231        nan 0.91470231        nan 0.91470231 0.9146213\n",
      " 0.91470231 0.91470231        nan        nan        nan        nan\n",
      "        nan 0.9146213  0.91470231 0.91470231]\n",
      "  warnings.warn(\n"
     ]
    }
   ],
   "execution_count": 38
  },
  {
   "metadata": {
    "ExecuteTime": {
     "end_time": "2024-11-16T17:44:40.401337Z",
     "start_time": "2024-11-16T17:44:40.357289Z"
    }
   },
   "cell_type": "code",
   "source": [
    "y_pred = logistic_regressor.predict(transformed_X_test)\n",
    "y_pred_train = logistic_regressor.predict(transformed_X_train)\n",
    "logistic_regression_metrics = show_metrics(y_pred_train, y_pred, y_train, y_test)\n",
    "logistic_regression_metrics"
   ],
   "id": "987c4350ccd309b8",
   "outputs": [
    {
     "data": {
      "text/plain": [
       "                       Train      Test\n",
       "Precision True      0.912778  0.918463\n",
       "Precision False     0.916708  0.907921\n",
       "Precision Weighted  0.915255  0.911903\n",
       "Recall True         0.952179  0.954711\n",
       "Recall False        0.852606  0.840480\n",
       "Recall Weighted     0.915350  0.911565\n",
       "Accuracy            0.915350  0.911565"
      ],
      "text/html": [
       "<div>\n",
       "<style scoped>\n",
       "    .dataframe tbody tr th:only-of-type {\n",
       "        vertical-align: middle;\n",
       "    }\n",
       "\n",
       "    .dataframe tbody tr th {\n",
       "        vertical-align: top;\n",
       "    }\n",
       "\n",
       "    .dataframe thead th {\n",
       "        text-align: right;\n",
       "    }\n",
       "</style>\n",
       "<table border=\"1\" class=\"dataframe\">\n",
       "  <thead>\n",
       "    <tr style=\"text-align: right;\">\n",
       "      <th></th>\n",
       "      <th>Train</th>\n",
       "      <th>Test</th>\n",
       "    </tr>\n",
       "  </thead>\n",
       "  <tbody>\n",
       "    <tr>\n",
       "      <th>Precision True</th>\n",
       "      <td>0.912778</td>\n",
       "      <td>0.918463</td>\n",
       "    </tr>\n",
       "    <tr>\n",
       "      <th>Precision False</th>\n",
       "      <td>0.916708</td>\n",
       "      <td>0.907921</td>\n",
       "    </tr>\n",
       "    <tr>\n",
       "      <th>Precision Weighted</th>\n",
       "      <td>0.915255</td>\n",
       "      <td>0.911903</td>\n",
       "    </tr>\n",
       "    <tr>\n",
       "      <th>Recall True</th>\n",
       "      <td>0.952179</td>\n",
       "      <td>0.954711</td>\n",
       "    </tr>\n",
       "    <tr>\n",
       "      <th>Recall False</th>\n",
       "      <td>0.852606</td>\n",
       "      <td>0.840480</td>\n",
       "    </tr>\n",
       "    <tr>\n",
       "      <th>Recall Weighted</th>\n",
       "      <td>0.915350</td>\n",
       "      <td>0.911565</td>\n",
       "    </tr>\n",
       "    <tr>\n",
       "      <th>Accuracy</th>\n",
       "      <td>0.915350</td>\n",
       "      <td>0.911565</td>\n",
       "    </tr>\n",
       "  </tbody>\n",
       "</table>\n",
       "</div>"
      ]
     },
     "execution_count": 39,
     "metadata": {},
     "output_type": "execute_result"
    }
   ],
   "execution_count": 39
  },
  {
   "metadata": {
    "ExecuteTime": {
     "end_time": "2024-11-15T21:53:13.286818Z",
     "start_time": "2024-11-15T21:53:13.280618Z"
    }
   },
   "cell_type": "code",
   "source": "grid_search_log_reg.best_params_",
   "id": "73893c76ed8cb587",
   "outputs": [
    {
     "data": {
      "text/plain": [
       "{'C': 0.01,\n",
       " 'class_weight': None,\n",
       " 'max_iter': 100,\n",
       " 'penalty': 'l2',\n",
       " 'solver': 'lbfgs'}"
      ]
     },
     "execution_count": 207,
     "metadata": {},
     "output_type": "execute_result"
    }
   ],
   "execution_count": 207
  },
  {
   "metadata": {},
   "cell_type": "markdown",
   "source": "Unlike with the decision tree, the logistic regression model didn't improve with hyperparameter optimization. The accuracy stayed nearly the same, same for the precision and recall.",
   "id": "fdab4d4ff0ba14b2"
  },
  {
   "metadata": {},
   "cell_type": "markdown",
   "source": "## 3-2 B, C and E: Comparison",
   "id": "84addbd13294a171"
  },
  {
   "metadata": {},
   "cell_type": "markdown",
   "source": [
    "### First, let's compare speed of fitting the models\n",
    "We need to create new unfitted models:"
   ],
   "id": "3c10a8d55c804427"
  },
  {
   "metadata": {
    "ExecuteTime": {
     "end_time": "2024-11-16T11:05:59.595423Z",
     "start_time": "2024-11-16T11:05:59.589502Z"
    }
   },
   "cell_type": "code",
   "source": [
    "benchmark_id3 = ID3classifier(max_depth=9, min_samples_split=50)\n",
    "benchmark_tree = tree.DecisionTreeClassifier(**{'criterion': 'gini', 'max_depth': 5, 'max_features': None, 'min_samples_leaf': 1, 'min_samples_split': 2}) \n",
    "benchmark_log_reg = LogisticRegression(**{'C': 0.01, 'class_weight': None, 'max_iter': 100, 'penalty': 'l2', 'solver': 'lbfgs'})"
   ],
   "id": "8a2f16e304d860bd",
   "outputs": [],
   "execution_count": 14
  },
  {
   "metadata": {
    "ExecuteTime": {
     "end_time": "2024-11-15T22:40:16.538967Z",
     "start_time": "2024-11-15T22:40:10.414517Z"
    }
   },
   "cell_type": "code",
   "source": [
    "def print_runtimes(*_predictors):\n",
    "    for _predictor in _predictors:\n",
    "        _time_before = time()\n",
    "        _predictor.fit(transformed_X_train, y_train)\n",
    "        _time_after = time()\n",
    "        print(f\"{_predictor.__class__.__name__}:\", _time_after - _time_before)\n",
    "    \n",
    "    \n",
    "print_runtimes(benchmark_id3, \n",
    "               benchmark_tree, \n",
    "               benchmark_log_reg)"
   ],
   "id": "f44f345c0396f87b",
   "outputs": [
    {
     "name": "stdout",
     "output_type": "stream",
     "text": [
      "ID3classifier: 5.810088396072388\n",
      "DecisionTreeClassifier: 0.2834305763244629\n",
      "LogisticRegression: 0.02513885498046875\n"
     ]
    }
   ],
   "execution_count": 229
  },
  {
   "metadata": {},
   "cell_type": "markdown",
   "source": [
    "ID3classifier is the slowest by far, 20 times slower than scikit DecisionTreeClassifier, but that's to be expected as those libraries are greatly optimized. Logistic regression is the fastest, being 14 times faster than DecisionTreeClassifier. \n",
    "The times may vary depending on the hardware, they may scale differently with the size of the data and would work differently had we chosen different hyperparameters. But the general trend, where speed go like ID3classifier\\<DecisionTreeClassifier\\<LogisticRegression, should stay the same."
   ],
   "id": "f72ad82384edf88d"
  },
  {
   "metadata": {
    "ExecuteTime": {
     "end_time": "2024-11-16T11:02:22.173888Z",
     "start_time": "2024-11-16T11:02:22.167431Z"
    }
   },
   "cell_type": "code",
   "source": [
    "def compare_metrics(*_predictors: BaseEstimator):\n",
    "    _df = pd.DataFrame()\n",
    "    for _predictor in _predictors:\n",
    "        _y_pred = _predictor.predict(transformed_X_test)\n",
    "        _y_pred_train = _predictor.predict(transformed_X_train)\n",
    "        _metrics = show_metrics(_y_pred_train, _y_pred, y_train, y_test)\n",
    "        _metrics.columns = [f'{x}_{\"\".join(filter(lambda _char: _char.isupper() or _char.isdigit() ,_predictor.__class__.__name__))}' for x in _metrics.columns]\n",
    "        _df = pd.concat([_df, _metrics], axis=1)\n",
    "    return _df"
   ],
   "id": "626a721b22b0306e",
   "outputs": [],
   "execution_count": 13
  },
  {
   "metadata": {
    "ExecuteTime": {
     "end_time": "2024-11-15T23:10:47.484638Z",
     "start_time": "2024-11-15T23:10:47.339873Z"
    }
   },
   "cell_type": "code",
   "source": "compare_metrics(benchmark_id3, benchmark_tree, benchmark_log_reg)",
   "id": "e2cda30db671324c",
   "outputs": [
    {
     "data": {
      "text/plain": [
       "                    Train_ID3  Test_ID3  Train_DTC  Test_DTC  Train_LR  \\\n",
       "Precision True       0.900811  0.901718   0.902787  0.891344  0.912992   \n",
       "Precision False      0.903325  0.891614   0.919165  0.901049  0.916718   \n",
       "Precision Weighted   0.902395  0.895430   0.913108  0.897384  0.915340   \n",
       "Recall True          0.946523  0.946382   0.945751  0.938574  0.952307   \n",
       "Recall False         0.827420  0.810463   0.858300  0.830189  0.852606   \n",
       "Recall Weighted      0.902471  0.895044   0.913406  0.897635  0.915431   \n",
       "Accuracy             0.902471  0.895044   0.913406  0.897635  0.915431   \n",
       "\n",
       "                     Test_LR  \n",
       "Precision True      0.918616  \n",
       "Precision False     0.908821  \n",
       "Precision Weighted  0.912520  \n",
       "Recall True         0.954711  \n",
       "Recall False        0.842196  \n",
       "Recall Weighted     0.912213  \n",
       "Accuracy            0.912213  "
      ],
      "text/html": [
       "<div>\n",
       "<style scoped>\n",
       "    .dataframe tbody tr th:only-of-type {\n",
       "        vertical-align: middle;\n",
       "    }\n",
       "\n",
       "    .dataframe tbody tr th {\n",
       "        vertical-align: top;\n",
       "    }\n",
       "\n",
       "    .dataframe thead th {\n",
       "        text-align: right;\n",
       "    }\n",
       "</style>\n",
       "<table border=\"1\" class=\"dataframe\">\n",
       "  <thead>\n",
       "    <tr style=\"text-align: right;\">\n",
       "      <th></th>\n",
       "      <th>Train_ID3</th>\n",
       "      <th>Test_ID3</th>\n",
       "      <th>Train_DTC</th>\n",
       "      <th>Test_DTC</th>\n",
       "      <th>Train_LR</th>\n",
       "      <th>Test_LR</th>\n",
       "    </tr>\n",
       "  </thead>\n",
       "  <tbody>\n",
       "    <tr>\n",
       "      <th>Precision True</th>\n",
       "      <td>0.900811</td>\n",
       "      <td>0.901718</td>\n",
       "      <td>0.902787</td>\n",
       "      <td>0.891344</td>\n",
       "      <td>0.912992</td>\n",
       "      <td>0.918616</td>\n",
       "    </tr>\n",
       "    <tr>\n",
       "      <th>Precision False</th>\n",
       "      <td>0.903325</td>\n",
       "      <td>0.891614</td>\n",
       "      <td>0.919165</td>\n",
       "      <td>0.901049</td>\n",
       "      <td>0.916718</td>\n",
       "      <td>0.908821</td>\n",
       "    </tr>\n",
       "    <tr>\n",
       "      <th>Precision Weighted</th>\n",
       "      <td>0.902395</td>\n",
       "      <td>0.895430</td>\n",
       "      <td>0.913108</td>\n",
       "      <td>0.897384</td>\n",
       "      <td>0.915340</td>\n",
       "      <td>0.912520</td>\n",
       "    </tr>\n",
       "    <tr>\n",
       "      <th>Recall True</th>\n",
       "      <td>0.946523</td>\n",
       "      <td>0.946382</td>\n",
       "      <td>0.945751</td>\n",
       "      <td>0.938574</td>\n",
       "      <td>0.952307</td>\n",
       "      <td>0.954711</td>\n",
       "    </tr>\n",
       "    <tr>\n",
       "      <th>Recall False</th>\n",
       "      <td>0.827420</td>\n",
       "      <td>0.810463</td>\n",
       "      <td>0.858300</td>\n",
       "      <td>0.830189</td>\n",
       "      <td>0.852606</td>\n",
       "      <td>0.842196</td>\n",
       "    </tr>\n",
       "    <tr>\n",
       "      <th>Recall Weighted</th>\n",
       "      <td>0.902471</td>\n",
       "      <td>0.895044</td>\n",
       "      <td>0.913406</td>\n",
       "      <td>0.897635</td>\n",
       "      <td>0.915431</td>\n",
       "      <td>0.912213</td>\n",
       "    </tr>\n",
       "    <tr>\n",
       "      <th>Accuracy</th>\n",
       "      <td>0.902471</td>\n",
       "      <td>0.895044</td>\n",
       "      <td>0.913406</td>\n",
       "      <td>0.897635</td>\n",
       "      <td>0.915431</td>\n",
       "      <td>0.912213</td>\n",
       "    </tr>\n",
       "  </tbody>\n",
       "</table>\n",
       "</div>"
      ]
     },
     "execution_count": 241,
     "metadata": {},
     "output_type": "execute_result"
    }
   ],
   "execution_count": 241
  },
  {
   "metadata": {},
   "cell_type": "markdown",
   "source": [
    "From the cell above, we see Logistic Regression is not only the fastest, but has the best performance in all the metrics.  \n",
    "ID3 is marginally worse, but we can account that to the fact, we didn't optimize the hyperparameters as much as with the other models, as it would take way more time."
   ],
   "id": "cac33db486dc7665"
  },
  {
   "metadata": {},
   "cell_type": "markdown",
   "source": "## 3-2D: Vizualization of the Decision Trees",
   "id": "10ebb79e04fc5cf1"
  },
  {
   "metadata": {},
   "cell_type": "markdown",
   "source": "First we visualize the ID3 classifier. I chose to visualize it with a dataframe. Each column is a layer of the binary tree. Each node has a value in the row. If it has children, the left child is right next to it and the right child is the next non-empty value below. If the node is a leaf, it's marked with \"Result: 0\" or \"Result: 1\".",
   "id": "a2b1d6f9ed5e5fe2"
  },
  {
   "metadata": {
    "ExecuteTime": {
     "end_time": "2024-11-16T00:03:04.058320Z",
     "start_time": "2024-11-16T00:03:03.060098Z"
    }
   },
   "cell_type": "code",
   "source": [
    "visualize_id3 = ID3classifier(max_depth=5)\n",
    "visualize_id3.fit(transformed_X_train, y_train)\n",
    "visualize_id3.visualize()"
   ],
   "id": "199dd15f39dda720",
   "outputs": [
    {
     "data": {
      "text/plain": [
       "                      Depth 0                    Depth 1  \\\n",
       "0   Column 1 split at -0.0082  Column 20 split at 0.3493   \n",
       "1                                                          \n",
       "2                                                          \n",
       "3                                                          \n",
       "4                                                          \n",
       "5                                                          \n",
       "6                                                          \n",
       "7                                                          \n",
       "8                                                          \n",
       "9                                                          \n",
       "10                                                         \n",
       "11                                                         \n",
       "12                                                         \n",
       "13                                                         \n",
       "14                                                         \n",
       "15                                                         \n",
       "16                              Column 3 split at 0.4553   \n",
       "17                                                         \n",
       "18                                                         \n",
       "19                                                         \n",
       "20                                                         \n",
       "21                                                         \n",
       "22                                                         \n",
       "23                                                         \n",
       "24                                                         \n",
       "25                                                         \n",
       "26                                                         \n",
       "27                                                         \n",
       "28                                                         \n",
       "29                                                         \n",
       "30                                                         \n",
       "31                                                         \n",
       "\n",
       "                       Depth 2                     Depth 3  \\\n",
       "0   Column 20 split at -0.1992   Column 3 split at -0.2062   \n",
       "1                                                            \n",
       "2                                                            \n",
       "3                                                            \n",
       "4                                Column 26 split at 0.0615   \n",
       "5                                                            \n",
       "6                                                            \n",
       "7                                                            \n",
       "8     Column 14 split at 0.006   Column 28 split at 0.0249   \n",
       "9                                                            \n",
       "10                                                           \n",
       "11                                                           \n",
       "12                               Column 10 split at 0.0106   \n",
       "13                                                           \n",
       "14                                                           \n",
       "15                                                           \n",
       "16    Column 1 split at 0.4611   Column 20 split at 0.2683   \n",
       "17                                                           \n",
       "18                                                           \n",
       "19                                                           \n",
       "20                                Column 1 split at 0.9408   \n",
       "21                                                           \n",
       "22                                                           \n",
       "23                                                           \n",
       "24    Column 5 split at 0.5293     Column 1 split at 0.768   \n",
       "25                                                           \n",
       "26                                                           \n",
       "27                                                           \n",
       "28                              Column 23 split at -0.3756   \n",
       "29                                                           \n",
       "30                                                           \n",
       "31                                                           \n",
       "\n",
       "                       Depth 4    Depth 5  \n",
       "0   Column 20 split at -0.5272  Result: 1  \n",
       "1                               Result: 1  \n",
       "2     Column 3 split at 0.4508  Result: 1  \n",
       "3                               Result: 0  \n",
       "4    Column 16 split at 0.0457  Result: 1  \n",
       "5                               Result: 1  \n",
       "6    Column 20 split at 0.0779  Result: 1  \n",
       "7                               Result: 1  \n",
       "8   Column 19 split at -0.1771  Result: 1  \n",
       "9                               Result: 1  \n",
       "10   Column 6 split at -0.3496  Result: 1  \n",
       "11                              Result: 1  \n",
       "12   Column 28 split at 0.0652  Result: 1  \n",
       "13                              Result: 1  \n",
       "14    Column 5 split at -0.251  Result: 1  \n",
       "15                              Result: 1  \n",
       "16  Column 20 split at -0.2767  Result: 1  \n",
       "17                              Result: 1  \n",
       "18  Column 13 split at -0.0277  Result: 1  \n",
       "19                              Result: 1  \n",
       "20  Column 20 split at -0.1341  Result: 0  \n",
       "21                              Result: 1  \n",
       "22    Column 1 split at 1.4253  Result: 0  \n",
       "23                              Result: 0  \n",
       "24  Column 20 split at -0.5867  Result: 0  \n",
       "25                              Result: 0  \n",
       "26   Column 25 split at 0.0593  Result: 0  \n",
       "27                              Result: 0  \n",
       "28    Column 0 split at 0.5428  Result: 0  \n",
       "29                              Result: 0  \n",
       "30   Column 23 split at 0.1725  Result: 0  \n",
       "31                              Result: 0  "
      ],
      "text/html": [
       "<div>\n",
       "<style scoped>\n",
       "    .dataframe tbody tr th:only-of-type {\n",
       "        vertical-align: middle;\n",
       "    }\n",
       "\n",
       "    .dataframe tbody tr th {\n",
       "        vertical-align: top;\n",
       "    }\n",
       "\n",
       "    .dataframe thead th {\n",
       "        text-align: right;\n",
       "    }\n",
       "</style>\n",
       "<table border=\"1\" class=\"dataframe\">\n",
       "  <thead>\n",
       "    <tr style=\"text-align: right;\">\n",
       "      <th></th>\n",
       "      <th>Depth 0</th>\n",
       "      <th>Depth 1</th>\n",
       "      <th>Depth 2</th>\n",
       "      <th>Depth 3</th>\n",
       "      <th>Depth 4</th>\n",
       "      <th>Depth 5</th>\n",
       "    </tr>\n",
       "  </thead>\n",
       "  <tbody>\n",
       "    <tr>\n",
       "      <th>0</th>\n",
       "      <td>Column 1 split at -0.0082</td>\n",
       "      <td>Column 20 split at 0.3493</td>\n",
       "      <td>Column 20 split at -0.1992</td>\n",
       "      <td>Column 3 split at -0.2062</td>\n",
       "      <td>Column 20 split at -0.5272</td>\n",
       "      <td>Result: 1</td>\n",
       "    </tr>\n",
       "    <tr>\n",
       "      <th>1</th>\n",
       "      <td></td>\n",
       "      <td></td>\n",
       "      <td></td>\n",
       "      <td></td>\n",
       "      <td></td>\n",
       "      <td>Result: 1</td>\n",
       "    </tr>\n",
       "    <tr>\n",
       "      <th>2</th>\n",
       "      <td></td>\n",
       "      <td></td>\n",
       "      <td></td>\n",
       "      <td></td>\n",
       "      <td>Column 3 split at 0.4508</td>\n",
       "      <td>Result: 1</td>\n",
       "    </tr>\n",
       "    <tr>\n",
       "      <th>3</th>\n",
       "      <td></td>\n",
       "      <td></td>\n",
       "      <td></td>\n",
       "      <td></td>\n",
       "      <td></td>\n",
       "      <td>Result: 0</td>\n",
       "    </tr>\n",
       "    <tr>\n",
       "      <th>4</th>\n",
       "      <td></td>\n",
       "      <td></td>\n",
       "      <td></td>\n",
       "      <td>Column 26 split at 0.0615</td>\n",
       "      <td>Column 16 split at 0.0457</td>\n",
       "      <td>Result: 1</td>\n",
       "    </tr>\n",
       "    <tr>\n",
       "      <th>5</th>\n",
       "      <td></td>\n",
       "      <td></td>\n",
       "      <td></td>\n",
       "      <td></td>\n",
       "      <td></td>\n",
       "      <td>Result: 1</td>\n",
       "    </tr>\n",
       "    <tr>\n",
       "      <th>6</th>\n",
       "      <td></td>\n",
       "      <td></td>\n",
       "      <td></td>\n",
       "      <td></td>\n",
       "      <td>Column 20 split at 0.0779</td>\n",
       "      <td>Result: 1</td>\n",
       "    </tr>\n",
       "    <tr>\n",
       "      <th>7</th>\n",
       "      <td></td>\n",
       "      <td></td>\n",
       "      <td></td>\n",
       "      <td></td>\n",
       "      <td></td>\n",
       "      <td>Result: 1</td>\n",
       "    </tr>\n",
       "    <tr>\n",
       "      <th>8</th>\n",
       "      <td></td>\n",
       "      <td></td>\n",
       "      <td>Column 14 split at 0.006</td>\n",
       "      <td>Column 28 split at 0.0249</td>\n",
       "      <td>Column 19 split at -0.1771</td>\n",
       "      <td>Result: 1</td>\n",
       "    </tr>\n",
       "    <tr>\n",
       "      <th>9</th>\n",
       "      <td></td>\n",
       "      <td></td>\n",
       "      <td></td>\n",
       "      <td></td>\n",
       "      <td></td>\n",
       "      <td>Result: 1</td>\n",
       "    </tr>\n",
       "    <tr>\n",
       "      <th>10</th>\n",
       "      <td></td>\n",
       "      <td></td>\n",
       "      <td></td>\n",
       "      <td></td>\n",
       "      <td>Column 6 split at -0.3496</td>\n",
       "      <td>Result: 1</td>\n",
       "    </tr>\n",
       "    <tr>\n",
       "      <th>11</th>\n",
       "      <td></td>\n",
       "      <td></td>\n",
       "      <td></td>\n",
       "      <td></td>\n",
       "      <td></td>\n",
       "      <td>Result: 1</td>\n",
       "    </tr>\n",
       "    <tr>\n",
       "      <th>12</th>\n",
       "      <td></td>\n",
       "      <td></td>\n",
       "      <td></td>\n",
       "      <td>Column 10 split at 0.0106</td>\n",
       "      <td>Column 28 split at 0.0652</td>\n",
       "      <td>Result: 1</td>\n",
       "    </tr>\n",
       "    <tr>\n",
       "      <th>13</th>\n",
       "      <td></td>\n",
       "      <td></td>\n",
       "      <td></td>\n",
       "      <td></td>\n",
       "      <td></td>\n",
       "      <td>Result: 1</td>\n",
       "    </tr>\n",
       "    <tr>\n",
       "      <th>14</th>\n",
       "      <td></td>\n",
       "      <td></td>\n",
       "      <td></td>\n",
       "      <td></td>\n",
       "      <td>Column 5 split at -0.251</td>\n",
       "      <td>Result: 1</td>\n",
       "    </tr>\n",
       "    <tr>\n",
       "      <th>15</th>\n",
       "      <td></td>\n",
       "      <td></td>\n",
       "      <td></td>\n",
       "      <td></td>\n",
       "      <td></td>\n",
       "      <td>Result: 1</td>\n",
       "    </tr>\n",
       "    <tr>\n",
       "      <th>16</th>\n",
       "      <td></td>\n",
       "      <td>Column 3 split at 0.4553</td>\n",
       "      <td>Column 1 split at 0.4611</td>\n",
       "      <td>Column 20 split at 0.2683</td>\n",
       "      <td>Column 20 split at -0.2767</td>\n",
       "      <td>Result: 1</td>\n",
       "    </tr>\n",
       "    <tr>\n",
       "      <th>17</th>\n",
       "      <td></td>\n",
       "      <td></td>\n",
       "      <td></td>\n",
       "      <td></td>\n",
       "      <td></td>\n",
       "      <td>Result: 1</td>\n",
       "    </tr>\n",
       "    <tr>\n",
       "      <th>18</th>\n",
       "      <td></td>\n",
       "      <td></td>\n",
       "      <td></td>\n",
       "      <td></td>\n",
       "      <td>Column 13 split at -0.0277</td>\n",
       "      <td>Result: 1</td>\n",
       "    </tr>\n",
       "    <tr>\n",
       "      <th>19</th>\n",
       "      <td></td>\n",
       "      <td></td>\n",
       "      <td></td>\n",
       "      <td></td>\n",
       "      <td></td>\n",
       "      <td>Result: 1</td>\n",
       "    </tr>\n",
       "    <tr>\n",
       "      <th>20</th>\n",
       "      <td></td>\n",
       "      <td></td>\n",
       "      <td></td>\n",
       "      <td>Column 1 split at 0.9408</td>\n",
       "      <td>Column 20 split at -0.1341</td>\n",
       "      <td>Result: 0</td>\n",
       "    </tr>\n",
       "    <tr>\n",
       "      <th>21</th>\n",
       "      <td></td>\n",
       "      <td></td>\n",
       "      <td></td>\n",
       "      <td></td>\n",
       "      <td></td>\n",
       "      <td>Result: 1</td>\n",
       "    </tr>\n",
       "    <tr>\n",
       "      <th>22</th>\n",
       "      <td></td>\n",
       "      <td></td>\n",
       "      <td></td>\n",
       "      <td></td>\n",
       "      <td>Column 1 split at 1.4253</td>\n",
       "      <td>Result: 0</td>\n",
       "    </tr>\n",
       "    <tr>\n",
       "      <th>23</th>\n",
       "      <td></td>\n",
       "      <td></td>\n",
       "      <td></td>\n",
       "      <td></td>\n",
       "      <td></td>\n",
       "      <td>Result: 0</td>\n",
       "    </tr>\n",
       "    <tr>\n",
       "      <th>24</th>\n",
       "      <td></td>\n",
       "      <td></td>\n",
       "      <td>Column 5 split at 0.5293</td>\n",
       "      <td>Column 1 split at 0.768</td>\n",
       "      <td>Column 20 split at -0.5867</td>\n",
       "      <td>Result: 0</td>\n",
       "    </tr>\n",
       "    <tr>\n",
       "      <th>25</th>\n",
       "      <td></td>\n",
       "      <td></td>\n",
       "      <td></td>\n",
       "      <td></td>\n",
       "      <td></td>\n",
       "      <td>Result: 0</td>\n",
       "    </tr>\n",
       "    <tr>\n",
       "      <th>26</th>\n",
       "      <td></td>\n",
       "      <td></td>\n",
       "      <td></td>\n",
       "      <td></td>\n",
       "      <td>Column 25 split at 0.0593</td>\n",
       "      <td>Result: 0</td>\n",
       "    </tr>\n",
       "    <tr>\n",
       "      <th>27</th>\n",
       "      <td></td>\n",
       "      <td></td>\n",
       "      <td></td>\n",
       "      <td></td>\n",
       "      <td></td>\n",
       "      <td>Result: 0</td>\n",
       "    </tr>\n",
       "    <tr>\n",
       "      <th>28</th>\n",
       "      <td></td>\n",
       "      <td></td>\n",
       "      <td></td>\n",
       "      <td>Column 23 split at -0.3756</td>\n",
       "      <td>Column 0 split at 0.5428</td>\n",
       "      <td>Result: 0</td>\n",
       "    </tr>\n",
       "    <tr>\n",
       "      <th>29</th>\n",
       "      <td></td>\n",
       "      <td></td>\n",
       "      <td></td>\n",
       "      <td></td>\n",
       "      <td></td>\n",
       "      <td>Result: 0</td>\n",
       "    </tr>\n",
       "    <tr>\n",
       "      <th>30</th>\n",
       "      <td></td>\n",
       "      <td></td>\n",
       "      <td></td>\n",
       "      <td></td>\n",
       "      <td>Column 23 split at 0.1725</td>\n",
       "      <td>Result: 0</td>\n",
       "    </tr>\n",
       "    <tr>\n",
       "      <th>31</th>\n",
       "      <td></td>\n",
       "      <td></td>\n",
       "      <td></td>\n",
       "      <td></td>\n",
       "      <td></td>\n",
       "      <td>Result: 0</td>\n",
       "    </tr>\n",
       "  </tbody>\n",
       "</table>\n",
       "</div>"
      ]
     },
     "execution_count": 255,
     "metadata": {},
     "output_type": "execute_result"
    }
   ],
   "execution_count": 255
  },
  {
   "metadata": {},
   "cell_type": "markdown",
   "source": "For the DecisionTreeClassifier, we will use the default function from scikit-learn.",
   "id": "1d39c0b337788541"
  },
  {
   "metadata": {
    "ExecuteTime": {
     "end_time": "2024-11-16T00:22:24.559555Z",
     "start_time": "2024-11-16T00:22:24.087470Z"
    }
   },
   "cell_type": "code",
   "source": [
    "visualize_tree = tree.DecisionTreeClassifier(max_depth=3) # only depth 3 so it's legible\n",
    "visualize_tree.fit(transformed_X_train, y_train)\n",
    "tree.plot_tree(visualize_tree, label='none', filled=True,class_names=['0', '1'])\n",
    "plt.show()"
   ],
   "id": "dc0ef2c610e5080",
   "outputs": [
    {
     "data": {
      "text/plain": [
       "<Figure size 640x480 with 1 Axes>"
      ],
      "image/png": "[encoded data removed]"
     },
     "metadata": {},
     "output_type": "display_data"
    }
   ],
   "execution_count": 277
  },
  {
   "metadata": {},
   "cell_type": "markdown",
   "source": "We can see points at which the tree splits and the values at which it splits. We can what value we get if we stop at a certain node. We can also see counts in each of the nodes.",
   "id": "6be1240b016a589a"
  },
  {
   "metadata": {},
   "cell_type": "markdown",
   "source": "# Phase 3-3: Optimization",
   "id": "390e1630e4c1fe2f"
  },
  {
   "metadata": {},
   "cell_type": "markdown",
   "source": "## 3-3A: Hyperparameter tuning",
   "id": "9b14dec964b6c074"
  },
  {
   "metadata": {},
   "cell_type": "markdown",
   "source": "### DecisionTreeClassifier",
   "id": "1acc32336dc5f5bf"
  },
  {
   "metadata": {},
   "cell_type": "markdown",
   "source": "Let's try a little more exhaustive search for the hyperparameters, testing more options.",
   "id": "36fcc1a0db4f99f2"
  },
  {
   "metadata": {
    "ExecuteTime": {
     "end_time": "2024-11-16T10:46:13.068130Z",
     "start_time": "2024-11-16T10:45:33.263866Z"
    }
   },
   "cell_type": "code",
   "source": [
    "grid_search_tree2 = GridSearchCV(\n",
    "    tree.DecisionTreeClassifier(), \n",
    "    param_grid={\n",
    "    'criterion': ['gini', 'entropy'],\n",
    "    'max_depth': [5, 6, 7, 8, 9],\n",
    "    'min_samples_split': [2, 5, 10, 25, 35, 50, 70],\n",
    "    'min_samples_leaf': [1, 2, 4, 6, 8, 10],\n",
    "    'max_features': [None, 'sqrt', 'log2']\n",
    "    }, \n",
    "    cv=5,       # 5-fold cross validation\n",
    "    verbose=1,  # prints out progress\n",
    "    n_jobs=-1   # allows all cores to run in parallel\n",
    ")\n",
    "grid_search_tree2.fit(transformed_X_train, y_train)\n",
    "grid_search_tree2.best_params_"
   ],
   "id": "7ad0ef972e6f9fad",
   "outputs": [
    {
     "name": "stdout",
     "output_type": "stream",
     "text": [
      "Fitting 5 folds for each of 1260 candidates, totalling 6300 fits\n"
     ]
    },
    {
     "data": {
      "text/plain": [
       "{'criterion': 'entropy',\n",
       " 'max_depth': 7,\n",
       " 'max_features': None,\n",
       " 'min_samples_leaf': 4,\n",
       " 'min_samples_split': 35}"
      ]
     },
     "execution_count": 11,
     "metadata": {},
     "output_type": "execute_result"
    }
   ],
   "execution_count": 11
  },
  {
   "metadata": {},
   "cell_type": "markdown",
   "source": "Let's compare unoptimized DecisionTreeClassifier with slightly optimized, with the best one we found.",
   "id": "7d8bcd6c26af308e"
  },
  {
   "metadata": {
    "ExecuteTime": {
     "end_time": "2024-11-16T11:12:09.106226Z",
     "start_time": "2024-11-16T11:12:06.850201Z"
    }
   },
   "cell_type": "code",
   "source": [
    "def compare_tree_metrics(*_predictors: BaseEstimator):\n",
    "    _names = ['Base', 'Better', 'Best']\n",
    "    _df = pd.DataFrame()\n",
    "    for _index, _predictor in enumerate(_predictors):\n",
    "        _predictor.fit(transformed_X_train, y_train)\n",
    "        _y_pred = _predictor.predict(transformed_X_test)\n",
    "        _y_pred_train = _predictor.predict(transformed_X_train)\n",
    "        _metrics = show_metrics(_y_pred_train, _y_pred, y_train, y_test)\n",
    "        _metrics.columns = [f'{x}_{_names[_index]}' for x in _metrics.columns]\n",
    "        _df = pd.concat([_df, _metrics], axis=1)\n",
    "    return _df\n",
    "\n",
    "compare_tree_metrics(\n",
    "    tree.DecisionTreeClassifier(),\n",
    "    tree.DecisionTreeClassifier(**{'criterion': 'gini', 'max_depth': 5, 'max_features': None, 'min_samples_leaf': 1, 'min_samples_split': 2}), \n",
    "    tree.DecisionTreeClassifier(**{'criterion': 'entropy', 'max_depth': 7, 'max_features': None, 'min_samples_leaf': 4, 'min_samples_split': 35}),\n",
    ")"
   ],
   "id": "209d7a0eb8e29902",
   "outputs": [
    {
     "data": {
      "text/plain": [
       "                    Train_Base  Test_Base  Train_Better  Test_Better  \\\n",
       "Precision True             1.0   0.782128      0.902787     0.894347   \n",
       "Precision False            1.0   0.870816      0.919165     0.899900   \n",
       "Precision Weighted         1.0   0.837317      0.913108     0.897803   \n",
       "Recall True                1.0   0.866736      0.945751     0.940656   \n",
       "Recall False               1.0   0.788165      0.858300     0.827616   \n",
       "Recall Weighted            1.0   0.837059      0.913406     0.897959   \n",
       "Accuracy                   1.0   0.837059      0.913406     0.897959   \n",
       "\n",
       "                    Train_Best  Test_Best  \n",
       "Precision True        0.918044   0.909851  \n",
       "Precision False       0.922609   0.907011  \n",
       "Precision Weighted    0.920920   0.908084  \n",
       "Recall True           0.954750   0.949505  \n",
       "Recall False          0.863557   0.839623  \n",
       "Recall Weighted       0.921021   0.908001  \n",
       "Accuracy              0.921021   0.908001  "
      ],
      "text/html": [
       "<div>\n",
       "<style scoped>\n",
       "    .dataframe tbody tr th:only-of-type {\n",
       "        vertical-align: middle;\n",
       "    }\n",
       "\n",
       "    .dataframe tbody tr th {\n",
       "        vertical-align: top;\n",
       "    }\n",
       "\n",
       "    .dataframe thead th {\n",
       "        text-align: right;\n",
       "    }\n",
       "</style>\n",
       "<table border=\"1\" class=\"dataframe\">\n",
       "  <thead>\n",
       "    <tr style=\"text-align: right;\">\n",
       "      <th></th>\n",
       "      <th>Train_Base</th>\n",
       "      <th>Test_Base</th>\n",
       "      <th>Train_Better</th>\n",
       "      <th>Test_Better</th>\n",
       "      <th>Train_Best</th>\n",
       "      <th>Test_Best</th>\n",
       "    </tr>\n",
       "  </thead>\n",
       "  <tbody>\n",
       "    <tr>\n",
       "      <th>Precision True</th>\n",
       "      <td>1.0</td>\n",
       "      <td>0.782128</td>\n",
       "      <td>0.902787</td>\n",
       "      <td>0.894347</td>\n",
       "      <td>0.918044</td>\n",
       "      <td>0.909851</td>\n",
       "    </tr>\n",
       "    <tr>\n",
       "      <th>Precision False</th>\n",
       "      <td>1.0</td>\n",
       "      <td>0.870816</td>\n",
       "      <td>0.919165</td>\n",
       "      <td>0.899900</td>\n",
       "      <td>0.922609</td>\n",
       "      <td>0.907011</td>\n",
       "    </tr>\n",
       "    <tr>\n",
       "      <th>Precision Weighted</th>\n",
       "      <td>1.0</td>\n",
       "      <td>0.837317</td>\n",
       "      <td>0.913108</td>\n",
       "      <td>0.897803</td>\n",
       "      <td>0.920920</td>\n",
       "      <td>0.908084</td>\n",
       "    </tr>\n",
       "    <tr>\n",
       "      <th>Recall True</th>\n",
       "      <td>1.0</td>\n",
       "      <td>0.866736</td>\n",
       "      <td>0.945751</td>\n",
       "      <td>0.940656</td>\n",
       "      <td>0.954750</td>\n",
       "      <td>0.949505</td>\n",
       "    </tr>\n",
       "    <tr>\n",
       "      <th>Recall False</th>\n",
       "      <td>1.0</td>\n",
       "      <td>0.788165</td>\n",
       "      <td>0.858300</td>\n",
       "      <td>0.827616</td>\n",
       "      <td>0.863557</td>\n",
       "      <td>0.839623</td>\n",
       "    </tr>\n",
       "    <tr>\n",
       "      <th>Recall Weighted</th>\n",
       "      <td>1.0</td>\n",
       "      <td>0.837059</td>\n",
       "      <td>0.913406</td>\n",
       "      <td>0.897959</td>\n",
       "      <td>0.921021</td>\n",
       "      <td>0.908001</td>\n",
       "    </tr>\n",
       "    <tr>\n",
       "      <th>Accuracy</th>\n",
       "      <td>1.0</td>\n",
       "      <td>0.837059</td>\n",
       "      <td>0.913406</td>\n",
       "      <td>0.897959</td>\n",
       "      <td>0.921021</td>\n",
       "      <td>0.908001</td>\n",
       "    </tr>\n",
       "  </tbody>\n",
       "</table>\n",
       "</div>"
      ]
     },
     "execution_count": 16,
     "metadata": {},
     "output_type": "execute_result"
    }
   ],
   "execution_count": 16
  },
  {
   "metadata": {},
   "cell_type": "markdown",
   "source": [
    "As we can see, the difference between the base model and the slightly optimized one is very big at 6%, with difference between the slightly optimized and the best one being 1%.  \n",
    "Based on this findings, we can see the hyperparameter optimization is very important, but has diminishing returns after a certain point."
   ],
   "id": "8a59a698883ccf04"
  },
  {
   "metadata": {},
   "cell_type": "markdown",
   "source": "We aren't going to tune Logistic Regression further, as it didn't improve last time either.",
   "id": "d20fd855ce21d591"
  },
  {
   "metadata": {},
   "cell_type": "markdown",
   "source": "## 3-3B: Ensemble Learning",
   "id": "3f220ce8bcb3faeb"
  },
  {
   "metadata": {},
   "cell_type": "markdown",
   "source": [
    "### Random Forest\n",
    "Random forest is a type of bagging ensemble method, that bags together multiple decision trees. It's a great way to improve the performance of the model."
   ],
   "id": "4151c597d9816231"
  },
  {
   "metadata": {
    "ExecuteTime": {
     "end_time": "2024-11-15T23:34:36.043628Z",
     "start_time": "2024-11-15T23:34:29.297239Z"
    }
   },
   "cell_type": "code",
   "outputs": [
    {
     "data": {
      "text/plain": [
       "                       Train      Test\n",
       "Precision True      0.933179  0.921124\n",
       "Precision False     0.932296  0.924395\n",
       "Precision Weighted  0.932623  0.923160\n",
       "Recall True         0.962977  0.954711\n",
       "Recall False        0.880859  0.871355\n",
       "Recall Weighted     0.932604  0.923226\n",
       "Accuracy            0.932604  0.923226"
      ],
      "text/html": [
       "<div>\n",
       "<style scoped>\n",
       "    .dataframe tbody tr th:only-of-type {\n",
       "        vertical-align: middle;\n",
       "    }\n",
       "\n",
       "    .dataframe tbody tr th {\n",
       "        vertical-align: top;\n",
       "    }\n",
       "\n",
       "    .dataframe thead th {\n",
       "        text-align: right;\n",
       "    }\n",
       "</style>\n",
       "<table border=\"1\" class=\"dataframe\">\n",
       "  <thead>\n",
       "    <tr style=\"text-align: right;\">\n",
       "      <th></th>\n",
       "      <th>Train</th>\n",
       "      <th>Test</th>\n",
       "    </tr>\n",
       "  </thead>\n",
       "  <tbody>\n",
       "    <tr>\n",
       "      <th>Precision True</th>\n",
       "      <td>0.933179</td>\n",
       "      <td>0.921124</td>\n",
       "    </tr>\n",
       "    <tr>\n",
       "      <th>Precision False</th>\n",
       "      <td>0.932296</td>\n",
       "      <td>0.924395</td>\n",
       "    </tr>\n",
       "    <tr>\n",
       "      <th>Precision Weighted</th>\n",
       "      <td>0.932623</td>\n",
       "      <td>0.923160</td>\n",
       "    </tr>\n",
       "    <tr>\n",
       "      <th>Recall True</th>\n",
       "      <td>0.962977</td>\n",
       "      <td>0.954711</td>\n",
       "    </tr>\n",
       "    <tr>\n",
       "      <th>Recall False</th>\n",
       "      <td>0.880859</td>\n",
       "      <td>0.871355</td>\n",
       "    </tr>\n",
       "    <tr>\n",
       "      <th>Recall Weighted</th>\n",
       "      <td>0.932604</td>\n",
       "      <td>0.923226</td>\n",
       "    </tr>\n",
       "    <tr>\n",
       "      <th>Accuracy</th>\n",
       "      <td>0.932604</td>\n",
       "      <td>0.923226</td>\n",
       "    </tr>\n",
       "  </tbody>\n",
       "</table>\n",
       "</div>"
      ]
     },
     "execution_count": 246,
     "metadata": {},
     "output_type": "execute_result"
    }
   ],
   "execution_count": 246,
   "source": [
    "forest = RandomForestClassifier(max_depth=10)\n",
    "forest.fit(transformed_X_train, y_train)\n",
    "y_pred = forest.predict(transformed_X_test)\n",
    "y_pred_train = forest.predict(transformed_X_train)\n",
    "show_metrics(y_pred_train, y_pred, y_train, y_test)"
   ],
   "id": "14401d692ae3c14"
  },
  {
   "metadata": {},
   "cell_type": "markdown",
   "source": "We can see that immediately, the model is outperforming the individual models we tested so far with 92.3% accuracy. Let's see how we can improve it further with hyperparameter optimization.",
   "id": "59943ed32bface03"
  },
  {
   "metadata": {
    "ExecuteTime": {
     "end_time": "2024-11-16T14:10:49.447064Z",
     "start_time": "2024-11-16T13:50:02.734180Z"
    }
   },
   "cell_type": "code",
   "source": [
    "grid_search_forest = GridSearchCV(\n",
    "    RandomForestClassifier(), \n",
    "    param_grid={\n",
    "    'n_estimators': [25, 50, 100, 150, 200],\n",
    "    'criterion': ['gini', 'entropy'],\n",
    "    'max_depth': [11, 12, 13, 14, 15, 16, 17, 18],\n",
    "    'min_samples_split': [2, 5, 10, 25, 50],\n",
    "    'min_samples_leaf': [1, 2, 4],\n",
    "    'max_features': ['sqrt', 'log2'],           # we don't use None, as it would take way too long for too little benefit \n",
    "    'random_state': [66]                        # to make the results reproducible\n",
    "    }, \n",
    "    cv=10,      # 10-fold cross validation, as we have high possible max_depth and low cv might lead to overfitting \n",
    "    n_jobs=-1\n",
    ")\n",
    "grid_search_forest.fit(transformed_X_train, y_train)\n",
    "grid_search_forest.best_params_"
   ],
   "id": "700cedc60cca728e",
   "outputs": [
    {
     "data": {
      "text/plain": [
       "{'criterion': 'entropy',\n",
       " 'max_depth': 16,\n",
       " 'max_features': 'sqrt',\n",
       " 'min_samples_split': 5,\n",
       " 'min_samples_leaf': 1,\n",
       " 'n_estimators': 150}"
      ]
     },
     "execution_count": 31,
     "metadata": {},
     "output_type": "execute_result"
    }
   ],
   "execution_count": 31
  },
  {
   "metadata": {},
   "cell_type": "markdown",
   "source": "features 'max_features': 'sqrt' and 'min_samples_leaf': 1 are the default so we don't need to pass them later",
   "id": "470c1aa844c6f5e"
  },
  {
   "metadata": {
    "ExecuteTime": {
     "end_time": "2024-11-16T14:14:32.315798Z",
     "start_time": "2024-11-16T14:14:31.982033Z"
    }
   },
   "cell_type": "code",
   "source": [
    "y_pred = grid_search_forest.best_estimator_.predict(transformed_X_test)\n",
    "y_pred_train = grid_search_forest.best_estimator_.predict(transformed_X_train)\n",
    "show_metrics(y_pred_train, y_pred, y_train, y_test)"
   ],
   "id": "7f96c05ee7f1937e",
   "outputs": [
    {
     "data": {
      "text/plain": [
       "                       Train      Test\n",
       "Precision True      0.972845  0.923636\n",
       "Precision False     0.945006  0.924509\n",
       "Precision Weighted  0.955303  0.924180\n",
       "Recall True         0.985217  0.956273\n",
       "Recall False        0.902322  0.871355\n",
       "Recall Weighted     0.954557  0.924198\n",
       "Accuracy            0.954557  0.924198"
      ],
      "text/html": [
       "<div>\n",
       "<style scoped>\n",
       "    .dataframe tbody tr th:only-of-type {\n",
       "        vertical-align: middle;\n",
       "    }\n",
       "\n",
       "    .dataframe tbody tr th {\n",
       "        vertical-align: top;\n",
       "    }\n",
       "\n",
       "    .dataframe thead th {\n",
       "        text-align: right;\n",
       "    }\n",
       "</style>\n",
       "<table border=\"1\" class=\"dataframe\">\n",
       "  <thead>\n",
       "    <tr style=\"text-align: right;\">\n",
       "      <th></th>\n",
       "      <th>Train</th>\n",
       "      <th>Test</th>\n",
       "    </tr>\n",
       "  </thead>\n",
       "  <tbody>\n",
       "    <tr>\n",
       "      <th>Precision True</th>\n",
       "      <td>0.972845</td>\n",
       "      <td>0.923636</td>\n",
       "    </tr>\n",
       "    <tr>\n",
       "      <th>Precision False</th>\n",
       "      <td>0.945006</td>\n",
       "      <td>0.924509</td>\n",
       "    </tr>\n",
       "    <tr>\n",
       "      <th>Precision Weighted</th>\n",
       "      <td>0.955303</td>\n",
       "      <td>0.924180</td>\n",
       "    </tr>\n",
       "    <tr>\n",
       "      <th>Recall True</th>\n",
       "      <td>0.985217</td>\n",
       "      <td>0.956273</td>\n",
       "    </tr>\n",
       "    <tr>\n",
       "      <th>Recall False</th>\n",
       "      <td>0.902322</td>\n",
       "      <td>0.871355</td>\n",
       "    </tr>\n",
       "    <tr>\n",
       "      <th>Recall Weighted</th>\n",
       "      <td>0.954557</td>\n",
       "      <td>0.924198</td>\n",
       "    </tr>\n",
       "    <tr>\n",
       "      <th>Accuracy</th>\n",
       "      <td>0.954557</td>\n",
       "      <td>0.924198</td>\n",
       "    </tr>\n",
       "  </tbody>\n",
       "</table>\n",
       "</div>"
      ]
     },
     "execution_count": 32,
     "metadata": {},
     "output_type": "execute_result"
    }
   ],
   "execution_count": 32
  },
  {
   "metadata": {},
   "cell_type": "markdown",
   "source": "The hyperparameter optimization improved the model, but only by 0.1%. The training data accuracy improved by 2.2%, but that's due to higher max_depth which makes the model more prone to overfitting.",
   "id": "a9ce4cc1bcc592b6"
  },
  {
   "metadata": {},
   "cell_type": "markdown",
   "source": [
    "### Voting Classifier\n",
    "Step 1: Chose models for the ensemble. We will use the best models we found so far."
   ],
   "id": "1d38de8b65170448"
  },
  {
   "metadata": {
    "ExecuteTime": {
     "end_time": "2024-11-17T13:15:28.555111Z",
     "start_time": "2024-11-17T13:15:28.550050Z"
    }
   },
   "cell_type": "code",
   "source": [
    "model1 = RandomForestClassifier(**{'criterion': 'entropy', 'max_depth': 16, 'min_samples_split': 5, 'n_estimators': 150, 'random_state': [66]})\n",
    "model2 = tree.DecisionTreeClassifier(**{'criterion': 'entropy', 'max_depth': 7, 'max_features': None, 'min_samples_leaf': 4, 'min_samples_split': 35})\n",
    "model3 = LogisticRegression(**{'C': 0.01, 'class_weight': None, 'max_iter': 300, 'penalty': 'l2', 'solver': 'lbfgs'})\n",
    "model4 = GradientBoostingClassifier()"
   ],
   "id": "12edf31cfed28ae6",
   "outputs": [],
   "execution_count": 9
  },
  {
   "metadata": {
    "ExecuteTime": {
     "end_time": "2024-11-17T13:15:30.317184Z",
     "start_time": "2024-11-17T13:15:30.312463Z"
    }
   },
   "cell_type": "code",
   "source": "voting_classifier = VotingClassifier(estimators=[('rf', model1), ('dt', model2), ('lr', model3), ('gb', model4)], voting='soft', n_jobs=-1)",
   "id": "e0409875f4be0e3b",
   "outputs": [],
   "execution_count": 10
  },
  {
   "metadata": {
    "ExecuteTime": {
     "end_time": "2024-11-17T13:15:53.350187Z",
     "start_time": "2024-11-17T13:15:31.437983Z"
    }
   },
   "cell_type": "code",
   "source": [
    "voting_classifier.fit(transformed_X_train, y_train)\n",
    "y_pred = voting_classifier.predict(transformed_X_test)\n",
    "y_pred_train = voting_classifier.predict(transformed_X_train)\n",
    "show_metrics(y_pred_train, y_pred, y_train, y_test)"
   ],
   "id": "7109afb9a77b3895",
   "outputs": [
    {
     "data": {
      "text/plain": [
       "                       Train      Test\n",
       "Precision True      0.926089  0.922374\n",
       "Precision False     0.929132  0.921687\n",
       "Precision Weighted  0.928006  0.921946\n",
       "Recall True         0.958992  0.955752\n",
       "Recall False        0.875383  0.866209\n",
       "Recall Weighted     0.928068  0.921931\n",
       "Accuracy            0.928068  0.921931"
      ],
      "text/html": [
       "<div>\n",
       "<style scoped>\n",
       "    .dataframe tbody tr th:only-of-type {\n",
       "        vertical-align: middle;\n",
       "    }\n",
       "\n",
       "    .dataframe tbody tr th {\n",
       "        vertical-align: top;\n",
       "    }\n",
       "\n",
       "    .dataframe thead th {\n",
       "        text-align: right;\n",
       "    }\n",
       "</style>\n",
       "<table border=\"1\" class=\"dataframe\">\n",
       "  <thead>\n",
       "    <tr style=\"text-align: right;\">\n",
       "      <th></th>\n",
       "      <th>Train</th>\n",
       "      <th>Test</th>\n",
       "    </tr>\n",
       "  </thead>\n",
       "  <tbody>\n",
       "    <tr>\n",
       "      <th>Precision True</th>\n",
       "      <td>0.926089</td>\n",
       "      <td>0.922374</td>\n",
       "    </tr>\n",
       "    <tr>\n",
       "      <th>Precision False</th>\n",
       "      <td>0.929132</td>\n",
       "      <td>0.921687</td>\n",
       "    </tr>\n",
       "    <tr>\n",
       "      <th>Precision Weighted</th>\n",
       "      <td>0.928006</td>\n",
       "      <td>0.921946</td>\n",
       "    </tr>\n",
       "    <tr>\n",
       "      <th>Recall True</th>\n",
       "      <td>0.958992</td>\n",
       "      <td>0.955752</td>\n",
       "    </tr>\n",
       "    <tr>\n",
       "      <th>Recall False</th>\n",
       "      <td>0.875383</td>\n",
       "      <td>0.866209</td>\n",
       "    </tr>\n",
       "    <tr>\n",
       "      <th>Recall Weighted</th>\n",
       "      <td>0.928068</td>\n",
       "      <td>0.921931</td>\n",
       "    </tr>\n",
       "    <tr>\n",
       "      <th>Accuracy</th>\n",
       "      <td>0.928068</td>\n",
       "      <td>0.921931</td>\n",
       "    </tr>\n",
       "  </tbody>\n",
       "</table>\n",
       "</div>"
      ]
     },
     "execution_count": 11,
     "metadata": {},
     "output_type": "execute_result"
    }
   ],
   "execution_count": 11
  },
  {
   "metadata": {},
   "cell_type": "markdown",
   "source": "The Random Forest is likely boosting the performance of the model, so let's try combining only the other three.",
   "id": "98c24e2317335247"
  },
  {
   "metadata": {
    "ExecuteTime": {
     "end_time": "2024-11-17T21:44:33.000810Z",
     "start_time": "2024-11-17T21:44:11.946777Z"
    }
   },
   "cell_type": "code",
   "source": [
    "voting_classifier_no_rf = VotingClassifier(estimators=[('dt', model2), ('lr', model3), ('gb', model4)], voting='soft', n_jobs=-1)\n",
    "voting_classifier_no_rf.fit(transformed_X_train, y_train)\n",
    "y_pred = voting_classifier_no_rf.predict(transformed_X_test)\n",
    "y_pred_train = voting_classifier_no_rf.predict(transformed_X_train)\n",
    "show_metrics(y_pred_train, y_pred, y_train, y_test)"
   ],
   "id": "a66a751ed74594fd",
   "outputs": [
    {
     "data": {
      "text/plain": [
       "                       Train      Test\n",
       "Precision True      0.922380  0.919043\n",
       "Precision False     0.925765  0.916500\n",
       "Precision Weighted  0.924513  0.917461\n",
       "Recall True         0.957064  0.954191\n",
       "Recall False        0.869251  0.856775\n",
       "Recall Weighted     0.924585  0.917396\n",
       "Accuracy            0.924585  0.917396"
      ],
      "text/html": [
       "<div>\n",
       "<style scoped>\n",
       "    .dataframe tbody tr th:only-of-type {\n",
       "        vertical-align: middle;\n",
       "    }\n",
       "\n",
       "    .dataframe tbody tr th {\n",
       "        vertical-align: top;\n",
       "    }\n",
       "\n",
       "    .dataframe thead th {\n",
       "        text-align: right;\n",
       "    }\n",
       "</style>\n",
       "<table border=\"1\" class=\"dataframe\">\n",
       "  <thead>\n",
       "    <tr style=\"text-align: right;\">\n",
       "      <th></th>\n",
       "      <th>Train</th>\n",
       "      <th>Test</th>\n",
       "    </tr>\n",
       "  </thead>\n",
       "  <tbody>\n",
       "    <tr>\n",
       "      <th>Precision True</th>\n",
       "      <td>0.922380</td>\n",
       "      <td>0.919043</td>\n",
       "    </tr>\n",
       "    <tr>\n",
       "      <th>Precision False</th>\n",
       "      <td>0.925765</td>\n",
       "      <td>0.916500</td>\n",
       "    </tr>\n",
       "    <tr>\n",
       "      <th>Precision Weighted</th>\n",
       "      <td>0.924513</td>\n",
       "      <td>0.917461</td>\n",
       "    </tr>\n",
       "    <tr>\n",
       "      <th>Recall True</th>\n",
       "      <td>0.957064</td>\n",
       "      <td>0.954191</td>\n",
       "    </tr>\n",
       "    <tr>\n",
       "      <th>Recall False</th>\n",
       "      <td>0.869251</td>\n",
       "      <td>0.856775</td>\n",
       "    </tr>\n",
       "    <tr>\n",
       "      <th>Recall Weighted</th>\n",
       "      <td>0.924585</td>\n",
       "      <td>0.917396</td>\n",
       "    </tr>\n",
       "    <tr>\n",
       "      <th>Accuracy</th>\n",
       "      <td>0.924585</td>\n",
       "      <td>0.917396</td>\n",
       "    </tr>\n",
       "  </tbody>\n",
       "</table>\n",
       "</div>"
      ]
     },
     "execution_count": 125,
     "metadata": {},
     "output_type": "execute_result"
    }
   ],
   "execution_count": 125
  },
  {
   "metadata": {},
   "cell_type": "markdown",
   "source": "The ensemble model performed slightly worse than the best model so far (random forest) at 92.1% accuracy, but better than any other individual model we tested.",
   "id": "41c3e37764183bdd"
  },
  {
   "metadata": {},
   "cell_type": "markdown",
   "source": [
    "## 3-3C: Cross Validation\n",
    "We already used it in grid search, but in this section we focus solely on the cross validation.\n"
   ],
   "id": "c29a7af1b7c7f60d"
  },
  {
   "metadata": {},
   "cell_type": "markdown",
   "source": [
    "We use cross validation to see how well the models generalize or if they are overfitting to the noise in the training data.  \n",
    "We decided for a 10-fold cross validation, as it's a good balance between time and accuracy."
   ],
   "id": "d48c0f622d4d171f"
  },
  {
   "metadata": {
    "ExecuteTime": {
     "end_time": "2024-11-17T17:37:11.031972Z",
     "start_time": "2024-11-17T17:36:31.485799Z"
    }
   },
   "cell_type": "code",
   "source": [
    "kfold = KFold(n_splits=10, shuffle=True, random_state=66)\n",
    "votingCrossVal = cross_val_score(voting_classifier, transformed_X_train, y_train, cv=5, n_jobs=-1)\n",
    "forestCrossVal = cross_val_score(model1, transformed_X_train, y_train, cv=5, n_jobs=-1)\n",
    "treeCrossVal = cross_val_score(model2, transformed_X_train, y_train, cv=5, n_jobs=-1)\n",
    "logRegCrossVal = cross_val_score(model3, transformed_X_train, y_train, cv=5, n_jobs=-1)"
   ],
   "id": "598d566e74f30d48",
   "outputs": [],
   "execution_count": 12
  },
  {
   "metadata": {
    "ExecuteTime": {
     "end_time": "2024-11-17T17:37:28.133076Z",
     "start_time": "2024-11-17T17:37:28.127594Z"
    }
   },
   "cell_type": "code",
   "source": [
    "print(f\"\"\"Voting classifier: {votingCrossVal.mean()}\n",
    "Random forest: {forestCrossVal.mean()}\n",
    "Decision tree: {treeCrossVal.mean()}\n",
    "Logistic regression: {logRegCrossVal.mean()}\"\"\")"
   ],
   "id": "6a9c65d64dd2c420",
   "outputs": [
    {
     "name": "stdout",
     "output_type": "stream",
     "text": [
      "Voting classifier: 0.9217496962332928\n",
      "Random forest: 0.9263669501822601\n",
      "Decision tree: 0.9074929121101661\n",
      "Logistic regression: 0.9149453219927096\n"
     ]
    }
   ],
   "execution_count": 14
  },
  {
   "metadata": {},
   "cell_type": "markdown",
   "source": [
    "The results are as follows:  \n",
    "Voting classifier: 92.17% accuracy  \n",
    "Random forest: 92.64% accuracy  \n",
    "Decision tree: 90.75% accuracy  \n",
    "Logistic regression: 91.49% accuracy\n",
    "\n",
    "That only confirms our previous results that Random Forest is the best model for this dataset.  "
   ],
   "id": "81f8fa5539d17132"
  },
  {
   "metadata": {},
   "cell_type": "markdown",
   "source": "## 3-3D: Showcasing absence of overfitting for the best model",
   "id": "c76070fa77d7d1ea"
  },
  {
   "metadata": {},
   "cell_type": "markdown",
   "source": "The best model we have chosen is the Random Forest. We have already proven that it's not overfitting throughout the notebook, but we will redo the methods again to have it all in one place.",
   "id": "8ecc48880d04884d"
  },
  {
   "metadata": {},
   "cell_type": "markdown",
   "source": "### Learning curve",
   "id": "4b759c9fc7cf969c"
  },
  {
   "metadata": {
    "ExecuteTime": {
     "end_time": "2024-11-17T20:11:48.424985Z",
     "start_time": "2024-11-17T20:07:39.856056Z"
    }
   },
   "cell_type": "code",
   "source": [
    "accuracies_train = []\n",
    "accuracies_test = []\n",
    "for forest_depth in range(6, 23):\n",
    "    temp_forest = RandomForestClassifier(**{'criterion': 'entropy', 'max_depth': forest_depth, 'min_samples_split': 5, 'n_estimators': 150, 'random_state': 66})\n",
    "    temp_forest.fit(transformed_X_train, y_train)\n",
    "    y_pred = temp_forest.predict(transformed_X_test)\n",
    "    y_pred_train = temp_forest.predict(transformed_X_train)\n",
    "    accuracies_train.append(accuracy_score(y_train, y_pred_train))\n",
    "    accuracies_test.append(accuracy_score(y_test, y_pred))"
   ],
   "id": "209178d363848af9",
   "outputs": [],
   "execution_count": 74
  },
  {
   "metadata": {
    "ExecuteTime": {
     "end_time": "2024-11-17T20:13:27.527415Z",
     "start_time": "2024-11-17T20:13:27.208430Z"
    }
   },
   "cell_type": "code",
   "source": [
    "plt.plot(range(6, 23), accuracies_test, label='Testing')\n",
    "plt.plot(range(6, 23), accuracies_train, label='Training')\n",
    "plt.xlabel('Depth')\n",
    "plt.ylabel('Accuracy')\n",
    "plt.title('Testing vs Training accuracy')\n",
    "plt.legend()\n",
    "plt.show()\n",
    "plt.plot(range(6, 23), accuracies_test, label='Testing')\n",
    "plt.xlabel('Depth')\n",
    "plt.ylabel('Accuracy')\n",
    "plt.title('Testing accuracy')\n",
    "plt.show()"
   ],
   "id": "18e1e452603f579f",
   "outputs": [
    {
     "data": {
      "text/plain": [
       "<Figure size 640x480 with 1 Axes>"
      ],
      "image/png": "[encoded data removed]"
     },
     "metadata": {},
     "output_type": "display_data"
    },
    {
     "data": {
      "text/plain": [
       "<Figure size 640x480 with 1 Axes>"
      ],
      "image/png": "[encoded data removed]"
     },
     "metadata": {},
     "output_type": "display_data"
    }
   ],
   "execution_count": 78
  },
  {
   "metadata": {},
   "cell_type": "markdown",
   "source": "From the graph, we can see that the accuracy is growing way faster in the training dataset than in the testing dataset, which is usually a sign of overfitting, but the testing accuracy is still rising, peaking at 16.",
   "id": "5f5df5ffd565335a"
  },
  {
   "metadata": {},
   "cell_type": "markdown",
   "source": "### Validating on unseen data",
   "id": "85f3ba8edb70241f"
  },
  {
   "metadata": {},
   "cell_type": "markdown",
   "source": "When we run predictions on the testing data, we can see that the accuracy isn't much different from the training data. It's slightly lower, but that's to be expected. ",
   "id": "c686f5f1c57ed28f"
  },
  {
   "metadata": {
    "ExecuteTime": {
     "end_time": "2024-11-17T20:16:51.538539Z",
     "start_time": "2024-11-17T20:16:34.912326Z"
    }
   },
   "cell_type": "code",
   "source": [
    "forest = RandomForestClassifier(**{'criterion': 'entropy', 'max_depth': 16, 'min_samples_split': 5, 'n_estimators': 150, 'random_state': 66})\n",
    "forest.fit(transformed_X_train, y_train)\n",
    "y_pred = forest.predict(transformed_X_test)\n",
    "y_pred_train = forest.predict(transformed_X_train)\n",
    "show_metrics(y_pred_train, y_pred, y_train, y_test)"
   ],
   "id": "ef276013ffe0ca2e",
   "outputs": [
    {
     "data": {
      "text/plain": [
       "                       Train      Test\n",
       "Precision True      0.977294  0.922797\n",
       "Precision False     0.946532  0.924471\n",
       "Precision Weighted  0.957910  0.923839\n",
       "Recall True         0.987659  0.955752\n",
       "Recall False        0.904950  0.871355\n",
       "Recall Weighted     0.957068  0.923874\n",
       "Accuracy            0.957068  0.923874"
      ],
      "text/html": [
       "<div>\n",
       "<style scoped>\n",
       "    .dataframe tbody tr th:only-of-type {\n",
       "        vertical-align: middle;\n",
       "    }\n",
       "\n",
       "    .dataframe tbody tr th {\n",
       "        vertical-align: top;\n",
       "    }\n",
       "\n",
       "    .dataframe thead th {\n",
       "        text-align: right;\n",
       "    }\n",
       "</style>\n",
       "<table border=\"1\" class=\"dataframe\">\n",
       "  <thead>\n",
       "    <tr style=\"text-align: right;\">\n",
       "      <th></th>\n",
       "      <th>Train</th>\n",
       "      <th>Test</th>\n",
       "    </tr>\n",
       "  </thead>\n",
       "  <tbody>\n",
       "    <tr>\n",
       "      <th>Precision True</th>\n",
       "      <td>0.977294</td>\n",
       "      <td>0.922797</td>\n",
       "    </tr>\n",
       "    <tr>\n",
       "      <th>Precision False</th>\n",
       "      <td>0.946532</td>\n",
       "      <td>0.924471</td>\n",
       "    </tr>\n",
       "    <tr>\n",
       "      <th>Precision Weighted</th>\n",
       "      <td>0.957910</td>\n",
       "      <td>0.923839</td>\n",
       "    </tr>\n",
       "    <tr>\n",
       "      <th>Recall True</th>\n",
       "      <td>0.987659</td>\n",
       "      <td>0.955752</td>\n",
       "    </tr>\n",
       "    <tr>\n",
       "      <th>Recall False</th>\n",
       "      <td>0.904950</td>\n",
       "      <td>0.871355</td>\n",
       "    </tr>\n",
       "    <tr>\n",
       "      <th>Recall Weighted</th>\n",
       "      <td>0.957068</td>\n",
       "      <td>0.923874</td>\n",
       "    </tr>\n",
       "    <tr>\n",
       "      <th>Accuracy</th>\n",
       "      <td>0.957068</td>\n",
       "      <td>0.923874</td>\n",
       "    </tr>\n",
       "  </tbody>\n",
       "</table>\n",
       "</div>"
      ]
     },
     "execution_count": 79,
     "metadata": {},
     "output_type": "execute_result"
    }
   ],
   "execution_count": 79
  },
  {
   "metadata": {},
   "cell_type": "markdown",
   "source": "### Cross validation",
   "id": "5525f7fab9ecd8f7"
  },
  {
   "metadata": {
    "ExecuteTime": {
     "end_time": "2024-11-17T20:18:57.760144Z",
     "start_time": "2024-11-17T20:18:40.511664Z"
    }
   },
   "cell_type": "code",
   "source": [
    "forestCrossVal = cross_val_score(forest, transformed_X_train, y_train, cv=5, n_jobs=-1)\n",
    "forestCrossVal.mean()"
   ],
   "id": "97c42c9ebc3388a0",
   "outputs": [
    {
     "data": {
      "text/plain": [
       "0.9261239368165249"
      ]
     },
     "execution_count": 80,
     "metadata": {},
     "output_type": "execute_result"
    }
   ],
   "execution_count": 80
  },
  {
   "metadata": {},
   "cell_type": "markdown",
   "source": "We can see fairly high accuracy in the cross validation, which is a good sign that the model is generalizing well.",
   "id": "41727482070157f4"
  },
  {
   "metadata": {},
   "cell_type": "markdown",
   "source": [
    "### Measures taken to prevent overfitting\n",
    "We have taken several measures to prevent overfitting:  \n",
    "- Limiting the depth of the tree\n",
    "- Using ensemble methods, which are less prone to overfitting"
   ],
   "id": "3709de9ac0644de2"
  },
  {
   "metadata": {},
   "cell_type": "markdown",
   "source": "# 3-4: Summary",
   "id": "1cda63c9314df1a4"
  },
  {
   "metadata": {},
   "cell_type": "markdown",
   "source": [
    "## 3-4A: Handling Null Values and Outliers\n",
    "Our way of dealing with these was to impute neutral values for null values and clip outliers to 1.5IQR distance from 1st and 3rd quartile.  \n",
    "Let's see if it was a good decision. "
   ],
   "id": "2e41a417819281bf"
  },
  {
   "metadata": {},
   "cell_type": "markdown",
   "source": "First we get the data without our preprocessing.",
   "id": "78ec6342e0d02afc"
  },
  {
   "metadata": {
    "ExecuteTime": {
     "end_time": "2024-11-17T20:31:12.616921Z",
     "start_time": "2024-11-17T20:31:12.500642Z"
    }
   },
   "cell_type": "code",
   "source": [
    "unmodified_data = iterative_reformat(pd.read_csv('data/connections.csv', sep='\\t', keep_default_na=False, na_values=''), \n",
    "                           pd.read_csv('data/processes.csv', sep='\\t', keep_default_na=False, na_values=''), do_clean=False)\n",
    "unmodified_X_train, unmodified_X_test, unmodified_y_train, unmodified_y_test = train_test_split(unmodified_data.drop(columns=['mwra']), unmodified_data['mwra'], test_size=0.2, random_state=69)"
   ],
   "id": "397e4cb0bfd25ab1",
   "outputs": [],
   "execution_count": 87
  },
  {
   "metadata": {},
   "cell_type": "markdown",
   "source": "We test the best model on the unmodified data and compare the results.",
   "id": "5ba6df0caf78e993"
  },
  {
   "metadata": {
    "ExecuteTime": {
     "end_time": "2024-11-17T20:32:53.960587Z",
     "start_time": "2024-11-17T20:32:37.439692Z"
    }
   },
   "cell_type": "code",
   "source": [
    "forest = RandomForestClassifier(**{'criterion': 'entropy', 'max_depth': 16, 'min_samples_split': 5, 'n_estimators': 150, 'random_state': 66})\n",
    "forest.fit(unmodified_X_train, unmodified_y_train)\n",
    "y_pred = forest.predict(unmodified_X_test)\n",
    "y_pred_train = forest.predict(unmodified_X_train)\n",
    "show_metrics(y_pred_train, y_pred, unmodified_y_train, unmodified_y_test)"
   ],
   "id": "4c23c2187e3ca6a0",
   "outputs": [
    {
     "data": {
      "text/plain": [
       "                       Train      Test\n",
       "Precision True      0.977499  0.922727\n",
       "Precision False     0.945956  0.924006\n",
       "Precision Weighted  0.957623  0.923523\n",
       "Recall True         0.987788  0.955752\n",
       "Recall False        0.903855  0.870497\n",
       "Recall Weighted     0.956744  0.923550\n",
       "Accuracy            0.956744  0.923550"
      ],
      "text/html": [
       "<div>\n",
       "<style scoped>\n",
       "    .dataframe tbody tr th:only-of-type {\n",
       "        vertical-align: middle;\n",
       "    }\n",
       "\n",
       "    .dataframe tbody tr th {\n",
       "        vertical-align: top;\n",
       "    }\n",
       "\n",
       "    .dataframe thead th {\n",
       "        text-align: right;\n",
       "    }\n",
       "</style>\n",
       "<table border=\"1\" class=\"dataframe\">\n",
       "  <thead>\n",
       "    <tr style=\"text-align: right;\">\n",
       "      <th></th>\n",
       "      <th>Train</th>\n",
       "      <th>Test</th>\n",
       "    </tr>\n",
       "  </thead>\n",
       "  <tbody>\n",
       "    <tr>\n",
       "      <th>Precision True</th>\n",
       "      <td>0.977499</td>\n",
       "      <td>0.922727</td>\n",
       "    </tr>\n",
       "    <tr>\n",
       "      <th>Precision False</th>\n",
       "      <td>0.945956</td>\n",
       "      <td>0.924006</td>\n",
       "    </tr>\n",
       "    <tr>\n",
       "      <th>Precision Weighted</th>\n",
       "      <td>0.957623</td>\n",
       "      <td>0.923523</td>\n",
       "    </tr>\n",
       "    <tr>\n",
       "      <th>Recall True</th>\n",
       "      <td>0.987788</td>\n",
       "      <td>0.955752</td>\n",
       "    </tr>\n",
       "    <tr>\n",
       "      <th>Recall False</th>\n",
       "      <td>0.903855</td>\n",
       "      <td>0.870497</td>\n",
       "    </tr>\n",
       "    <tr>\n",
       "      <th>Recall Weighted</th>\n",
       "      <td>0.956744</td>\n",
       "      <td>0.923550</td>\n",
       "    </tr>\n",
       "    <tr>\n",
       "      <th>Accuracy</th>\n",
       "      <td>0.956744</td>\n",
       "      <td>0.923550</td>\n",
       "    </tr>\n",
       "  </tbody>\n",
       "</table>\n",
       "</div>"
      ]
     },
     "execution_count": 90,
     "metadata": {},
     "output_type": "execute_result"
    }
   ],
   "execution_count": 90
  },
  {
   "metadata": {},
   "cell_type": "markdown",
   "source": "The difference in accuracies of unmodified and modified data is only 0.03%, which is a very small difference, but the preprocessed ones are still slightly better. ",
   "id": "38c78ec289e8336a"
  },
  {
   "metadata": {},
   "cell_type": "markdown",
   "source": "Let's check a different way of managing null values and outliers to see if it would be better.",
   "id": "1c6645afc84c4b30"
  },
  {
   "metadata": {
    "ExecuteTime": {
     "end_time": "2024-11-17T20:43:19.262046Z",
     "start_time": "2024-11-17T20:43:19.051835Z"
    }
   },
   "cell_type": "code",
   "source": [
    "differently_modified_data = iterative_reformat(pd.read_csv('data/connections.csv', sep='\\t', keep_default_na=False, na_values=''),\n",
    "                                               pd.read_csv('data/processes.csv', sep='\\t', keep_default_na=False, na_values=''), do_clean=False)\n",
    "# drop rows with null values\n",
    "differently_modified_data.dropna(inplace=True)\n",
    "# drop rows with outliers\n",
    "for column in differently_modified_data.columns:\n",
    "    q1 = differently_modified_data[column].quantile(0.25)\n",
    "    q3 = differently_modified_data[column].quantile(0.75)\n",
    "    iqr = q3 - q1\n",
    "    differently_modified_data = differently_modified_data[(differently_modified_data[column] >= q1 - 1.5*iqr) & (differently_modified_data[column] <= q3 + 1.5*iqr)]\n",
    "    \n",
    "diff_mod_X_train, diff_mod_X_test, diff_mod_y_train, diff_mod_y_test = train_test_split(differently_modified_data.drop(columns=['mwra']), differently_modified_data['mwra'], test_size=0.2, random_state=69)"
   ],
   "id": "ee7a05e9bb08fa03",
   "outputs": [],
   "execution_count": 99
  },
  {
   "metadata": {
    "ExecuteTime": {
     "end_time": "2024-11-17T20:43:45.781448Z",
     "start_time": "2024-11-17T20:43:33.473032Z"
    }
   },
   "cell_type": "code",
   "source": [
    "forest = RandomForestClassifier(**{'criterion': 'entropy', 'max_depth': 16, 'min_samples_split': 5, 'n_estimators': 150, 'random_state': 66})\n",
    "forest.fit(diff_mod_X_train, diff_mod_y_train)\n",
    "y_pred = forest.predict(diff_mod_X_test)\n",
    "y_pred_train = forest.predict(diff_mod_X_train)\n",
    "show_metrics(y_pred_train, y_pred, diff_mod_y_train, diff_mod_y_test)"
   ],
   "id": "880a55d523cd071e",
   "outputs": [
    {
     "data": {
      "text/plain": [
       "                       Train      Test\n",
       "Precision True      0.981829  0.914579\n",
       "Precision False     0.948852  0.925826\n",
       "Precision Weighted  0.961273  0.921477\n",
       "Recall True         0.989805  0.948204\n",
       "Recall False        0.911699  0.879518\n",
       "Recall Weighted     0.960386  0.921643\n",
       "Accuracy            0.960386  0.921643"
      ],
      "text/html": [
       "<div>\n",
       "<style scoped>\n",
       "    .dataframe tbody tr th:only-of-type {\n",
       "        vertical-align: middle;\n",
       "    }\n",
       "\n",
       "    .dataframe tbody tr th {\n",
       "        vertical-align: top;\n",
       "    }\n",
       "\n",
       "    .dataframe thead th {\n",
       "        text-align: right;\n",
       "    }\n",
       "</style>\n",
       "<table border=\"1\" class=\"dataframe\">\n",
       "  <thead>\n",
       "    <tr style=\"text-align: right;\">\n",
       "      <th></th>\n",
       "      <th>Train</th>\n",
       "      <th>Test</th>\n",
       "    </tr>\n",
       "  </thead>\n",
       "  <tbody>\n",
       "    <tr>\n",
       "      <th>Precision True</th>\n",
       "      <td>0.981829</td>\n",
       "      <td>0.914579</td>\n",
       "    </tr>\n",
       "    <tr>\n",
       "      <th>Precision False</th>\n",
       "      <td>0.948852</td>\n",
       "      <td>0.925826</td>\n",
       "    </tr>\n",
       "    <tr>\n",
       "      <th>Precision Weighted</th>\n",
       "      <td>0.961273</td>\n",
       "      <td>0.921477</td>\n",
       "    </tr>\n",
       "    <tr>\n",
       "      <th>Recall True</th>\n",
       "      <td>0.989805</td>\n",
       "      <td>0.948204</td>\n",
       "    </tr>\n",
       "    <tr>\n",
       "      <th>Recall False</th>\n",
       "      <td>0.911699</td>\n",
       "      <td>0.879518</td>\n",
       "    </tr>\n",
       "    <tr>\n",
       "      <th>Recall Weighted</th>\n",
       "      <td>0.960386</td>\n",
       "      <td>0.921643</td>\n",
       "    </tr>\n",
       "    <tr>\n",
       "      <th>Accuracy</th>\n",
       "      <td>0.960386</td>\n",
       "      <td>0.921643</td>\n",
       "    </tr>\n",
       "  </tbody>\n",
       "</table>\n",
       "</div>"
      ]
     },
     "execution_count": 100,
     "metadata": {},
     "output_type": "execute_result"
    }
   ],
   "execution_count": 100
  },
  {
   "metadata": {},
   "cell_type": "markdown",
   "source": "The accuracy of the model is 0.2% lower than the model with our preprocessing.",
   "id": "c9ade29f03952bd6"
  },
  {
   "metadata": {},
   "cell_type": "markdown",
   "source": [
    "#### Conclusion\n",
    "Our preprocessing was good, as it improved the accuracy of the model slightly."
   ],
   "id": "c10f12cde4a7627e"
  },
  {
   "metadata": {},
   "cell_type": "markdown",
   "source": "## 3-4B: Data transformation",
   "id": "13139a90b922686a"
  },
  {
   "metadata": {},
   "cell_type": "markdown",
   "source": "We used MinMaxScaler and QuantileTransformer for the data transformation. Let's see if it was a good decision.",
   "id": "f3af136739483616"
  },
  {
   "metadata": {
    "ExecuteTime": {
     "end_time": "2024-11-17T21:21:54.492508Z",
     "start_time": "2024-11-17T21:21:37.954167Z"
    }
   },
   "cell_type": "code",
   "source": [
    "forest = RandomForestClassifier(**{'criterion': 'entropy', 'max_depth': 16, 'min_samples_split': 5, 'n_estimators': 150, 'random_state': 66})\n",
    "forest.fit(transformed_X_train, y_train)\n",
    "y_pred = forest.predict(transformed_X_test)\n",
    "y_pred_train = forest.predict(transformed_X_train)\n",
    "show_metrics(y_pred_train, y_pred, y_train, y_test)"
   ],
   "id": "40ff687d3459e770",
   "outputs": [
    {
     "data": {
      "text/plain": [
       "                       Train      Test\n",
       "Precision True      0.977294  0.923636\n",
       "Precision False     0.946532  0.924509\n",
       "Precision Weighted  0.957910  0.924180\n",
       "Recall True         0.987659  0.956273\n",
       "Recall False        0.904950  0.871355\n",
       "Recall Weighted     0.957068  0.924198\n",
       "Accuracy            0.957068  0.924198"
      ],
      "text/html": [
       "<div>\n",
       "<style scoped>\n",
       "    .dataframe tbody tr th:only-of-type {\n",
       "        vertical-align: middle;\n",
       "    }\n",
       "\n",
       "    .dataframe tbody tr th {\n",
       "        vertical-align: top;\n",
       "    }\n",
       "\n",
       "    .dataframe thead th {\n",
       "        text-align: right;\n",
       "    }\n",
       "</style>\n",
       "<table border=\"1\" class=\"dataframe\">\n",
       "  <thead>\n",
       "    <tr style=\"text-align: right;\">\n",
       "      <th></th>\n",
       "      <th>Train</th>\n",
       "      <th>Test</th>\n",
       "    </tr>\n",
       "  </thead>\n",
       "  <tbody>\n",
       "    <tr>\n",
       "      <th>Precision True</th>\n",
       "      <td>0.977294</td>\n",
       "      <td>0.923636</td>\n",
       "    </tr>\n",
       "    <tr>\n",
       "      <th>Precision False</th>\n",
       "      <td>0.946532</td>\n",
       "      <td>0.924509</td>\n",
       "    </tr>\n",
       "    <tr>\n",
       "      <th>Precision Weighted</th>\n",
       "      <td>0.957910</td>\n",
       "      <td>0.924180</td>\n",
       "    </tr>\n",
       "    <tr>\n",
       "      <th>Recall True</th>\n",
       "      <td>0.987659</td>\n",
       "      <td>0.956273</td>\n",
       "    </tr>\n",
       "    <tr>\n",
       "      <th>Recall False</th>\n",
       "      <td>0.904950</td>\n",
       "      <td>0.871355</td>\n",
       "    </tr>\n",
       "    <tr>\n",
       "      <th>Recall Weighted</th>\n",
       "      <td>0.957068</td>\n",
       "      <td>0.924198</td>\n",
       "    </tr>\n",
       "    <tr>\n",
       "      <th>Accuracy</th>\n",
       "      <td>0.957068</td>\n",
       "      <td>0.924198</td>\n",
       "    </tr>\n",
       "  </tbody>\n",
       "</table>\n",
       "</div>"
      ]
     },
     "execution_count": 120,
     "metadata": {},
     "output_type": "execute_result"
    }
   ],
   "execution_count": 120
  },
  {
   "metadata": {
    "ExecuteTime": {
     "end_time": "2024-11-17T21:22:33.861684Z",
     "start_time": "2024-11-17T21:22:17.168036Z"
    }
   },
   "cell_type": "code",
   "source": [
    "forest = RandomForestClassifier(**{'criterion': 'entropy', 'max_depth': 16, 'min_samples_split': 5, 'n_estimators': 150, 'random_state': 66})\n",
    "forest.fit(X_train, y_train)\n",
    "y_pred = forest.predict(X_test)\n",
    "y_pred_train = forest.predict(X_train)\n",
    "show_metrics(y_pred_train, y_pred, y_train, y_test)"
   ],
   "id": "1c5a2e27bc191172",
   "outputs": [
    {
     "data": {
      "text/plain": [
       "                       Train      Test\n",
       "Precision True      0.977300  0.923636\n",
       "Precision False     0.946649  0.924509\n",
       "Precision Weighted  0.957985  0.924180\n",
       "Recall True         0.987659  0.956273\n",
       "Recall False        0.905169  0.871355\n",
       "Recall Weighted     0.957149  0.924198\n",
       "Accuracy            0.957149  0.924198"
      ],
      "text/html": [
       "<div>\n",
       "<style scoped>\n",
       "    .dataframe tbody tr th:only-of-type {\n",
       "        vertical-align: middle;\n",
       "    }\n",
       "\n",
       "    .dataframe tbody tr th {\n",
       "        vertical-align: top;\n",
       "    }\n",
       "\n",
       "    .dataframe thead th {\n",
       "        text-align: right;\n",
       "    }\n",
       "</style>\n",
       "<table border=\"1\" class=\"dataframe\">\n",
       "  <thead>\n",
       "    <tr style=\"text-align: right;\">\n",
       "      <th></th>\n",
       "      <th>Train</th>\n",
       "      <th>Test</th>\n",
       "    </tr>\n",
       "  </thead>\n",
       "  <tbody>\n",
       "    <tr>\n",
       "      <th>Precision True</th>\n",
       "      <td>0.977300</td>\n",
       "      <td>0.923636</td>\n",
       "    </tr>\n",
       "    <tr>\n",
       "      <th>Precision False</th>\n",
       "      <td>0.946649</td>\n",
       "      <td>0.924509</td>\n",
       "    </tr>\n",
       "    <tr>\n",
       "      <th>Precision Weighted</th>\n",
       "      <td>0.957985</td>\n",
       "      <td>0.924180</td>\n",
       "    </tr>\n",
       "    <tr>\n",
       "      <th>Recall True</th>\n",
       "      <td>0.987659</td>\n",
       "      <td>0.956273</td>\n",
       "    </tr>\n",
       "    <tr>\n",
       "      <th>Recall False</th>\n",
       "      <td>0.905169</td>\n",
       "      <td>0.871355</td>\n",
       "    </tr>\n",
       "    <tr>\n",
       "      <th>Recall Weighted</th>\n",
       "      <td>0.957149</td>\n",
       "      <td>0.924198</td>\n",
       "    </tr>\n",
       "    <tr>\n",
       "      <th>Accuracy</th>\n",
       "      <td>0.957149</td>\n",
       "      <td>0.924198</td>\n",
       "    </tr>\n",
       "  </tbody>\n",
       "</table>\n",
       "</div>"
      ]
     },
     "execution_count": 121,
     "metadata": {},
     "output_type": "execute_result"
    }
   ],
   "execution_count": 121
  },
  {
   "metadata": {},
   "cell_type": "markdown",
   "source": "We can see untransformed data has slightly higher accuracy than transformed ones, but only on training data, on testing data, the accuracy is the same.",
   "id": "aea1a1aaee276796"
  },
  {
   "metadata": {},
   "cell_type": "markdown",
   "source": "We can check if any other transformation will yield better results.",
   "id": "a62a45096f358112"
  },
  {
   "metadata": {
    "ExecuteTime": {
     "end_time": "2024-11-17T21:14:19.840205Z",
     "start_time": "2024-11-17T21:03:11.551998Z"
    }
   },
   "cell_type": "code",
   "source": [
    "pipeline = Pipeline([\n",
    "    ('scaler1', None),\n",
    "    ('scaler2', None),\n",
    "    ('transformer1', None),\n",
    "    ('transformer2', None),\n",
    "    ('predictor', RandomForestClassifier(**{'criterion': 'entropy', 'max_depth': 16, 'min_samples_split': 5, 'n_estimators': 150, 'random_state': 66}))\n",
    "])\n",
    "\n",
    "param_grid = {\n",
    "    'scaler1': [MinMaxScaler(), StandardScaler(), PowerTransformer(), None],\n",
    "    'scaler2': [MinMaxScaler(), StandardScaler(), PowerTransformer(), None],\n",
    "    'transformer1': [QuantileTransformer(output_distribution='normal'), QuantileTransformer(output_distribution='uniform'), PowerTransformer(), None],\n",
    "    'transformer2': [QuantileTransformer(output_distribution='normal'), QuantileTransformer(output_distribution='uniform'), PowerTransformer(), None]\n",
    "}\n",
    "\n",
    "grid_search = GridSearchCV(pipeline, param_grid, cv=5, verbose=True, n_jobs=-1)\n",
    "grid_search.fit(X_train, y_train)\n",
    "grid_search.best_params_"
   ],
   "id": "34252753abc08bae",
   "outputs": [
    {
     "name": "stdout",
     "output_type": "stream",
     "text": [
      "Fitting 5 folds for each of 256 candidates, totalling 1280 fits\n"
     ]
    },
    {
     "data": {
      "text/plain": [
       "{'scaler1': MinMaxScaler(),\n",
       " 'scaler2': MinMaxScaler(),\n",
       " 'transformer1': QuantileTransformer(output_distribution='normal'),\n",
       " 'transformer2': QuantileTransformer(output_distribution='normal')}"
      ]
     },
     "execution_count": 112,
     "metadata": {},
     "output_type": "execute_result"
    }
   ],
   "execution_count": 112
  },
  {
   "metadata": {
    "ExecuteTime": {
     "end_time": "2024-11-17T21:23:25.833656Z",
     "start_time": "2024-11-17T21:23:25.268835Z"
    }
   },
   "cell_type": "code",
   "source": [
    "best_pipeline = grid_search.best_estimator_\n",
    "y_pred = best_pipeline.predict(X_test)\n",
    "y_pred_train = best_pipeline.predict(X_train)\n",
    "show_metrics(y_pred_train, y_pred, y_train, y_test)"
   ],
   "id": "af69c66241c72b9b",
   "outputs": [
    {
     "data": {
      "text/plain": [
       "                       Train      Test\n",
       "Precision True      0.977525  0.923636\n",
       "Precision False     0.946539  0.924509\n",
       "Precision Weighted  0.958000  0.924180\n",
       "Recall True         0.987788  0.956273\n",
       "Recall False        0.904950  0.871355\n",
       "Recall Weighted     0.957149  0.924198\n",
       "Accuracy            0.957149  0.924198"
      ],
      "text/html": [
       "<div>\n",
       "<style scoped>\n",
       "    .dataframe tbody tr th:only-of-type {\n",
       "        vertical-align: middle;\n",
       "    }\n",
       "\n",
       "    .dataframe tbody tr th {\n",
       "        vertical-align: top;\n",
       "    }\n",
       "\n",
       "    .dataframe thead th {\n",
       "        text-align: right;\n",
       "    }\n",
       "</style>\n",
       "<table border=\"1\" class=\"dataframe\">\n",
       "  <thead>\n",
       "    <tr style=\"text-align: right;\">\n",
       "      <th></th>\n",
       "      <th>Train</th>\n",
       "      <th>Test</th>\n",
       "    </tr>\n",
       "  </thead>\n",
       "  <tbody>\n",
       "    <tr>\n",
       "      <th>Precision True</th>\n",
       "      <td>0.977525</td>\n",
       "      <td>0.923636</td>\n",
       "    </tr>\n",
       "    <tr>\n",
       "      <th>Precision False</th>\n",
       "      <td>0.946539</td>\n",
       "      <td>0.924509</td>\n",
       "    </tr>\n",
       "    <tr>\n",
       "      <th>Precision Weighted</th>\n",
       "      <td>0.958000</td>\n",
       "      <td>0.924180</td>\n",
       "    </tr>\n",
       "    <tr>\n",
       "      <th>Recall True</th>\n",
       "      <td>0.987788</td>\n",
       "      <td>0.956273</td>\n",
       "    </tr>\n",
       "    <tr>\n",
       "      <th>Recall False</th>\n",
       "      <td>0.904950</td>\n",
       "      <td>0.871355</td>\n",
       "    </tr>\n",
       "    <tr>\n",
       "      <th>Recall Weighted</th>\n",
       "      <td>0.957149</td>\n",
       "      <td>0.924198</td>\n",
       "    </tr>\n",
       "    <tr>\n",
       "      <th>Accuracy</th>\n",
       "      <td>0.957149</td>\n",
       "      <td>0.924198</td>\n",
       "    </tr>\n",
       "  </tbody>\n",
       "</table>\n",
       "</div>"
      ]
     },
     "execution_count": 122,
     "metadata": {},
     "output_type": "execute_result"
    }
   ],
   "execution_count": 122
  },
  {
   "metadata": {},
   "cell_type": "markdown",
   "source": [
    "The best pipeline we found has the same accuracy on both datasets as not using any transformation at all, with other metrics also changed only very slightly.  \n",
    "The testing dataset accuracy remained the same across all methods, so we might as well use the simplest unporcessed data."
   ],
   "id": "36e5856c96ba5c7b"
  },
  {
   "metadata": {},
   "cell_type": "markdown",
   "source": "## 3-4C: Feature selection, algorithm choices, hyperparameter tuning and ensemble learning",
   "id": "55da9ab0f662e806"
  },
  {
   "metadata": {},
   "cell_type": "markdown",
   "source": [
    "### Feature selection\n",
    "For feature selection, we haven't been using any methods as the tree algorithms (be it ID3, DecisionTreeClassifier and Random Forest) were seleccting the best features themselves."
   ],
   "id": "e7a0594c2d9b3a3a"
  },
  {
   "metadata": {
    "ExecuteTime": {
     "end_time": "2024-11-17T21:36:12.825278Z",
     "start_time": "2024-11-17T21:36:00.737399Z"
    }
   },
   "cell_type": "code",
   "source": [
    "feature_selector = SelectKBest(mutual_info_classif, k=10)\n",
    "best_features = feature_selector.fit_transform(X_train, y_train)\n",
    "test_features = feature_selector.transform(X_test)\n",
    "forest = RandomForestClassifier(**{'criterion': 'entropy', 'max_depth': 16, 'min_samples_split': 5, 'n_estimators': 150, 'random_state': 66})\n",
    "forest.fit(best_features, y_train)\n",
    "y_pred = forest.predict(test_features)\n",
    "y_pred_train = forest.predict(best_features)\n",
    "show_metrics(y_pred_train, y_pred, y_train, y_test)"
   ],
   "id": "e4152a6cd8ad271b",
   "outputs": [
    {
     "data": {
      "text/plain": [
       "                       Train      Test\n",
       "Precision True      0.960517  0.922727\n",
       "Precision False     0.940791  0.924006\n",
       "Precision Weighted  0.948087  0.923523\n",
       "Recall True         0.978403  0.955752\n",
       "Recall False        0.895094  0.870497\n",
       "Recall Weighted     0.947590  0.923550\n",
       "Accuracy            0.947590  0.923550"
      ],
      "text/html": [
       "<div>\n",
       "<style scoped>\n",
       "    .dataframe tbody tr th:only-of-type {\n",
       "        vertical-align: middle;\n",
       "    }\n",
       "\n",
       "    .dataframe tbody tr th {\n",
       "        vertical-align: top;\n",
       "    }\n",
       "\n",
       "    .dataframe thead th {\n",
       "        text-align: right;\n",
       "    }\n",
       "</style>\n",
       "<table border=\"1\" class=\"dataframe\">\n",
       "  <thead>\n",
       "    <tr style=\"text-align: right;\">\n",
       "      <th></th>\n",
       "      <th>Train</th>\n",
       "      <th>Test</th>\n",
       "    </tr>\n",
       "  </thead>\n",
       "  <tbody>\n",
       "    <tr>\n",
       "      <th>Precision True</th>\n",
       "      <td>0.960517</td>\n",
       "      <td>0.922727</td>\n",
       "    </tr>\n",
       "    <tr>\n",
       "      <th>Precision False</th>\n",
       "      <td>0.940791</td>\n",
       "      <td>0.924006</td>\n",
       "    </tr>\n",
       "    <tr>\n",
       "      <th>Precision Weighted</th>\n",
       "      <td>0.948087</td>\n",
       "      <td>0.923523</td>\n",
       "    </tr>\n",
       "    <tr>\n",
       "      <th>Recall True</th>\n",
       "      <td>0.978403</td>\n",
       "      <td>0.955752</td>\n",
       "    </tr>\n",
       "    <tr>\n",
       "      <th>Recall False</th>\n",
       "      <td>0.895094</td>\n",
       "      <td>0.870497</td>\n",
       "    </tr>\n",
       "    <tr>\n",
       "      <th>Recall Weighted</th>\n",
       "      <td>0.947590</td>\n",
       "      <td>0.923550</td>\n",
       "    </tr>\n",
       "    <tr>\n",
       "      <th>Accuracy</th>\n",
       "      <td>0.947590</td>\n",
       "      <td>0.923550</td>\n",
       "    </tr>\n",
       "  </tbody>\n",
       "</table>\n",
       "</div>"
      ]
     },
     "execution_count": 124,
     "metadata": {},
     "output_type": "execute_result"
    }
   ],
   "execution_count": 124
  },
  {
   "metadata": {},
   "cell_type": "markdown",
   "source": "As we see, the accuracy only got lower, as the estimator had fewer features to choose from at each split. ",
   "id": "94964401a965bbb6"
  },
  {
   "metadata": {},
   "cell_type": "markdown",
   "source": [
    "### Algorithm choices\n",
    "We have tested 4 different algorithms: DecisionTreeClassifier, LogisticRegression, RandomForestClassifier and VotingClassifier(combining the previous three + GradientBoostingClassifier).  \n",
    "We compared by multiple metrics and we've seen that Random Forest is the best model for this dataset."
   ],
   "id": "218b3b424f97e6ba"
  },
  {
   "metadata": {},
   "cell_type": "markdown",
   "source": [
    "### Hyperparameter tuning\n",
    "We have done hyperparameter tuning for all the models. In Logistic Regression, it didn't improve the model, but in the tree algorithms, it improved the models by a noticeable amount. We have tested a lot of combinations in Grid Search for all of the models."
   ],
   "id": "af0425d878703fb9"
  },
  {
   "metadata": {},
   "cell_type": "markdown",
   "source": [
    "### Ensemble learning\n",
    "We have tested Random Forest and Voting Classifier. Both a few percent upgrade compared to individual models. Random Forest outperformed the Voting Classifier by 0.3% (0.7% if we couldn't use the Random Forest in the Voting Classifier)."
   ],
   "id": "f9e088eb5ab7e8f8"
  },
  {
   "metadata": {},
   "cell_type": "markdown",
   "source": "## 3-4D: Choosing the best model",
   "id": "942dab9056350e57"
  },
  {
   "metadata": {},
   "cell_type": "markdown",
   "source": "As mentioned many times, we have confidently chosen Random Forest as the best model for this dataset. It has the highest accuracy and other metrics, and is the most robust to prevent overfitting.",
   "id": "ee79d2d6ea9df1f9"
  },
  {
   "metadata": {},
   "cell_type": "markdown",
   "source": "## 3-4E: Production pipeline",
   "id": "181e6bfb1bb67bc0"
  },
  {
   "metadata": {},
   "cell_type": "markdown",
   "source": "As we use no transformations and no feature selection, the pipeline is very simple with only the estimator. We only need to train the model and save it. We assume the iteration_reformat function is already called on the data and the pipeline receives a combined dataframe X_test.",
   "id": "61395a5b56cced21"
  },
  {
   "metadata": {
    "ExecuteTime": {
     "end_time": "2024-11-17T22:01:39.337872Z",
     "start_time": "2024-11-17T22:01:23.099700Z"
    }
   },
   "cell_type": "code",
   "source": [
    "import joblib\n",
    "\n",
    "pipeline = Pipeline([\n",
    "    ('estimator', RandomForestClassifier(**{'criterion': 'entropy', 'max_depth': 16, 'min_samples_split': 5, 'n_estimators': 150, 'random_state': 66}))\n",
    "])\n",
    "\n",
    "pipeline.fit(X_train, y_train)\n",
    "joblib.dump(pipeline, 'pipeline.pkl')"
   ],
   "id": "1ded767779d02591",
   "outputs": [
    {
     "data": {
      "text/plain": [
       "['pipeline.pkl']"
      ]
     },
     "execution_count": 126,
     "metadata": {},
     "output_type": "execute_result"
    }
   ],
   "execution_count": 126
  }
 ],
 "metadata": {
  "kernelspec": {
   "display_name": "Python 3",
   "language": "python",
   "name": "python3"
  },
  "language_info": {
   "codemirror_mode": {
    "name": "ipython",
    "version": 2
   },
   "file_extension": ".py",
   "mimetype": "text/x-python",
   "name": "python",
   "nbconvert_exporter": "python",
   "pygments_lexer": "ipython2",
   "version": "2.7.6"
  }
 },
 "nbformat": 4,
 "nbformat_minor": 5
}
