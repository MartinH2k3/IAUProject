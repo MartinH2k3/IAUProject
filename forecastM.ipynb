{
 "cells": [
  {
   "cell_type": "code",
   "id": "initial_id",
   "metadata": {
    "collapsed": true,
    "ExecuteTime": {
     "end_time": "2024-11-30T11:42:29.452837Z",
     "start_time": "2024-11-30T11:42:29.347781Z"
    }
   },
   "source": [
    "# dataset\n",
    "import kagglehub\n",
    "import pandas as pd\n",
    "# visualization\n",
    "import seaborn as sns\n",
    "import matplotlib.pyplot as plt\n",
    "import matplotlib.ticker as mtick\n",
    "# analysis\n",
    "from sklearn.metrics import mean_squared_error\n",
    "import scipy.stats as stats\n",
    "# data preprocessing\n",
    "from sklearn.preprocessing import MinMaxScaler\n",
    "# machine learning\n",
    "from skopt import BayesSearchCV\n",
    "from sklearn.linear_model import LinearRegression\n",
    "from sklearn.ensemble import RandomForestRegressor\n",
    "# deep learning\n",
    "import tensorflow as tf\n",
    "from tensorflow.keras.layers import Dense, Dropout, Flatten, Input, LSTM\n",
    "from tensorflow.keras.models import Model\n",
    "from tensorflow.keras.optimizers import Adam\n",
    "from tensorflow.keras.preprocessing.sequence import TimeseriesGenerator"
   ],
   "outputs": [],
   "execution_count": 74
  },
  {
   "metadata": {},
   "cell_type": "markdown",
   "source": "# Final Assignment",
   "id": "b6c94ab001d9d143"
  },
  {
   "metadata": {},
   "cell_type": "markdown",
   "source": "First, download the dataset from Kaggle",
   "id": "b40cc2d8fb781a2c"
  },
  {
   "metadata": {
    "ExecuteTime": {
     "end_time": "2024-11-29T19:37:21.341731Z",
     "start_time": "2024-11-29T19:37:19.856069Z"
    }
   },
   "cell_type": "code",
   "source": [
    "import shutil\n",
    "path = kagglehub.dataset_download(\"aayushmishra1512/netflix-stock-data\")\n",
    "shutil.move(path+\"/NFLX.csv\", \"./data\")"
   ],
   "id": "70de4219eab4b936",
   "outputs": [
    {
     "data": {
      "text/plain": [
       "'./data\\\\NFLX.csv'"
      ]
     },
     "execution_count": 19,
     "metadata": {},
     "output_type": "execute_result"
    }
   ],
   "execution_count": 19
  },
  {
   "metadata": {},
   "cell_type": "markdown",
   "source": "After opening the file, we see it's a CSV file with only numerical values, meaning we don't need to change separator, default_na or anything.",
   "id": "38badc7a4b55c383"
  },
  {
   "metadata": {
    "ExecuteTime": {
     "end_time": "2024-11-30T11:15:10.325430Z",
     "start_time": "2024-11-30T11:15:10.313493Z"
    }
   },
   "cell_type": "code",
   "source": "nflx_stock = pd.read_csv(\"data/NFLX.csv\")",
   "id": "935539a9b9c71f24",
   "outputs": [],
   "execution_count": 59
  },
  {
   "metadata": {},
   "cell_type": "markdown",
   "source": "## EDA and Data preprocessing",
   "id": "14829aa3d9be82fd"
  },
  {
   "metadata": {},
   "cell_type": "markdown",
   "source": "### Data Overview",
   "id": "5f3533ba26f94f44"
  },
  {
   "metadata": {
    "ExecuteTime": {
     "end_time": "2024-11-29T19:37:40.808581Z",
     "start_time": "2024-11-29T19:37:40.795914Z"
    }
   },
   "cell_type": "code",
   "source": "nflx_stock.head()",
   "id": "fc36fc7c1a89dce5",
   "outputs": [
    {
     "data": {
      "text/plain": [
       "         Date      Open      High       Low     Close  Adj Close     Volume\n",
       "0  2002-05-23  1.156429  1.242857  1.145714  1.196429   1.196429  104790000\n",
       "1  2002-05-24  1.214286  1.225000  1.197143  1.210000   1.210000   11104800\n",
       "2  2002-05-28  1.213571  1.232143  1.157143  1.157143   1.157143    6609400\n",
       "3  2002-05-29  1.164286  1.164286  1.085714  1.103571   1.103571    6757800\n",
       "4  2002-05-30  1.107857  1.107857  1.071429  1.071429   1.071429   10154200"
      ],
      "text/html": [
       "<div>\n",
       "<style scoped>\n",
       "    .dataframe tbody tr th:only-of-type {\n",
       "        vertical-align: middle;\n",
       "    }\n",
       "\n",
       "    .dataframe tbody tr th {\n",
       "        vertical-align: top;\n",
       "    }\n",
       "\n",
       "    .dataframe thead th {\n",
       "        text-align: right;\n",
       "    }\n",
       "</style>\n",
       "<table border=\"1\" class=\"dataframe\">\n",
       "  <thead>\n",
       "    <tr style=\"text-align: right;\">\n",
       "      <th></th>\n",
       "      <th>Date</th>\n",
       "      <th>Open</th>\n",
       "      <th>High</th>\n",
       "      <th>Low</th>\n",
       "      <th>Close</th>\n",
       "      <th>Adj Close</th>\n",
       "      <th>Volume</th>\n",
       "    </tr>\n",
       "  </thead>\n",
       "  <tbody>\n",
       "    <tr>\n",
       "      <th>0</th>\n",
       "      <td>2002-05-23</td>\n",
       "      <td>1.156429</td>\n",
       "      <td>1.242857</td>\n",
       "      <td>1.145714</td>\n",
       "      <td>1.196429</td>\n",
       "      <td>1.196429</td>\n",
       "      <td>104790000</td>\n",
       "    </tr>\n",
       "    <tr>\n",
       "      <th>1</th>\n",
       "      <td>2002-05-24</td>\n",
       "      <td>1.214286</td>\n",
       "      <td>1.225000</td>\n",
       "      <td>1.197143</td>\n",
       "      <td>1.210000</td>\n",
       "      <td>1.210000</td>\n",
       "      <td>11104800</td>\n",
       "    </tr>\n",
       "    <tr>\n",
       "      <th>2</th>\n",
       "      <td>2002-05-28</td>\n",
       "      <td>1.213571</td>\n",
       "      <td>1.232143</td>\n",
       "      <td>1.157143</td>\n",
       "      <td>1.157143</td>\n",
       "      <td>1.157143</td>\n",
       "      <td>6609400</td>\n",
       "    </tr>\n",
       "    <tr>\n",
       "      <th>3</th>\n",
       "      <td>2002-05-29</td>\n",
       "      <td>1.164286</td>\n",
       "      <td>1.164286</td>\n",
       "      <td>1.085714</td>\n",
       "      <td>1.103571</td>\n",
       "      <td>1.103571</td>\n",
       "      <td>6757800</td>\n",
       "    </tr>\n",
       "    <tr>\n",
       "      <th>4</th>\n",
       "      <td>2002-05-30</td>\n",
       "      <td>1.107857</td>\n",
       "      <td>1.107857</td>\n",
       "      <td>1.071429</td>\n",
       "      <td>1.071429</td>\n",
       "      <td>1.071429</td>\n",
       "      <td>10154200</td>\n",
       "    </tr>\n",
       "  </tbody>\n",
       "</table>\n",
       "</div>"
      ]
     },
     "execution_count": 21,
     "metadata": {},
     "output_type": "execute_result"
    }
   ],
   "execution_count": 21
  },
  {
   "metadata": {
    "ExecuteTime": {
     "end_time": "2024-11-29T19:37:54.069752Z",
     "start_time": "2024-11-29T19:37:54.046661Z"
    }
   },
   "cell_type": "code",
   "source": "nflx_stock.describe()",
   "id": "788da1e54c59034e",
   "outputs": [
    {
     "data": {
      "text/plain": [
       "              Open         High          Low        Close    Adj Close  \\\n",
       "count  4581.000000  4581.000000  4581.000000  4581.000000  4581.000000   \n",
       "mean     78.031471    79.285690    76.736079    78.072056    78.072056   \n",
       "std     118.372084   120.276839   116.376768   118.435303   118.435303   \n",
       "min       0.377857     0.410714     0.346429     0.372857     0.372857   \n",
       "25%       3.778571     3.857143     3.685714     3.784286     3.784286   \n",
       "50%      15.392858    15.671429    14.970000    15.324286    15.324286   \n",
       "75%      97.830002    99.529999    96.760002    97.889999    97.889999   \n",
       "max     567.979980   575.369995   520.960022   548.729980   548.729980   \n",
       "\n",
       "             Volume  \n",
       "count  4.581000e+03  \n",
       "mean   1.760516e+07  \n",
       "std    1.971130e+07  \n",
       "min    2.856000e+05  \n",
       "25%    6.908900e+06  \n",
       "50%    1.155350e+07  \n",
       "75%    2.113440e+07  \n",
       "max    3.234140e+08  "
      ],
      "text/html": [
       "<div>\n",
       "<style scoped>\n",
       "    .dataframe tbody tr th:only-of-type {\n",
       "        vertical-align: middle;\n",
       "    }\n",
       "\n",
       "    .dataframe tbody tr th {\n",
       "        vertical-align: top;\n",
       "    }\n",
       "\n",
       "    .dataframe thead th {\n",
       "        text-align: right;\n",
       "    }\n",
       "</style>\n",
       "<table border=\"1\" class=\"dataframe\">\n",
       "  <thead>\n",
       "    <tr style=\"text-align: right;\">\n",
       "      <th></th>\n",
       "      <th>Open</th>\n",
       "      <th>High</th>\n",
       "      <th>Low</th>\n",
       "      <th>Close</th>\n",
       "      <th>Adj Close</th>\n",
       "      <th>Volume</th>\n",
       "    </tr>\n",
       "  </thead>\n",
       "  <tbody>\n",
       "    <tr>\n",
       "      <th>count</th>\n",
       "      <td>4581.000000</td>\n",
       "      <td>4581.000000</td>\n",
       "      <td>4581.000000</td>\n",
       "      <td>4581.000000</td>\n",
       "      <td>4581.000000</td>\n",
       "      <td>4.581000e+03</td>\n",
       "    </tr>\n",
       "    <tr>\n",
       "      <th>mean</th>\n",
       "      <td>78.031471</td>\n",
       "      <td>79.285690</td>\n",
       "      <td>76.736079</td>\n",
       "      <td>78.072056</td>\n",
       "      <td>78.072056</td>\n",
       "      <td>1.760516e+07</td>\n",
       "    </tr>\n",
       "    <tr>\n",
       "      <th>std</th>\n",
       "      <td>118.372084</td>\n",
       "      <td>120.276839</td>\n",
       "      <td>116.376768</td>\n",
       "      <td>118.435303</td>\n",
       "      <td>118.435303</td>\n",
       "      <td>1.971130e+07</td>\n",
       "    </tr>\n",
       "    <tr>\n",
       "      <th>min</th>\n",
       "      <td>0.377857</td>\n",
       "      <td>0.410714</td>\n",
       "      <td>0.346429</td>\n",
       "      <td>0.372857</td>\n",
       "      <td>0.372857</td>\n",
       "      <td>2.856000e+05</td>\n",
       "    </tr>\n",
       "    <tr>\n",
       "      <th>25%</th>\n",
       "      <td>3.778571</td>\n",
       "      <td>3.857143</td>\n",
       "      <td>3.685714</td>\n",
       "      <td>3.784286</td>\n",
       "      <td>3.784286</td>\n",
       "      <td>6.908900e+06</td>\n",
       "    </tr>\n",
       "    <tr>\n",
       "      <th>50%</th>\n",
       "      <td>15.392858</td>\n",
       "      <td>15.671429</td>\n",
       "      <td>14.970000</td>\n",
       "      <td>15.324286</td>\n",
       "      <td>15.324286</td>\n",
       "      <td>1.155350e+07</td>\n",
       "    </tr>\n",
       "    <tr>\n",
       "      <th>75%</th>\n",
       "      <td>97.830002</td>\n",
       "      <td>99.529999</td>\n",
       "      <td>96.760002</td>\n",
       "      <td>97.889999</td>\n",
       "      <td>97.889999</td>\n",
       "      <td>2.113440e+07</td>\n",
       "    </tr>\n",
       "    <tr>\n",
       "      <th>max</th>\n",
       "      <td>567.979980</td>\n",
       "      <td>575.369995</td>\n",
       "      <td>520.960022</td>\n",
       "      <td>548.729980</td>\n",
       "      <td>548.729980</td>\n",
       "      <td>3.234140e+08</td>\n",
       "    </tr>\n",
       "  </tbody>\n",
       "</table>\n",
       "</div>"
      ]
     },
     "execution_count": 22,
     "metadata": {},
     "output_type": "execute_result"
    }
   ],
   "execution_count": 22
  },
  {
   "metadata": {
    "ExecuteTime": {
     "end_time": "2024-11-29T19:38:09.436392Z",
     "start_time": "2024-11-29T19:38:09.425182Z"
    }
   },
   "cell_type": "code",
   "source": "nflx_stock.info()",
   "id": "716a2d92f5ddf146",
   "outputs": [
    {
     "name": "stdout",
     "output_type": "stream",
     "text": [
      "<class 'pandas.core.frame.DataFrame'>\n",
      "RangeIndex: 4581 entries, 0 to 4580\n",
      "Data columns (total 7 columns):\n",
      " #   Column     Non-Null Count  Dtype  \n",
      "---  ------     --------------  -----  \n",
      " 0   Date       4581 non-null   object \n",
      " 1   Open       4581 non-null   float64\n",
      " 2   High       4581 non-null   float64\n",
      " 3   Low        4581 non-null   float64\n",
      " 4   Close      4581 non-null   float64\n",
      " 5   Adj Close  4581 non-null   float64\n",
      " 6   Volume     4581 non-null   int64  \n",
      "dtypes: float64(5), int64(1), object(1)\n",
      "memory usage: 250.7+ KB\n"
     ]
    }
   ],
   "execution_count": 24
  },
  {
   "metadata": {
    "ExecuteTime": {
     "end_time": "2024-11-29T20:41:55.850453Z",
     "start_time": "2024-11-29T20:41:55.842498Z"
    }
   },
   "cell_type": "code",
   "source": "print(f\"There are {nflx_stock.shape[0] - nflx_stock.drop_duplicates().shape[0]} duplicates\")",
   "id": "f599c6b0e0675179",
   "outputs": [
    {
     "name": "stdout",
     "output_type": "stream",
     "text": [
      "There are 0 duplicates\n"
     ]
    }
   ],
   "execution_count": 26
  },
  {
   "metadata": {
    "ExecuteTime": {
     "end_time": "2024-11-29T20:42:07.590614Z",
     "start_time": "2024-11-29T20:42:07.585322Z"
    }
   },
   "cell_type": "code",
   "source": "print(f\"There are {nflx_stock.isna().sum().sum()} missing values\")",
   "id": "d7521941f552ef2d",
   "outputs": [
    {
     "name": "stdout",
     "output_type": "stream",
     "text": [
      "There are 0 missing values\n"
     ]
    }
   ],
   "execution_count": 27
  },
  {
   "metadata": {
    "ExecuteTime": {
     "end_time": "2024-11-30T11:15:14.659785Z",
     "start_time": "2024-11-30T11:15:14.649736Z"
    }
   },
   "cell_type": "code",
   "source": "nflx_stock[\"Date\"] = pd.to_datetime(nflx_stock[\"Date\"])",
   "id": "8eef87e19b123fdb",
   "outputs": [],
   "execution_count": 60
  },
  {
   "metadata": {},
   "cell_type": "markdown",
   "source": "In date column, we can see there are items only on weekdays. Presumably, because the stock market is closed on weekends. From this information, we can create a new column to indicate which day of the week it is. One might presume more fluctuation and higher volume on monday when market opens (we will ignore holidays for now). ",
   "id": "9ffa4b4f48375e6f"
  },
  {
   "metadata": {
    "ExecuteTime": {
     "end_time": "2024-11-30T11:13:11.996860Z",
     "start_time": "2024-11-30T11:13:11.992468Z"
    }
   },
   "cell_type": "code",
   "source": "nflx_stock[\"Weekday\"] = nflx_stock[\"Date\"].dt.weekday",
   "id": "67d04ff3b658634",
   "outputs": [],
   "execution_count": 55
  },
  {
   "metadata": {
    "ExecuteTime": {
     "end_time": "2024-11-29T20:47:27.458133Z",
     "start_time": "2024-11-29T20:47:27.447868Z"
    }
   },
   "cell_type": "code",
   "source": "nflx_stock.head()",
   "id": "f87aadd40107b263",
   "outputs": [
    {
     "data": {
      "text/plain": [
       "        Date      Open      High       Low     Close  Adj Close     Volume  \\\n",
       "0 2002-05-23  1.156429  1.242857  1.145714  1.196429   1.196429  104790000   \n",
       "1 2002-05-24  1.214286  1.225000  1.197143  1.210000   1.210000   11104800   \n",
       "2 2002-05-28  1.213571  1.232143  1.157143  1.157143   1.157143    6609400   \n",
       "3 2002-05-29  1.164286  1.164286  1.085714  1.103571   1.103571    6757800   \n",
       "4 2002-05-30  1.107857  1.107857  1.071429  1.071429   1.071429   10154200   \n",
       "\n",
       "   Weekday  \n",
       "0        3  \n",
       "1        4  \n",
       "2        1  \n",
       "3        2  \n",
       "4        3  "
      ],
      "text/html": [
       "<div>\n",
       "<style scoped>\n",
       "    .dataframe tbody tr th:only-of-type {\n",
       "        vertical-align: middle;\n",
       "    }\n",
       "\n",
       "    .dataframe tbody tr th {\n",
       "        vertical-align: top;\n",
       "    }\n",
       "\n",
       "    .dataframe thead th {\n",
       "        text-align: right;\n",
       "    }\n",
       "</style>\n",
       "<table border=\"1\" class=\"dataframe\">\n",
       "  <thead>\n",
       "    <tr style=\"text-align: right;\">\n",
       "      <th></th>\n",
       "      <th>Date</th>\n",
       "      <th>Open</th>\n",
       "      <th>High</th>\n",
       "      <th>Low</th>\n",
       "      <th>Close</th>\n",
       "      <th>Adj Close</th>\n",
       "      <th>Volume</th>\n",
       "      <th>Weekday</th>\n",
       "    </tr>\n",
       "  </thead>\n",
       "  <tbody>\n",
       "    <tr>\n",
       "      <th>0</th>\n",
       "      <td>2002-05-23</td>\n",
       "      <td>1.156429</td>\n",
       "      <td>1.242857</td>\n",
       "      <td>1.145714</td>\n",
       "      <td>1.196429</td>\n",
       "      <td>1.196429</td>\n",
       "      <td>104790000</td>\n",
       "      <td>3</td>\n",
       "    </tr>\n",
       "    <tr>\n",
       "      <th>1</th>\n",
       "      <td>2002-05-24</td>\n",
       "      <td>1.214286</td>\n",
       "      <td>1.225000</td>\n",
       "      <td>1.197143</td>\n",
       "      <td>1.210000</td>\n",
       "      <td>1.210000</td>\n",
       "      <td>11104800</td>\n",
       "      <td>4</td>\n",
       "    </tr>\n",
       "    <tr>\n",
       "      <th>2</th>\n",
       "      <td>2002-05-28</td>\n",
       "      <td>1.213571</td>\n",
       "      <td>1.232143</td>\n",
       "      <td>1.157143</td>\n",
       "      <td>1.157143</td>\n",
       "      <td>1.157143</td>\n",
       "      <td>6609400</td>\n",
       "      <td>1</td>\n",
       "    </tr>\n",
       "    <tr>\n",
       "      <th>3</th>\n",
       "      <td>2002-05-29</td>\n",
       "      <td>1.164286</td>\n",
       "      <td>1.164286</td>\n",
       "      <td>1.085714</td>\n",
       "      <td>1.103571</td>\n",
       "      <td>1.103571</td>\n",
       "      <td>6757800</td>\n",
       "      <td>2</td>\n",
       "    </tr>\n",
       "    <tr>\n",
       "      <th>4</th>\n",
       "      <td>2002-05-30</td>\n",
       "      <td>1.107857</td>\n",
       "      <td>1.107857</td>\n",
       "      <td>1.071429</td>\n",
       "      <td>1.071429</td>\n",
       "      <td>1.071429</td>\n",
       "      <td>10154200</td>\n",
       "      <td>3</td>\n",
       "    </tr>\n",
       "  </tbody>\n",
       "</table>\n",
       "</div>"
      ]
     },
     "execution_count": 30,
     "metadata": {},
     "output_type": "execute_result"
    }
   ],
   "execution_count": 30
  },
  {
   "metadata": {},
   "cell_type": "markdown",
   "source": "### Column distributions",
   "id": "4718737602806c75"
  },
  {
   "metadata": {},
   "cell_type": "markdown",
   "source": "We plot how the prices changed over time. No need to plot all the columns, as differences throughout the day are marginal compared to the overall trend.",
   "id": "63b5169782b36a32"
  },
  {
   "metadata": {
    "ExecuteTime": {
     "end_time": "2024-11-29T20:59:41.665819Z",
     "start_time": "2024-11-29T20:59:41.416158Z"
    }
   },
   "cell_type": "code",
   "source": [
    "sns.lineplot(data=nflx_stock, x=\"Date\", y=\"Close\")\n",
    "plt.ylabel(\"Price\")\n",
    "plt.show()"
   ],
   "id": "3ea9d0f82583b89b",
   "outputs": [
    {
     "data": {
      "text/plain": [
       "<Figure size 640x480 with 1 Axes>"
      ],
      "image/png": "[encoded data removed]"
     },
     "metadata": {},
     "output_type": "display_data"
    }
   ],
   "execution_count": 45
  },
  {
   "metadata": {},
   "cell_type": "markdown",
   "source": "The price keeps increasing over time, showing the company is growing. Let's see how the volume changes.",
   "id": "17e9e35cdb60ddbb"
  },
  {
   "metadata": {
    "ExecuteTime": {
     "end_time": "2024-11-29T21:04:36.369267Z",
     "start_time": "2024-11-29T21:04:36.102007Z"
    }
   },
   "cell_type": "code",
   "source": [
    "sns.lineplot(data=nflx_stock, x=\"Date\", y=\"Volume\")\n",
    "plt.show()"
   ],
   "id": "13259cf2cf806e49",
   "outputs": [
    {
     "data": {
      "text/plain": [
       "<Figure size 640x480 with 1 Axes>"
      ],
      "image/png": "[encoded data removed]"
     },
     "metadata": {},
     "output_type": "display_data"
    }
   ],
   "execution_count": 50
  },
  {
   "metadata": {},
   "cell_type": "markdown",
   "source": "The trends in volume aren't as clear compared to the price. We can see two significant spikes in trading volume in late 2004 and in 2012. Overall, later the trading volume is getting lower as time goes.",
   "id": "7ca90924779bd04e"
  },
  {
   "metadata": {},
   "cell_type": "markdown",
   "source": "Let's see how the prices and volumes change depending on the day of the week.",
   "id": "8c8c454a2bb8d303"
  },
  {
   "metadata": {
    "ExecuteTime": {
     "end_time": "2024-11-29T21:10:19.846215Z",
     "start_time": "2024-11-29T21:10:19.829059Z"
    }
   },
   "cell_type": "code",
   "source": "nflx_stock.drop(columns=[\"Date\"]).groupby(\"Weekday\").mean()",
   "id": "18b17378270a5ab2",
   "outputs": [
    {
     "data": {
      "text/plain": [
       "              Open       High        Low      Close  Adj Close        Volume\n",
       "Weekday                                                                     \n",
       "0        78.469131  79.860121  77.143506  78.626032  78.626032  1.687406e+07\n",
       "1        77.886131  79.147035  76.615622  77.938861  77.938861  1.878554e+07\n",
       "2        77.309623  78.587345  75.987330  77.364613  77.364613  1.775533e+07\n",
       "3        78.468433  79.703384  77.152493  78.511928  78.511928  1.799244e+07\n",
       "4        78.068629  79.183218  76.824263  77.970190  77.970190  1.654167e+07"
      ],
      "text/html": [
       "<div>\n",
       "<style scoped>\n",
       "    .dataframe tbody tr th:only-of-type {\n",
       "        vertical-align: middle;\n",
       "    }\n",
       "\n",
       "    .dataframe tbody tr th {\n",
       "        vertical-align: top;\n",
       "    }\n",
       "\n",
       "    .dataframe thead th {\n",
       "        text-align: right;\n",
       "    }\n",
       "</style>\n",
       "<table border=\"1\" class=\"dataframe\">\n",
       "  <thead>\n",
       "    <tr style=\"text-align: right;\">\n",
       "      <th></th>\n",
       "      <th>Open</th>\n",
       "      <th>High</th>\n",
       "      <th>Low</th>\n",
       "      <th>Close</th>\n",
       "      <th>Adj Close</th>\n",
       "      <th>Volume</th>\n",
       "    </tr>\n",
       "    <tr>\n",
       "      <th>Weekday</th>\n",
       "      <th></th>\n",
       "      <th></th>\n",
       "      <th></th>\n",
       "      <th></th>\n",
       "      <th></th>\n",
       "      <th></th>\n",
       "    </tr>\n",
       "  </thead>\n",
       "  <tbody>\n",
       "    <tr>\n",
       "      <th>0</th>\n",
       "      <td>78.469131</td>\n",
       "      <td>79.860121</td>\n",
       "      <td>77.143506</td>\n",
       "      <td>78.626032</td>\n",
       "      <td>78.626032</td>\n",
       "      <td>1.687406e+07</td>\n",
       "    </tr>\n",
       "    <tr>\n",
       "      <th>1</th>\n",
       "      <td>77.886131</td>\n",
       "      <td>79.147035</td>\n",
       "      <td>76.615622</td>\n",
       "      <td>77.938861</td>\n",
       "      <td>77.938861</td>\n",
       "      <td>1.878554e+07</td>\n",
       "    </tr>\n",
       "    <tr>\n",
       "      <th>2</th>\n",
       "      <td>77.309623</td>\n",
       "      <td>78.587345</td>\n",
       "      <td>75.987330</td>\n",
       "      <td>77.364613</td>\n",
       "      <td>77.364613</td>\n",
       "      <td>1.775533e+07</td>\n",
       "    </tr>\n",
       "    <tr>\n",
       "      <th>3</th>\n",
       "      <td>78.468433</td>\n",
       "      <td>79.703384</td>\n",
       "      <td>77.152493</td>\n",
       "      <td>78.511928</td>\n",
       "      <td>78.511928</td>\n",
       "      <td>1.799244e+07</td>\n",
       "    </tr>\n",
       "    <tr>\n",
       "      <th>4</th>\n",
       "      <td>78.068629</td>\n",
       "      <td>79.183218</td>\n",
       "      <td>76.824263</td>\n",
       "      <td>77.970190</td>\n",
       "      <td>77.970190</td>\n",
       "      <td>1.654167e+07</td>\n",
       "    </tr>\n",
       "  </tbody>\n",
       "</table>\n",
       "</div>"
      ]
     },
     "execution_count": 59,
     "metadata": {},
     "output_type": "execute_result"
    }
   ],
   "execution_count": 59
  },
  {
   "metadata": {},
   "cell_type": "markdown",
   "source": "Contrary to our initial assumption, the highest trading volume is in the middle of the workweek, the most on Tuesday. Prices were the highest on Monday though.",
   "id": "8485ed3e51bb8b6f"
  },
  {
   "metadata": {},
   "cell_type": "markdown",
   "source": "Let's visualize how throughout the time, the percentual difference between close and open was the biggest.",
   "id": "e7a79171ff178bb3"
  },
  {
   "metadata": {
    "ExecuteTime": {
     "end_time": "2024-11-30T10:57:15.060831Z",
     "start_time": "2024-11-30T10:57:14.794808Z"
    }
   },
   "cell_type": "code",
   "source": [
    "nflx_stock[\"diff\"] = ((nflx_stock[\"Close\"] - nflx_stock[\"Open\"]) / nflx_stock[\"Open\"]).abs()\n",
    "sns.lineplot(data=nflx_stock, x=nflx_stock[\"Date\"], y=nflx_stock[\"diff\"])\n",
    "plt.gca().yaxis.set_major_formatter(mtick.PercentFormatter(xmax=1))\n",
    "plt.show()"
   ],
   "id": "122510a01620589a",
   "outputs": [
    {
     "data": {
      "text/plain": [
       "<Figure size 640x480 with 1 Axes>"
      ],
      "image/png": "[encoded data removed]"
     },
     "metadata": {},
     "output_type": "display_data"
    }
   ],
   "execution_count": 28
  },
  {
   "metadata": {},
   "cell_type": "markdown",
   "source": "We can see, the prices throughout the day have stabilized a bit since the beginning with fewer and smaller spikes since 2014.",
   "id": "3a3dc9c802c2769"
  },
  {
   "metadata": {
    "ExecuteTime": {
     "end_time": "2024-11-30T10:57:28.542547Z",
     "start_time": "2024-11-30T10:57:28.289011Z"
    }
   },
   "cell_type": "code",
   "source": [
    "nflx_stock[\"max_low_diff\"] = (nflx_stock[\"High\"] - nflx_stock[\"Low\"]) / nflx_stock[\"Open\"]\n",
    "sns.lineplot(data=nflx_stock, x=nflx_stock[\"Date\"], y=nflx_stock[\"max_low_diff\"])\n",
    "plt.gca().yaxis.set_major_formatter(mtick.PercentFormatter(xmax=1))\n",
    "plt.show()"
   ],
   "id": "879584d58375de51",
   "outputs": [
    {
     "data": {
      "text/plain": [
       "<Figure size 640x480 with 1 Axes>"
      ],
      "image/png": "[encoded data removed]"
     },
     "metadata": {},
     "output_type": "display_data"
    }
   ],
   "execution_count": 30
  },
  {
   "metadata": {},
   "cell_type": "markdown",
   "source": "We cen see that percentual difference between daily maximum and minimum have been decreasing over time as well.",
   "id": "bf69b87a4850521a"
  },
  {
   "metadata": {
    "ExecuteTime": {
     "end_time": "2024-11-30T11:10:50.709153Z",
     "start_time": "2024-11-30T11:10:50.703520Z"
    }
   },
   "cell_type": "code",
   "source": "nflx_stock = nflx_stock.drop(columns=[\"diff\", \"max_low_diff\"])",
   "id": "99dad019a3fb0ae2",
   "outputs": [],
   "execution_count": 46
  },
  {
   "metadata": {},
   "cell_type": "markdown",
   "source": "### Correlation",
   "id": "441868efbabffcb3"
  },
  {
   "metadata": {
    "ExecuteTime": {
     "end_time": "2024-11-29T22:05:41.607008Z",
     "start_time": "2024-11-29T22:05:41.593873Z"
    }
   },
   "cell_type": "code",
   "source": "nflx_stock.corr()",
   "id": "c945712268c7c1d6",
   "outputs": [
    {
     "data": {
      "text/plain": [
       "               Date      Open      High       Low     Close  Adj Close  \\\n",
       "Date       1.000000  0.794332  0.794147  0.794708  0.794371   0.794371   \n",
       "Open       0.794332  1.000000  0.999841  0.999830  0.999654   0.999654   \n",
       "High       0.794147  0.999841  1.000000  0.999783  0.999840   0.999840   \n",
       "Low        0.794708  0.999830  0.999783  1.000000  0.999834   0.999834   \n",
       "Close      0.794371  0.999654  0.999840  0.999834  1.000000   1.000000   \n",
       "Adj Close  0.794371  0.999654  0.999840  0.999834  1.000000   1.000000   \n",
       "Volume    -0.028448 -0.193770 -0.192107 -0.195478 -0.193671  -0.193671   \n",
       "Weekday   -0.000275 -0.000192 -0.000858 -0.000056 -0.000803  -0.000803   \n",
       "\n",
       "             Volume   Weekday  \n",
       "Date      -0.028448 -0.000275  \n",
       "Open      -0.193770 -0.000192  \n",
       "High      -0.192107 -0.000858  \n",
       "Low       -0.195478 -0.000056  \n",
       "Close     -0.193671 -0.000803  \n",
       "Adj Close -0.193671 -0.000803  \n",
       "Volume     1.000000 -0.011444  \n",
       "Weekday   -0.011444  1.000000  "
      ],
      "text/html": [
       "<div>\n",
       "<style scoped>\n",
       "    .dataframe tbody tr th:only-of-type {\n",
       "        vertical-align: middle;\n",
       "    }\n",
       "\n",
       "    .dataframe tbody tr th {\n",
       "        vertical-align: top;\n",
       "    }\n",
       "\n",
       "    .dataframe thead th {\n",
       "        text-align: right;\n",
       "    }\n",
       "</style>\n",
       "<table border=\"1\" class=\"dataframe\">\n",
       "  <thead>\n",
       "    <tr style=\"text-align: right;\">\n",
       "      <th></th>\n",
       "      <th>Date</th>\n",
       "      <th>Open</th>\n",
       "      <th>High</th>\n",
       "      <th>Low</th>\n",
       "      <th>Close</th>\n",
       "      <th>Adj Close</th>\n",
       "      <th>Volume</th>\n",
       "      <th>Weekday</th>\n",
       "    </tr>\n",
       "  </thead>\n",
       "  <tbody>\n",
       "    <tr>\n",
       "      <th>Date</th>\n",
       "      <td>1.000000</td>\n",
       "      <td>0.794332</td>\n",
       "      <td>0.794147</td>\n",
       "      <td>0.794708</td>\n",
       "      <td>0.794371</td>\n",
       "      <td>0.794371</td>\n",
       "      <td>-0.028448</td>\n",
       "      <td>-0.000275</td>\n",
       "    </tr>\n",
       "    <tr>\n",
       "      <th>Open</th>\n",
       "      <td>0.794332</td>\n",
       "      <td>1.000000</td>\n",
       "      <td>0.999841</td>\n",
       "      <td>0.999830</td>\n",
       "      <td>0.999654</td>\n",
       "      <td>0.999654</td>\n",
       "      <td>-0.193770</td>\n",
       "      <td>-0.000192</td>\n",
       "    </tr>\n",
       "    <tr>\n",
       "      <th>High</th>\n",
       "      <td>0.794147</td>\n",
       "      <td>0.999841</td>\n",
       "      <td>1.000000</td>\n",
       "      <td>0.999783</td>\n",
       "      <td>0.999840</td>\n",
       "      <td>0.999840</td>\n",
       "      <td>-0.192107</td>\n",
       "      <td>-0.000858</td>\n",
       "    </tr>\n",
       "    <tr>\n",
       "      <th>Low</th>\n",
       "      <td>0.794708</td>\n",
       "      <td>0.999830</td>\n",
       "      <td>0.999783</td>\n",
       "      <td>1.000000</td>\n",
       "      <td>0.999834</td>\n",
       "      <td>0.999834</td>\n",
       "      <td>-0.195478</td>\n",
       "      <td>-0.000056</td>\n",
       "    </tr>\n",
       "    <tr>\n",
       "      <th>Close</th>\n",
       "      <td>0.794371</td>\n",
       "      <td>0.999654</td>\n",
       "      <td>0.999840</td>\n",
       "      <td>0.999834</td>\n",
       "      <td>1.000000</td>\n",
       "      <td>1.000000</td>\n",
       "      <td>-0.193671</td>\n",
       "      <td>-0.000803</td>\n",
       "    </tr>\n",
       "    <tr>\n",
       "      <th>Adj Close</th>\n",
       "      <td>0.794371</td>\n",
       "      <td>0.999654</td>\n",
       "      <td>0.999840</td>\n",
       "      <td>0.999834</td>\n",
       "      <td>1.000000</td>\n",
       "      <td>1.000000</td>\n",
       "      <td>-0.193671</td>\n",
       "      <td>-0.000803</td>\n",
       "    </tr>\n",
       "    <tr>\n",
       "      <th>Volume</th>\n",
       "      <td>-0.028448</td>\n",
       "      <td>-0.193770</td>\n",
       "      <td>-0.192107</td>\n",
       "      <td>-0.195478</td>\n",
       "      <td>-0.193671</td>\n",
       "      <td>-0.193671</td>\n",
       "      <td>1.000000</td>\n",
       "      <td>-0.011444</td>\n",
       "    </tr>\n",
       "    <tr>\n",
       "      <th>Weekday</th>\n",
       "      <td>-0.000275</td>\n",
       "      <td>-0.000192</td>\n",
       "      <td>-0.000858</td>\n",
       "      <td>-0.000056</td>\n",
       "      <td>-0.000803</td>\n",
       "      <td>-0.000803</td>\n",
       "      <td>-0.011444</td>\n",
       "      <td>1.000000</td>\n",
       "    </tr>\n",
       "  </tbody>\n",
       "</table>\n",
       "</div>"
      ]
     },
     "execution_count": 103,
     "metadata": {},
     "output_type": "execute_result"
    }
   ],
   "execution_count": 103
  },
  {
   "metadata": {
    "ExecuteTime": {
     "end_time": "2024-11-29T22:08:48.460920Z",
     "start_time": "2024-11-29T22:08:48.206494Z"
    }
   },
   "cell_type": "code",
   "source": [
    "sns.heatmap(nflx_stock.corr(), annot=True, fmt=\".2f\")\n",
    "plt.show()"
   ],
   "id": "3cfbab57b0399d15",
   "outputs": [
    {
     "data": {
      "text/plain": [
       "<Figure size 640x480 with 2 Axes>"
      ],
      "image/png": "[encoded data removed]"
     },
     "metadata": {},
     "output_type": "display_data"
    }
   ],
   "execution_count": 107
  },
  {
   "metadata": {},
   "cell_type": "markdown",
   "source": "We can see that all the prices are 1.00 correlated with each other, meaning we can likely use only itself to predict itself in the future.  ",
   "id": "3bc8daaeb9f3862b"
  },
  {
   "metadata": {},
   "cell_type": "markdown",
   "source": "It also shows that weekday has no correlation with any other column, contradicting our initial assumption, showing the assumptions were coincidental. We can therefore remove the weekday column.",
   "id": "82597eebe5f338f9"
  },
  {
   "metadata": {
    "ExecuteTime": {
     "end_time": "2024-11-30T11:14:12.250445Z",
     "start_time": "2024-11-30T11:14:12.243975Z"
    }
   },
   "cell_type": "code",
   "source": "nflx_stock.drop(columns=[\"Weekday\"], inplace=True)",
   "id": "37f12929cf0a1ca4",
   "outputs": [],
   "execution_count": 56
  },
  {
   "metadata": {},
   "cell_type": "markdown",
   "source": [
    "### Scaling\n",
    "We need to scale the data as volume is in a completely different range compared to all the other columns. For that, we will use MinMax scaling as it best suits our needs."
   ],
   "id": "7fdb7194de4619ca"
  },
  {
   "metadata": {
    "ExecuteTime": {
     "end_time": "2024-11-30T11:19:47.865559Z",
     "start_time": "2024-11-30T11:19:47.857740Z"
    }
   },
   "cell_type": "code",
   "source": [
    "scaler = MinMaxScaler()\n",
    "nflx_stock[nflx_stock.columns[1:]] = scaler.fit_transform(nflx_stock[nflx_stock.columns[1:]])"
   ],
   "id": "6d40460230629922",
   "outputs": [],
   "execution_count": 65
  },
  {
   "metadata": {},
   "cell_type": "markdown",
   "source": [
    "### Transformation\n",
    "We will find whether we want to transform the data later using Grid Search or Bayes Search."
   ],
   "id": "81662eda84a394d2"
  },
  {
   "metadata": {},
   "cell_type": "markdown",
   "source": [
    "### Feature Selection\n",
    "Feature selection will work differently in time series forecasting compared to classification. We will have to use lag/lookback to predict the future, not current state of other columns.  \n",
    "We will have to adjust the lag and possibly other features and their lag."
   ],
   "id": "34752742da48bcbf"
  },
  {
   "metadata": {},
   "cell_type": "markdown",
   "source": "As we use lag to depict how data changes over time, we can remove the Date column, as the information that price raises over time will already be contained within the lagged columns ",
   "id": "666fa3eb1c24f960"
  },
  {
   "metadata": {
    "ExecuteTime": {
     "end_time": "2024-11-30T09:55:25.929924Z",
     "start_time": "2024-11-30T09:55:25.924681Z"
    }
   },
   "cell_type": "code",
   "source": "nflx_stock.drop(columns=[\"Date\"], inplace=True)",
   "id": "cdfc751786983f1",
   "outputs": [],
   "execution_count": 8
  },
  {
   "metadata": {
    "ExecuteTime": {
     "end_time": "2024-11-30T09:56:44.696918Z",
     "start_time": "2024-11-30T09:56:44.692447Z"
    }
   },
   "cell_type": "code",
   "source": [
    "def add_lag(df: pd.DataFrame, column, lag=1):\n",
    "    for i in range(1, lag+1):\n",
    "        df[f\"{column}_lag_{i}\"] = df[column].shift(i)\n",
    "    return df"
   ],
   "id": "89e9182afd741bab",
   "outputs": [],
   "execution_count": 11
  },
  {
   "metadata": {},
   "cell_type": "markdown",
   "source": "We add a function that creates a new dataset based on chosen features and their lags. We don't need to worry about adding weekday in there, as there was no correlation between weekday and any other columns based on the heatmap.",
   "id": "2cbef2de29bf2aad"
  },
  {
   "metadata": {
    "ExecuteTime": {
     "end_time": "2024-11-30T10:28:33.866519Z",
     "start_time": "2024-11-30T10:28:33.861769Z"
    }
   },
   "cell_type": "code",
   "source": [
    "def pick_features_with_lags(df: pd.DataFrame, pred_col: str, pred_col_lag: int, **additional_columns):\n",
    "    df = add_lag(df, pred_col, pred_col_lag)\n",
    "    selected_columns = [pred_col] + [f\"{pred_col}_lag_{lag}\" for lag in range(1, pred_col_lag + 1)]\n",
    "    \n",
    "    for column, lag in additional_columns.items():\n",
    "        if lag == 0:\n",
    "            continue\n",
    "        df = add_lag(df, column, lag)\n",
    "        selected_columns.extend([column] + [f\"{column}_lag_{i}\" for i in range(1, lag + 1)])\n",
    "    \n",
    "    return df[selected_columns].dropna() # dropna() to remove rows, where lag was not applicable"
   ],
   "id": "1b41c79d2b741ee8",
   "outputs": [],
   "execution_count": 19
  },
  {
   "metadata": {
    "ExecuteTime": {
     "end_time": "2024-11-30T11:25:47.714578Z",
     "start_time": "2024-11-30T11:25:47.697320Z"
    }
   },
   "cell_type": "code",
   "source": [
    "# example\n",
    "pick_features_with_lags(nflx_stock, \"Close\", 5, Volume=2)"
   ],
   "id": "55511065cab4c4ba",
   "outputs": [
    {
     "data": {
      "text/plain": [
       "         Close  Close_lag_1  Close_lag_2  Close_lag_3  Close_lag_4  \\\n",
       "5     0.001283     0.001274     0.001333     0.001430     0.001527   \n",
       "6     0.001378     0.001283     0.001274     0.001333     0.001430   \n",
       "7     0.001359     0.001378     0.001283     0.001274     0.001333   \n",
       "8     0.001412     0.001359     0.001378     0.001283     0.001274   \n",
       "9     0.001476     0.001412     0.001359     0.001378     0.001283   \n",
       "...        ...          ...          ...          ...          ...   \n",
       "4576  0.890181     0.903202     0.875483     0.870249     0.892570   \n",
       "4577  0.882832     0.890181     0.903202     0.875483     0.870249   \n",
       "4578  0.885239     0.882832     0.890181     0.903202     0.875483   \n",
       "4579  0.890856     0.885239     0.882832     0.890181     0.903202   \n",
       "4580  0.908618     0.890856     0.885239     0.882832     0.890181   \n",
       "\n",
       "      Close_lag_5    Volume  Volume_lag_1  Volume_lag_2  \n",
       "5        0.001502  0.025311      0.030541      0.020030  \n",
       "6        0.001527  0.008869      0.025311      0.030541  \n",
       "7        0.001430  0.008726      0.008869      0.025311  \n",
       "8        0.001333  0.003856      0.008726      0.008869  \n",
       "9        0.001274  0.006252      0.003856      0.008726  \n",
       "...           ...       ...           ...           ...  \n",
       "4576     0.893081  0.017643      0.023450      0.023089  \n",
       "4577     0.892570  0.019578      0.017643      0.023450  \n",
       "4578     0.870249  0.019568      0.019578      0.017643  \n",
       "4579     0.875483  0.017450      0.019568      0.019578  \n",
       "4580     0.903202  0.017292      0.017450      0.019568  \n",
       "\n",
       "[4576 rows x 9 columns]"
      ],
      "text/html": [
       "<div>\n",
       "<style scoped>\n",
       "    .dataframe tbody tr th:only-of-type {\n",
       "        vertical-align: middle;\n",
       "    }\n",
       "\n",
       "    .dataframe tbody tr th {\n",
       "        vertical-align: top;\n",
       "    }\n",
       "\n",
       "    .dataframe thead th {\n",
       "        text-align: right;\n",
       "    }\n",
       "</style>\n",
       "<table border=\"1\" class=\"dataframe\">\n",
       "  <thead>\n",
       "    <tr style=\"text-align: right;\">\n",
       "      <th></th>\n",
       "      <th>Close</th>\n",
       "      <th>Close_lag_1</th>\n",
       "      <th>Close_lag_2</th>\n",
       "      <th>Close_lag_3</th>\n",
       "      <th>Close_lag_4</th>\n",
       "      <th>Close_lag_5</th>\n",
       "      <th>Volume</th>\n",
       "      <th>Volume_lag_1</th>\n",
       "      <th>Volume_lag_2</th>\n",
       "    </tr>\n",
       "  </thead>\n",
       "  <tbody>\n",
       "    <tr>\n",
       "      <th>5</th>\n",
       "      <td>0.001283</td>\n",
       "      <td>0.001274</td>\n",
       "      <td>0.001333</td>\n",
       "      <td>0.001430</td>\n",
       "      <td>0.001527</td>\n",
       "      <td>0.001502</td>\n",
       "      <td>0.025311</td>\n",
       "      <td>0.030541</td>\n",
       "      <td>0.020030</td>\n",
       "    </tr>\n",
       "    <tr>\n",
       "      <th>6</th>\n",
       "      <td>0.001378</td>\n",
       "      <td>0.001283</td>\n",
       "      <td>0.001274</td>\n",
       "      <td>0.001333</td>\n",
       "      <td>0.001430</td>\n",
       "      <td>0.001527</td>\n",
       "      <td>0.008869</td>\n",
       "      <td>0.025311</td>\n",
       "      <td>0.030541</td>\n",
       "    </tr>\n",
       "    <tr>\n",
       "      <th>7</th>\n",
       "      <td>0.001359</td>\n",
       "      <td>0.001378</td>\n",
       "      <td>0.001283</td>\n",
       "      <td>0.001274</td>\n",
       "      <td>0.001333</td>\n",
       "      <td>0.001430</td>\n",
       "      <td>0.008726</td>\n",
       "      <td>0.008869</td>\n",
       "      <td>0.025311</td>\n",
       "    </tr>\n",
       "    <tr>\n",
       "      <th>8</th>\n",
       "      <td>0.001412</td>\n",
       "      <td>0.001359</td>\n",
       "      <td>0.001378</td>\n",
       "      <td>0.001283</td>\n",
       "      <td>0.001274</td>\n",
       "      <td>0.001333</td>\n",
       "      <td>0.003856</td>\n",
       "      <td>0.008726</td>\n",
       "      <td>0.008869</td>\n",
       "    </tr>\n",
       "    <tr>\n",
       "      <th>9</th>\n",
       "      <td>0.001476</td>\n",
       "      <td>0.001412</td>\n",
       "      <td>0.001359</td>\n",
       "      <td>0.001378</td>\n",
       "      <td>0.001283</td>\n",
       "      <td>0.001274</td>\n",
       "      <td>0.006252</td>\n",
       "      <td>0.003856</td>\n",
       "      <td>0.008726</td>\n",
       "    </tr>\n",
       "    <tr>\n",
       "      <th>...</th>\n",
       "      <td>...</td>\n",
       "      <td>...</td>\n",
       "      <td>...</td>\n",
       "      <td>...</td>\n",
       "      <td>...</td>\n",
       "      <td>...</td>\n",
       "      <td>...</td>\n",
       "      <td>...</td>\n",
       "      <td>...</td>\n",
       "    </tr>\n",
       "    <tr>\n",
       "      <th>4576</th>\n",
       "      <td>0.890181</td>\n",
       "      <td>0.903202</td>\n",
       "      <td>0.875483</td>\n",
       "      <td>0.870249</td>\n",
       "      <td>0.892570</td>\n",
       "      <td>0.893081</td>\n",
       "      <td>0.017643</td>\n",
       "      <td>0.023450</td>\n",
       "      <td>0.023089</td>\n",
       "    </tr>\n",
       "    <tr>\n",
       "      <th>4577</th>\n",
       "      <td>0.882832</td>\n",
       "      <td>0.890181</td>\n",
       "      <td>0.903202</td>\n",
       "      <td>0.875483</td>\n",
       "      <td>0.870249</td>\n",
       "      <td>0.892570</td>\n",
       "      <td>0.019578</td>\n",
       "      <td>0.017643</td>\n",
       "      <td>0.023450</td>\n",
       "    </tr>\n",
       "    <tr>\n",
       "      <th>4578</th>\n",
       "      <td>0.885239</td>\n",
       "      <td>0.882832</td>\n",
       "      <td>0.890181</td>\n",
       "      <td>0.903202</td>\n",
       "      <td>0.875483</td>\n",
       "      <td>0.870249</td>\n",
       "      <td>0.019568</td>\n",
       "      <td>0.019578</td>\n",
       "      <td>0.017643</td>\n",
       "    </tr>\n",
       "    <tr>\n",
       "      <th>4579</th>\n",
       "      <td>0.890856</td>\n",
       "      <td>0.885239</td>\n",
       "      <td>0.882832</td>\n",
       "      <td>0.890181</td>\n",
       "      <td>0.903202</td>\n",
       "      <td>0.875483</td>\n",
       "      <td>0.017450</td>\n",
       "      <td>0.019568</td>\n",
       "      <td>0.019578</td>\n",
       "    </tr>\n",
       "    <tr>\n",
       "      <th>4580</th>\n",
       "      <td>0.908618</td>\n",
       "      <td>0.890856</td>\n",
       "      <td>0.885239</td>\n",
       "      <td>0.882832</td>\n",
       "      <td>0.890181</td>\n",
       "      <td>0.903202</td>\n",
       "      <td>0.017292</td>\n",
       "      <td>0.017450</td>\n",
       "      <td>0.019568</td>\n",
       "    </tr>\n",
       "  </tbody>\n",
       "</table>\n",
       "<p>4576 rows × 9 columns</p>\n",
       "</div>"
      ]
     },
     "execution_count": 66,
     "metadata": {},
     "output_type": "execute_result"
    }
   ],
   "execution_count": 66
  },
  {
   "metadata": {},
   "cell_type": "code",
   "outputs": [],
   "execution_count": null,
   "source": "",
   "id": "b1f014b136cd18a6"
  },
  {
   "metadata": {},
   "cell_type": "markdown",
   "source": "# Finding the best model",
   "id": "1756077e95dc519"
  },
  {
   "metadata": {},
   "cell_type": "markdown",
   "source": "Split the data into train and test set. Splitting them randomly makes no sense, as the data is sequential. We split the data at the beginning of 2019 to have roughly 10% of the data as test data.",
   "id": "e44ee089f89e1239"
  },
  {
   "metadata": {
    "ExecuteTime": {
     "end_time": "2024-11-30T11:39:29.550433Z",
     "start_time": "2024-11-30T11:39:29.541668Z"
    }
   },
   "cell_type": "code",
   "source": [
    "train = nflx_stock[nflx_stock[\"Date\"] < \"2019-01-01\"]\n",
    "test = nflx_stock[nflx_stock[\"Date\"] >= \"2019-01-01\"]\n",
    "train.shape[0], test.shape[0]"
   ],
   "id": "46a01ac9d4fecd8b",
   "outputs": [
    {
     "data": {
      "text/plain": [
       "(4181, 400)"
      ]
     },
     "execution_count": 72,
     "metadata": {},
     "output_type": "execute_result"
    }
   ],
   "execution_count": 72
  },
  {
   "metadata": {},
   "cell_type": "markdown",
   "source": "#### We don't define X and y yet, as we are forecasting all values, therefore we will use all columns as y at some point.",
   "id": "a1812fc3811c4961"
  },
  {
   "metadata": {},
   "cell_type": "markdown",
   "source": [
    "## Machine Learning\n",
    "First, let's try to use the models from sklearn, that are the simplest to use, and see how they perform."
   ],
   "id": "270b825cf8838a8f"
  },
  {
   "metadata": {},
   "cell_type": "markdown",
   "source": [
    "### Linear Regression\n",
    "Let's begin with the simplest model as the benchmark, Linear Regression. We won't use much tuning, as we don't expect it to perform that well. "
   ],
   "id": "8c73dcf12e78fadd"
  },
  {
   "metadata": {},
   "cell_type": "code",
   "outputs": [],
   "execution_count": null,
   "source": "regressor_close = LinearRegression()\n",
   "id": "84d41bff60bcbc97"
  }
 ],
 "metadata": {
  "kernelspec": {
   "display_name": "Python 3",
   "language": "python",
   "name": "python3"
  },
  "language_info": {
   "codemirror_mode": {
    "name": "ipython",
    "version": 2
   },
   "file_extension": ".py",
   "mimetype": "text/x-python",
   "name": "python",
   "nbconvert_exporter": "python",
   "pygments_lexer": "ipython2",
   "version": "2.7.6"
  }
 },
 "nbformat": 4,
 "nbformat_minor": 5
}
