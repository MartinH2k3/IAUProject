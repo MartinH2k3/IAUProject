{
 "cells": [
  {
   "cell_type": "code",
   "id": "initial_id",
   "metadata": {
    "collapsed": true,
    "ExecuteTime": {
     "end_time": "2024-11-29T19:25:39.782284Z",
     "start_time": "2024-11-29T19:25:39.778347Z"
    }
   },
   "source": [
    "import kagglehub\n",
    "import pandas as pd\n",
    "import tensorflow as tf\n",
    "from tensorflow.keras.layers import Dense, Dropout, Flatten, Input, LSTM\n",
    "from tensorflow.keras.models import Model\n",
    "from tensorflow.keras.optimizers import Adam\n",
    "from tensorflow.keras.preprocessing.sequence import TimeseriesGenerator"
   ],
   "outputs": [],
   "execution_count": 3
  },
  {
   "metadata": {},
   "cell_type": "markdown",
   "source": "# Final Assignment",
   "id": "b6c94ab001d9d143"
  },
  {
   "metadata": {},
   "cell_type": "markdown",
   "source": "First, download the dataset from Kaggle",
   "id": "b40cc2d8fb781a2c"
  },
  {
   "metadata": {
    "ExecuteTime": {
     "end_time": "2024-11-29T19:37:21.341731Z",
     "start_time": "2024-11-29T19:37:19.856069Z"
    }
   },
   "cell_type": "code",
   "source": [
    "import shutil\n",
    "path = kagglehub.dataset_download(\"aayushmishra1512/netflix-stock-data\")\n",
    "shutil.move(path+\"/NFLX.csv\", \"./data\")"
   ],
   "id": "70de4219eab4b936",
   "outputs": [
    {
     "data": {
      "text/plain": [
       "'./data\\\\NFLX.csv'"
      ]
     },
     "execution_count": 19,
     "metadata": {},
     "output_type": "execute_result"
    }
   ],
   "execution_count": 19
  },
  {
   "metadata": {
    "ExecuteTime": {
     "end_time": "2024-11-29T19:35:15.486607Z",
     "start_time": "2024-11-29T19:35:15.479019Z"
    }
   },
   "cell_type": "code",
   "source": "path",
   "id": "fd68232b28f3f08f",
   "outputs": [
    {
     "data": {
      "text/plain": [
       "'C:\\\\Users\\\\marti\\\\.cache\\\\kagglehub\\\\datasets\\\\aayushmishra1512\\\\netflix-stock-data\\\\versions\\\\1'"
      ]
     },
     "execution_count": 17,
     "metadata": {},
     "output_type": "execute_result"
    }
   ],
   "execution_count": 17
  },
  {
   "metadata": {
    "ExecuteTime": {
     "end_time": "2024-11-29T19:37:38.101465Z",
     "start_time": "2024-11-29T19:37:38.088090Z"
    }
   },
   "cell_type": "code",
   "source": "df = pd.read_csv(\"data/NFLX.csv\")",
   "id": "935539a9b9c71f24",
   "outputs": [],
   "execution_count": 20
  },
  {
   "metadata": {},
   "cell_type": "markdown",
   "source": "## EDA ",
   "id": "14829aa3d9be82fd"
  },
  {
   "metadata": {},
   "cell_type": "markdown",
   "source": "### Data Overview",
   "id": "5f3533ba26f94f44"
  },
  {
   "metadata": {
    "ExecuteTime": {
     "end_time": "2024-11-29T19:37:40.808581Z",
     "start_time": "2024-11-29T19:37:40.795914Z"
    }
   },
   "cell_type": "code",
   "source": "df.head()",
   "id": "fc36fc7c1a89dce5",
   "outputs": [
    {
     "data": {
      "text/plain": [
       "         Date      Open      High       Low     Close  Adj Close     Volume\n",
       "0  2002-05-23  1.156429  1.242857  1.145714  1.196429   1.196429  104790000\n",
       "1  2002-05-24  1.214286  1.225000  1.197143  1.210000   1.210000   11104800\n",
       "2  2002-05-28  1.213571  1.232143  1.157143  1.157143   1.157143    6609400\n",
       "3  2002-05-29  1.164286  1.164286  1.085714  1.103571   1.103571    6757800\n",
       "4  2002-05-30  1.107857  1.107857  1.071429  1.071429   1.071429   10154200"
      ],
      "text/html": [
       "<div>\n",
       "<style scoped>\n",
       "    .dataframe tbody tr th:only-of-type {\n",
       "        vertical-align: middle;\n",
       "    }\n",
       "\n",
       "    .dataframe tbody tr th {\n",
       "        vertical-align: top;\n",
       "    }\n",
       "\n",
       "    .dataframe thead th {\n",
       "        text-align: right;\n",
       "    }\n",
       "</style>\n",
       "<table border=\"1\" class=\"dataframe\">\n",
       "  <thead>\n",
       "    <tr style=\"text-align: right;\">\n",
       "      <th></th>\n",
       "      <th>Date</th>\n",
       "      <th>Open</th>\n",
       "      <th>High</th>\n",
       "      <th>Low</th>\n",
       "      <th>Close</th>\n",
       "      <th>Adj Close</th>\n",
       "      <th>Volume</th>\n",
       "    </tr>\n",
       "  </thead>\n",
       "  <tbody>\n",
       "    <tr>\n",
       "      <th>0</th>\n",
       "      <td>2002-05-23</td>\n",
       "      <td>1.156429</td>\n",
       "      <td>1.242857</td>\n",
       "      <td>1.145714</td>\n",
       "      <td>1.196429</td>\n",
       "      <td>1.196429</td>\n",
       "      <td>104790000</td>\n",
       "    </tr>\n",
       "    <tr>\n",
       "      <th>1</th>\n",
       "      <td>2002-05-24</td>\n",
       "      <td>1.214286</td>\n",
       "      <td>1.225000</td>\n",
       "      <td>1.197143</td>\n",
       "      <td>1.210000</td>\n",
       "      <td>1.210000</td>\n",
       "      <td>11104800</td>\n",
       "    </tr>\n",
       "    <tr>\n",
       "      <th>2</th>\n",
       "      <td>2002-05-28</td>\n",
       "      <td>1.213571</td>\n",
       "      <td>1.232143</td>\n",
       "      <td>1.157143</td>\n",
       "      <td>1.157143</td>\n",
       "      <td>1.157143</td>\n",
       "      <td>6609400</td>\n",
       "    </tr>\n",
       "    <tr>\n",
       "      <th>3</th>\n",
       "      <td>2002-05-29</td>\n",
       "      <td>1.164286</td>\n",
       "      <td>1.164286</td>\n",
       "      <td>1.085714</td>\n",
       "      <td>1.103571</td>\n",
       "      <td>1.103571</td>\n",
       "      <td>6757800</td>\n",
       "    </tr>\n",
       "    <tr>\n",
       "      <th>4</th>\n",
       "      <td>2002-05-30</td>\n",
       "      <td>1.107857</td>\n",
       "      <td>1.107857</td>\n",
       "      <td>1.071429</td>\n",
       "      <td>1.071429</td>\n",
       "      <td>1.071429</td>\n",
       "      <td>10154200</td>\n",
       "    </tr>\n",
       "  </tbody>\n",
       "</table>\n",
       "</div>"
      ]
     },
     "execution_count": 21,
     "metadata": {},
     "output_type": "execute_result"
    }
   ],
   "execution_count": 21
  },
  {
   "metadata": {
    "ExecuteTime": {
     "end_time": "2024-11-29T19:37:54.069752Z",
     "start_time": "2024-11-29T19:37:54.046661Z"
    }
   },
   "cell_type": "code",
   "source": "df.describe()",
   "id": "788da1e54c59034e",
   "outputs": [
    {
     "data": {
      "text/plain": [
       "              Open         High          Low        Close    Adj Close  \\\n",
       "count  4581.000000  4581.000000  4581.000000  4581.000000  4581.000000   \n",
       "mean     78.031471    79.285690    76.736079    78.072056    78.072056   \n",
       "std     118.372084   120.276839   116.376768   118.435303   118.435303   \n",
       "min       0.377857     0.410714     0.346429     0.372857     0.372857   \n",
       "25%       3.778571     3.857143     3.685714     3.784286     3.784286   \n",
       "50%      15.392858    15.671429    14.970000    15.324286    15.324286   \n",
       "75%      97.830002    99.529999    96.760002    97.889999    97.889999   \n",
       "max     567.979980   575.369995   520.960022   548.729980   548.729980   \n",
       "\n",
       "             Volume  \n",
       "count  4.581000e+03  \n",
       "mean   1.760516e+07  \n",
       "std    1.971130e+07  \n",
       "min    2.856000e+05  \n",
       "25%    6.908900e+06  \n",
       "50%    1.155350e+07  \n",
       "75%    2.113440e+07  \n",
       "max    3.234140e+08  "
      ],
      "text/html": [
       "<div>\n",
       "<style scoped>\n",
       "    .dataframe tbody tr th:only-of-type {\n",
       "        vertical-align: middle;\n",
       "    }\n",
       "\n",
       "    .dataframe tbody tr th {\n",
       "        vertical-align: top;\n",
       "    }\n",
       "\n",
       "    .dataframe thead th {\n",
       "        text-align: right;\n",
       "    }\n",
       "</style>\n",
       "<table border=\"1\" class=\"dataframe\">\n",
       "  <thead>\n",
       "    <tr style=\"text-align: right;\">\n",
       "      <th></th>\n",
       "      <th>Open</th>\n",
       "      <th>High</th>\n",
       "      <th>Low</th>\n",
       "      <th>Close</th>\n",
       "      <th>Adj Close</th>\n",
       "      <th>Volume</th>\n",
       "    </tr>\n",
       "  </thead>\n",
       "  <tbody>\n",
       "    <tr>\n",
       "      <th>count</th>\n",
       "      <td>4581.000000</td>\n",
       "      <td>4581.000000</td>\n",
       "      <td>4581.000000</td>\n",
       "      <td>4581.000000</td>\n",
       "      <td>4581.000000</td>\n",
       "      <td>4.581000e+03</td>\n",
       "    </tr>\n",
       "    <tr>\n",
       "      <th>mean</th>\n",
       "      <td>78.031471</td>\n",
       "      <td>79.285690</td>\n",
       "      <td>76.736079</td>\n",
       "      <td>78.072056</td>\n",
       "      <td>78.072056</td>\n",
       "      <td>1.760516e+07</td>\n",
       "    </tr>\n",
       "    <tr>\n",
       "      <th>std</th>\n",
       "      <td>118.372084</td>\n",
       "      <td>120.276839</td>\n",
       "      <td>116.376768</td>\n",
       "      <td>118.435303</td>\n",
       "      <td>118.435303</td>\n",
       "      <td>1.971130e+07</td>\n",
       "    </tr>\n",
       "    <tr>\n",
       "      <th>min</th>\n",
       "      <td>0.377857</td>\n",
       "      <td>0.410714</td>\n",
       "      <td>0.346429</td>\n",
       "      <td>0.372857</td>\n",
       "      <td>0.372857</td>\n",
       "      <td>2.856000e+05</td>\n",
       "    </tr>\n",
       "    <tr>\n",
       "      <th>25%</th>\n",
       "      <td>3.778571</td>\n",
       "      <td>3.857143</td>\n",
       "      <td>3.685714</td>\n",
       "      <td>3.784286</td>\n",
       "      <td>3.784286</td>\n",
       "      <td>6.908900e+06</td>\n",
       "    </tr>\n",
       "    <tr>\n",
       "      <th>50%</th>\n",
       "      <td>15.392858</td>\n",
       "      <td>15.671429</td>\n",
       "      <td>14.970000</td>\n",
       "      <td>15.324286</td>\n",
       "      <td>15.324286</td>\n",
       "      <td>1.155350e+07</td>\n",
       "    </tr>\n",
       "    <tr>\n",
       "      <th>75%</th>\n",
       "      <td>97.830002</td>\n",
       "      <td>99.529999</td>\n",
       "      <td>96.760002</td>\n",
       "      <td>97.889999</td>\n",
       "      <td>97.889999</td>\n",
       "      <td>2.113440e+07</td>\n",
       "    </tr>\n",
       "    <tr>\n",
       "      <th>max</th>\n",
       "      <td>567.979980</td>\n",
       "      <td>575.369995</td>\n",
       "      <td>520.960022</td>\n",
       "      <td>548.729980</td>\n",
       "      <td>548.729980</td>\n",
       "      <td>3.234140e+08</td>\n",
       "    </tr>\n",
       "  </tbody>\n",
       "</table>\n",
       "</div>"
      ]
     },
     "execution_count": 22,
     "metadata": {},
     "output_type": "execute_result"
    }
   ],
   "execution_count": 22
  },
  {
   "metadata": {
    "ExecuteTime": {
     "end_time": "2024-11-29T19:38:09.436392Z",
     "start_time": "2024-11-29T19:38:09.425182Z"
    }
   },
   "cell_type": "code",
   "source": "df.info()",
   "id": "716a2d92f5ddf146",
   "outputs": [
    {
     "name": "stdout",
     "output_type": "stream",
     "text": [
      "<class 'pandas.core.frame.DataFrame'>\n",
      "RangeIndex: 4581 entries, 0 to 4580\n",
      "Data columns (total 7 columns):\n",
      " #   Column     Non-Null Count  Dtype  \n",
      "---  ------     --------------  -----  \n",
      " 0   Date       4581 non-null   object \n",
      " 1   Open       4581 non-null   float64\n",
      " 2   High       4581 non-null   float64\n",
      " 3   Low        4581 non-null   float64\n",
      " 4   Close      4581 non-null   float64\n",
      " 5   Adj Close  4581 non-null   float64\n",
      " 6   Volume     4581 non-null   int64  \n",
      "dtypes: float64(5), int64(1), object(1)\n",
      "memory usage: 250.7+ KB\n"
     ]
    }
   ],
   "execution_count": 24
  },
  {
   "metadata": {},
   "cell_type": "code",
   "outputs": [],
   "execution_count": null,
   "source": "",
   "id": "f599c6b0e0675179"
  }
 ],
 "metadata": {
  "kernelspec": {
   "display_name": "Python 3",
   "language": "python",
   "name": "python3"
  },
  "language_info": {
   "codemirror_mode": {
    "name": "ipython",
    "version": 2
   },
   "file_extension": ".py",
   "mimetype": "text/x-python",
   "name": "python",
   "nbconvert_exporter": "python",
   "pygments_lexer": "ipython2",
   "version": "2.7.6"
  }
 },
 "nbformat": 4,
 "nbformat_minor": 5
}
